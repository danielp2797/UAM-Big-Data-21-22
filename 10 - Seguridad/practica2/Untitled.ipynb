{
 "cells": [
  {
   "cell_type": "code",
   "execution_count": 1,
   "id": "135361a9-37a3-4d11-9088-20d9b361b22c",
   "metadata": {},
   "outputs": [],
   "source": [
    "import pandas as pd\n",
    "import numpy as np \n",
    "import matplotlib.pyplot as plt"
   ]
  },
  {
   "cell_type": "code",
   "execution_count": 74,
   "id": "3d9a2f79-68b8-4019-afca-ef3da21d4581",
   "metadata": {},
   "outputs": [],
   "source": [
    "!cut -d ' ' -f2 dataset/header.txt | grep -v DATA | grep -v income | sed 's/.*/&/' | paste -s -d \",\" >> dataset/headers.txt\n",
    "\n",
    "with open ('dataset/headers.txt', 'r') as f:\n",
    "    line = f.readline()\n",
    "\n",
    "header = line.strip().split(',')"
   ]
  },
  {
   "cell_type": "code",
   "execution_count": 78,
   "id": "c3441c7b-b934-47b8-964a-690a0f0abb00",
   "metadata": {},
   "outputs": [],
   "source": [
    "data = pd.read_csv('dataset/census-income_1K.data')\n",
    "data.columns = header"
   ]
  },
  {
   "cell_type": "code",
   "execution_count": 82,
   "id": "ec039f0c-95f6-4c75-bc5c-835dbc8dc374",
   "metadata": {},
   "outputs": [
    {
     "data": {
      "text/plain": [
       "<Figure size 8640x4320 with 0 Axes>"
      ]
     },
     "metadata": {},
     "output_type": "display_data"
    }
   ],
   "source": [
    "\n",
    "\n",
    "fig = plt.figure(figsize=(120, 60))\n",
    "\n",
    "cols = 5\n",
    "rows = np.ceil(float(data.shape[1]/cols))\n",
    "\n",
    "for index, column in enumerate(data.columns):\n",
    "    ax = fig.add_subplot(rows, cols, i+1)\n",
    "    ax.set_title(column)\n",
    "    if data[column].dtype == np.object"
   ]
  },
  {
   "cell_type": "code",
   "execution_count": null,
   "id": "23798734-87b2-42a9-8c1d-09e320ce789b",
   "metadata": {},
   "outputs": [],
   "source": []
  },
  {
   "cell_type": "code",
   "execution_count": null,
   "id": "e2135e8d-44e2-48e4-890c-87be2650134c",
   "metadata": {},
   "outputs": [],
   "source": []
  },
  {
   "cell_type": "code",
   "execution_count": null,
   "id": "3f0e9851-a5f5-4f9c-9917-c72a551b20ec",
   "metadata": {},
   "outputs": [],
   "source": []
  }
 ],
 "metadata": {
  "kernelspec": {
   "display_name": "Python 3 (ipykernel)",
   "language": "python",
   "name": "python3"
  },
  "language_info": {
   "codemirror_mode": {
    "name": "ipython",
    "version": 3
   },
   "file_extension": ".py",
   "mimetype": "text/x-python",
   "name": "python",
   "nbconvert_exporter": "python",
   "pygments_lexer": "ipython3",
   "version": "3.8.12"
  }
 },
 "nbformat": 4,
 "nbformat_minor": 5
}
