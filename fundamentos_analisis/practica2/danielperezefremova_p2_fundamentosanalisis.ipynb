{
 "cells": [
  {
   "cell_type": "code",
   "execution_count": 105,
   "id": "cb34850f-38ab-47dd-b604-4531fc0e1e62",
   "metadata": {},
   "outputs": [],
   "source": [
    "import pandas as pd\n",
    "import numpy as np\n",
    "import matplotlib.pyplot as plt\n",
    "from sklearn.discriminant_analysis import LinearDiscriminantAnalysis\n",
    "from sklearn.decomposition import PCA\n",
    "from scipy import stats\n",
    "import numpy.linalg as alg\n",
    "import seaborn as sns"
   ]
  },
  {
   "cell_type": "code",
   "execution_count": 65,
   "id": "cb95e20d-4526-43e0-b2c6-5603cde21ee8",
   "metadata": {},
   "outputs": [],
   "source": [
    "data = pd.read_csv('bank-additional-filtered.csv').iloc[:, 1:]\n",
    "data.drop('pdays', axis=1, inplace=True)\n",
    "data.dropna(axis=0, inplace=True)"
   ]
  },
  {
   "cell_type": "code",
   "execution_count": 67,
   "id": "69f665a4-90e2-4d0b-8f9e-3efb2bd68a00",
   "metadata": {},
   "outputs": [],
   "source": [
    "numeric_cols = ['age',\t'duration',\t'campaign',\t'previous', 'nr.employed']\n",
    "object_cols = set(data.columns) - set(numeric_cols) \n",
    "object_cols = set(data.columns) - set(data.select_dtypes(include=np.number).columns) "
   ]
  },
  {
   "cell_type": "code",
   "execution_count": 68,
   "id": "1fdf9993-36c6-4a2a-b3f0-42893647a4c9",
   "metadata": {},
   "outputs": [],
   "source": [
    "data_numeric = data[numeric_cols]\n",
    "data_object = data[object_cols]\n",
    "y = data['y']"
   ]
  },
  {
   "cell_type": "code",
   "execution_count": 69,
   "id": "05d9a039-7681-4db5-a1da-f2a6d4e08c4e",
   "metadata": {},
   "outputs": [
    {
     "data": {
      "text/html": [
       "<div>\n",
       "<style scoped>\n",
       "    .dataframe tbody tr th:only-of-type {\n",
       "        vertical-align: middle;\n",
       "    }\n",
       "\n",
       "    .dataframe tbody tr th {\n",
       "        vertical-align: top;\n",
       "    }\n",
       "\n",
       "    .dataframe thead th {\n",
       "        text-align: right;\n",
       "    }\n",
       "</style>\n",
       "<table border=\"1\" class=\"dataframe\">\n",
       "  <thead>\n",
       "    <tr style=\"text-align: right;\">\n",
       "      <th></th>\n",
       "      <th>marital</th>\n",
       "      <th>active</th>\n",
       "      <th>education</th>\n",
       "      <th>basic_education</th>\n",
       "      <th>housing</th>\n",
       "      <th>month</th>\n",
       "      <th>loan</th>\n",
       "      <th>poutcome</th>\n",
       "      <th>y</th>\n",
       "      <th>age_binned</th>\n",
       "      <th>day_of_week</th>\n",
       "      <th>contact</th>\n",
       "      <th>job</th>\n",
       "    </tr>\n",
       "  </thead>\n",
       "  <tbody>\n",
       "    <tr>\n",
       "      <th>0</th>\n",
       "      <td>married</td>\n",
       "      <td>False</td>\n",
       "      <td>basic_4y</td>\n",
       "      <td>True</td>\n",
       "      <td>no</td>\n",
       "      <td>may</td>\n",
       "      <td>no</td>\n",
       "      <td>nonexistent</td>\n",
       "      <td>no</td>\n",
       "      <td>(25, 65]</td>\n",
       "      <td>mon</td>\n",
       "      <td>False</td>\n",
       "      <td>housemaid</td>\n",
       "    </tr>\n",
       "    <tr>\n",
       "      <th>1</th>\n",
       "      <td>married</td>\n",
       "      <td>True</td>\n",
       "      <td>high_school</td>\n",
       "      <td>False</td>\n",
       "      <td>no</td>\n",
       "      <td>may</td>\n",
       "      <td>no</td>\n",
       "      <td>nonexistent</td>\n",
       "      <td>no</td>\n",
       "      <td>(25, 65]</td>\n",
       "      <td>mon</td>\n",
       "      <td>False</td>\n",
       "      <td>services</td>\n",
       "    </tr>\n",
       "    <tr>\n",
       "      <th>2</th>\n",
       "      <td>married</td>\n",
       "      <td>True</td>\n",
       "      <td>high_school</td>\n",
       "      <td>False</td>\n",
       "      <td>yes</td>\n",
       "      <td>may</td>\n",
       "      <td>no</td>\n",
       "      <td>nonexistent</td>\n",
       "      <td>no</td>\n",
       "      <td>(25, 65]</td>\n",
       "      <td>mon</td>\n",
       "      <td>False</td>\n",
       "      <td>services</td>\n",
       "    </tr>\n",
       "    <tr>\n",
       "      <th>3</th>\n",
       "      <td>married</td>\n",
       "      <td>True</td>\n",
       "      <td>basic_6y</td>\n",
       "      <td>True</td>\n",
       "      <td>no</td>\n",
       "      <td>may</td>\n",
       "      <td>no</td>\n",
       "      <td>nonexistent</td>\n",
       "      <td>no</td>\n",
       "      <td>(25, 65]</td>\n",
       "      <td>mon</td>\n",
       "      <td>False</td>\n",
       "      <td>admin.</td>\n",
       "    </tr>\n",
       "    <tr>\n",
       "      <th>4</th>\n",
       "      <td>married</td>\n",
       "      <td>True</td>\n",
       "      <td>high_school</td>\n",
       "      <td>False</td>\n",
       "      <td>no</td>\n",
       "      <td>may</td>\n",
       "      <td>yes</td>\n",
       "      <td>nonexistent</td>\n",
       "      <td>no</td>\n",
       "      <td>(25, 65]</td>\n",
       "      <td>mon</td>\n",
       "      <td>False</td>\n",
       "      <td>services</td>\n",
       "    </tr>\n",
       "    <tr>\n",
       "      <th>...</th>\n",
       "      <td>...</td>\n",
       "      <td>...</td>\n",
       "      <td>...</td>\n",
       "      <td>...</td>\n",
       "      <td>...</td>\n",
       "      <td>...</td>\n",
       "      <td>...</td>\n",
       "      <td>...</td>\n",
       "      <td>...</td>\n",
       "      <td>...</td>\n",
       "      <td>...</td>\n",
       "      <td>...</td>\n",
       "      <td>...</td>\n",
       "    </tr>\n",
       "    <tr>\n",
       "      <th>41183</th>\n",
       "      <td>married</td>\n",
       "      <td>False</td>\n",
       "      <td>professional_course</td>\n",
       "      <td>False</td>\n",
       "      <td>yes</td>\n",
       "      <td>nov</td>\n",
       "      <td>no</td>\n",
       "      <td>nonexistent</td>\n",
       "      <td>yes</td>\n",
       "      <td>(65, 98]</td>\n",
       "      <td>fri</td>\n",
       "      <td>False</td>\n",
       "      <td>retired</td>\n",
       "    </tr>\n",
       "    <tr>\n",
       "      <th>41184</th>\n",
       "      <td>married</td>\n",
       "      <td>True</td>\n",
       "      <td>professional_course</td>\n",
       "      <td>False</td>\n",
       "      <td>no</td>\n",
       "      <td>nov</td>\n",
       "      <td>no</td>\n",
       "      <td>nonexistent</td>\n",
       "      <td>no</td>\n",
       "      <td>(25, 65]</td>\n",
       "      <td>fri</td>\n",
       "      <td>False</td>\n",
       "      <td>blue-collar</td>\n",
       "    </tr>\n",
       "    <tr>\n",
       "      <th>41185</th>\n",
       "      <td>married</td>\n",
       "      <td>False</td>\n",
       "      <td>university_degree</td>\n",
       "      <td>False</td>\n",
       "      <td>yes</td>\n",
       "      <td>nov</td>\n",
       "      <td>no</td>\n",
       "      <td>nonexistent</td>\n",
       "      <td>no</td>\n",
       "      <td>(25, 65]</td>\n",
       "      <td>fri</td>\n",
       "      <td>False</td>\n",
       "      <td>retired</td>\n",
       "    </tr>\n",
       "    <tr>\n",
       "      <th>41186</th>\n",
       "      <td>married</td>\n",
       "      <td>True</td>\n",
       "      <td>professional_course</td>\n",
       "      <td>False</td>\n",
       "      <td>no</td>\n",
       "      <td>nov</td>\n",
       "      <td>no</td>\n",
       "      <td>nonexistent</td>\n",
       "      <td>yes</td>\n",
       "      <td>(25, 65]</td>\n",
       "      <td>fri</td>\n",
       "      <td>False</td>\n",
       "      <td>technician</td>\n",
       "    </tr>\n",
       "    <tr>\n",
       "      <th>41187</th>\n",
       "      <td>married</td>\n",
       "      <td>False</td>\n",
       "      <td>professional_course</td>\n",
       "      <td>False</td>\n",
       "      <td>yes</td>\n",
       "      <td>nov</td>\n",
       "      <td>no</td>\n",
       "      <td>failure</td>\n",
       "      <td>no</td>\n",
       "      <td>(65, 98]</td>\n",
       "      <td>fri</td>\n",
       "      <td>False</td>\n",
       "      <td>retired</td>\n",
       "    </tr>\n",
       "  </tbody>\n",
       "</table>\n",
       "<p>41183 rows × 13 columns</p>\n",
       "</div>"
      ],
      "text/plain": [
       "       marital  active            education  basic_education housing month  \\\n",
       "0      married   False             basic_4y             True      no   may   \n",
       "1      married    True          high_school            False      no   may   \n",
       "2      married    True          high_school            False     yes   may   \n",
       "3      married    True             basic_6y             True      no   may   \n",
       "4      married    True          high_school            False      no   may   \n",
       "...        ...     ...                  ...              ...     ...   ...   \n",
       "41183  married   False  professional_course            False     yes   nov   \n",
       "41184  married    True  professional_course            False      no   nov   \n",
       "41185  married   False    university_degree            False     yes   nov   \n",
       "41186  married    True  professional_course            False      no   nov   \n",
       "41187  married   False  professional_course            False     yes   nov   \n",
       "\n",
       "      loan     poutcome    y age_binned day_of_week  contact          job  \n",
       "0       no  nonexistent   no   (25, 65]         mon    False    housemaid  \n",
       "1       no  nonexistent   no   (25, 65]         mon    False     services  \n",
       "2       no  nonexistent   no   (25, 65]         mon    False     services  \n",
       "3       no  nonexistent   no   (25, 65]         mon    False       admin.  \n",
       "4      yes  nonexistent   no   (25, 65]         mon    False     services  \n",
       "...    ...          ...  ...        ...         ...      ...          ...  \n",
       "41183   no  nonexistent  yes   (65, 98]         fri    False      retired  \n",
       "41184   no  nonexistent   no   (25, 65]         fri    False  blue-collar  \n",
       "41185   no  nonexistent   no   (25, 65]         fri    False      retired  \n",
       "41186   no  nonexistent  yes   (25, 65]         fri    False   technician  \n",
       "41187   no      failure   no   (65, 98]         fri    False      retired  \n",
       "\n",
       "[41183 rows x 13 columns]"
      ]
     },
     "execution_count": 69,
     "metadata": {},
     "output_type": "execute_result"
    }
   ],
   "source": [
    "data_object"
   ]
  },
  {
   "cell_type": "markdown",
   "id": "636faf3b-02de-4151-b08c-48f30a5a1d58",
   "metadata": {},
   "source": [
    "# 1. U-Mann-Whitney y Chi-Square"
   ]
  },
  {
   "cell_type": "code",
   "execution_count": 39,
   "id": "ffb768ee-52f3-4b2f-84b0-99f01623c4cf",
   "metadata": {},
   "outputs": [],
   "source": [
    "def wilcoxon_test(df1, df2):\n",
    "  \n",
    "    list_col_1 = df1.columns\n",
    "    list_col_2 = df2.columns\n",
    "    dict_column = {}\n",
    "\n",
    "    for i in range(0, len(list_col_1)):\n",
    "        pvalue_list = []\n",
    "        name_row = []\n",
    "        name = list_col_1[i]\n",
    "        for j in range(0, len(list_col_2)):\n",
    "            name_check = list_col_2[j]\n",
    "            name_row.append(name_check)\n",
    "            stat, pvalue = stats.mannwhitneyu(df1[name], df2[name_check])\n",
    "            pvalue_list.append(round(pvalue, 2))\n",
    "\n",
    "        dict_column.update({str(name): pvalue_list})\n",
    "\n",
    "    df = pd.DataFrame(dict_column)\n",
    "    df.reset_index(inplace = True)\n",
    "    df.loc[:, ['Name']] = name_row\n",
    "    df = df.set_index(['Name'])\n",
    "    df = df.drop('index', axis = 1)\n",
    "\n",
    "    return df"
   ]
  },
  {
   "cell_type": "code",
   "execution_count": 40,
   "id": "74f6b99a-ae59-4886-861d-65fc30d6ddbf",
   "metadata": {},
   "outputs": [
    {
     "data": {
      "text/html": [
       "<div>\n",
       "<style scoped>\n",
       "    .dataframe tbody tr th:only-of-type {\n",
       "        vertical-align: middle;\n",
       "    }\n",
       "\n",
       "    .dataframe tbody tr th {\n",
       "        vertical-align: top;\n",
       "    }\n",
       "\n",
       "    .dataframe thead th {\n",
       "        text-align: right;\n",
       "    }\n",
       "</style>\n",
       "<table border=\"1\" class=\"dataframe\">\n",
       "  <thead>\n",
       "    <tr style=\"text-align: right;\">\n",
       "      <th></th>\n",
       "      <th>age</th>\n",
       "      <th>duration</th>\n",
       "      <th>campaign</th>\n",
       "      <th>previous</th>\n",
       "      <th>nr.employed</th>\n",
       "    </tr>\n",
       "    <tr>\n",
       "      <th>Name</th>\n",
       "      <th></th>\n",
       "      <th></th>\n",
       "      <th></th>\n",
       "      <th></th>\n",
       "      <th></th>\n",
       "    </tr>\n",
       "  </thead>\n",
       "  <tbody>\n",
       "    <tr>\n",
       "      <th>age</th>\n",
       "      <td>1.00</td>\n",
       "      <td>0.85</td>\n",
       "      <td>0.00</td>\n",
       "      <td>0.00</td>\n",
       "      <td>0.0</td>\n",
       "    </tr>\n",
       "    <tr>\n",
       "      <th>duration</th>\n",
       "      <td>0.85</td>\n",
       "      <td>1.00</td>\n",
       "      <td>0.00</td>\n",
       "      <td>0.00</td>\n",
       "      <td>0.0</td>\n",
       "    </tr>\n",
       "    <tr>\n",
       "      <th>campaign</th>\n",
       "      <td>0.00</td>\n",
       "      <td>0.00</td>\n",
       "      <td>1.00</td>\n",
       "      <td>0.48</td>\n",
       "      <td>0.0</td>\n",
       "    </tr>\n",
       "    <tr>\n",
       "      <th>previous</th>\n",
       "      <td>0.00</td>\n",
       "      <td>0.00</td>\n",
       "      <td>0.48</td>\n",
       "      <td>1.00</td>\n",
       "      <td>0.0</td>\n",
       "    </tr>\n",
       "    <tr>\n",
       "      <th>nr.employed</th>\n",
       "      <td>0.00</td>\n",
       "      <td>0.00</td>\n",
       "      <td>0.00</td>\n",
       "      <td>0.00</td>\n",
       "      <td>1.0</td>\n",
       "    </tr>\n",
       "  </tbody>\n",
       "</table>\n",
       "</div>"
      ],
      "text/plain": [
       "              age  duration  campaign  previous  nr.employed\n",
       "Name                                                        \n",
       "age          1.00      0.85      0.00      0.00          0.0\n",
       "duration     0.85      1.00      0.00      0.00          0.0\n",
       "campaign     0.00      0.00      1.00      0.48          0.0\n",
       "previous     0.00      0.00      0.48      1.00          0.0\n",
       "nr.employed  0.00      0.00      0.00      0.00          1.0"
      ]
     },
     "execution_count": 40,
     "metadata": {},
     "output_type": "execute_result"
    }
   ],
   "source": [
    "wilcoxon_test(data_numeric, data_numeric)"
   ]
  },
  {
   "cell_type": "markdown",
   "id": "e835d783-7a1d-4cd7-8d00-416c4cb42b34",
   "metadata": {},
   "source": [
    "Se deben eliminar una de cada par de variables (age, duration) y (previous, campaign)"
   ]
  },
  {
   "cell_type": "code",
   "execution_count": 101,
   "id": "1174de87-589d-4ed7-ae70-552ffa888a63",
   "metadata": {},
   "outputs": [],
   "source": [
    "def chisquare_test(df1, df2):\n",
    "  \n",
    "    list_col_1 = df1.columns\n",
    "    list_col_2 = df2.columns\n",
    "    dict_column = {}\n",
    "\n",
    "    for i in range(0, len(list_col_1)):\n",
    "        pvalue_list = []\n",
    "        name_row = []\n",
    "        name = list_col_1[i]\n",
    "        for j in range(0, len(list_col_2)):\n",
    "            name_check = list_col_2[j]\n",
    "            name_row.append(name_check)\n",
    "            pvalue = stats.chisquare(pd.crosstab(df1[name], df2[name_check]))[1][0]\n",
    "            pvalue_list.append(round(pvalue, 2))\n",
    "\n",
    "        dict_column.update({str(name): pvalue_list})\n",
    "\n",
    "    df = pd.DataFrame(dict_column)\n",
    "    df.reset_index(inplace = True)\n",
    "    df.loc[:, ['Name']] = name_row\n",
    "    df = df.set_index(['Name'])\n",
    "    df = df.drop('index', axis = 1)\n",
    "\n",
    "    return df"
   ]
  },
  {
   "cell_type": "code",
   "execution_count": 106,
   "id": "5fa15d1c-3e57-43d1-9c7e-7ba62b7e0fbd",
   "metadata": {},
   "outputs": [],
   "source": [
    "result = chisquare_test(data_object, data_object)"
   ]
  },
  {
   "cell_type": "code",
   "execution_count": 107,
   "id": "8a3ee39a-4fab-4536-9fe6-9fad6c62371c",
   "metadata": {},
   "outputs": [
    {
     "data": {
      "text/plain": [
       "<AxesSubplot:ylabel='Name'>"
      ]
     },
     "execution_count": 107,
     "metadata": {},
     "output_type": "execute_result"
    },
    {
     "data": {
      "image/png": "[encoded data removed]",
      "text/plain": [
       "<Figure size 432x288 with 2 Axes>"
      ]
     },
     "metadata": {
      "needs_background": "light"
     },
     "output_type": "display_data"
    }
   ],
   "source": [
    "sns.heatmap(result)"
   ]
  },
  {
   "cell_type": "markdown",
   "id": "cf3bb9f0-adf0-4a84-b699-d04cc91218dc",
   "metadata": {},
   "source": [
    "# Ejercicio 2"
   ]
  },
  {
   "cell_type": "code",
   "execution_count": 124,
   "id": "66d39a71-46c9-46e4-9f40-68b5d0f0fe77",
   "metadata": {},
   "outputs": [
    {
     "data": {
      "text/plain": [
       "duration       0.078075\n",
       "nr.employed    0.065234\n",
       "previous       0.022550\n",
       "age            0.014651\n",
       "campaign       0.004007\n",
       "dtype: float64"
      ]
     },
     "execution_count": 124,
     "metadata": {},
     "output_type": "execute_result"
    }
   ],
   "source": [
    "x, y = data_numeric, data['y']\n",
    "from sklearn.feature_selection import mutual_info_classif\n",
    "mutual_info = mutual_info_classif(x, y)\n",
    "mutual_info = pd.Series(mutual_info)\n",
    "mutual_info.index = x.columns\n",
    "mutual_info.sort_values(ascending=False)"
   ]
  },
  {
   "cell_type": "markdown",
   "id": "35880833-ef60-42e2-98d7-5354d2dcac8a",
   "metadata": {},
   "source": [
    "# Ejercicio 3. LDA"
   ]
  },
  {
   "cell_type": "code",
   "execution_count": 43,
   "id": "e397bb69-04bb-4f62-b49c-1ce742445646",
   "metadata": {},
   "outputs": [],
   "source": [
    "lda = LinearDiscriminantAnalysis(n_components=1, store_covariance=True).fit(data_numeric, data['y'])"
   ]
  },
  {
   "cell_type": "code",
   "execution_count": 46,
   "id": "ff8b63e2-20c8-4ee5-8b66-de9cca016a98",
   "metadata": {},
   "outputs": [
    {
     "data": {
      "text/plain": [
       "array([ 0.04281229, -0.01242568,  0.78965929,  0.61164648, -0.01842542])"
      ]
     },
     "execution_count": 46,
     "metadata": {},
     "output_type": "execute_result"
    }
   ],
   "source": [
    "alg.eig(lda.covariance_)[1][0]"
   ]
  },
  {
   "cell_type": "code",
   "execution_count": 51,
   "id": "22704ccc-5eb1-4587-a421-b6823a0112cf",
   "metadata": {},
   "outputs": [
    {
     "data": {
      "text/plain": [
       "(array([2.5845e+04, 1.2140e+04, 2.6660e+03, 4.1600e+02, 7.8000e+01,\n",
       "        2.5000e+01, 1.2000e+01, 2.0000e+00, 3.0000e+00, 1.0000e+00]),\n",
       " array([-1.53447196,  0.14377981,  1.82203158,  3.50028336,  5.17853513,\n",
       "         6.8567869 ,  8.53503867, 10.21329044, 11.89154221, 13.56979398,\n",
       "        15.24804575]),\n",
       " <BarContainer object of 10 artists>)"
      ]
     },
     "execution_count": 51,
     "metadata": {},
     "output_type": "execute_result"
    },
    {
     "data": {
      "image/png": "[encoded data removed]",
      "text/plain": [
       "<Figure size 432x288 with 1 Axes>"
      ]
     },
     "metadata": {
      "needs_background": "light"
     },
     "output_type": "display_data"
    }
   ],
   "source": [
    "plt.hist(lda.transform(data_numeric)) # histograma de la proyeccion"
   ]
  },
  {
   "cell_type": "code",
   "execution_count": 50,
   "id": "b18d324e-440c-46c8-8903-4e1cfd3198bd",
   "metadata": {},
   "outputs": [
    {
     "data": {
      "text/plain": [
       "array([-0.09846619, -0.91519886,  0.44780396, -1.083106  ,  1.18610775])"
      ]
     },
     "execution_count": 50,
     "metadata": {},
     "output_type": "execute_result"
    }
   ],
   "source": [
    "lda.covariance_ @ (lda.means_[0]-lda.means_[1]) # vector de proyecccion"
   ]
  },
  {
   "cell_type": "markdown",
   "id": "8b792999-933b-4a40-9f7a-da215063241c",
   "metadata": {},
   "source": [
    "# Ejercicio 4. PCA"
   ]
  },
  {
   "cell_type": "code",
   "execution_count": 72,
   "id": "2248d322-5416-432c-895f-4ade99dfa5f6",
   "metadata": {},
   "outputs": [],
   "source": [
    "pca = PCA().fit(data_numeric, y)"
   ]
  },
  {
   "cell_type": "code",
   "execution_count": 73,
   "id": "509ae03e-9d9d-448a-81b8-91f5ba56351e",
   "metadata": {},
   "outputs": [
    {
     "data": {
      "text/plain": [
       "array([0.31119184, 0.2077373 , 0.1992294 , 0.18313077, 0.09871069])"
      ]
     },
     "execution_count": 73,
     "metadata": {},
     "output_type": "execute_result"
    }
   ],
   "source": [
    "pca.explained_variance_ratio_"
   ]
  },
  {
   "cell_type": "code",
   "execution_count": 78,
   "id": "94a58eb9-d5b9-454e-8cca-f7453a638532",
   "metadata": {},
   "outputs": [
    {
     "data": {
      "text/plain": [
       "<matplotlib.collections.PathCollection at 0x7f074f892100>"
      ]
     },
     "execution_count": 78,
     "metadata": {},
     "output_type": "execute_result"
    },
    {
     "data": {
      "image/png": "[encoded data removed]",
      "text/plain": [
       "<Figure size 432x288 with 1 Axes>"
      ]
     },
     "metadata": {
      "needs_background": "light"
     },
     "output_type": "display_data"
    }
   ],
   "source": [
    "transformed = pca.transform(data_numeric)[:, :2]\n",
    "plt.scatter(transformed[:, 0], transformed[:, 1])"
   ]
  },
  {
   "cell_type": "code",
   "execution_count": 80,
   "id": "fd4725bd-0599-4d4d-a335-85998bdaa549",
   "metadata": {},
   "outputs": [],
   "source": [
    "# falta la matriz de proyeccion"
   ]
  },
  {
   "cell_type": "code",
   "execution_count": null,
   "id": "7ec12ac4-5c47-4802-aead-5c0d5d01c37f",
   "metadata": {},
   "outputs": [],
   "source": []
  }
 ],
 "metadata": {
  "kernelspec": {
   "display_name": "Python 3 (ipykernel)",
   "language": "python",
   "name": "python3"
  },
  "language_info": {
   "codemirror_mode": {
    "name": "ipython",
    "version": 3
   },
   "file_extension": ".py",
   "mimetype": "text/x-python",
   "name": "python",
   "nbconvert_exporter": "python",
   "pygments_lexer": "ipython3",
   "version": "3.8.12"
  }
 },
 "nbformat": 4,
 "nbformat_minor": 5
}
