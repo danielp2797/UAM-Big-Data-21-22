{
 "cells": [
  {
   "cell_type": "markdown",
   "metadata": {},
   "source": [
    "# Ejemplo sobre métricas de distancia"
   ]
  },
  {
   "cell_type": "markdown",
   "metadata": {},
   "source": [
    "En este ejemplo vamos a realizar la importación de datos mediante pandas. Una vez importados los datos, vamos a computar las distancias existentes entre las diversas muestras importadas. De modo ilustrativo se emplearán cuatros métricas de distancias: la distancia basada en la cardinalidad del conjunto de intersección entre dos conjuntos dados; la métrica de Jaccard; la distancia del coseno y la distancia del coseno suavizada. "
   ]
  },
  {
   "cell_type": "code",
   "execution_count": 1,
   "metadata": {
    "tags": []
   },
   "outputs": [],
   "source": [
    "import urllib.request\n",
    "import os.path\n",
    "import pandas as pd\n",
    "import numpy as np\n",
    "from numpy import zeros\n",
    "import random as rd\n",
    "from scipy.sparse import coo_matrix, csr_matrix\n",
    "import time\n",
    "from sklearn.preprocessing import normalize\n",
    "from collections import defaultdict"
   ]
  },
  {
   "cell_type": "markdown",
   "metadata": {},
   "source": [
    "Tras realizar la importación de los paquetes que emplearemos, cargamos los datos. Para ello hacemos uso de pandas. Los datos a emplear continenen información sobre el número de veces que un conjunto de usuarios han reproducido música de un cierto artista. "
   ]
  },
  {
   "cell_type": "code",
   "execution_count": 2,
   "metadata": {
    "tags": []
   },
   "outputs": [],
   "source": [
    "if not os.path.isfile(\"prueba.tsv\"):\n",
    "    url = \"https://www.dropbox.com/s/na8xphvfglsf2to/prueba.tsv?dl=1\"\n",
    "    u = urllib.request.urlopen(url)\n",
    "    data = u.read()\n",
    "    u.close() \n",
    "    with open(\"prueba.tsv\", \"wb\") as f :\n",
    "        f.write(data)\n",
    "\n",
    "data = pd.read_table(\"prueba.tsv\", usecols=[0, 2, 3], names=['user', 'artist', 'plays'])\n"
   ]
  },
  {
   "cell_type": "code",
   "execution_count": 3,
   "metadata": {},
   "outputs": [
    {
     "data": {
      "text/html": [
       "<div>\n",
       "<style scoped>\n",
       "    .dataframe tbody tr th:only-of-type {\n",
       "        vertical-align: middle;\n",
       "    }\n",
       "\n",
       "    .dataframe tbody tr th {\n",
       "        vertical-align: top;\n",
       "    }\n",
       "\n",
       "    .dataframe thead th {\n",
       "        text-align: right;\n",
       "    }\n",
       "</style>\n",
       "<table border=\"1\" class=\"dataframe\">\n",
       "  <thead>\n",
       "    <tr style=\"text-align: right;\">\n",
       "      <th></th>\n",
       "      <th>user</th>\n",
       "      <th>artist</th>\n",
       "      <th>plays</th>\n",
       "    </tr>\n",
       "  </thead>\n",
       "  <tbody>\n",
       "    <tr>\n",
       "      <th>0</th>\n",
       "      <td>8375184063830301f3ef296da9f0a35a33186537</td>\n",
       "      <td>modena city ramblers</td>\n",
       "      <td>181</td>\n",
       "    </tr>\n",
       "    <tr>\n",
       "      <th>1</th>\n",
       "      <td>f11e905505496c62b894a10782c9db5fa6fb30cf</td>\n",
       "      <td>lauryn hill</td>\n",
       "      <td>33</td>\n",
       "    </tr>\n",
       "    <tr>\n",
       "      <th>2</th>\n",
       "      <td>f6083d24ae24c20727a8454555834e0cfd74e2fc</td>\n",
       "      <td>disturbed</td>\n",
       "      <td>4</td>\n",
       "    </tr>\n",
       "    <tr>\n",
       "      <th>3</th>\n",
       "      <td>b97522a230aca2c1693fe31847ebc93017e4daee</td>\n",
       "      <td>beyoncé</td>\n",
       "      <td>294</td>\n",
       "    </tr>\n",
       "    <tr>\n",
       "      <th>4</th>\n",
       "      <td>bc39901365f1e8ebf62aa6f5c10ba8a1ea4439da</td>\n",
       "      <td>elliott smith</td>\n",
       "      <td>73</td>\n",
       "    </tr>\n",
       "    <tr>\n",
       "      <th>...</th>\n",
       "      <td>...</td>\n",
       "      <td>...</td>\n",
       "      <td>...</td>\n",
       "    </tr>\n",
       "    <tr>\n",
       "      <th>999633</th>\n",
       "      <td>2fdc2ed71a16cfee4f3732f05f369905cdf2758e</td>\n",
       "      <td>broilers</td>\n",
       "      <td>47</td>\n",
       "    </tr>\n",
       "    <tr>\n",
       "      <th>999634</th>\n",
       "      <td>ae2ca0e73140292b4479e88b70f85d2bfc2021e3</td>\n",
       "      <td>pono</td>\n",
       "      <td>14</td>\n",
       "    </tr>\n",
       "    <tr>\n",
       "      <th>999635</th>\n",
       "      <td>cb91a9974e7fd3a0fd536abb12fd330a38dcba90</td>\n",
       "      <td>skunk anansie</td>\n",
       "      <td>17</td>\n",
       "    </tr>\n",
       "    <tr>\n",
       "      <th>999636</th>\n",
       "      <td>9bf5ba46bebefee77e5eb1f8eae9bf6d4159a62a</td>\n",
       "      <td>europe</td>\n",
       "      <td>10</td>\n",
       "    </tr>\n",
       "    <tr>\n",
       "      <th>999637</th>\n",
       "      <td>86e0bd77bacd1b138b2a788a678b7ff230d79c0a</td>\n",
       "      <td>michael kamen</td>\n",
       "      <td>1111</td>\n",
       "    </tr>\n",
       "  </tbody>\n",
       "</table>\n",
       "<p>999638 rows × 3 columns</p>\n",
       "</div>"
      ],
      "text/plain": [
       "                                            user                artist  plays\n",
       "0       8375184063830301f3ef296da9f0a35a33186537  modena city ramblers    181\n",
       "1       f11e905505496c62b894a10782c9db5fa6fb30cf           lauryn hill     33\n",
       "2       f6083d24ae24c20727a8454555834e0cfd74e2fc             disturbed      4\n",
       "3       b97522a230aca2c1693fe31847ebc93017e4daee               beyoncé    294\n",
       "4       bc39901365f1e8ebf62aa6f5c10ba8a1ea4439da         elliott smith     73\n",
       "...                                          ...                   ...    ...\n",
       "999633  2fdc2ed71a16cfee4f3732f05f369905cdf2758e              broilers     47\n",
       "999634  ae2ca0e73140292b4479e88b70f85d2bfc2021e3                  pono     14\n",
       "999635  cb91a9974e7fd3a0fd536abb12fd330a38dcba90         skunk anansie     17\n",
       "999636  9bf5ba46bebefee77e5eb1f8eae9bf6d4159a62a                europe     10\n",
       "999637  86e0bd77bacd1b138b2a788a678b7ff230d79c0a         michael kamen   1111\n",
       "\n",
       "[999638 rows x 3 columns]"
      ]
     },
     "execution_count": 3,
     "metadata": {},
     "output_type": "execute_result"
    }
   ],
   "source": [
    "data"
   ]
  },
  {
   "cell_type": "markdown",
   "metadata": {},
   "source": [
    "De cara al análisis posterior, vamos a agrupar los datos creando los conjuntos necesarios. Primero agrupamos en base a cada uno de los artistas. Tras ello, codificamos tanto los usuarios como los artistas como una categoría de pandas. Creadas las categorías, extraemos los conjuntos de usuarios vinculados a cada artista. "
   ]
  },
  {
   "cell_type": "code",
   "execution_count": 4,
   "metadata": {
    "collapsed": false,
    "jupyter": {
     "outputs_hidden": false
    }
   },
   "outputs": [],
   "source": [
    "user_count = data.groupby('artist').size()\n",
    "data['user'] = data['user'].astype(\"category\")\n",
    "data['artist'] = data['artist'].astype(\"category\")\n",
    "artist_sets = dict((artist, set(users)) for artist, users in data.groupby('artist')['user'])"
   ]
  },
  {
   "cell_type": "code",
   "execution_count": 5,
   "metadata": {},
   "outputs": [
    {
     "data": {
      "text/html": [
       "<div>\n",
       "<style scoped>\n",
       "    .dataframe tbody tr th:only-of-type {\n",
       "        vertical-align: middle;\n",
       "    }\n",
       "\n",
       "    .dataframe tbody tr th {\n",
       "        vertical-align: top;\n",
       "    }\n",
       "\n",
       "    .dataframe thead th {\n",
       "        text-align: right;\n",
       "    }\n",
       "</style>\n",
       "<table border=\"1\" class=\"dataframe\">\n",
       "  <thead>\n",
       "    <tr style=\"text-align: right;\">\n",
       "      <th></th>\n",
       "      <th>user</th>\n",
       "      <th>artist</th>\n",
       "      <th>plays</th>\n",
       "    </tr>\n",
       "  </thead>\n",
       "  <tbody>\n",
       "    <tr>\n",
       "      <th>0</th>\n",
       "      <td>8375184063830301f3ef296da9f0a35a33186537</td>\n",
       "      <td>modena city ramblers</td>\n",
       "      <td>181</td>\n",
       "    </tr>\n",
       "    <tr>\n",
       "      <th>1</th>\n",
       "      <td>f11e905505496c62b894a10782c9db5fa6fb30cf</td>\n",
       "      <td>lauryn hill</td>\n",
       "      <td>33</td>\n",
       "    </tr>\n",
       "    <tr>\n",
       "      <th>2</th>\n",
       "      <td>f6083d24ae24c20727a8454555834e0cfd74e2fc</td>\n",
       "      <td>disturbed</td>\n",
       "      <td>4</td>\n",
       "    </tr>\n",
       "    <tr>\n",
       "      <th>3</th>\n",
       "      <td>b97522a230aca2c1693fe31847ebc93017e4daee</td>\n",
       "      <td>beyoncé</td>\n",
       "      <td>294</td>\n",
       "    </tr>\n",
       "    <tr>\n",
       "      <th>4</th>\n",
       "      <td>bc39901365f1e8ebf62aa6f5c10ba8a1ea4439da</td>\n",
       "      <td>elliott smith</td>\n",
       "      <td>73</td>\n",
       "    </tr>\n",
       "  </tbody>\n",
       "</table>\n",
       "</div>"
      ],
      "text/plain": [
       "                                       user                artist  plays\n",
       "0  8375184063830301f3ef296da9f0a35a33186537  modena city ramblers    181\n",
       "1  f11e905505496c62b894a10782c9db5fa6fb30cf           lauryn hill     33\n",
       "2  f6083d24ae24c20727a8454555834e0cfd74e2fc             disturbed      4\n",
       "3  b97522a230aca2c1693fe31847ebc93017e4daee               beyoncé    294\n",
       "4  bc39901365f1e8ebf62aa6f5c10ba8a1ea4439da         elliott smith     73"
      ]
     },
     "execution_count": 5,
     "metadata": {},
     "output_type": "execute_result"
    }
   ],
   "source": [
    "data.head()"
   ]
  },
  {
   "cell_type": "code",
   "execution_count": 6,
   "metadata": {
    "tags": []
   },
   "outputs": [],
   "source": [
    "artists_ = dict(enumerate(data['artist'].cat.categories))   "
   ]
  },
  {
   "cell_type": "markdown",
   "metadata": {},
   "source": [
    "También nos será útil tener una lista ordenada con los artistas. Para ello usamos la función sorted y le pasamos como segundo argumento la función en base a la cual vamos a ordenar la lista. Esa función se puede definir mediante el operador lambda. En este caso tendremos que para un usuario x el operador lambda devuelve el número de usuarios que han reproducido canciones de un artista. Este número es devuelto como un valor negativo, de modo que la lista se ordena del valor menor al mayor forzando que el primer elemento sea aquél que tiene el mayor número de reproducciones. "
   ]
  },
  {
   "cell_type": "code",
   "execution_count": 7,
   "metadata": {
    "tags": []
   },
   "outputs": [],
   "source": [
    "to_generate = sorted(list(artists_),key=lambda x: -user_count[x])"
   ]
  },
  {
   "cell_type": "markdown",
   "metadata": {},
   "source": [
    "La forma más directa para determinar cuán parecidos son dos conjuntos categoriales de datos es mediante el cómputo del número de elementos que tienen en común. "
   ]
  },
  {
   "cell_type": "code",
   "execution_count": 8,
   "metadata": {
    "tags": []
   },
   "outputs": [],
   "source": [
    "#La forma más fácil y directa: compruebo si existen artitas comunes entre discos\n",
    "def solapamiento(a, b):\n",
    "    return len(a.intersection(b))"
   ]
  },
  {
   "cell_type": "markdown",
   "metadata": {},
   "source": [
    "Para conseguir una medida más precisa sobre el parecido de dos conjuntos de datos categoriales, se puede normalizar el anterior resultado simplemente dividiéndolo por el número de elementos que están bien en el primer conjunto, bien en el segundo."
   ]
  },
  {
   "cell_type": "code",
   "execution_count": 9,
   "metadata": {
    "tags": []
   },
   "outputs": [],
   "source": [
    "def jaccard(a,b):\n",
    "    inter = float(len(a.intersection(b)))\n",
    "    return inter/(len(a) +len(b) - inter)"
   ]
  },
  {
   "cell_type": "raw",
   "metadata": {},
   "source": [
    "Tras definir el par de medidas anteriores, procedemos a computar la distancia del artista más escuchado con respecto a los siguientes 100 artistas más escuchados. "
   ]
  },
  {
   "cell_type": "code",
   "execution_count": 10,
   "metadata": {
    "collapsed": false,
    "jupyter": {
     "outputs_hidden": false
    }
   },
   "outputs": [
    {
     "name": "stdout",
     "output_type": "stream",
     "text": [
      "      artista1               artista2 solapamiento   Jaccard\n",
      "0    radiohead               coldplay           90  0.011258\n",
      "1    radiohead  red hot chili peppers           49  0.006909\n",
      "2    radiohead                   muse           84  0.012045\n",
      "3    radiohead             pink floyd           41  0.005983\n",
      "4    radiohead              metallica           26  0.003787\n",
      "..         ...                    ...          ...       ...\n",
      "96   radiohead            norah jones           15  0.002828\n",
      "97   radiohead                ramones           11  0.002073\n",
      "98   radiohead             nickelback            8  0.001509\n",
      "99   radiohead                the who           23  0.004355\n",
      "100  radiohead         regina spektor           25  0.004742\n",
      "\n",
      "[101 rows x 4 columns]\n",
      "load time 0.18210625648498535\n"
     ]
    }
   ],
   "source": [
    "start = time.time()\n",
    "df = pd.DataFrame(columns=('artista1','artista2','solapamiento','Jaccard'))\n",
    "i = 0\n",
    "for artist in to_generate[1:2]:\n",
    "    set1 = artist_sets[artists_[artist]]\n",
    "    for art in to_generate[2:103]:\n",
    "        if art != artist:\n",
    "            set2 = artist_sets[artists_[art]]            \n",
    "            df.loc[i] = [artists_[artist],artists_[art],solapamiento(set1,set2),jaccard(set1,set2)]   \n",
    "            i += 1    \n",
    "print(df)\n",
    "loadEnd = time.time()\n",
    "print(\"load time \"+ str(loadEnd - start))"
   ]
  },
  {
   "cell_type": "code",
   "execution_count": null,
   "metadata": {},
   "outputs": [],
   "source": []
  },
  {
   "cell_type": "markdown",
   "metadata": {},
   "source": [
    "Otra medida que se suele emplear para medir la distancia entre datos categoriales es la medida del coseno. "
   ]
  },
  {
   "cell_type": "code",
   "execution_count": 11,
   "metadata": {
    "tags": []
   },
   "outputs": [],
   "source": [
    "def cosine(a, b):\n",
    "    return np.dot(a, b.T)[0, 0] / (norm2(a) * norm2(b))\n",
    "\n",
    "def norm2(v):\n",
    "    return np.sqrt((v.data ** 2).sum())"
   ]
  },
  {
   "cell_type": "code",
   "execution_count": null,
   "metadata": {},
   "outputs": [],
   "source": []
  },
  {
   "cell_type": "code",
   "execution_count": 12,
   "metadata": {
    "tags": []
   },
   "outputs": [],
   "source": [
    "#asignamos un id a cada usuario. Para ello creamos un diccionario por defecto empleando el operador lambda. \n",
    "#Tras ello mapeamos un id a cada valor del diccionario, siendo el valor cada uno de los usuarios que tenemos. \n",
    "userids = defaultdict(lambda: len(userids))\n",
    "data['userid'] = data['user'].map(userids.__getitem__)\n",
    "artists = dict((artist, csr_matrix(\n",
    "                (group['plays'], (zeros(len(group)), group['userid'])),\n",
    "                shape=[1, len(userids)]))\n",
    "        for artist, group in data.groupby('artist'))\n"
   ]
  },
  {
   "cell_type": "code",
   "execution_count": 13,
   "metadata": {},
   "outputs": [
    {
     "data": {
      "text/html": [
       "<div>\n",
       "<style scoped>\n",
       "    .dataframe tbody tr th:only-of-type {\n",
       "        vertical-align: middle;\n",
       "    }\n",
       "\n",
       "    .dataframe tbody tr th {\n",
       "        vertical-align: top;\n",
       "    }\n",
       "\n",
       "    .dataframe thead th {\n",
       "        text-align: right;\n",
       "    }\n",
       "</style>\n",
       "<table border=\"1\" class=\"dataframe\">\n",
       "  <thead>\n",
       "    <tr style=\"text-align: right;\">\n",
       "      <th></th>\n",
       "      <th>user</th>\n",
       "      <th>artist</th>\n",
       "      <th>plays</th>\n",
       "      <th>userid</th>\n",
       "    </tr>\n",
       "  </thead>\n",
       "  <tbody>\n",
       "    <tr>\n",
       "      <th>0</th>\n",
       "      <td>8375184063830301f3ef296da9f0a35a33186537</td>\n",
       "      <td>modena city ramblers</td>\n",
       "      <td>181</td>\n",
       "      <td>172128</td>\n",
       "    </tr>\n",
       "    <tr>\n",
       "      <th>1</th>\n",
       "      <td>f11e905505496c62b894a10782c9db5fa6fb30cf</td>\n",
       "      <td>lauryn hill</td>\n",
       "      <td>33</td>\n",
       "      <td>316477</td>\n",
       "    </tr>\n",
       "    <tr>\n",
       "      <th>2</th>\n",
       "      <td>f6083d24ae24c20727a8454555834e0cfd74e2fc</td>\n",
       "      <td>disturbed</td>\n",
       "      <td>4</td>\n",
       "      <td>323037</td>\n",
       "    </tr>\n",
       "    <tr>\n",
       "      <th>3</th>\n",
       "      <td>b97522a230aca2c1693fe31847ebc93017e4daee</td>\n",
       "      <td>beyoncé</td>\n",
       "      <td>294</td>\n",
       "      <td>242853</td>\n",
       "    </tr>\n",
       "    <tr>\n",
       "      <th>4</th>\n",
       "      <td>bc39901365f1e8ebf62aa6f5c10ba8a1ea4439da</td>\n",
       "      <td>elliott smith</td>\n",
       "      <td>73</td>\n",
       "      <td>246544</td>\n",
       "    </tr>\n",
       "    <tr>\n",
       "      <th>...</th>\n",
       "      <td>...</td>\n",
       "      <td>...</td>\n",
       "      <td>...</td>\n",
       "      <td>...</td>\n",
       "    </tr>\n",
       "    <tr>\n",
       "      <th>999518</th>\n",
       "      <td>b29bf71adeba3b057c7ba3928d9e7403a09213e8</td>\n",
       "      <td>druhá tráva</td>\n",
       "      <td>67</td>\n",
       "      <td>233996</td>\n",
       "    </tr>\n",
       "    <tr>\n",
       "      <th>999530</th>\n",
       "      <td>1f10fd8665ee64c91b1885a00a8161e1e7d0b0da</td>\n",
       "      <td>daniele silvestri  &amp; subsonica</td>\n",
       "      <td>11</td>\n",
       "      <td>40795</td>\n",
       "    </tr>\n",
       "    <tr>\n",
       "      <th>999538</th>\n",
       "      <td>243c5029beea3320ee30e690d7a148fcc2399f04</td>\n",
       "      <td>lady alma</td>\n",
       "      <td>50</td>\n",
       "      <td>47416</td>\n",
       "    </tr>\n",
       "    <tr>\n",
       "      <th>999567</th>\n",
       "      <td>2d82d71cd03244c2c6fc381d811eb22c8f28b9ef</td>\n",
       "      <td>zatokrev</td>\n",
       "      <td>330</td>\n",
       "      <td>59612</td>\n",
       "    </tr>\n",
       "    <tr>\n",
       "      <th>999628</th>\n",
       "      <td>b5dd6c99b8d2317f53f3b12c6d9692ed4a4a860f</td>\n",
       "      <td>アニプレックス</td>\n",
       "      <td>180</td>\n",
       "      <td>238254</td>\n",
       "    </tr>\n",
       "  </tbody>\n",
       "</table>\n",
       "<p>195875 rows × 4 columns</p>\n",
       "</div>"
      ],
      "text/plain": [
       "                                            user  \\\n",
       "0       8375184063830301f3ef296da9f0a35a33186537   \n",
       "1       f11e905505496c62b894a10782c9db5fa6fb30cf   \n",
       "2       f6083d24ae24c20727a8454555834e0cfd74e2fc   \n",
       "3       b97522a230aca2c1693fe31847ebc93017e4daee   \n",
       "4       bc39901365f1e8ebf62aa6f5c10ba8a1ea4439da   \n",
       "...                                          ...   \n",
       "999518  b29bf71adeba3b057c7ba3928d9e7403a09213e8   \n",
       "999530  1f10fd8665ee64c91b1885a00a8161e1e7d0b0da   \n",
       "999538  243c5029beea3320ee30e690d7a148fcc2399f04   \n",
       "999567  2d82d71cd03244c2c6fc381d811eb22c8f28b9ef   \n",
       "999628  b5dd6c99b8d2317f53f3b12c6d9692ed4a4a860f   \n",
       "\n",
       "                                artist  plays  userid  \n",
       "0                 modena city ramblers    181  172128  \n",
       "1                          lauryn hill     33  316477  \n",
       "2                            disturbed      4  323037  \n",
       "3                              beyoncé    294  242853  \n",
       "4                        elliott smith     73  246544  \n",
       "...                                ...    ...     ...  \n",
       "999518                     druhá tráva     67  233996  \n",
       "999530  daniele silvestri  & subsonica     11   40795  \n",
       "999538                       lady alma     50   47416  \n",
       "999567                        zatokrev    330   59612  \n",
       "999628                         アニプレックス    180  238254  \n",
       "\n",
       "[195875 rows x 4 columns]"
      ]
     },
     "execution_count": 13,
     "metadata": {},
     "output_type": "execute_result"
    }
   ],
   "source": [
    "data.groupby('artist').head()"
   ]
  },
  {
   "cell_type": "code",
   "execution_count": 14,
   "metadata": {
    "collapsed": false,
    "jupyter": {
     "outputs_hidden": false
    }
   },
   "outputs": [
    {
     "name": "stdout",
     "output_type": "stream",
     "text": [
      "0.00789347807501069\n",
      "0.022318506370666746\n",
      "0.004381875915778587\n",
      "0.00395019381788708\n",
      "0.0056511272988250495\n",
      "0.007031559405047427\n",
      "0.0014372226330307874\n",
      "0.00256339273094042\n",
      "0.0004902134348568248\n",
      "0.00022102846299853996\n",
      "0.004306918964438808\n",
      "0.011935500860442838\n",
      "0.005153591425129064\n",
      "0.008061905554987061\n",
      "0.012729293446214643\n",
      "0.003248009450472991\n",
      "0.0095503152607265\n",
      "0.0037007284074806667\n",
      "0.004747613212891607\n",
      "0.005101176700385703\n",
      "0.017860666258345186\n",
      "0.006739938717700872\n",
      "0.0024702255091381855\n",
      "0.002552225689430623\n",
      "0.009033834282938092\n",
      "0.004452452620623447\n",
      "0.008513732367246148\n",
      "0.01379102860292077\n",
      "0.005473861764375433\n",
      "0.005660681043842465\n",
      "0.009565450900397182\n",
      "0.005174163734177935\n",
      "0.0038199687113924796\n",
      "0.0026915776727666372\n",
      "0.00043475036670630516\n",
      "0.0029686671569486528\n",
      "0.0170963083977027\n",
      "0.0022014646447658793\n",
      "0.009725872340629382\n",
      "0.0066909974385932205\n",
      "0.0015518572038316525\n",
      "0.0003520727088243165\n",
      "0.004514966145619515\n",
      "0.003463358367682004\n",
      "0.017959152178670355\n",
      "0.00026220479444719947\n",
      "0.0001324410621821594\n",
      "0.0006937589560084348\n",
      "0.0006955727078744699\n",
      "0.004655951005132489\n",
      "0.0009131651747197188\n",
      "0.0004047795564473258\n",
      "0.00043093839943503037\n",
      "0.011106986642929669\n",
      "0.002277067683242331\n",
      "1.626542971566357e-05\n",
      "0.005500711547470923\n",
      "0.014512664613959772\n",
      "0.0006032255294547625\n",
      "0.013732230841338884\n",
      "0.004017798635971756\n",
      "0.01580991642191321\n",
      "0.0058709341350185245\n",
      "0.01609464434873932\n",
      "0.0003394689081378652\n",
      "0.006723086745336454\n",
      "0.017942612044211353\n",
      "0.003425784244714751\n",
      "0.0040404549378963645\n",
      "0.006647625235606043\n",
      "0.002216859865783248\n",
      "0.002128898142536227\n",
      "0.002601693661391936\n",
      "0.0029969568611673946\n",
      "0.0042694649092175395\n",
      "0.005313303610749997\n",
      "0.0012335347936704973\n",
      "0.006103233233165316\n",
      "9.609649705746055e-05\n",
      "0.004591737738285068\n",
      "0.0015816628100242072\n",
      "0.009670552168741749\n",
      "0.0027506852011168967\n",
      "0.000522958270326949\n",
      "0.004064076800205328\n",
      "3.0622760506589857e-06\n",
      "0.004742823736401729\n",
      "8.052413697147204e-05\n",
      "0.0065321844271399015\n",
      "0.0022868296556534592\n",
      "0.0013348125215608935\n",
      "0.006327485252343144\n",
      "0.022664503975968527\n",
      "0.0035847657219799114\n",
      "0.005578872364174218\n",
      "0.0013938032536569562\n",
      "0.0025748182010093324\n",
      "0.0011436637438469953\n"
     ]
    }
   ],
   "source": [
    "for artist in to_generate[2:100]:\n",
    "    print(cosine(artists['radiohead'],artists[artists_[artist]]))"
   ]
  },
  {
   "cell_type": "code",
   "execution_count": 15,
   "metadata": {
    "tags": []
   },
   "outputs": [],
   "source": [
    "SMOOTHING = 20\n",
    "\n",
    "def smoothed_cosine(a, b):\n",
    "    \n",
    "    overlap = np.dot(binarize(a), binarize(b).T)[0, 0]\n",
    "\n",
    "    \n",
    "    return (overlap / (SMOOTHING + overlap)) * cosine(a, b)\n",
    "\n",
    "def binarize(artist):\n",
    "    ret = csr_matrix(artist)\n",
    "    ret.data  = np.ones(len(artist.data))\n",
    "    return ret"
   ]
  },
  {
   "cell_type": "code",
   "execution_count": 16,
   "metadata": {
    "collapsed": false,
    "jupyter": {
     "outputs_hidden": false
    }
   },
   "outputs": [
    {
     "name": "stdout",
     "output_type": "stream",
     "text": [
      "0.006458300243190564\n",
      "0.015849374089314066\n",
      "0.003539207470436551\n",
      "0.0026550483038257425\n",
      "0.00319411542977068\n",
      "0.004868002665032834\n",
      "0.0007839396180167931\n",
      "0.0018975764371896616\n",
      "0.0002622071860862086\n",
      "0.00011320970056022778\n",
      "0.0030401780925450412\n",
      "0.007819810908565997\n",
      "0.0032088399439482848\n",
      "0.005581319230375657\n",
      "0.008262874693156874\n",
      "0.0022002644664494454\n",
      "0.006656280333233622\n",
      "0.0024462442015550172\n",
      "0.0031910187168615713\n",
      "0.0032118519965391467\n",
      "0.011701815824433052\n",
      "0.004043963230620523\n",
      "0.0012351127545690928\n",
      "0.001589121655683218\n",
      "0.006376824199721007\n",
      "0.0027722818203881837\n",
      "0.005301003172058922\n",
      "0.009116103652778136\n",
      "0.0031930860292190026\n",
      "0.002681375231293799\n",
      "0.007143817761056123\n",
      "0.0035050786586366656\n",
      "0.0024796288126582764\n",
      "0.0017634474407781417\n",
      "0.00022267701709347337\n",
      "0.001169474940616136\n",
      "0.011581370204895377\n",
      "0.0010427990422575218\n",
      "0.006822626865814641\n",
      "0.004600060739032839\n",
      "0.0008300631555378606\n",
      "0.00014497111539824796\n",
      "0.002842756462056732\n",
      "0.0016872771534861045\n",
      "0.010775491307202213\n",
      "5.2440958889439896e-05\n",
      "5.217375176872946e-05\n",
      "0.00029732526686075775\n",
      "0.0003091434257219866\n",
      "0.002830087865864846\n",
      "0.0004677187480271731\n",
      "0.00014363145551356724\n",
      "0.0002513807330037677\n",
      "0.006751305606486661\n",
      "0.0010462202868951251\n",
      "3.253085943132714e-06\n",
      "0.0035004528029360417\n",
      "0.009036187401144763\n",
      "0.0002585252269091839\n",
      "0.010165417635796316\n",
      "0.0024106791815830535\n",
      "0.0077022669747782305\n",
      "0.003202327710010104\n",
      "0.010447400717602718\n",
      "7.833897880104582e-05\n",
      "0.004186072879171754\n",
      "0.011041607411822372\n",
      "0.001522570775428778\n",
      "0.0015151706017111368\n",
      "0.003934308812909699\n",
      "0.001050091515371012\n",
      "0.0005519365554723551\n",
      "0.00149458997569324\n",
      "0.0016347037424549423\n",
      "0.0025951649448185043\n",
      "0.0022771301188928557\n",
      "0.0003524385124772849\n",
      "0.0039617478881950295\n",
      "2.9823050810936034e-05\n",
      "0.002504584220882764\n",
      "0.0007705536766784599\n",
      "0.005802331301245049\n",
      "0.0013753426005584483\n",
      "0.00013558177378846824\n",
      "0.002032038400102664\n",
      "3.994273109555199e-07\n",
      "0.0030786750569625257\n",
      "1.8582493147262778e-05\n",
      "0.0037525314794207947\n",
      "0.0009008722885907566\n",
      "0.00022246875359348224\n",
      "0.0034513555921871692\n",
      "0.011871883035031134\n",
      "0.0018777344257990014\n",
      "0.0033910792801843284\n",
      "0.0003982295010448446\n",
      "0.0011034935147182852\n",
      "0.0004058161671715145\n"
     ]
    }
   ],
   "source": [
    "for artist in to_generate[2:100]:\n",
    "    print(smoothed_cosine(artists['radiohead'],artists[artists_[artist]]))"
   ]
  },
  {
   "cell_type": "markdown",
   "metadata": {},
   "source": [
    "## Primer ejercicio: \n",
    "Crear un dataframe de pandas para computar las distancias del coseno y el coseno suavizado de un artista dado a un conjunto de artistas. Realizad este ejercicio de acuerdo al procedimiento empleado en el caso de la distancias de solapamiento y la de Jaccard. "
   ]
  },
  {
   "cell_type": "markdown",
   "metadata": {},
   "source": [
    "Para este ejercicio se reutiliza el código anterior en dos funciones, una para generar el diccionario de conjuntos y otro para calcular las distancias en función de los artistas deseados."
   ]
  },
  {
   "cell_type": "code",
   "execution_count": 17,
   "metadata": {},
   "outputs": [],
   "source": [
    "def generateIds(data, set_name, set_elements):\n",
    "    \n",
    "    userids = defaultdict(lambda: len(userids))\n",
    "    data['userid'] = data[set_elements].map(userids.__getitem__)\n",
    "    artists = dict((artist, csr_matrix(\n",
    "                    (group['plays'], (zeros(len(group)), group['userid'])),\n",
    "                    shape=[1, len(userids)]))\n",
    "            for artist, group in data.groupby(set_name))\n",
    "    \n",
    "    return artists\n",
    "\n",
    "def computeCosineDistances(sets_dict, A, B):\n",
    "    \n",
    "    df = pd.DataFrame(columns=('artista1','artista2','cosine','smoothed_cosine'))\n",
    "    \n",
    "    \n",
    "    i=0\n",
    "    for artist1 in A:\n",
    "        set1 = sets_dict[artist1]\n",
    "        for artist2 in B:\n",
    "            if artist1 != artist2:\n",
    "                set2 = sets_dict[artist2]            \n",
    "                df.loc[i] = [artist1, artist2, cosine(set1,set2), smoothed_cosine(set1,set2)]   \n",
    "                i += 1 \n",
    "            \n",
    "    return df"
   ]
  },
  {
   "cell_type": "code",
   "execution_count": null,
   "metadata": {},
   "outputs": [],
   "source": []
  },
  {
   "cell_type": "code",
   "execution_count": 18,
   "metadata": {},
   "outputs": [
    {
     "data": {
      "text/html": [
       "<div>\n",
       "<style scoped>\n",
       "    .dataframe tbody tr th:only-of-type {\n",
       "        vertical-align: middle;\n",
       "    }\n",
       "\n",
       "    .dataframe tbody tr th {\n",
       "        vertical-align: top;\n",
       "    }\n",
       "\n",
       "    .dataframe thead th {\n",
       "        text-align: right;\n",
       "    }\n",
       "</style>\n",
       "<table border=\"1\" class=\"dataframe\">\n",
       "  <thead>\n",
       "    <tr style=\"text-align: right;\">\n",
       "      <th></th>\n",
       "      <th>artista1</th>\n",
       "      <th>artista2</th>\n",
       "      <th>cosine</th>\n",
       "      <th>smoothed_cosine</th>\n",
       "    </tr>\n",
       "  </thead>\n",
       "  <tbody>\n",
       "    <tr>\n",
       "      <th>0</th>\n",
       "      <td>the ranting gryphon</td>\n",
       "      <td>amy winehouse</td>\n",
       "      <td>0.0</td>\n",
       "      <td>0.0</td>\n",
       "    </tr>\n",
       "    <tr>\n",
       "      <th>1</th>\n",
       "      <td>radiohead</td>\n",
       "      <td>amy winehouse</td>\n",
       "      <td>0.0</td>\n",
       "      <td>0.0</td>\n",
       "    </tr>\n",
       "  </tbody>\n",
       "</table>\n",
       "</div>"
      ],
      "text/plain": [
       "               artista1        artista2  cosine  smoothed_cosine\n",
       "0   the ranting gryphon   amy winehouse     0.0              0.0\n",
       "1             radiohead   amy winehouse     0.0              0.0"
      ]
     },
     "execution_count": 18,
     "metadata": {},
     "output_type": "execute_result"
    }
   ],
   "source": [
    "sets_dictionary = generateIds(data=data, set_name='artist', set_elements='user')     \n",
    "computeCosineDistances(sets_dict=sets_dictionary,\n",
    "                       A=[' the ranting gryphon', 'radiohead'],\n",
    "                       B=[' amy winehouse'])"
   ]
  },
  {
   "cell_type": "code",
   "execution_count": null,
   "metadata": {},
   "outputs": [],
   "source": []
  }
 ],
 "metadata": {
  "kernelspec": {
   "display_name": "Python 3 (ipykernel)",
   "language": "python",
   "name": "python3"
  },
  "language_info": {
   "codemirror_mode": {
    "name": "ipython",
    "version": 3
   },
   "file_extension": ".py",
   "mimetype": "text/x-python",
   "name": "python",
   "nbconvert_exporter": "python",
   "pygments_lexer": "ipython3",
   "version": "3.8.12"
  }
 },
 "nbformat": 4,
 "nbformat_minor": 4
}
