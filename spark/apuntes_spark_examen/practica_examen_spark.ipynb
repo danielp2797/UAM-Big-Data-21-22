{
 "cells": [
  {
   "cell_type": "code",
   "execution_count": 36,
   "id": "685c1907-a576-4687-8d45-c376fd3dfb20",
   "metadata": {},
   "outputs": [],
   "source": [
    "from pyspark.sql import SparkSession, Window\n",
    "import pyspark.sql.functions as f\n",
    "from pyspark.sql.types import *\n",
    "from functools import reduce\n"
   ]
  },
  {
   "cell_type": "code",
   "execution_count": 2,
   "id": "7b1f85c2-3c66-4613-8c2f-de9d1e99e598",
   "metadata": {},
   "outputs": [
    {
     "name": "stdout",
     "output_type": "stream",
     "text": [
      "Welcome to\n",
      "      ____              __\n",
      "     / __/__  ___ _____/ /__\n",
      "    _\\ \\/ _ \\/ _ `/ __/  '_/\n",
      "   /___/ .__/\\_,_/_/ /_/\\_\\   version 3.1.2\n",
      "      /_/\n",
      "                        \n",
      "Using Scala version 2.12.10, OpenJDK 64-Bit Server VM, 1.8.0_312\n",
      "Branch HEAD\n",
      "Compiled by user centos on 2021-05-24T04:27:48Z\n",
      "Revision de351e30a90dd988b133b3d00fa6218bfcaba8b8\n",
      "Url https://github.com/apache/spark\n",
      "Type --help for more information.\n"
     ]
    }
   ],
   "source": [
    "! pyspark --version"
   ]
  },
  {
   "cell_type": "code",
   "execution_count": 3,
   "id": "be50bb7f-fb68-4703-bb8f-fcfb0a8c7418",
   "metadata": {},
   "outputs": [],
   "source": [
    "data_path = '/home/daniel/Desktop/topics/datasets/smart homes' # en esta carpeta deben encontrarse los 4 ficheros"
   ]
  },
  {
   "cell_type": "code",
   "execution_count": 4,
   "id": "7d34b51d-fe43-4e00-b962-351226bf992a",
   "metadata": {},
   "outputs": [
    {
     "name": "stderr",
     "output_type": "stream",
     "text": [
      "22/01/28 19:43:22 WARN NativeCodeLoader: Unable to load native-hadoop library for your platform... using builtin-java classes where applicable\n",
      "Using Spark's default log4j profile: org/apache/spark/log4j-defaults.properties\n",
      "Setting default log level to \"WARN\".\n",
      "To adjust logging level use sc.setLogLevel(newLevel). For SparkR, use setLogLevel(newLevel).\n"
     ]
    }
   ],
   "source": [
    "spark = SparkSession.builder.master(\"local[*]\")\\\n",
    "          .appName(\"practica 2 Ecosistema Spark parte 3\")\\\n",
    "          .getOrCreate()"
   ]
  },
  {
   "cell_type": "code",
   "execution_count": 52,
   "id": "e3dc98c5-b3c8-4d9c-b9af-75eb8ab89b94",
   "metadata": {},
   "outputs": [
    {
     "name": "stderr",
     "output_type": "stream",
     "text": [
      "                                                                                \r"
     ]
    }
   ],
   "source": [
    "home_data = spark.read.csv(data_path, header=True, inferSchema=True, encoding='latin1')"
   ]
  },
  {
   "cell_type": "code",
   "execution_count": 53,
   "id": "52a1aba3-881f-4f32-a0d9-d7f8ad9aaeb0",
   "metadata": {},
   "outputs": [],
   "source": [
    "newColumns = []\n",
    "oldColumns = home_data.schema.names\n",
    "for ind, name in enumerate(oldColumns):\n",
    "    try:\n",
    "        newColumns.append(name[:name.index('[')].strip())\n",
    "    except ValueError:\n",
    "        newColumns.append(name)\n",
    "    \n",
    "home_data = reduce(lambda data, idx: data.withColumnRenamed(oldColumns[idx], newColumns[idx]), range(len(oldColumns)), home_data)"
   ]
  },
  {
   "cell_type": "code",
   "execution_count": 55,
   "id": "f050de5c-a32d-4c45-8506-840de8d57c14",
   "metadata": {},
   "outputs": [
    {
     "name": "stdout",
     "output_type": "stream",
     "text": [
      "root\n",
      " |-- time: string (nullable = true)\n",
      " |-- use: double (nullable = true)\n",
      " |-- gen: double (nullable = true)\n",
      " |-- House overall: double (nullable = true)\n",
      " |-- Dishwasher: double (nullable = true)\n",
      " |-- Furnace 1: double (nullable = true)\n",
      " |-- Furnace 2: double (nullable = true)\n",
      " |-- Home office: double (nullable = true)\n",
      " |-- Fridge: double (nullable = true)\n",
      " |-- Wine cellar: double (nullable = true)\n",
      " |-- Garage door: double (nullable = true)\n",
      " |-- Kitchen 12: double (nullable = true)\n",
      " |-- Kitchen 14: double (nullable = true)\n",
      " |-- Kitchen 38: double (nullable = true)\n",
      " |-- Barn: double (nullable = true)\n",
      " |-- Well: double (nullable = true)\n",
      " |-- Microwave: double (nullable = true)\n",
      " |-- Living room: double (nullable = true)\n",
      " |-- Solar: double (nullable = true)\n",
      " |-- temperature: double (nullable = true)\n",
      " |-- icon: string (nullable = true)\n",
      " |-- humidity: double (nullable = true)\n",
      " |-- visibility: double (nullable = true)\n",
      " |-- summary: string (nullable = true)\n",
      " |-- apparentTemperature: double (nullable = true)\n",
      " |-- pressure: double (nullable = true)\n",
      " |-- windSpeed: double (nullable = true)\n",
      " |-- cloudCover: string (nullable = true)\n",
      " |-- windBearing: integer (nullable = true)\n",
      " |-- precipIntensity: double (nullable = true)\n",
      " |-- dewPoint: double (nullable = true)\n",
      " |-- precipProbability: double (nullable = true)\n",
      "\n"
     ]
    }
   ],
   "source": [
    "home_data.printSchema()"
   ]
  },
  {
   "cell_type": "markdown",
   "id": "7e44594f-ee37-49a3-a96c-05d3257b0ab9",
   "metadata": {},
   "source": [
    "# Weather Features Information"
   ]
  },
  {
   "cell_type": "markdown",
   "id": "cc7d6807-3fe7-4dd5-9b87-0e749df502e4",
   "metadata": {},
   "source": [
    "- temperature: physical quantity expressing hot and cold\n",
    "\n",
    "- humidity: concentration of water vapour present in air\n",
    "- visibility: meteorological optical range which is defined as the length of atmosphere over which a beam of light travels before its luminous flux is reduced to 5% of its original value\n",
    "- apparentTemperature: temperature equivalent perceived by humans, caused by the combined effects of air temperature, relative humidity and wind speed\n",
    "- pressure: Falling air pressure indicates that bad weather is coming, while rising air pressure indicates good weather\n",
    "- windSpeed: fundamental atmospheric quantity caused by air moving from high to low pressure, usually due to changes in temperature\n",
    "- cloudCover: fraction of the sky obscured by clouds when observed from a particular location\n",
    "- windBearing: In meteorology, an azimuth of 000° is used only when no wind is blowing, while 360° means the wind is from the North. True Wind Direction True North is represented on a globe as the North Pole. All directions relative to True North may be called \"true bearings.\"\n",
    "- dewPoint: the atmospheric temperature (varying according to pressure and humidity) below which water droplets begin to condense and dew can form\n",
    "- precipProbability: measure of the probability that at least some minimum quantity of precipitation will occur within a specified forecast period and location\n",
    "- precipIntensity: measure of the amount of rain that falls over time"
   ]
  },
  {
   "cell_type": "code",
   "execution_count": 63,
   "id": "1892584e-4769-4430-a6da-cbe40c154089",
   "metadata": {},
   "outputs": [
    {
     "name": "stderr",
     "output_type": "stream",
     "text": [
      "[Stage 17:=======>                                                  (1 + 7) / 8]\r"
     ]
    },
    {
     "name": "stdout",
     "output_type": "stream",
     "text": [
      "+--------------+------------------+-------------------+------------------+-------------------+-------------------+-------------------+-------------------+-------------------+--------------------+--------------------+--------------------+-------------------+-------------------+--------------------+--------------------+--------------------+-------------------+-------------------+-----------------+---------+------------------+-----------------+------------+------------------------+-----------------+------------------+-------------------+------------------+--------------------+-----------------+----------------------+\n",
      "|     avg(time)|          avg(use)|           avg(gen)|avg(House overall)|    avg(Dishwasher)|     avg(Furnace 1)|     avg(Furnace 2)|   avg(Home office)|        avg(Fridge)|    avg(Wine cellar)|    avg(Garage door)|     avg(Kitchen 12)|    avg(Kitchen 14)|    avg(Kitchen 38)|           avg(Barn)|           avg(Well)|      avg(Microwave)|   avg(Living room)|         avg(Solar)| avg(temperature)|avg(icon)|     avg(humidity)|  avg(visibility)|avg(summary)|avg(apparentTemperature)|    avg(pressure)|    avg(windSpeed)|    avg(cloudCover)|  avg(windBearing)|avg(precipIntensity)|    avg(dewPoint)|avg(precipProbability)|\n",
      "+--------------+------------------+-------------------+------------------+-------------------+-------------------+-------------------+-------------------+-------------------+--------------------+--------------------+--------------------+-------------------+-------------------+--------------------+--------------------+--------------------+-------------------+-------------------+-----------------+---------+------------------+-----------------+------------+------------------------+-----------------+------------------+-------------------+------------------+--------------------+-----------------+----------------------+\n",
      "|1.4518763545E9|0.8589623950050785|0.07622941563840624|0.8589623950050785|0.03136752497497012|0.09921030012005314|0.13677917806899403|0.08128689242563812|0.06355641007376106|0.042136650037602405|0.014139126662475555|0.002755350128229...|0.00702310477179237|9.37741461768569E-6|0.058529566183957576|0.015642007207430825|0.010982993427671906|0.03531280727950904|0.07622941563840624|50.74193461133834|     null|0.6640850350260964|9.253444265841098|        null|      48.263382032505746|1016.301625369616|6.6499355440453165|0.22588514087471928|202.35684348395546|0.002598072671707...|38.69401250223295|   0.05645313647278417|\n",
      "+--------------+------------------+-------------------+------------------+-------------------+-------------------+-------------------+-------------------+-------------------+--------------------+--------------------+--------------------+-------------------+-------------------+--------------------+--------------------+--------------------+-------------------+-------------------+-----------------+---------+------------------+-----------------+------------+------------------------+-----------------+------------------+-------------------+------------------+--------------------+-----------------+----------------------+\n",
      "\n"
     ]
    },
    {
     "name": "stderr",
     "output_type": "stream",
     "text": [
      "                                                                                \r"
     ]
    }
   ],
   "source": [
    "home_data.select([f.mean(col) for col in newColumns]).show()"
   ]
  },
  {
   "cell_type": "code",
   "execution_count": null,
   "id": "1cef3e94-f2c7-4a22-a1a8-15b4b9b138a1",
   "metadata": {},
   "outputs": [],
   "source": []
  }
 ],
 "metadata": {
  "kernelspec": {
   "display_name": "Python 3 (ipykernel)",
   "language": "python",
   "name": "python3"
  },
  "language_info": {
   "codemirror_mode": {
    "name": "ipython",
    "version": 3
   },
   "file_extension": ".py",
   "mimetype": "text/x-python",
   "name": "python",
   "nbconvert_exporter": "python",
   "pygments_lexer": "ipython3",
   "version": "3.8.12"
  }
 },
 "nbformat": 4,
 "nbformat_minor": 5
}
