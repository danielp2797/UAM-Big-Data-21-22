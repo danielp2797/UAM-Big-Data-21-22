{
 "cells": [
  {
   "cell_type": "code",
   "execution_count": 92,
   "id": "976d91d8-b32a-41f2-9a13-55252eedc325",
   "metadata": {},
   "outputs": [],
   "source": [
    "from pyspark.sql import SparkSession, Window\n",
    "import pyspark.sql.functions as f\n",
    "from pyspark.sql.types import *"
   ]
  },
  {
   "cell_type": "code",
   "execution_count": 2,
   "id": "7c7e97f1-24ac-4371-ae01-0e0ddd911f26",
   "metadata": {},
   "outputs": [
    {
     "name": "stdout",
     "output_type": "stream",
     "text": [
      "Welcome to\n",
      "      ____              __\n",
      "     / __/__  ___ _____/ /__\n",
      "    _\\ \\/ _ \\/ _ `/ __/  '_/\n",
      "   /___/ .__/\\_,_/_/ /_/\\_\\   version 3.1.2\n",
      "      /_/\n",
      "                        \n",
      "Using Scala version 2.12.10, OpenJDK 64-Bit Server VM, 1.8.0_312\n",
      "Branch HEAD\n",
      "Compiled by user centos on 2021-05-24T04:27:48Z\n",
      "Revision de351e30a90dd988b133b3d00fa6218bfcaba8b8\n",
      "Url https://github.com/apache/spark\n",
      "Type --help for more information.\n"
     ]
    }
   ],
   "source": [
    "! pyspark --version"
   ]
  },
  {
   "cell_type": "code",
   "execution_count": 3,
   "id": "d8466de8-7bba-44b0-aae3-ef4689e4aa81",
   "metadata": {},
   "outputs": [],
   "source": [
    "data_path = '/media/daniel/Seagate Basic/spark_data/libros/' # en esta carpeta deben encontrarse los 4 ficheros"
   ]
  },
  {
   "cell_type": "code",
   "execution_count": 4,
   "id": "3aadbd4f-c00c-4a2d-ba0b-8ebdebaba06d",
   "metadata": {},
   "outputs": [
    {
     "name": "stderr",
     "output_type": "stream",
     "text": [
      "21/12/25 11:13:32 WARN NativeCodeLoader: Unable to load native-hadoop library for your platform... using builtin-java classes where applicable\n",
      "Using Spark's default log4j profile: org/apache/spark/log4j-defaults.properties\n",
      "Setting default log level to \"WARN\".\n",
      "To adjust logging level use sc.setLogLevel(newLevel). For SparkR, use setLogLevel(newLevel).\n",
      "21/12/25 11:13:33 WARN Utils: Service 'SparkUI' could not bind on port 4040. Attempting port 4041.\n"
     ]
    }
   ],
   "source": [
    "spark = SparkSession.builder.master(\"local[*]\")\\\n",
    "          .appName(\"practica 2 Ecosistema Spark parte 3\")\\\n",
    "          .getOrCreate()"
   ]
  },
  {
   "cell_type": "markdown",
   "id": "601ef51e-4fde-48af-b789-c5670eb59b33",
   "metadata": {},
   "source": [
    "# 1. Carga de dataframes"
   ]
  },
  {
   "cell_type": "markdown",
   "id": "cdb31935-9757-4331-80d3-96cd3097eee2",
   "metadata": {},
   "source": [
    "El primer paso consiste en cargar los tres dataframes. Para ello, se leen los ficheros csv con la API de Spark."
   ]
  },
  {
   "cell_type": "code",
   "execution_count": 42,
   "id": "570c55dc-851c-4578-9dd0-f3447f416bfd",
   "metadata": {},
   "outputs": [
    {
     "data": {
      "text/plain": [
       "StructType(List(StructField(User-ID,IntegerType,true),StructField(ISBN,StringType,true),StructField(Book-Rating,IntegerType,true)))"
      ]
     },
     "execution_count": 42,
     "metadata": {},
     "output_type": "execute_result"
    }
   ],
   "source": [
    "ratings = spark.read.csv(data_path+'BX-Book-Ratings.csv', sep=';', header=True, inferSchema=True)\n",
    "ratings.schema"
   ]
  },
  {
   "cell_type": "code",
   "execution_count": 44,
   "id": "2c18ed30-8768-45d5-a05f-3393284dcdaf",
   "metadata": {},
   "outputs": [
    {
     "name": "stderr",
     "output_type": "stream",
     "text": [
      "                                                                                \r"
     ]
    },
    {
     "data": {
      "text/plain": [
       "StructType(List(StructField(ISBN,StringType,true),StructField(Book-Title,StringType,true),StructField(Book-Author,StringType,true),StructField(Year-Of-Publication,IntegerType,true),StructField(Publisher,StringType,true),StructField(Image-URL-S,StringType,true),StructField(Image-URL-M,StringType,true),StructField(Image-URL-L,StringType,true)))"
      ]
     },
     "execution_count": 44,
     "metadata": {},
     "output_type": "execute_result"
    }
   ],
   "source": [
    "books = spark.read.csv(data_path+'BX-Books.csv', sep=';', header=True, inferSchema=True)\n",
    "books.schema"
   ]
  },
  {
   "cell_type": "code",
   "execution_count": 45,
   "id": "d0446ec8-09e0-49ea-bfdd-d022ddcc79a7",
   "metadata": {},
   "outputs": [
    {
     "name": "stderr",
     "output_type": "stream",
     "text": [
      "                                                                                \r"
     ]
    },
    {
     "data": {
      "text/plain": [
       "StructType(List(StructField(User-ID,StringType,true),StructField(Location,StringType,true),StructField(Age,StringType,true)))"
      ]
     },
     "execution_count": 45,
     "metadata": {},
     "output_type": "execute_result"
    }
   ],
   "source": [
    "users = spark.read.csv(data_path+'BX-Users.csv', sep=';', header=True, inferSchema=True)\n",
    "users.schema"
   ]
  },
  {
   "cell_type": "markdown",
   "id": "d6f89d04-aca1-4d6f-bbae-5cc4adc667f2",
   "metadata": {},
   "source": [
    "# 2. Consultas"
   ]
  },
  {
   "cell_type": "markdown",
   "id": "5d6b8574-72f5-4861-9ea4-23588939e6e4",
   "metadata": {},
   "source": [
    "### a. Lista de usuarios junto con el número de libros que han valorado"
   ]
  },
  {
   "cell_type": "markdown",
   "id": "3c63f47c-9fba-40bf-b23c-c8a35b172d08",
   "metadata": {},
   "source": [
    "Se agrupa por usuario y se cuenta el número de reseñas que estan registradas en el fichero de reseñas."
   ]
  },
  {
   "cell_type": "code",
   "execution_count": 59,
   "id": "35b0dde0-ac94-4535-ad94-7a8edc8c5380",
   "metadata": {},
   "outputs": [],
   "source": [
    "ratings_count = ratings.groupBy('User-ID').count()"
   ]
  },
  {
   "cell_type": "code",
   "execution_count": 61,
   "id": "e6ec953b-8524-4582-a54c-705ad9c4d9c9",
   "metadata": {},
   "outputs": [
    {
     "name": "stdout",
     "output_type": "stream",
     "text": [
      "+-------+-----+\n",
      "|User-ID|count|\n",
      "+-------+-----+\n",
      "| 278515|    1|\n",
      "|    463|    1|\n",
      "|    496|    3|\n",
      "|   1238|    1|\n",
      "|   1591|    1|\n",
      "|   1829|    1|\n",
      "|   2366|    1|\n",
      "|   3175|    1|\n",
      "|   3918|    4|\n",
      "|   4900|    4|\n",
      "|   5300|   20|\n",
      "|   5803|    3|\n",
      "|   6336|    5|\n",
      "|   6357|    2|\n",
      "|   6397|    1|\n",
      "|   6466|    2|\n",
      "|   6654|    1|\n",
      "|   7253|    5|\n",
      "|   7340|    1|\n",
      "|   7754|    1|\n",
      "+-------+-----+\n",
      "only showing top 20 rows\n",
      "\n"
     ]
    }
   ],
   "source": [
    "ratings_count.show(20)"
   ]
  },
  {
   "cell_type": "markdown",
   "id": "42c16240-7495-4c05-9428-2df12ade1889",
   "metadata": {},
   "source": [
    "### b. Rating máximo recibido por cada editorial\n"
   ]
  },
  {
   "cell_type": "markdown",
   "id": "b1a31928-71e7-4c40-b545-a9e57d5ad611",
   "metadata": {},
   "source": [
    "En primer lugar se cruzan los datos de reseñas y de libros mediante un join. Despues se busca el máximo de las puntuaciones agregando por editorial."
   ]
  },
  {
   "cell_type": "code",
   "execution_count": 68,
   "id": "6e1df1cc-9c97-4988-a77e-04f565771181",
   "metadata": {},
   "outputs": [
    {
     "name": "stderr",
     "output_type": "stream",
     "text": [
      "[Stage 51:=================================================>    (185 + 8) / 200]\r"
     ]
    },
    {
     "name": "stdout",
     "output_type": "stream",
     "text": [
      "+--------------------+----------------+\n",
      "|           Publisher|max(Book-Rating)|\n",
      "+--------------------+----------------+\n",
      "|Harper Mass Marke...|              10|\n",
      "|Houghton Mifflin ...|              10|\n",
      "|Carroll &amp; Gra...|              10|\n",
      "|      Celestial Arts|              10|\n",
      "|Faith Publishing ...|               8|\n",
      "|         Cleis Press|              10|\n",
      "|Ullstein-Taschenb...|              10|\n",
      "|Chicago Review Press|              10|\n",
      "|    Adams Media Corp|              10|\n",
      "|         Bertelsmann|               9|\n",
      "|Orion Business Books|               1|\n",
      "|        Book Pub. Co|               0|\n",
      "|        Chosen Books|              10|\n",
      "|         Hermetic Pr|              10|\n",
      "|        Lorenz Books|              10|\n",
      "| Research Press (IL)|               7|\n",
      "|Editiones B, Grup...|               0|\n",
      "|      Aqua Explorers|               9|\n",
      "|           LPC Group|               9|\n",
      "|Community Communi...|               8|\n",
      "+--------------------+----------------+\n",
      "only showing top 20 rows\n",
      "\n"
     ]
    },
    {
     "name": "stderr",
     "output_type": "stream",
     "text": [
      "                                                                                \r"
     ]
    }
   ],
   "source": [
    "joined = books.join(ratings, on='ISBN', how='left')\n",
    "max_rating = joined.select('Publisher', 'Book-Rating').groupBy('Publisher').max()\n",
    "\n",
    "max_rating.show()"
   ]
  },
  {
   "cell_type": "markdown",
   "id": "77cb5030-4db8-40dc-8253-52fc1554401f",
   "metadata": {},
   "source": [
    "### c. Nombre del autor que ha recibido más ratings"
   ]
  },
  {
   "cell_type": "markdown",
   "id": "2821595e-e950-4b2d-b2e5-04119a495ae3",
   "metadata": {},
   "source": [
    "En este caso, reutilizamos el dataframe concatenado (\"joined\") del ejercicio anterior. Al haber hecho un left join, cada autor aparece tantas veces como haya aparecido el ISBN de su libro en el fichero de reseñas. Por tanto, basta hacer un recuento de cuántas veces aparece un autor en el dataframe \"joined\"."
   ]
  },
  {
   "cell_type": "code",
   "execution_count": 77,
   "id": "e5a97f28-3350-4337-b104-15f01ad11ce6",
   "metadata": {},
   "outputs": [
    {
     "name": "stderr",
     "output_type": "stream",
     "text": [
      "[Stage 75:=============================================>        (168 + 9) / 200]\r"
     ]
    },
    {
     "name": "stdout",
     "output_type": "stream",
     "text": [
      "+--------------------+-------------+\n",
      "|         Book-Author|ratings_count|\n",
      "+--------------------+-------------+\n",
      "|    Kate Young Caley|            1|\n",
      "|       Deborah Dwork|            1|\n",
      "|Woman's Day Magazine|            1|\n",
      "|     R. A. Salvatore|          307|\n",
      "|       J.P. Donleavy|            5|\n",
      "|           Judy Ford|           12|\n",
      "|DAWN PHD PRINCE-H...|            6|\n",
      "|       Johnny Morris|            1|\n",
      "|Key West Authors ...|            1|\n",
      "|     Charles Kimball|            3|\n",
      "|    Laurence Olivier|            5|\n",
      "|        Steven Gould|           26|\n",
      "|    F. Batmanghelidj|            5|\n",
      "|Arthur Conan, Sir...|          186|\n",
      "|       P. H. Russell|            1|\n",
      "|           Bob Allen|            1|\n",
      "|           Paul Ware|            1|\n",
      "|  Caroline Moorehead|            6|\n",
      "|        James Strong|            6|\n",
      "|    Patrick Sebranek|            7|\n",
      "+--------------------+-------------+\n",
      "only showing top 20 rows\n",
      "\n"
     ]
    },
    {
     "name": "stderr",
     "output_type": "stream",
     "text": [
      "                                                                                \r"
     ]
    }
   ],
   "source": [
    "count_author = joined.select('Book-Author').groupBy('Book-Author').count().select('Book-Author', f.col('count').alias('ratings_count'))\n",
    "\n",
    "count_author.show(20)"
   ]
  },
  {
   "cell_type": "markdown",
   "id": "17bb500f-f2c4-48d4-ac4a-c3d79810596f",
   "metadata": {},
   "source": [
    "# 3. Window Functions"
   ]
  },
  {
   "cell_type": "markdown",
   "id": "15769f23-2d16-45b9-9f5a-62bc64fff223",
   "metadata": {},
   "source": [
    "### a. ¿Cuál es el título del libro con mayor número de ratings para cada editorial?\n"
   ]
  },
  {
   "cell_type": "markdown",
   "id": "234372e9-d2ba-43a3-b99d-63056240e891",
   "metadata": {},
   "source": [
    "Para este caso se usa una window function tal que:\n",
    "\n",
    "- Particionamiento: Editorial\n",
    "- Ordenamiento: Recuento de reseñas (descendente)"
   ]
  },
  {
   "cell_type": "code",
   "execution_count": 138,
   "id": "b6cb685e-f1a8-442c-afde-ee47883818ba",
   "metadata": {},
   "outputs": [],
   "source": [
    "window = Window.partitionBy(joined_count.Publisher).orderBy(joined_count.ratings_count.desc())"
   ]
  },
  {
   "cell_type": "markdown",
   "id": "38dc1fe5-a39d-4f0f-a7b9-46718e2e9db6",
   "metadata": {},
   "source": [
    "Primero se calcula el número de reseñas para cada libro y editorial. Despues se particiona por editorial y ordena por número de reseñas. Se escogeran las primeras filas en el rankeo para dar el resultado pedido."
   ]
  },
  {
   "cell_type": "code",
   "execution_count": 127,
   "id": "7d928136-2376-45f9-b311-12efbb6e6492",
   "metadata": {},
   "outputs": [],
   "source": [
    "joined_count = joined.select('Publisher', 'Book-Title')\\\n",
    "                        .groupBy('Publisher', 'Book-Title')\\\n",
    "                        .count().select('Publisher', 'Book-Title', f.col('count').alias('ratings_count')) # calculo del numero de reseñas\n",
    "result_window = joined_count.withColumn('rank', f.dense_rank().over(window)) # calculo del rankeo\n",
    "\n",
    "result_filter_by_window = result_window.where('rank == 1')  # resultado final"
   ]
  },
  {
   "cell_type": "markdown",
   "id": "d2402038-e233-4bf8-b01f-76bd934b422a",
   "metadata": {},
   "source": [
    "Se puede apreciar que se calcula una clasificación (rank) en función del número de reseñas a nivel editorial de cada libro. En el siguiente ejemplo se observan los valores de ratings_count y rank de las filas de Adams Media Corp. Se ve que aaprecen ordenadas por el numero de reseñas y que si existen duplicados en el numero de reseñas, estas se rankean en la misma posicion."
   ]
  },
  {
   "cell_type": "code",
   "execution_count": 128,
   "id": "9e516ad9-5054-4604-bfdd-b3e4e0559643",
   "metadata": {},
   "outputs": [
    {
     "name": "stderr",
     "output_type": "stream",
     "text": [
      "[Stage 159:============================================>        (168 + 8) / 200]\r"
     ]
    },
    {
     "name": "stdout",
     "output_type": "stream",
     "text": [
      "+-------------------+--------------------+-------------+----+\n",
      "|          Publisher|          Book-Title|ratings_count|rank|\n",
      "+-------------------+--------------------+-------------+----+\n",
      "|A. &amp; M. Muchnik|Comuna Verdad (An...|            1|   1|\n",
      "|   Adams Media Corp|365 Tv-Free Activ...|           10|   1|\n",
      "|   Adams Media Corp|The Verbally Abus...|            7|   2|\n",
      "|   Adams Media Corp|Show Biz Tricks f...|            4|   3|\n",
      "|   Adams Media Corp|Jacob Marley's Ch...|            4|   3|\n",
      "|   Adams Media Corp|The Complete Sing...|            3|   4|\n",
      "|   Adams Media Corp| Mr. Cheap's Chicago|            2|   5|\n",
      "|   Adams Media Corp|The Everything We...|            2|   5|\n",
      "|   Adams Media Corp|Museum of Science...|            2|   5|\n",
      "|   Adams Media Corp|Knock 'Em Dead: T...|            2|   5|\n",
      "+-------------------+--------------------+-------------+----+\n",
      "only showing top 10 rows\n",
      "\n"
     ]
    },
    {
     "name": "stderr",
     "output_type": "stream",
     "text": [
      "                                                                                \r"
     ]
    }
   ],
   "source": [
    "result_window.show(10)"
   ]
  },
  {
   "cell_type": "markdown",
   "id": "ac50f860-0ca0-4ed5-8620-9b1b8e4dc837",
   "metadata": {},
   "source": [
    "Y tambien se observa que para obtener el libro con mas reseñas de cada editorial basta filtrar por rank = 1 (continuando con el ejemplo anterior, observar la segunda fila del siguiente resultado)"
   ]
  },
  {
   "cell_type": "code",
   "execution_count": 129,
   "id": "ff9001c1-21f7-44ef-8a06-1b9ab722453b",
   "metadata": {},
   "outputs": [
    {
     "name": "stderr",
     "output_type": "stream",
     "text": [
      "[Stage 164:================================================>    (182 + 8) / 200]\r"
     ]
    },
    {
     "name": "stdout",
     "output_type": "stream",
     "text": [
      "+-------------------+--------------------+-------------+----+\n",
      "|          Publisher|          Book-Title|ratings_count|rank|\n",
      "+-------------------+--------------------+-------------+----+\n",
      "|A. &amp; M. Muchnik|Comuna Verdad (An...|            1|   1|\n",
      "|   Adams Media Corp|365 Tv-Free Activ...|           10|   1|\n",
      "|     Aqua Explorers|Florida Shipwreck...|            1|   1|\n",
      "|  Au diable Vauvert|               Rihla|            1|   1|\n",
      "|        Bertelsmann| Abenteuer der Ferne|            2|   1|\n",
      "|        Bertelsmann|Inseln der Südsee...|            2|   1|\n",
      "|    Biosphere Press|Eating in: From t...|            1|   1|\n",
      "|  Blue Harbor Press|The mariner's tri...|            1|   1|\n",
      "|       Book Pub. Co| Spiritual midwifery|            2|   1|\n",
      "|       Book Pub. Co|        Tofu cookery|            2|   1|\n",
      "+-------------------+--------------------+-------------+----+\n",
      "only showing top 10 rows\n",
      "\n"
     ]
    },
    {
     "name": "stderr",
     "output_type": "stream",
     "text": [
      "                                                                                \r"
     ]
    }
   ],
   "source": [
    "result_filter_by_window.show(10)"
   ]
  },
  {
   "cell_type": "markdown",
   "id": "a5d0ed88-1c7a-441f-93a8-caa577ea08dd",
   "metadata": {},
   "source": [
    "### b. ¿Cuál es la diferencia entre el número de ratings de cada libro y el número de ratings del libro con mayor número de ratings de la misma editorial?"
   ]
  },
  {
   "cell_type": "markdown",
   "id": "d7052e69-ad6d-4d8d-8b02-4f07b4664844",
   "metadata": {},
   "source": [
    "Para este caso, se calcula el máximo de ratings con la misma partición que en el ajercicio anterior. Esta operación asignará a cada fila de la partición el rating máximo dentro de la partición. Así, se vuelve sencillo calcular dicha diferencia, ya que el problema se reduce a operar dos columnas del dataframe. "
   ]
  },
  {
   "cell_type": "code",
   "execution_count": 146,
   "id": "06123d0c-c365-43f1-b194-14fd22ea9267",
   "metadata": {},
   "outputs": [],
   "source": [
    "ratings_diff = joined_count.withColumn('max_ratings_diff',\n",
    "                                       f.max(joined_count.ratings_count).over(window) - joined_count.ratings_count)\n",
    "                                        # maximo de la particion - rating de la fila"
   ]
  },
  {
   "cell_type": "markdown",
   "id": "788b78c6-9eb0-4ef0-893c-9e1a6cf3b386",
   "metadata": {},
   "source": [
    "A continuación se observan algunos ejemplos del resultado. El máximo de la partición tiene diferencia 0 y el resto valores estrictamente mayores a 1. Si se pone el foco sobre Adams Media Corp, se ve que el máximo tiene valor 0 (10 reseñas) y el resto se ordenan de menor a mayor según su diferencia con respecto al máximo (10)."
   ]
  },
  {
   "cell_type": "code",
   "execution_count": 148,
   "id": "6f10b4be-5d98-41cb-85cf-38bc441a31d8",
   "metadata": {},
   "outputs": [
    {
     "name": "stderr",
     "output_type": "stream",
     "text": [
      "[Stage 193:==================================================>  (191 + 8) / 200]\r"
     ]
    },
    {
     "name": "stdout",
     "output_type": "stream",
     "text": [
      "+-------------------+--------------------+-------------+----------------+\n",
      "|          Publisher|          Book-Title|ratings_count|max_ratings_diff|\n",
      "+-------------------+--------------------+-------------+----------------+\n",
      "|A. &amp; M. Muchnik|Comuna Verdad (An...|            1|               0|\n",
      "|   Adams Media Corp|365 Tv-Free Activ...|           10|               0|\n",
      "|   Adams Media Corp|The Verbally Abus...|            7|               3|\n",
      "|   Adams Media Corp|Show Biz Tricks f...|            4|               6|\n",
      "|   Adams Media Corp|Jacob Marley's Ch...|            4|               6|\n",
      "|   Adams Media Corp|The Complete Sing...|            3|               7|\n",
      "|   Adams Media Corp| Mr. Cheap's Chicago|            2|               8|\n",
      "|   Adams Media Corp|The Everything We...|            2|               8|\n",
      "|   Adams Media Corp|Museum of Science...|            2|               8|\n",
      "|   Adams Media Corp|Knock 'Em Dead: T...|            2|               8|\n",
      "|   Adams Media Corp|Around the Americ...|            2|               8|\n",
      "|   Adams Media Corp|Banned: Classical...|            2|               8|\n",
      "|   Adams Media Corp|What Every Americ...|            1|               9|\n",
      "|   Adams Media Corp|Table Talk!: 365 ...|            1|               9|\n",
      "|   Adams Media Corp|Cover Letters Tha...|            1|               9|\n",
      "|   Adams Media Corp|Resumes That Knoc...|            1|               9|\n",
      "|   Adams Media Corp|Call the Briefing...|            1|               9|\n",
      "|   Adams Media Corp|  Single in New York|            1|               9|\n",
      "|   Adams Media Corp|Mr. Cheap's Bosto...|            1|               9|\n",
      "|   Adams Media Corp|The Minority Care...|            1|               9|\n",
      "+-------------------+--------------------+-------------+----------------+\n",
      "only showing top 20 rows\n",
      "\n"
     ]
    },
    {
     "name": "stderr",
     "output_type": "stream",
     "text": [
      "                                                                                \r"
     ]
    }
   ],
   "source": [
    "ratings_diff.show(20)"
   ]
  },
  {
   "cell_type": "markdown",
   "id": "e82f0943-b594-4dc3-a054-2c4fe58f3b88",
   "metadata": {},
   "source": [
    "# 4. Conclusión"
   ]
  },
  {
   "cell_type": "markdown",
   "id": "b61a6c9c-f49f-4992-8ef8-41a742a9889b",
   "metadata": {},
   "source": [
    "A modo de reflexión final, se observa que la API de Spark permite realizar consultas de manera cómoda e intuitiva. Por otro lado, tiene limitaciones en cuánto a consultas agregadas. Éstas se pueden subsanar de manera eficiente con el uso de Window Functions, las cuales simplifican el agregado de información tanto desde el punto de vista de la síntaxis como en eficiencia de computación."
   ]
  },
  {
   "cell_type": "code",
   "execution_count": null,
   "id": "4c31967b-7767-4a0e-b5a0-ef7d0fd1ef4d",
   "metadata": {},
   "outputs": [],
   "source": []
  }
 ],
 "metadata": {
  "kernelspec": {
   "display_name": "Python 3 (ipykernel)",
   "language": "python",
   "name": "python3"
  },
  "language_info": {
   "codemirror_mode": {
    "name": "ipython",
    "version": 3
   },
   "file_extension": ".py",
   "mimetype": "text/x-python",
   "name": "python",
   "nbconvert_exporter": "python",
   "pygments_lexer": "ipython3",
   "version": "3.8.12"
  }
 },
 "nbformat": 4,
 "nbformat_minor": 5
}
