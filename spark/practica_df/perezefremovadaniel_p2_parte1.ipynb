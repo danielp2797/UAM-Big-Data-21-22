{
 "cells": [
  {
   "cell_type": "code",
   "execution_count": 13,
   "id": "ed2a7e5d-3ee9-4988-a893-1e57a0451230",
   "metadata": {},
   "outputs": [],
   "source": [
    "from pyspark.sql import SparkSession\n",
    "from pyspark.sql.types import *\n",
    "from pyspark"
   ]
  },
  {
   "cell_type": "code",
   "execution_count": 99,
   "id": "21443de5-2cdd-439d-ba44-1cec1ce95e06",
   "metadata": {},
   "outputs": [
    {
     "name": "stdout",
     "output_type": "stream",
     "text": [
      "Welcome to\n",
      "      ____              __\n",
      "     / __/__  ___ _____/ /__\n",
      "    _\\ \\/ _ \\/ _ `/ __/  '_/\n",
      "   /___/ .__/\\_,_/_/ /_/\\_\\   version 3.1.2\n",
      "      /_/\n",
      "                        \n",
      "Using Scala version 2.12.10, OpenJDK 64-Bit Server VM, 1.8.0_312\n",
      "Branch HEAD\n",
      "Compiled by user centos on 2021-05-24T04:27:48Z\n",
      "Revision de351e30a90dd988b133b3d00fa6218bfcaba8b8\n",
      "Url https://github.com/apache/spark\n",
      "Type --help for more information.\n"
     ]
    }
   ],
   "source": [
    "! pyspark --version"
   ]
  },
  {
   "cell_type": "code",
   "execution_count": 16,
   "id": "784c43fc-afb7-40d4-89e5-c4f73d691852",
   "metadata": {},
   "outputs": [],
   "source": [
    "data_path = '/media/daniel/Seagate Basic/spark_data/sensores/' # en esta carpeta deben encontrarse los 4 ficheros"
   ]
  },
  {
   "cell_type": "code",
   "execution_count": 8,
   "id": "8d13eac6-9f09-4ff5-a940-b19344daf8b1",
   "metadata": {},
   "outputs": [
    {
     "name": "stderr",
     "output_type": "stream",
     "text": [
      "21/12/19 11:11:01 WARN NativeCodeLoader: Unable to load native-hadoop library for your platform... using builtin-java classes where applicable\n",
      "Using Spark's default log4j profile: org/apache/spark/log4j-defaults.properties\n",
      "Setting default log level to \"WARN\".\n",
      "To adjust logging level use sc.setLogLevel(newLevel). For SparkR, use setLogLevel(newLevel).\n"
     ]
    }
   ],
   "source": [
    "spark = SparkSession.builder.master(\"local[*]\")\\\n",
    "          .appName(\"practica 2 Ecosistema Spark parte 1\")\\\n",
    "          .getOrCreate()"
   ]
  },
  {
   "cell_type": "markdown",
   "id": "9864ee8c-c2d0-4267-987b-fb60654d335f",
   "metadata": {},
   "source": [
    "# 1. Creación de dataframes proporcionando el schema"
   ]
  },
  {
   "cell_type": "markdown",
   "id": "5f03c3ef-aac1-4165-9835-ddf582aab856",
   "metadata": {},
   "source": [
    "Los cuatro conjuntos de datos comparten la misma estructura, asique se usa el mismo esquema para todos."
   ]
  },
  {
   "cell_type": "code",
   "execution_count": 87,
   "id": "2d08fece-d22e-4323-a445-5e49a4909f4d",
   "metadata": {},
   "outputs": [],
   "source": [
    "schema = StructType([StructField('index', IntegerType(), True),\n",
    "                     StructField('arrival_time', LongType(), True),\n",
    "                     StructField('creation_time', LongType(), True),\n",
    "                     StructField('x', FloatType(), True),\n",
    "                     StructField('y', FloatType(), True),\n",
    "                     StructField('z', FloatType(), True),\n",
    "                     StructField('user', StringType(), True),\n",
    "                     StructField('model', StringType(), True),\n",
    "                     StructField('device', StringType(), True),\n",
    "                     StructField('gt', StringType(), True)])"
   ]
  },
  {
   "cell_type": "code",
   "execution_count": 88,
   "id": "dbd7fe66-4cc7-4852-9583-7ad56d166539",
   "metadata": {},
   "outputs": [],
   "source": [
    "df_phones_acc   = spark.read.csv(data_path+'Phones_accelerometer.csv', schema=schema)\n",
    "df_phones_gyros = spark.read.csv(data_path+'Phones_gyroscope.csv', schema=schema)\n",
    "df_watch_acc    = spark.read.csv(data_path+'Watch_accelerometer.csv', schema=schema)\n",
    "df_watch_gyros  = spark.read.csv(data_path+'Watch_gyroscope.csv', schema=schema)"
   ]
  },
  {
   "cell_type": "markdown",
   "id": "cc4c8f49-a52a-44f2-b303-4bb134e1ce60",
   "metadata": {},
   "source": [
    "# 2. Resumen de cada dataframe"
   ]
  },
  {
   "cell_type": "markdown",
   "id": "1bbb39f7-3e46-4030-a48c-5b7e1c62cb03",
   "metadata": {},
   "source": [
    "Se calcula la media, desviación típica, máximo y mínimo de las variables x, y, z agrupadas por usuario, modelo y acción."
   ]
  },
  {
   "cell_type": "code",
   "execution_count": null,
   "id": "468e9b86-5afc-4c40-b61c-eca43cbc73e4",
   "metadata": {},
   "outputs": [],
   "source": [
    "def summarize_dataframe(spark_df, agg=['user', 'model', 'gt'], features=['x', 'y', 'z']):\n",
    "    \n",
    "    # descripcion\n",
    "    #----------------\n",
    "    \n",
    "    #Calcula la media, std, min y max de las columnas argumento agregadas por las columnas seleccionadas.\n",
    "    \n",
    "    # argumentos:\n",
    "    #----------------\n",
    "    \n",
    "    #<spark_df> | tipo: pyspark.sql.DataFrame\n",
    "    #<agg> | tipo: list | contenido: str\n",
    "    #<features> | tipo: list | contenido: str\n",
    "    \n",
    "    # resultado: \n",
    "    #----------------\n",
    "    \n",
    "    #<result> | tipo: pyspark.sql.DataFrame | descriptivo: dataframe de spark con los estadísticos calculados y las columnas de agregado\n",
    "    \n",
    "    features_dict = {} # diccionario auxiliar para calcular la desviacion tipica con la funcion pyspark.sql.GroupedData.agg\n",
    "    for f in features:\n",
    "        features_dict[f] = 'stddev'\n",
    "    \n",
    "    std = spark_df.select(agg+features).groupby(agg).agg(features_dict)\n",
    "    maximum = spark_df.select(agg+features).groupby(agg).max()\n",
    "    minimum = spark_df.select(agg+features).groupby(agg).min()\n",
    "    mean = spark_df.select(agg+features).groupby(agg).mean()\n",
    "    \n",
    "    result = mean.join(std, on=agg, how='left')\\\n",
    "        .join(minimum, on=agg, how='left')\\\n",
    "        .join(maximum, on=agg, how='left')\n",
    "    \n",
    "    return result"
   ]
  },
  {
   "cell_type": "code",
   "execution_count": 92,
   "id": "2014e73b-6224-4818-b225-21b471457d51",
   "metadata": {},
   "outputs": [],
   "source": [
    "summary_phones_acc = summarize_dataframe(df_phones_acc)\n",
    "summary_phones_gyros = summarize_dataframe(df_phones_gyros)\n",
    "summary_watch_acc = summarize_dataframe(df_watch_acc)\n",
    "summary_watch_gyros = summarize_dataframe(df_watch_gyros)"
   ]
  },
  {
   "cell_type": "code",
   "execution_count": 90,
   "id": "482bb18b-5b8e-4bb1-9023-49964eb6be16",
   "metadata": {},
   "outputs": [
    {
     "name": "stderr",
     "output_type": "stream",
     "text": [
      "                                                                                \r"
     ]
    },
    {
     "data": {
      "text/plain": [
       "[Row(user='c', model='gear', gt='stand', avg(x)=0.03652780587438986, avg(y)=-0.042153270222705125, avg(z)=-0.03179906613070246, stddev(x)=0.48909112975469576, stddev(y)=0.21413389782911277, stddev(z)=0.2305604712729737, min(x)=-5.2245893478393555, min(y)=-2.2833943367004395, min(z)=-1.9624834060668945, max(x)=2.66369366645813, max(y)=2.443450450897217, max(z)=1.830923318862915),\n",
       " Row(user='b', model='gear', gt='stand', avg(x)=0.009942532104274503, avg(y)=-0.05661034300205209, avg(z)=-0.046038979898989404, stddev(x)=0.6784552716547866, stddev(y)=0.2222310138318165, stddev(z)=0.529926204603212, min(x)=-5.694371223449707, min(y)=-1.3688647747039795, min(z)=-3.473294734954834, max(x)=8.47364616394043, max(y)=1.1811119318008423, max(z)=3.3752903938293457)]"
      ]
     },
     "execution_count": 90,
     "metadata": {},
     "output_type": "execute_result"
    }
   ],
   "source": [
    "summary_phones_acc.take(2)"
   ]
  },
  {
   "cell_type": "markdown",
   "id": "e8ab8bdc-2fb4-4233-b302-4db058dc9d39",
   "metadata": {},
   "source": [
    "# 3. Join de cada dataframe del mismo dispositivo"
   ]
  },
  {
   "cell_type": "code",
   "execution_count": 100,
   "id": "fbb0e106-c815-446e-8efc-63dd5bc95202",
   "metadata": {},
   "outputs": [],
   "source": [
    "summary_phones = summary_phones_acc.join(summary_phones_gyros, on=['user', 'model', 'gt'], how='left')\n",
    "summary_watch = summary_watch_acc.join(summary_watch_gyros, on=['user', 'model', 'gt'], how='left')"
   ]
  },
  {
   "cell_type": "code",
   "execution_count": 101,
   "id": "934fae1e-2012-4d01-bb7c-200fb3b41896",
   "metadata": {},
   "outputs": [
    {
     "name": "stderr",
     "output_type": "stream",
     "text": [
      "21/12/19 14:10:02 WARN package: Truncated the string representation of a plan since it was too large. This behavior can be adjusted by setting 'spark.sql.debug.maxToStringFields'.\n",
      "                                                                                \r"
     ]
    },
    {
     "data": {
      "text/plain": [
       "[Row(user='d', model='s3mini', gt='stairsdown', avg(x)=-4.463443999159753, avg(y)=0.24306410762203068, avg(z)=8.472466408398889, stddev(x)=2.240649971846288, stddev(y)=1.9391851564647065, stddev(z)=2.9196563251323107, min(x)=-15.545551300048828, min(y)=-7.756016254425049, min(z)=0.424970805644989, max(x)=3.9408559799194336, max(y)=8.825027465820312, max(z)=19.612701416015625, avg(x)=-0.2228422161491789, avg(y)=-0.03428942505599068, avg(z)=0.4503586104449553, stddev(x)=0.36662374555262106, stddev(y)=0.733085709661103, stddev(z)=0.7681403850578339, min(x)=-1.9054771661758423, min(y)=-3.5413575172424316, min(z)=-2.4095382690429688, max(x)=1.1589009761810303, max(y)=6.058246612548828, max(z)=4.878363132476807),\n",
       " Row(user='h', model='samsungold', gt='stairsdown', avg(x)=-5.635658786490508, avg(y)=0.23615755468668323, avg(z)=8.060744384923018, stddev(x)=2.5809602029984866, stddev(y)=2.0189003788579716, stddev(z)=3.542944712247185, min(x)=-18.387239456176758, min(y)=-9.040392875671387, min(z)=-0.15322700142860413, max(x)=1.9919509887695312, max(y)=10.41943645477295, max(z)=19.459829330444336, avg(x)=None, avg(y)=None, avg(z)=None, stddev(x)=None, stddev(y)=None, stddev(z)=None, min(x)=None, min(y)=None, min(z)=None, max(x)=None, max(y)=None, max(z)=None)]"
      ]
     },
     "execution_count": 101,
     "metadata": {},
     "output_type": "execute_result"
    }
   ],
   "source": [
    "summary_phones.take(2)"
   ]
  },
  {
   "cell_type": "code",
   "execution_count": 105,
   "id": "52703396-bf3f-430f-893a-4a040731c606",
   "metadata": {},
   "outputs": [
    {
     "name": "stderr",
     "output_type": "stream",
     "text": [
      "                                                                                \r"
     ]
    },
    {
     "data": {
      "text/plain": [
       "(252, 118)"
      ]
     },
     "execution_count": 105,
     "metadata": {},
     "output_type": "execute_result"
    }
   ],
   "source": [
    "summary_phones.count(), summary_watch.count() "
   ]
  },
  {
   "cell_type": "markdown",
   "id": "76d02b2b-bd07-4986-ae87-ee0daa805e24",
   "metadata": {},
   "source": [
    "# 4. Unión de los dataframe de ambos dispositivos"
   ]
  },
  {
   "cell_type": "code",
   "execution_count": 103,
   "id": "c6ece013-a6f8-42bc-be2c-16aee53ce5b0",
   "metadata": {},
   "outputs": [],
   "source": [
    "summary = summary_phones.union(summary_watch)"
   ]
  },
  {
   "cell_type": "code",
   "execution_count": 104,
   "id": "a38c61fe-43f1-40d2-8c13-85b9c950227e",
   "metadata": {},
   "outputs": [
    {
     "name": "stderr",
     "output_type": "stream",
     "text": [
      "                                                                                \r"
     ]
    },
    {
     "data": {
      "text/plain": [
       "[Row(user='d', model='s3mini', gt='stairsdown', avg(x)=-4.463443999159753, avg(y)=0.24306410762203068, avg(z)=8.472466408398889, stddev(x)=2.240649971846288, stddev(y)=1.9391851564647065, stddev(z)=2.9196563251323107, min(x)=-15.545551300048828, min(y)=-7.756016254425049, min(z)=0.424970805644989, max(x)=3.9408559799194336, max(y)=8.825027465820312, max(z)=19.612701416015625, avg(x)=-0.2228422161491789, avg(y)=-0.03428942505599068, avg(z)=0.4503586104449553, stddev(x)=0.36662374555262106, stddev(y)=0.733085709661103, stddev(z)=0.7681403850578339, min(x)=-1.9054771661758423, min(y)=-3.5413575172424316, min(z)=-2.4095382690429688, max(x)=1.1589009761810303, max(y)=6.058246612548828, max(z)=4.878363132476807),\n",
       " Row(user='h', model='samsungold', gt='stairsdown', avg(x)=-5.635658786490508, avg(y)=0.23615755468668323, avg(z)=8.060744384923018, stddev(x)=2.5809602029984866, stddev(y)=2.0189003788579716, stddev(z)=3.542944712247185, min(x)=-18.387239456176758, min(y)=-9.040392875671387, min(z)=-0.15322700142860413, max(x)=1.9919509887695312, max(y)=10.41943645477295, max(z)=19.459829330444336, avg(x)=None, avg(y)=None, avg(z)=None, stddev(x)=None, stddev(y)=None, stddev(z)=None, min(x)=None, min(y)=None, min(z)=None, max(x)=None, max(y)=None, max(z)=None)]"
      ]
     },
     "execution_count": 104,
     "metadata": {},
     "output_type": "execute_result"
    }
   ],
   "source": [
    "summary.take(2)"
   ]
  },
  {
   "cell_type": "code",
   "execution_count": 106,
   "id": "9fb0b763-99e2-41f6-8c3b-8674f171efc6",
   "metadata": {},
   "outputs": [
    {
     "name": "stderr",
     "output_type": "stream",
     "text": [
      "                                                                                \r"
     ]
    },
    {
     "data": {
      "text/plain": [
       "370"
      ]
     },
     "execution_count": 106,
     "metadata": {},
     "output_type": "execute_result"
    }
   ],
   "source": [
    "summary.count() # la dimension del dataframe final debe coincidir con las dimensiones de cada uno por separado"
   ]
  },
  {
   "cell_type": "code",
   "execution_count": null,
   "id": "951f389d-cf6f-420d-be69-83e600d58b35",
   "metadata": {},
   "outputs": [],
   "source": []
  }
 ],
 "metadata": {
  "kernelspec": {
   "display_name": "Python 3 (ipykernel)",
   "language": "python",
   "name": "python3"
  },
  "language_info": {
   "codemirror_mode": {
    "name": "ipython",
    "version": 3
   },
   "file_extension": ".py",
   "mimetype": "text/x-python",
   "name": "python",
   "nbconvert_exporter": "python",
   "pygments_lexer": "ipython3",
   "version": "3.8.12"
  }
 },
 "nbformat": 4,
 "nbformat_minor": 5
}
