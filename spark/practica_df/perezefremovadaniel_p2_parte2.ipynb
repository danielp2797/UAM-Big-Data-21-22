{
 "cells": [
  {
   "cell_type": "code",
   "execution_count": 1,
   "id": "9b47207b-02b0-4397-bc11-0ae80e0804a4",
   "metadata": {},
   "outputs": [],
   "source": [
    "from pyspark.sql import SparkSession\n",
    "from pyspark.sql.types import *\n",
    "import os\n",
    "from os.path import join, getsize, isfile, isdir, splitext"
   ]
  },
  {
   "cell_type": "code",
   "execution_count": 2,
   "id": "867ecfa1-2f33-4e5b-a9a8-fa76793ab413",
   "metadata": {},
   "outputs": [
    {
     "name": "stdout",
     "output_type": "stream",
     "text": [
      "Welcome to\n",
      "      ____              __\n",
      "     / __/__  ___ _____/ /__\n",
      "    _\\ \\/ _ \\/ _ `/ __/  '_/\n",
      "   /___/ .__/\\_,_/_/ /_/\\_\\   version 3.1.2\n",
      "      /_/\n",
      "                        \n",
      "Using Scala version 2.12.10, OpenJDK 64-Bit Server VM, 1.8.0_312\n",
      "Branch HEAD\n",
      "Compiled by user centos on 2021-05-24T04:27:48Z\n",
      "Revision de351e30a90dd988b133b3d00fa6218bfcaba8b8\n",
      "Url https://github.com/apache/spark\n",
      "Type --help for more information.\n"
     ]
    }
   ],
   "source": [
    "! pyspark --version"
   ]
  },
  {
   "cell_type": "code",
   "execution_count": 3,
   "id": "8a2f3f2f-7eaa-4016-8c46-7b950573f793",
   "metadata": {},
   "outputs": [],
   "source": [
    "data_path = '/media/daniel/Seagate Basic/spark_data/sensores/' # en esta carpeta deben encontrarse los 4 ficheros"
   ]
  },
  {
   "cell_type": "code",
   "execution_count": 4,
   "id": "3fe3d193-9426-466b-8835-790cc34bf464",
   "metadata": {},
   "outputs": [
    {
     "name": "stderr",
     "output_type": "stream",
     "text": [
      "21/12/19 14:58:07 WARN NativeCodeLoader: Unable to load native-hadoop library for your platform... using builtin-java classes where applicable\n",
      "Using Spark's default log4j profile: org/apache/spark/log4j-defaults.properties\n",
      "Setting default log level to \"WARN\".\n",
      "To adjust logging level use sc.setLogLevel(newLevel). For SparkR, use setLogLevel(newLevel).\n"
     ]
    }
   ],
   "source": [
    "spark = SparkSession.builder.master(\"local[*]\")\\\n",
    "          .appName(\"practica 2 Ecosistema Spark parte 1\")\\\n",
    "          .getOrCreate()"
   ]
  },
  {
   "cell_type": "code",
   "execution_count": 5,
   "id": "1775f33c-1830-41c1-a507-8ae8897830f4",
   "metadata": {},
   "outputs": [],
   "source": [
    "schema = StructType([StructField('index', IntegerType(), True),\n",
    "                     StructField('arrival_time', LongType(), True),\n",
    "                     StructField('creation_time', LongType(), True),\n",
    "                     StructField('x', FloatType(), True),\n",
    "                     StructField('y', FloatType(), True),\n",
    "                     StructField('z', FloatType(), True),\n",
    "                     StructField('user', StringType(), True),\n",
    "                     StructField('model', StringType(), True),\n",
    "                     StructField('device', StringType(), True),\n",
    "                     StructField('gt', StringType(), True)])\n",
    "\n",
    "df_phones_acc   = spark.read.csv(data_path+'Phones_accelerometer.csv', schema=schema)\n",
    "df_phones_gyros = spark.read.csv(data_path+'Phones_gyroscope.csv', schema=schema)\n",
    "df_watch_acc    = spark.read.csv(data_path+'Watch_accelerometer.csv', schema=schema)\n",
    "df_watch_gyros  = spark.read.csv(data_path+'Watch_gyroscope.csv', schema=schema)"
   ]
  },
  {
   "cell_type": "markdown",
   "id": "f9ac11c9-5189-4d28-ac63-a666493dc233",
   "metadata": {},
   "source": [
    "# 1. Creación de los ficheros parquet"
   ]
  },
  {
   "cell_type": "code",
   "execution_count": 6,
   "id": "4ea2070d-ac88-4c0f-9bc8-4d720d1dbe53",
   "metadata": {},
   "outputs": [],
   "source": [
    "def GetFolderSize(path):\n",
    "    TotalSize = 0\n",
    "    for item in os.walk(path):\n",
    "        for file in item[2]:\n",
    "            try:\n",
    "                TotalSize = TotalSize + getsize(join(item[0], file))\n",
    "            except:\n",
    "                print(\"error with file:  \" + join(item[0], file))\n",
    "    return TotalSize"
   ]
  },
  {
   "cell_type": "code",
   "execution_count": null,
   "id": "c69c40b4-560c-4883-ae36-78ec00c8e216",
   "metadata": {},
   "outputs": [
    {
     "name": "stderr",
     "output_type": "stream",
     "text": [
      "21/12/19 14:58:14 WARN MemoryManager: Total allocation exceeds 95.00% (906,992,014 bytes) of heap memory\n",
      "Scaling row group sizes to 96.54% for 7 writers\n",
      "21/12/19 14:58:14 WARN MemoryManager: Total allocation exceeds 95.00% (906,992,014 bytes) of heap memory\n",
      "Scaling row group sizes to 84.47% for 8 writers\n",
      "21/12/19 14:58:33 WARN MemoryManager: Total allocation exceeds 95.00% (906,992,014 bytes) of heap memory\n",
      "Scaling row group sizes to 96.54% for 7 writers\n",
      "[Stage 0:==============================================>           (8 + 2) / 10]\r"
     ]
    }
   ],
   "source": [
    "df_phones_acc.write.parquet(data_path+'Phones_accelerometer.parquet')\n",
    "df_phones_gyros.write.parquet(data_path+'Phones_gyroscope.parquet')\n",
    "df_watch_acc.write.parquet(data_path+'Watch_accelerometer.parquet')\n",
    "df_watch_gyros.write.parquet(data_path+'Watch_gyroscope.parquet')"
   ]
  },
  {
   "cell_type": "code",
   "execution_count": null,
   "id": "2ee543db-f04f-4cbd-9154-1742757f597d",
   "metadata": {},
   "outputs": [],
   "source": [
    "for folder in ['Phones_accelerometer', 'Phones_gyroscope', 'Watch_accelerometer', 'Watch_gyroscope']:\n",
    "    \n",
    "    parquet_size = GetFolderSize(data_path+folder+'.parquet')*10e-10\n",
    "    csv_size = getsize(data_path+folder+'.csv')*10e-10\n",
    "    print(f'file: {folder} | csv size: {round(csv_size, 2)} GB | parquet size: {round(parquet_size, 3)} GB | compression rate: {round(100*(1-parquet_size/csv_size), 2)}%')"
   ]
  },
  {
   "cell_type": "markdown",
   "id": "68da93f2-4ec8-4f6a-8ef0-18925c5a24b0",
   "metadata": {},
   "source": [
    "Se observa que el formato parquet ha reducido aproximadamente un 80% el tamaño de los ficheros csv."
   ]
  },
  {
   "cell_type": "code",
   "execution_count": null,
   "id": "941321b1-78ff-403b-9c36-6bed6f52e8d9",
   "metadata": {},
   "outputs": [],
   "source": []
  }
 ],
 "metadata": {
  "kernelspec": {
   "display_name": "Python 3 (ipykernel)",
   "language": "python",
   "name": "python3"
  },
  "language_info": {
   "codemirror_mode": {
    "name": "ipython",
    "version": 3
   },
   "file_extension": ".py",
   "mimetype": "text/x-python",
   "name": "python",
   "nbconvert_exporter": "python",
   "pygments_lexer": "ipython3",
   "version": "3.8.12"
  }
 },
 "nbformat": 4,
 "nbformat_minor": 5
}
