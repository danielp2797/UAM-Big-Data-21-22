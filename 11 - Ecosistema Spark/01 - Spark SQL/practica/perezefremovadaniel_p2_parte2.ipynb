{
 "cells": [
  {
   "cell_type": "code",
   "execution_count": 13,
   "id": "9b47207b-02b0-4397-bc11-0ae80e0804a4",
   "metadata": {},
   "outputs": [],
   "source": [
    "from pyspark.sql import SparkSession\n",
    "from pyspark.sql.types import *\n",
    "from time import time\n",
    "import os\n",
    "from os.path import join, getsize, isfile, isdir, splitext\n",
    "import pandas as pd"
   ]
  },
  {
   "cell_type": "code",
   "execution_count": 2,
   "id": "867ecfa1-2f33-4e5b-a9a8-fa76793ab413",
   "metadata": {},
   "outputs": [
    {
     "name": "stdout",
     "output_type": "stream",
     "text": [
      "Welcome to\n",
      "      ____              __\n",
      "     / __/__  ___ _____/ /__\n",
      "    _\\ \\/ _ \\/ _ `/ __/  '_/\n",
      "   /___/ .__/\\_,_/_/ /_/\\_\\   version 3.1.2\n",
      "      /_/\n",
      "                        \n",
      "Using Scala version 2.12.10, OpenJDK 64-Bit Server VM, 1.8.0_312\n",
      "Branch HEAD\n",
      "Compiled by user centos on 2021-05-24T04:27:48Z\n",
      "Revision de351e30a90dd988b133b3d00fa6218bfcaba8b8\n",
      "Url https://github.com/apache/spark\n",
      "Type --help for more information.\n"
     ]
    }
   ],
   "source": [
    "! pyspark --version"
   ]
  },
  {
   "cell_type": "code",
   "execution_count": 3,
   "id": "8a2f3f2f-7eaa-4016-8c46-7b950573f793",
   "metadata": {},
   "outputs": [],
   "source": [
    "data_path = '/media/daniel/Seagate Basic/spark_data/sensores/' # en esta carpeta deben encontrarse los 4 ficheros"
   ]
  },
  {
   "cell_type": "code",
   "execution_count": 4,
   "id": "3fe3d193-9426-466b-8835-790cc34bf464",
   "metadata": {},
   "outputs": [
    {
     "name": "stderr",
     "output_type": "stream",
     "text": [
      "22/01/09 12:05:12 WARN NativeCodeLoader: Unable to load native-hadoop library for your platform... using builtin-java classes where applicable\n",
      "Using Spark's default log4j profile: org/apache/spark/log4j-defaults.properties\n",
      "Setting default log level to \"WARN\".\n",
      "To adjust logging level use sc.setLogLevel(newLevel). For SparkR, use setLogLevel(newLevel).\n"
     ]
    }
   ],
   "source": [
    "spark = SparkSession.builder.master(\"local[*]\")\\\n",
    "          .appName(\"practica 2 Ecosistema Spark parte 2\")\\\n",
    "          .getOrCreate()"
   ]
  },
  {
   "cell_type": "code",
   "execution_count": 5,
   "id": "1775f33c-1830-41c1-a507-8ae8897830f4",
   "metadata": {},
   "outputs": [],
   "source": [
    "schema = StructType([StructField('index', IntegerType(), True),\n",
    "                     StructField('arrival_time', LongType(), True),\n",
    "                     StructField('creation_time', LongType(), True),\n",
    "                     StructField('x', FloatType(), True),\n",
    "                     StructField('y', FloatType(), True),\n",
    "                     StructField('z', FloatType(), True),\n",
    "                     StructField('user', StringType(), True),\n",
    "                     StructField('model', StringType(), True),\n",
    "                     StructField('device', StringType(), True),\n",
    "                     StructField('gt', StringType(), True)])\n",
    "\n",
    "df_phones_acc   = spark.read.csv(data_path+'Phones_accelerometer.csv', schema=schema)\n",
    "df_phones_gyros = spark.read.csv(data_path+'Phones_gyroscope.csv', schema=schema)\n",
    "df_watch_acc    = spark.read.csv(data_path+'Watch_accelerometer.csv', schema=schema)\n",
    "df_watch_gyros  = spark.read.csv(data_path+'Watch_gyroscope.csv', schema=schema)"
   ]
  },
  {
   "cell_type": "markdown",
   "id": "f9ac11c9-5189-4d28-ac63-a666493dc233",
   "metadata": {},
   "source": [
    "# 1. Creación de los ficheros parquet"
   ]
  },
  {
   "cell_type": "code",
   "execution_count": 6,
   "id": "4ea2070d-ac88-4c0f-9bc8-4d720d1dbe53",
   "metadata": {},
   "outputs": [],
   "source": [
    "def GetFolderSize(path):\n",
    "    \n",
    "    \n",
    "    TotalSize = 0\n",
    "    for item in os.walk(path):\n",
    "        for file in item[2]:\n",
    "            try:\n",
    "                TotalSize = TotalSize + getsize(join(item[0], file))\n",
    "            except:\n",
    "                print(\"error with file:  \" + join(item[0], file))\n",
    "    return TotalSize"
   ]
  },
  {
   "cell_type": "code",
   "execution_count": 8,
   "id": "c69c40b4-560c-4883-ae36-78ec00c8e216",
   "metadata": {},
   "outputs": [
    {
     "name": "stderr",
     "output_type": "stream",
     "text": [
      "22/01/09 12:06:18 WARN MemoryManager: Total allocation exceeds 95.00% (906,992,014 bytes) of heap memory\n",
      "Scaling row group sizes to 96.54% for 7 writers\n",
      "22/01/09 12:06:18 WARN MemoryManager: Total allocation exceeds 95.00% (906,992,014 bytes) of heap memory\n",
      "Scaling row group sizes to 84.47% for 8 writers\n",
      "22/01/09 12:06:48 WARN MemoryManager: Total allocation exceeds 95.00% (906,992,014 bytes) of heap memory\n",
      "Scaling row group sizes to 96.54% for 7 writers\n",
      "22/01/09 12:07:00 WARN MemoryManager: Total allocation exceeds 95.00% (906,992,014 bytes) of heap memory\n",
      "Scaling row group sizes to 96.54% for 7 writers\n",
      "22/01/09 12:07:00 WARN MemoryManager: Total allocation exceeds 95.00% (906,992,014 bytes) of heap memory\n",
      "Scaling row group sizes to 84.47% for 8 writers\n",
      "22/01/09 12:07:28 WARN MemoryManager: Total allocation exceeds 95.00% (906,992,014 bytes) of heap memory\n",
      "Scaling row group sizes to 96.54% for 7 writers\n",
      "22/01/09 12:07:29 WARN MemoryManager: Total allocation exceeds 95.00% (906,992,014 bytes) of heap memory\n",
      "Scaling row group sizes to 84.47% for 8 writers\n",
      "22/01/09 12:07:30 WARN MemoryManager: Total allocation exceeds 95.00% (906,992,014 bytes) of heap memory\n",
      "Scaling row group sizes to 96.54% for 7 writers\n",
      "22/01/09 12:07:30 WARN MemoryManager: Total allocation exceeds 95.00% (906,992,014 bytes) of heap memory\n",
      "Scaling row group sizes to 96.54% for 7 writers\n",
      "22/01/09 12:07:31 WARN MemoryManager: Total allocation exceeds 95.00% (906,992,014 bytes) of heap memory\n",
      "Scaling row group sizes to 96.54% for 7 writers\n",
      "22/01/09 12:07:48 WARN MemoryManager: Total allocation exceeds 95.00% (906,992,014 bytes) of heap memory\n",
      "Scaling row group sizes to 96.54% for 7 writers\n",
      "22/01/09 12:07:48 WARN MemoryManager: Total allocation exceeds 95.00% (906,992,014 bytes) of heap memory\n",
      "Scaling row group sizes to 84.47% for 8 writers\n",
      "22/01/09 12:07:58 WARN MemoryManager: Total allocation exceeds 95.00% (906,992,014 bytes) of heap memory\n",
      "Scaling row group sizes to 96.54% for 7 writers\n",
      "22/01/09 12:07:59 WARN MemoryManager: Total allocation exceeds 95.00% (906,992,014 bytes) of heap memory\n",
      "Scaling row group sizes to 96.54% for 7 writers\n",
      "22/01/09 12:07:59 WARN MemoryManager: Total allocation exceeds 95.00% (906,992,014 bytes) of heap memory\n",
      "Scaling row group sizes to 84.47% for 8 writers\n",
      "22/01/09 12:08:09 WARN MemoryManager: Total allocation exceeds 95.00% (906,992,014 bytes) of heap memory\n",
      "Scaling row group sizes to 96.54% for 7 writers\n",
      "                                                                                \r"
     ]
    }
   ],
   "source": [
    "df_phones_acc.write.parquet(data_path+'Phones_accelerometer.parquet')\n",
    "df_phones_gyros.write.parquet(data_path+'Phones_gyroscope.parquet')\n",
    "df_watch_acc.write.parquet(data_path+'Watch_accelerometer.parquet')\n",
    "df_watch_gyros.write.parquet(data_path+'Watch_gyroscope.parquet')"
   ]
  },
  {
   "cell_type": "code",
   "execution_count": 9,
   "id": "2ee543db-f04f-4cbd-9154-1742757f597d",
   "metadata": {},
   "outputs": [
    {
     "name": "stdout",
     "output_type": "stream",
     "text": [
      "file: Phones_accelerometer | csv size: 1.29 GB | parquet size: 0.26 GB | compression rate: 79.88%\n",
      "file: Phones_gyroscope | csv size: 1.38 GB | parquet size: 0.278 GB | compression rate: 79.88%\n",
      "file: Watch_accelerometer | csv size: 0.33 GB | parquet size: 0.073 GB | compression rate: 77.69%\n",
      "file: Watch_gyroscope | csv size: 0.31 GB | parquet size: 0.066 GB | compression rate: 78.61%\n"
     ]
    }
   ],
   "source": [
    "for folder in ['Phones_accelerometer', 'Phones_gyroscope', 'Watch_accelerometer', 'Watch_gyroscope']:\n",
    "    \n",
    "    parquet_size = GetFolderSize(data_path+folder+'.parquet')*10e-10\n",
    "    csv_size = getsize(data_path+folder+'.csv')*10e-10\n",
    "    print(f'file: {folder} | csv size: {round(csv_size, 2)} GB | parquet size: {round(parquet_size, 3)} GB | compression rate: {round(100*(1-parquet_size/csv_size), 2)}%')"
   ]
  },
  {
   "cell_type": "markdown",
   "id": "68da93f2-4ec8-4f6a-8ef0-18925c5a24b0",
   "metadata": {},
   "source": [
    "Se observa que el formato parquet ha reducido en un 80% (aprox.) el tamaño de los ficheros csv."
   ]
  },
  {
   "cell_type": "markdown",
   "id": "dc24387a-521b-4d92-a254-667519713335",
   "metadata": {},
   "source": [
    "# 2. Tiempo de lectura y carga de un dataframe de spark desde distintos formatos"
   ]
  },
  {
   "cell_type": "markdown",
   "id": "4df492fe-224b-4479-9ffc-e1ea6204745c",
   "metadata": {},
   "source": [
    "## 2.1 Creación de dataframes desde RDD"
   ]
  },
  {
   "cell_type": "markdown",
   "id": "009aefbf-1657-4439-9738-a165c527dc18",
   "metadata": {},
   "source": [
    "Se crean los RDDs y se separan las filas de los ficheros en columnas (split)."
   ]
  },
  {
   "cell_type": "code",
   "execution_count": 10,
   "id": "0a2799d3-82c8-446c-be5f-881ed67e03fd",
   "metadata": {},
   "outputs": [],
   "source": [
    "phones_acc = spark.sparkContext.textFile(data_path+'Phones_accelerometer.csv').map(lambda x: x.split(','))\n",
    "phones_gyros = spark.sparkContext.textFile(data_path+'Phones_gyroscope.csv').map(lambda x: x.split(','))\n",
    "watch_acc = spark.sparkContext.textFile(data_path+'Watch_accelerometer.csv').map(lambda x: x.split(','))\n",
    "watch_gyros = spark.sparkContext.textFile(data_path+'Watch_gyroscope.csv').map(lambda x: x.split(','))"
   ]
  },
  {
   "cell_type": "markdown",
   "id": "4622f8a6-e33d-4cf3-aba9-ad28381493a6",
   "metadata": {},
   "source": [
    "Se pasa a datafrane y se hace un recuento de observaciones para que genere de manera efectiva el dataframe y salga del modo lazy."
   ]
  },
  {
   "cell_type": "code",
   "execution_count": 11,
   "id": "453d3304-6180-40cd-8143-4157c8276370",
   "metadata": {},
   "outputs": [
    {
     "name": "stderr",
     "output_type": "stream",
     "text": [
      "[Stage 14:===================================================>    (36 + 3) / 39]\r"
     ]
    },
    {
     "name": "stdout",
     "output_type": "stream",
     "text": [
      "elapsed time: 212.93428468704224\n"
     ]
    },
    {
     "name": "stderr",
     "output_type": "stream",
     "text": [
      "                                                                                \r"
     ]
    }
   ],
   "source": [
    "t0=time()\n",
    "\n",
    "phones_acc_df = spark.createDataFrame(phones_acc)\n",
    "phones_gyros_df = spark.createDataFrame(phones_acc)\n",
    "watch_acc_df = spark.createDataFrame(phones_acc)\n",
    "watch_gyros_df = spark.createDataFrame(phones_acc)\n",
    "\n",
    "phones_acc_df.count(), phones_gyros_df.count(), watch_acc_df.count(), watch_gyros_df.count()\n",
    "\n",
    "tf = time()\n",
    "\n",
    "print(f'elapsed time: {tf-t0}')\n",
    "\n",
    "total_rdd = tf-t0"
   ]
  },
  {
   "cell_type": "markdown",
   "id": "315a0a4b-4679-4074-8492-947e9036a503",
   "metadata": {},
   "source": [
    "## 2.2 Creación de dataframes desde formato parquet "
   ]
  },
  {
   "cell_type": "markdown",
   "id": "d82574f9-7329-4e86-8c67-21efdd9e6a92",
   "metadata": {},
   "source": [
    "Se leen los ficheros con la función específica."
   ]
  },
  {
   "cell_type": "code",
   "execution_count": 12,
   "id": "b746bef1-07d9-442b-91b9-9d913ac94a7f",
   "metadata": {},
   "outputs": [
    {
     "name": "stderr",
     "output_type": "stream",
     "text": [
      "                                                                                \r"
     ]
    },
    {
     "name": "stdout",
     "output_type": "stream",
     "text": [
      "elapsed time: 2.484624147415161\n"
     ]
    }
   ],
   "source": [
    "t0=time()\n",
    "\n",
    "phones_acc_df = spark.read.load(data_path+'Phones_accelerometer.parquet', schema=schema)\n",
    "phones_gyros_df = spark.read.load(data_path+'Phones_gyroscope.parquet', schema=schema)\n",
    "watch_acc_df = spark.read.load(data_path+'Watch_accelerometer.parquet', schema=schema)\n",
    "watch_gyros_df = spark.read.load(data_path+'Watch_gyroscope.parquet', schema=schema)\n",
    "\n",
    "phones_acc_df.count(), phones_gyros_df.count(), watch_acc_df.count(), watch_gyros_df.count()\n",
    "\n",
    "tf = time()\n",
    "\n",
    "print(f'elapsed time: {tf-t0}')\n",
    "\n",
    "total_parquet = tf-t0"
   ]
  },
  {
   "cell_type": "markdown",
   "id": "29a98456-daac-44a8-bfd5-ccee4c8c2360",
   "metadata": {},
   "source": [
    "## 2.3 Creación de dataframes desde formato csv"
   ]
  },
  {
   "cell_type": "markdown",
   "id": "af16d1d0-f194-4808-b24d-b629900fa1c9",
   "metadata": {},
   "source": [
    "Se leen los ficheros con la función específica."
   ]
  },
  {
   "cell_type": "code",
   "execution_count": 14,
   "id": "958bb8fb-760e-4b31-8ddb-eb3ff20af0b2",
   "metadata": {},
   "outputs": [
    {
     "name": "stderr",
     "output_type": "stream",
     "text": [
      "[Stage 30:>                                                         (0 + 8) / 8]\r"
     ]
    },
    {
     "name": "stdout",
     "output_type": "stream",
     "text": [
      "elapsed time: 25.451250314712524\n"
     ]
    },
    {
     "name": "stderr",
     "output_type": "stream",
     "text": [
      "                                                                                \r"
     ]
    }
   ],
   "source": [
    "t0=time()\n",
    "\n",
    "phones_acc_df = spark.read.csv(data_path+'Phones_accelerometer.csv', schema=schema)\n",
    "phones_gyros_df = spark.read.csv(data_path+'Phones_gyroscope.csv', schema=schema)\n",
    "watch_acc_df = spark.read.csv(data_path+'Watch_accelerometer.csv', schema=schema)\n",
    "watch_gyros_df = spark.read.csv(data_path+'Watch_gyroscope.csv', schema=schema)\n",
    "\n",
    "phones_acc_df.count(), phones_gyros_df.count(), watch_acc_df.count(), watch_gyros_df.count()\n",
    "\n",
    "tf = time()\n",
    "\n",
    "print(f'elapsed time: {tf-t0}')\n",
    "\n",
    "total_csv = tf-t0"
   ]
  },
  {
   "cell_type": "markdown",
   "id": "560bcd89-80d7-432b-9eb5-8d70d23aa50b",
   "metadata": {},
   "source": [
    "## 3. Conclusión"
   ]
  },
  {
   "cell_type": "markdown",
   "id": "183c90dc-891e-4cd6-bc96-2cd45845f173",
   "metadata": {},
   "source": [
    "Se aprecia que aunque se esté realizando la misma operación en los tres casos (lectura y recuento de filas), se obtienen distintos tiempos. Se ve que la manera más efectiva de crear dataframes es el formato parquet, seguido del formato csv y por último desde un RDD."
   ]
  },
  {
   "cell_type": "code",
   "execution_count": 21,
   "id": "829e43f7-6398-4007-90d7-3ff11c8b1ce3",
   "metadata": {},
   "outputs": [
    {
     "data": {
      "text/html": [
       "<div>\n",
       "<style scoped>\n",
       "    .dataframe tbody tr th:only-of-type {\n",
       "        vertical-align: middle;\n",
       "    }\n",
       "\n",
       "    .dataframe tbody tr th {\n",
       "        vertical-align: top;\n",
       "    }\n",
       "\n",
       "    .dataframe thead th {\n",
       "        text-align: right;\n",
       "    }\n",
       "</style>\n",
       "<table border=\"1\" class=\"dataframe\">\n",
       "  <thead>\n",
       "    <tr style=\"text-align: right;\">\n",
       "      <th></th>\n",
       "      <th>tiempos (s)</th>\n",
       "    </tr>\n",
       "  </thead>\n",
       "  <tbody>\n",
       "    <tr>\n",
       "      <th>tiempo_rdd</th>\n",
       "      <td>212.934285</td>\n",
       "    </tr>\n",
       "    <tr>\n",
       "      <th>tiempo_parquet</th>\n",
       "      <td>2.484624</td>\n",
       "    </tr>\n",
       "    <tr>\n",
       "      <th>tiempo_csv</th>\n",
       "      <td>25.451250</td>\n",
       "    </tr>\n",
       "  </tbody>\n",
       "</table>\n",
       "</div>"
      ],
      "text/plain": [
       "                tiempos (s)\n",
       "tiempo_rdd       212.934285\n",
       "tiempo_parquet     2.484624\n",
       "tiempo_csv        25.451250"
      ]
     },
     "execution_count": 21,
     "metadata": {},
     "output_type": "execute_result"
    }
   ],
   "source": [
    "pd.DataFrame([total_rdd, total_parquet, total_csv],\n",
    "             index=['tiempo_rdd', 'tiempo_parquet', 'tiempo_csv'], columns=['tiempos (s)'])"
   ]
  },
  {
   "cell_type": "code",
   "execution_count": 25,
   "id": "8f1c4607-98d9-400b-99e4-101aad8572e9",
   "metadata": {},
   "outputs": [
    {
     "data": {
      "text/plain": [
       "<AxesSubplot:title={'center':'Comparación tiempos'}, ylabel='tiempo (seg)'>"
      ]
     },
     "execution_count": 25,
     "metadata": {},
     "output_type": "execute_result"
    },
    {
     "data": {
      "image/png": "[encoded data removed]",
      "text/plain": [
       "<Figure size 432x288 with 1 Axes>"
      ]
     },
     "metadata": {
      "needs_background": "light"
     },
     "output_type": "display_data"
    }
   ],
   "source": [
    "pd.DataFrame([total_rdd, total_parquet, total_csv],\n",
    "             index=['tiempo_rdd', 'tiempo_parquet', 'tiempo_csv'], columns=['tiempos (s)']).plot(kind='barh',\n",
    "                                                                                                 title='Comparación tiempos',\n",
    "                                                                                                ylabel='tiempo (seg)')"
   ]
  },
  {
   "cell_type": "code",
   "execution_count": null,
   "id": "f0bbd721-85b1-40d6-9e72-ca2b56513289",
   "metadata": {},
   "outputs": [],
   "source": []
  }
 ],
 "metadata": {
  "kernelspec": {
   "display_name": "Python 3 (ipykernel)",
   "language": "python",
   "name": "python3"
  },
  "language_info": {
   "codemirror_mode": {
    "name": "ipython",
    "version": 3
   },
   "file_extension": ".py",
   "mimetype": "text/x-python",
   "name": "python",
   "nbconvert_exporter": "python",
   "pygments_lexer": "ipython3",
   "version": "3.8.12"
  }
 },
 "nbformat": 4,
 "nbformat_minor": 5
}
