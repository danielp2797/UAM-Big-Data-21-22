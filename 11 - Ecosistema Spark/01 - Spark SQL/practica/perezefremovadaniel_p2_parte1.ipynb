{
 "cells": [
  {
   "cell_type": "code",
   "execution_count": 19,
   "id": "ed2a7e5d-3ee9-4988-a893-1e57a0451230",
   "metadata": {},
   "outputs": [],
   "source": [
    "from pyspark.sql import SparkSession\n",
    "from pyspark.sql.types import *\n",
    "import pyspark.sql.functions as f\n",
    "import numpy as np"
   ]
  },
  {
   "cell_type": "code",
   "execution_count": 2,
   "id": "21443de5-2cdd-439d-ba44-1cec1ce95e06",
   "metadata": {},
   "outputs": [
    {
     "name": "stdout",
     "output_type": "stream",
     "text": [
      "Welcome to\n",
      "      ____              __\n",
      "     / __/__  ___ _____/ /__\n",
      "    _\\ \\/ _ \\/ _ `/ __/  '_/\n",
      "   /___/ .__/\\_,_/_/ /_/\\_\\   version 3.1.2\n",
      "      /_/\n",
      "                        \n",
      "Using Scala version 2.12.10, OpenJDK 64-Bit Server VM, 1.8.0_312\n",
      "Branch HEAD\n",
      "Compiled by user centos on 2021-05-24T04:27:48Z\n",
      "Revision de351e30a90dd988b133b3d00fa6218bfcaba8b8\n",
      "Url https://github.com/apache/spark\n",
      "Type --help for more information.\n"
     ]
    }
   ],
   "source": [
    "! pyspark --version"
   ]
  },
  {
   "cell_type": "code",
   "execution_count": 3,
   "id": "784c43fc-afb7-40d4-89e5-c4f73d691852",
   "metadata": {},
   "outputs": [],
   "source": [
    "data_path = '/media/daniel/Seagate Basic/spark_data/sensores/' # en esta carpeta deben encontrarse los 4 ficheros"
   ]
  },
  {
   "cell_type": "code",
   "execution_count": 4,
   "id": "8d13eac6-9f09-4ff5-a940-b19344daf8b1",
   "metadata": {},
   "outputs": [
    {
     "name": "stderr",
     "output_type": "stream",
     "text": [
      "22/01/09 11:22:05 WARN NativeCodeLoader: Unable to load native-hadoop library for your platform... using builtin-java classes where applicable\n",
      "Using Spark's default log4j profile: org/apache/spark/log4j-defaults.properties\n",
      "Setting default log level to \"WARN\".\n",
      "To adjust logging level use sc.setLogLevel(newLevel). For SparkR, use setLogLevel(newLevel).\n"
     ]
    }
   ],
   "source": [
    "spark = SparkSession.builder.master(\"local[*]\")\\\n",
    "          .appName(\"practica 2 Ecosistema Spark parte 1\")\\\n",
    "          .getOrCreate()"
   ]
  },
  {
   "cell_type": "markdown",
   "id": "9864ee8c-c2d0-4267-987b-fb60654d335f",
   "metadata": {},
   "source": [
    "# 1. Creación de dataframes proporcionando el schema"
   ]
  },
  {
   "cell_type": "markdown",
   "id": "5f03c3ef-aac1-4165-9835-ddf582aab856",
   "metadata": {},
   "source": [
    "Los cuatro conjuntos de datos comparten la misma estructura, asique se usa el mismo esquema para todos."
   ]
  },
  {
   "cell_type": "code",
   "execution_count": 5,
   "id": "2d08fece-d22e-4323-a445-5e49a4909f4d",
   "metadata": {},
   "outputs": [],
   "source": [
    "schema = StructType([StructField('index', IntegerType(), True),\n",
    "                     StructField('arrival_time', LongType(), True),\n",
    "                     StructField('creation_time', LongType(), True),\n",
    "                     StructField('x', FloatType(), True),\n",
    "                     StructField('y', FloatType(), True),\n",
    "                     StructField('z', FloatType(), True),\n",
    "                     StructField('user', StringType(), True),\n",
    "                     StructField('model', StringType(), True),\n",
    "                     StructField('device', StringType(), True),\n",
    "                     StructField('gt', StringType(), True)])"
   ]
  },
  {
   "cell_type": "code",
   "execution_count": 6,
   "id": "dbd7fe66-4cc7-4852-9583-7ad56d166539",
   "metadata": {},
   "outputs": [],
   "source": [
    "df_phones_acc   = spark.read.csv(data_path+'Phones_accelerometer.csv', schema=schema)\n",
    "df_phones_gyros = spark.read.csv(data_path+'Phones_gyroscope.csv', schema=schema)\n",
    "df_watch_acc    = spark.read.csv(data_path+'Watch_accelerometer.csv', schema=schema)\n",
    "df_watch_gyros  = spark.read.csv(data_path+'Watch_gyroscope.csv', schema=schema)"
   ]
  },
  {
   "cell_type": "markdown",
   "id": "cc4c8f49-a52a-44f2-b303-4bb134e1ce60",
   "metadata": {},
   "source": [
    "# 2. Resumen de cada dataframe"
   ]
  },
  {
   "cell_type": "markdown",
   "id": "1bbb39f7-3e46-4030-a48c-5b7e1c62cb03",
   "metadata": {},
   "source": [
    "Se calcula la media, desviación típica, máximo y mínimo de las variables x, y, z agrupadas por usuario, modelo y acción. Nótese que se calculan todos los estadísticos en una sola iteración."
   ]
  },
  {
   "cell_type": "code",
   "execution_count": 59,
   "id": "468e9b86-5afc-4c40-b61c-eca43cbc73e4",
   "metadata": {},
   "outputs": [],
   "source": [
    "def summarize_dataframe(spark_df, groupby=['user', 'model', 'gt'], aggregate=['x', 'y', 'z'], functions = [f.mean, f.stddev, f.min, f.max]):\n",
    "    \n",
    "    # descripcion\n",
    "    #----------------\n",
    "    \n",
    "    # Agrega las columnas de un dataframe agrupando por las columnas seleccionadas. Puede haber multiples funciones de agregado.\n",
    "    \n",
    "    # argumentos:\n",
    "    #----------------\n",
    "    \n",
    "    #<spark_df> | tipo: pyspark.sql.DataFrame\n",
    "    #<groupby> | tipo: list | contenido: str\n",
    "    #<aggregate> | tipo: list | contenido: str\n",
    "    #<functions> | tipo: list | contenido: pyspark.sql.functions\n",
    "    \n",
    "    # resultado: \n",
    "    #----------------\n",
    "    \n",
    "    #<result> | tipo: pyspark.sql.DataFrame | descriptivo: dataframe de spark con los estadísticos calculados y las columnas de agregado\n",
    "    \n",
    "    \n",
    "    exprs = [fun(f.col(c)) for fun in functions for c in aggregate]\n",
    "    result = df_phones_acc.groupby(*groupby).agg(*exprs)\n",
    "    \n",
    "    for c in result.columns[len(groupby):]: # se almacenan solo dos decimales por sencillez en la lectura.\n",
    "        \n",
    "        result = result.withColumn(c, f.round(c, 2))\n",
    "        \n",
    "        \n",
    "    return result"
   ]
  },
  {
   "cell_type": "code",
   "execution_count": 60,
   "id": "2014e73b-6224-4818-b225-21b471457d51",
   "metadata": {},
   "outputs": [],
   "source": [
    "summary_phones_acc = summarize_dataframe(df_phones_acc)\n",
    "summary_phones_gyros = summarize_dataframe(df_phones_gyros)\n",
    "summary_watch_acc = summarize_dataframe(df_watch_acc)\n",
    "summary_watch_gyros = summarize_dataframe(df_watch_gyros)"
   ]
  },
  {
   "cell_type": "code",
   "execution_count": 61,
   "id": "482bb18b-5b8e-4bb1-9023-49964eb6be16",
   "metadata": {},
   "outputs": [
    {
     "name": "stderr",
     "output_type": "stream",
     "text": [
      "[Stage 44:===================================================>     (9 + 1) / 10]\r"
     ]
    },
    {
     "name": "stdout",
     "output_type": "stream",
     "text": [
      "+----+----------+----------+------+------+------+--------------+--------------+--------------+------+------+------+------+------+------+\n",
      "|user|     model|        gt|avg(x)|avg(y)|avg(z)|stddev_samp(x)|stddev_samp(y)|stddev_samp(z)|min(x)|min(y)|min(z)|max(x)|max(y)|max(z)|\n",
      "+----+----------+----------+------+------+------+--------------+--------------+--------------+------+------+------+------+------+------+\n",
      "|   d|    s3mini|stairsdown| -4.46|  0.24|  8.47|          2.24|          1.94|          2.92|-15.55| -7.76|  0.42|  3.94|  8.83| 19.61|\n",
      "|   h|samsungold|stairsdown| -5.64|  0.24|  8.06|          2.58|          2.02|          3.54|-18.39| -9.04| -0.15|  1.99| 10.42| 19.46|\n",
      "+----+----------+----------+------+------+------+--------------+--------------+--------------+------+------+------+------+------+------+\n",
      "only showing top 2 rows\n",
      "\n"
     ]
    },
    {
     "name": "stderr",
     "output_type": "stream",
     "text": [
      "                                                                                \r"
     ]
    }
   ],
   "source": [
    "summary_watch_gyros.show(2)"
   ]
  },
  {
   "cell_type": "markdown",
   "id": "e8ab8bdc-2fb4-4233-b302-4db058dc9d39",
   "metadata": {},
   "source": [
    "# 3. Join de cada dataframe del mismo dispositivo"
   ]
  },
  {
   "cell_type": "code",
   "execution_count": 62,
   "id": "fbb0e106-c815-446e-8efc-63dd5bc95202",
   "metadata": {},
   "outputs": [],
   "source": [
    "summary_phones = summary_phones_acc.join(summary_phones_gyros, on=['user', 'model', 'gt'], how='left')\n",
    "summary_watch = summary_watch_acc.join(summary_watch_gyros, on=['user', 'model', 'gt'], how='left')"
   ]
  },
  {
   "cell_type": "code",
   "execution_count": 65,
   "id": "934fae1e-2012-4d01-bb7c-200fb3b41896",
   "metadata": {},
   "outputs": [
    {
     "name": "stderr",
     "output_type": "stream",
     "text": [
      "                                                                                \r"
     ]
    },
    {
     "name": "stdout",
     "output_type": "stream",
     "text": [
      "+----+----------+----------+------+------+------+--------------+--------------+--------------+------+------+------+------+------+------+------+------+------+--------------+--------------+--------------+------+------+------+------+------+------+\n",
      "|user|     model|        gt|avg(x)|avg(y)|avg(z)|stddev_samp(x)|stddev_samp(y)|stddev_samp(z)|min(x)|min(y)|min(z)|max(x)|max(y)|max(z)|avg(x)|avg(y)|avg(z)|stddev_samp(x)|stddev_samp(y)|stddev_samp(z)|min(x)|min(y)|min(z)|max(x)|max(y)|max(z)|\n",
      "+----+----------+----------+------+------+------+--------------+--------------+--------------+------+------+------+------+------+------+------+------+------+--------------+--------------+--------------+------+------+------+------+------+------+\n",
      "|   d|    s3mini|stairsdown| -4.46|  0.24|  8.47|          2.24|          1.94|          2.92|-15.55| -7.76|  0.42|  3.94|  8.83| 19.61| -4.46|  0.24|  8.47|          2.24|          1.94|          2.92|-15.55| -7.76|  0.42|  3.94|  8.83| 19.61|\n",
      "|   h|samsungold|stairsdown| -5.64|  0.24|  8.06|          2.58|          2.02|          3.54|-18.39| -9.04| -0.15|  1.99| 10.42| 19.46| -5.64|  0.24|  8.06|          2.58|          2.02|          3.54|-18.39| -9.04| -0.15|  1.99| 10.42| 19.46|\n",
      "+----+----------+----------+------+------+------+--------------+--------------+--------------+------+------+------+------+------+------+------+------+------+--------------+--------------+--------------+------+------+------+------+------+------+\n",
      "only showing top 2 rows\n",
      "\n"
     ]
    }
   ],
   "source": [
    "summary_phones.show(2)"
   ]
  },
  {
   "cell_type": "code",
   "execution_count": 66,
   "id": "52703396-bf3f-430f-893a-4a040731c606",
   "metadata": {},
   "outputs": [
    {
     "name": "stderr",
     "output_type": "stream",
     "text": [
      "                                                                                \r"
     ]
    },
    {
     "data": {
      "text/plain": [
       "(252, 252)"
      ]
     },
     "execution_count": 66,
     "metadata": {},
     "output_type": "execute_result"
    }
   ],
   "source": [
    "summary_phones.count(), summary_watch.count() "
   ]
  },
  {
   "cell_type": "markdown",
   "id": "76d02b2b-bd07-4986-ae87-ee0daa805e24",
   "metadata": {},
   "source": [
    "# 4. Unión de los dataframe de ambos dispositivos"
   ]
  },
  {
   "cell_type": "code",
   "execution_count": 67,
   "id": "c6ece013-a6f8-42bc-be2c-16aee53ce5b0",
   "metadata": {},
   "outputs": [],
   "source": [
    "summary = summary_phones.union(summary_watch)"
   ]
  },
  {
   "cell_type": "code",
   "execution_count": 68,
   "id": "a38c61fe-43f1-40d2-8c13-85b9c950227e",
   "metadata": {},
   "outputs": [
    {
     "name": "stderr",
     "output_type": "stream",
     "text": [
      "[Stage 73:=============================================>           (8 + 2) / 10]\r"
     ]
    },
    {
     "name": "stdout",
     "output_type": "stream",
     "text": [
      "+----+----------+----------+------+------+------+--------------+--------------+--------------+------+------+------+------+------+------+------+------+------+--------------+--------------+--------------+------+------+------+------+------+------+\n",
      "|user|     model|        gt|avg(x)|avg(y)|avg(z)|stddev_samp(x)|stddev_samp(y)|stddev_samp(z)|min(x)|min(y)|min(z)|max(x)|max(y)|max(z)|avg(x)|avg(y)|avg(z)|stddev_samp(x)|stddev_samp(y)|stddev_samp(z)|min(x)|min(y)|min(z)|max(x)|max(y)|max(z)|\n",
      "+----+----------+----------+------+------+------+--------------+--------------+--------------+------+------+------+------+------+------+------+------+------+--------------+--------------+--------------+------+------+------+------+------+------+\n",
      "|   d|    s3mini|stairsdown| -4.46|  0.24|  8.47|          2.24|          1.94|          2.92|-15.55| -7.76|  0.42|  3.94|  8.83| 19.61| -4.46|  0.24|  8.47|          2.24|          1.94|          2.92|-15.55| -7.76|  0.42|  3.94|  8.83| 19.61|\n",
      "|   h|samsungold|stairsdown| -5.64|  0.24|  8.06|          2.58|          2.02|          3.54|-18.39| -9.04| -0.15|  1.99| 10.42| 19.46| -5.64|  0.24|  8.06|          2.58|          2.02|          3.54|-18.39| -9.04| -0.15|  1.99| 10.42| 19.46|\n",
      "+----+----------+----------+------+------+------+--------------+--------------+--------------+------+------+------+------+------+------+------+------+------+--------------+--------------+--------------+------+------+------+------+------+------+\n",
      "only showing top 2 rows\n",
      "\n"
     ]
    },
    {
     "name": "stderr",
     "output_type": "stream",
     "text": [
      "                                                                                \r"
     ]
    }
   ],
   "source": [
    "summary.show(2)"
   ]
  },
  {
   "cell_type": "code",
   "execution_count": 69,
   "id": "9fb0b763-99e2-41f6-8c3b-8674f171efc6",
   "metadata": {},
   "outputs": [
    {
     "name": "stderr",
     "output_type": "stream",
     "text": [
      "                                                                                \r"
     ]
    },
    {
     "data": {
      "text/plain": [
       "504"
      ]
     },
     "execution_count": 69,
     "metadata": {},
     "output_type": "execute_result"
    }
   ],
   "source": [
    "summary.count() # la dimension del dataframe final debe coincidir con las dimensiones de cada uno por separado"
   ]
  },
  {
   "cell_type": "code",
   "execution_count": null,
   "id": "951f389d-cf6f-420d-be69-83e600d58b35",
   "metadata": {},
   "outputs": [],
   "source": []
  }
 ],
 "metadata": {
  "kernelspec": {
   "display_name": "Python 3 (ipykernel)",
   "language": "python",
   "name": "python3"
  },
  "language_info": {
   "codemirror_mode": {
    "name": "ipython",
    "version": 3
   },
   "file_extension": ".py",
   "mimetype": "text/x-python",
   "name": "python",
   "nbconvert_exporter": "python",
   "pygments_lexer": "ipython3",
   "version": "3.8.12"
  }
 },
 "nbformat": 4,
 "nbformat_minor": 5
}
