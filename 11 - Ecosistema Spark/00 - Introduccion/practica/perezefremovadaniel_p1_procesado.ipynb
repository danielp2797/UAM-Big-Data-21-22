{
 "cells": [
  {
   "cell_type": "markdown",
   "id": "0dec66af-e453-44ae-9a6f-a05aaa65fe40",
   "metadata": {},
   "source": [
    "# EJERCICIO PROCESAMIENTO"
   ]
  },
  {
   "cell_type": "markdown",
   "id": "415c3b6d-08af-4080-8b09-853b7dcb93fc",
   "metadata": {},
   "source": [
    "Para este ejercicio se usaron los ficheros completos (no los small data) de los datos propuestos."
   ]
  },
  {
   "cell_type": "code",
   "execution_count": 1,
   "id": "c57de2a4-30bd-4fc2-ba55-04d160fc7a21",
   "metadata": {},
   "outputs": [
    {
     "name": "stdout",
     "output_type": "stream",
     "text": [
      "package \"funciones\" succesfully loaded\n"
     ]
    }
   ],
   "source": [
    "from pyspark import SparkContext\n",
    "import numpy as np\n",
    "import funciones as udf"
   ]
  },
  {
   "cell_type": "markdown",
   "id": "34875ead-2db0-402b-aa30-800972a06091",
   "metadata": {},
   "source": [
    "Primero se declara la sesión de spark y sendas rutas a los ficheros."
   ]
  },
  {
   "cell_type": "code",
   "execution_count": 2,
   "id": "bc1f6a67-e5b3-4500-9ab8-da15e22213be",
   "metadata": {},
   "outputs": [],
   "source": [
    "sc = SparkContext(master = 'local[*]')"
   ]
  },
  {
   "cell_type": "code",
   "execution_count": 2,
   "id": "610da242-aaed-490a-b9f0-49cbcb8db68d",
   "metadata": {},
   "outputs": [],
   "source": [
    "main_path = '/media/daniel/Seagate Basic/spark_practica1/sensores' # path donde se encuantran los csv\n",
    "path_accel_wat = f'{main_path}/Watch_accelerometer.csv'\n",
    "path_accel_mob = f'{main_path}/Phones_accelerometer.csv'\n",
    "path_gyros_wat = f'{main_path}/Watch_gyroscope.csv'\n",
    "path_gyros_mob = f'{main_path}/Phones_gyroscope.csv'"
   ]
  },
  {
   "cell_type": "markdown",
   "id": "79d33b3c-12a4-474b-bde4-ef9264540a6f",
   "metadata": {},
   "source": [
    "Después, se usan las funciones para procesar los datos, siguiendo los siguientes pasos:\n",
    "\n",
    "1. Separar los valores de cada línea en el string por defecto al realizar la lectura.\n",
    "2. Pasar a clave valor las observaciones siguiendo la estructura (g1-g2-g3, (valores)).\n",
    "3. Eliminar las claves que contengan null como segmento de agrupación.\n",
    "\n",
    "El tercer paso se debe a que se han encontrado valores perdidos ('null') en la variable que define las acciones. Todas las clases que contengan null seran eliminadas porque no tiene sentido una clase con acción indeterminada."
   ]
  },
  {
   "cell_type": "code",
   "execution_count": 17,
   "id": "c08a7e00-3b95-4a97-ad62-ae009cf06503",
   "metadata": {},
   "outputs": [],
   "source": [
    "# se crean los RDDs, se preprocesan, se calculan los estadísticos pedidos y se eliminan las claves con missings\n",
    "rdd_accel_mob = sc.textFile(path_accel_mob)\n",
    "rdd_accel_mob = udf.preprocesa_rdd(rdd_accel_mob)\n",
    "accel_mob_agg = udf.summary(rdd_accel_mob)\n",
    "accel_mob_agg = udf.remove_null_keys(accel_mob_agg)\n",
    "\n",
    "rdd_accel_wat = sc.textFile(path_accel_wat)\n",
    "rdd_accel_wat = udf.preprocesa_rdd(rdd_accel_wat)\n",
    "accel_wat_agg = udf.summary(rdd_accel_wat)\n",
    "accel_wat_agg = udf.remove_null_keys(accel_wat_agg)\n",
    "\n",
    "rdd_gyros_mob = sc.textFile(path_gyros_mob)\n",
    "rdd_gyros_mob = udf.preprocesa_rdd(rdd_gyros_mob)\n",
    "gyros_mob_agg = udf.summary(rdd_gyros_mob)\n",
    "gyros_mob_agg = udf.remove_null_keys(gyros_mob_agg)\n",
    "\n",
    "rdd_gyros_wat = sc.textFile(path_gyros_wat)\n",
    "rdd_gyros_wat = udf.preprocesa_rdd(rdd_gyros_wat)\n",
    "gyros_wat_agg = udf.summary(rdd_gyros_wat)\n",
    "gyros_wat_agg = udf.remove_null_keys(gyros_wat_agg)\n",
    "\n",
    "join_wat = accel_wat_agg.join(gyros_wat_agg)\n",
    "join_mob = accel_mob_agg.join(gyros_mob_agg)\n",
    "\n",
    "union_data = join_wat.union(join_mob)\n",
    "\n",
    "union_data = union_data.map(lambda x: (x[0], tuple(udf.flatten(x))[1:])) # se suaviza el resultado final"
   ]
  },
  {
   "cell_type": "code",
   "execution_count": 11,
   "id": "efdd5e97-5ee2-4d04-abf6-723b6bfe6c8c",
   "metadata": {},
   "outputs": [
    {
     "data": {
      "text/plain": [
       "[('d-nexus4-walk',\n",
       "  (-3.3188981584809225,\n",
       "   -0.28856426149887004,\n",
       "   9.450924416874267,\n",
       "   -16.117615,\n",
       "   -7.0500793,\n",
       "   3.3018036,\n",
       "   3.7467498999999997,\n",
       "   5.350021400000001,\n",
       "   17.71753,\n",
       "   2.271896034546832,\n",
       "   1.5930168876151198,\n",
       "   2.478863255473076))]"
      ]
     },
     "execution_count": 11,
     "metadata": {},
     "output_type": "execute_result"
    }
   ],
   "source": [
    "accel_mob_agg.take(1) #(grupo, (media(x,y,z), min(x, y,z), max(x,y,z), std(x, y,z)))"
   ]
  },
  {
   "cell_type": "code",
   "execution_count": 14,
   "id": "ebe0d0d0-2846-4549-b72a-156fddcb9629",
   "metadata": {},
   "outputs": [
    {
     "data": {
      "text/plain": [
       "[('e-lgwatch-sit',\n",
       "  ((1.8760753940141008,\n",
       "    8.093533184880828,\n",
       "    4.254708372294288,\n",
       "    -8.994415,\n",
       "    -12.1167145,\n",
       "    0.78411865,\n",
       "    16.294647,\n",
       "    10.465424,\n",
       "    8.447128,\n",
       "    1.669104779711666,\n",
       "    1.1202746717638736,\n",
       "    0.45037339414998034),\n",
       "   (0.003548147151567854,\n",
       "    0.0004308153084735134,\n",
       "    0.0011935236748547794,\n",
       "    -1.7831879,\n",
       "    -0.49371338,\n",
       "    -0.20968628,\n",
       "    2.6858063,\n",
       "    1.4417114,\n",
       "    0.90649414,\n",
       "    0.07831189498622515,\n",
       "    0.04062564913072338,\n",
       "    0.030050879271012815)))]"
      ]
     },
     "execution_count": 14,
     "metadata": {},
     "output_type": "execute_result"
    }
   ],
   "source": [
    "join_wat.take(1)"
   ]
  },
  {
   "cell_type": "code",
   "execution_count": 6,
   "id": "76d5dbd7-15c8-4b30-a6a4-21bd0df8e7d9",
   "metadata": {},
   "outputs": [
    {
     "data": {
      "text/plain": [
       "(101, 162)"
      ]
     },
     "execution_count": 6,
     "metadata": {},
     "output_type": "execute_result"
    }
   ],
   "source": [
    "join_wat.count(), join_mob.count()"
   ]
  },
  {
   "cell_type": "code",
   "execution_count": 16,
   "id": "68e40683-a32e-4642-b6de-8db8da59e6f5",
   "metadata": {},
   "outputs": [
    {
     "data": {
      "text/plain": [
       "[('e-lgwatch-sit',\n",
       "  (1.8760753940141008,\n",
       "   8.093533184880828,\n",
       "   4.254708372294288,\n",
       "   -8.994415,\n",
       "   -12.1167145,\n",
       "   0.78411865,\n",
       "   16.294647,\n",
       "   10.465424,\n",
       "   8.447128,\n",
       "   1.669104779711666,\n",
       "   1.1202746717638736,\n",
       "   0.45037339414998034,\n",
       "   0.003548147151567854,\n",
       "   0.0004308153084735134,\n",
       "   0.0011935236748547794,\n",
       "   -1.7831879,\n",
       "   -0.49371338,\n",
       "   -0.20968628,\n",
       "   2.6858063,\n",
       "   1.4417114,\n",
       "   0.90649414,\n",
       "   0.07831189498622515,\n",
       "   0.04062564913072338,\n",
       "   0.030050879271012815))]"
      ]
     },
     "execution_count": 16,
     "metadata": {},
     "output_type": "execute_result"
    }
   ],
   "source": [
    "union_data.take(1) #los primeros doce valores son los estadisticos para acelerom. y los 12 ultimos para giros."
   ]
  },
  {
   "cell_type": "code",
   "execution_count": 15,
   "id": "74b195c0-de15-4a63-a968-9838ad9909e7",
   "metadata": {},
   "outputs": [
    {
     "data": {
      "text/plain": [
       "263"
      ]
     },
     "execution_count": 15,
     "metadata": {},
     "output_type": "execute_result"
    }
   ],
   "source": [
    "union_data.count()"
   ]
  },
  {
   "cell_type": "markdown",
   "id": "68261f56-867c-4163-bc2d-e473eafd79ce",
   "metadata": {},
   "source": [
    "# Pruebas variando cores"
   ]
  },
  {
   "cell_type": "markdown",
   "id": "dce72898-9de4-4f8f-9078-692420a51805",
   "metadata": {},
   "source": [
    "En esta parte se mete todo el proceso anterior en una función y se ejecuta variando los cores que utiliza Spark. Para cada una de las pruebas se reinicia el kernel de la notebook para no solapar las sesiones de spark."
   ]
  },
  {
   "cell_type": "code",
   "execution_count": 5,
   "id": "164c940b-68dc-4188-afab-454e357ea5a9",
   "metadata": {},
   "outputs": [],
   "source": [
    "from time import time"
   ]
  },
  {
   "cell_type": "code",
   "execution_count": 7,
   "id": "e57bb978-a028-4b66-a1c9-77c8d526a03c",
   "metadata": {},
   "outputs": [],
   "source": [
    "def prueba():\n",
    "    \n",
    "    rdd_accel_mob = sc.textFile(path_accel_mob)\n",
    "    rdd_accel_mob = udf.preprocesa_rdd(rdd_accel_mob)\n",
    "    accel_mob_agg = udf.summary(rdd_accel_mob)\n",
    "    accel_mob_agg = udf.remove_null_keys(accel_mob_agg)\n",
    "\n",
    "    rdd_accel_wat = sc.textFile(path_accel_wat)\n",
    "    rdd_accel_wat = udf.preprocesa_rdd(rdd_accel_wat)\n",
    "    accel_wat_agg = udf.summary(rdd_accel_wat)\n",
    "    accel_wat_agg = udf.remove_null_keys(accel_wat_agg)\n",
    "\n",
    "    rdd_gyros_mob = sc.textFile(path_gyros_mob)\n",
    "    rdd_gyros_mob = udf.preprocesa_rdd(rdd_gyros_mob)\n",
    "    gyros_mob_agg = udf.summary(rdd_gyros_mob)\n",
    "    gyros_mob_agg = udf.remove_null_keys(gyros_mob_agg)\n",
    "\n",
    "    rdd_gyros_wat = sc.textFile(path_gyros_wat)\n",
    "    rdd_gyros_wat = udf.preprocesa_rdd(rdd_gyros_wat)\n",
    "    gyros_wat_agg = udf.summary(rdd_gyros_wat)\n",
    "    gyros_wat_agg = udf.remove_null_keys(gyros_wat_agg)\n",
    "\n",
    "    join_wat = accel_wat_agg.join(gyros_wat_agg)\n",
    "    join_mob = accel_mob_agg.join(gyros_mob_agg)\n",
    "\n",
    "    union_data = join_wat.union(join_mob)\n",
    "\n",
    "    union_data = union_data.map(lambda x: (x[0], tuple(udf.flatten(x))[1:])) # se suaviza el resultado final\n",
    "    \n",
    "    return union_data"
   ]
  },
  {
   "cell_type": "markdown",
   "id": "0e4e8651-387d-4ecb-b0ca-126ef259196c",
   "metadata": {},
   "source": [
    "### 1 core (reiniciar el kernel)"
   ]
  },
  {
   "cell_type": "code",
   "execution_count": 4,
   "id": "94b20894-c490-4b39-8b0b-4b614e911b46",
   "metadata": {},
   "outputs": [],
   "source": [
    "sc = SparkContext(master = 'local[1]')"
   ]
  },
  {
   "cell_type": "code",
   "execution_count": 7,
   "id": "22be5118-fbb1-4d3f-870e-e764f031d89a",
   "metadata": {},
   "outputs": [
    {
     "name": "stdout",
     "output_type": "stream",
     "text": [
      "tiempo: 1091.4489452838898\n"
     ]
    }
   ],
   "source": [
    "t0 = time()\n",
    "prueba().collect()\n",
    "t1 = time()\n",
    "print(f'tiempo: {t1-t0}')"
   ]
  },
  {
   "cell_type": "markdown",
   "id": "ce12e13b-4001-466b-a4e9-b477851f9b5d",
   "metadata": {},
   "source": [
    "### 2 cores (reiniciar el kernel)"
   ]
  },
  {
   "cell_type": "code",
   "execution_count": 3,
   "id": "d1890bdf-4d4d-4143-a96c-7271c04c265b",
   "metadata": {},
   "outputs": [],
   "source": [
    "sc = SparkContext(master = 'local[2]')"
   ]
  },
  {
   "cell_type": "code",
   "execution_count": 8,
   "id": "25c29906-65ad-4d17-9ff7-fb18ed7571e9",
   "metadata": {},
   "outputs": [
    {
     "name": "stdout",
     "output_type": "stream",
     "text": [
      "tiempo: 679.7884542942047\n"
     ]
    }
   ],
   "source": [
    "t0 = time()\n",
    "prueba().collect()\n",
    "t1 = time()\n",
    "print(f'tiempo: {t1-t0}')"
   ]
  },
  {
   "cell_type": "markdown",
   "id": "a2ce26d4-69e5-4ca3-965e-4e364161ef21",
   "metadata": {},
   "source": [
    "Se observa que al aumentar el número de cores el tiempo de ejecución se reduce entre un 40% y un 50%."
   ]
  },
  {
   "cell_type": "code",
   "execution_count": null,
   "id": "fc0cdbbe-8ad2-4261-b074-f7883f282b5b",
   "metadata": {},
   "outputs": [],
   "source": []
  }
 ],
 "metadata": {
  "kernelspec": {
   "display_name": "Python 3",
   "language": "python",
   "name": "python3"
  },
  "language_info": {
   "codemirror_mode": {
    "name": "ipython",
    "version": 3
   },
   "file_extension": ".py",
   "mimetype": "text/x-python",
   "name": "python",
   "nbconvert_exporter": "python",
   "pygments_lexer": "ipython3",
   "version": "3.8.8"
  },
  "toc-autonumbering": false,
  "toc-showcode": true,
  "toc-showmarkdowntxt": true,
  "toc-showtags": true
 },
 "nbformat": 4,
 "nbformat_minor": 5
}
