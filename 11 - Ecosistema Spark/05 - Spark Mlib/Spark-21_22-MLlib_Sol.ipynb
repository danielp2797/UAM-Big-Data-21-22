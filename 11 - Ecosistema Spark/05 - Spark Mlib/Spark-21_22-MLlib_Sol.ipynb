{
 "cells": [
  {
   "cell_type": "markdown",
   "metadata": {},
   "source": [
    "<div class=\"title\">Ecosistema Spark &ndash; MLlib</div>\n",
    "<div class=\"subtitle\">Máster en Big Data y Data Science</div>\n",
    "<div class=\"author\">Carlos María Alaíz Gudín - Universidad Autónoma de Madrid</div>\n",
    "\n",
    "---"
   ]
  },
  {
   "cell_type": "markdown",
   "metadata": {},
   "source": [
    "**Configuración inicial**"
   ]
  },
  {
   "cell_type": "code",
   "execution_count": 1,
   "metadata": {},
   "outputs": [
    {
     "data": {
      "text/html": [
       "<head><link rel=\"stylesheet\" href=\"notebook.css\"></head>\n"
      ],
      "text/plain": [
       "<IPython.core.display.HTML object>"
      ]
     },
     "metadata": {},
     "output_type": "display_data"
    }
   ],
   "source": [
    "%%html\n",
    "<head><link rel=\"stylesheet\" href=\"notebook.css\"></head>"
   ]
  },
  {
   "cell_type": "code",
   "execution_count": 2,
   "metadata": {},
   "outputs": [],
   "source": [
    "import matplotlib\n",
    "import matplotlib.pyplot as plt\n",
    "matplotlib.rc(\"figure\", figsize=(15, 5))"
   ]
  },
  {
   "cell_type": "markdown",
   "metadata": {},
   "source": [
    "# Repaso de Spark"
   ]
  },
  {
   "cell_type": "markdown",
   "metadata": {},
   "source": [
    "## Introducción a Spark"
   ]
  },
  {
   "cell_type": "markdown",
   "metadata": {},
   "source": [
    "* Apache Spark™ es un motor unificado de análisis para el procesado de datos a gran escala.\n",
    "* La plataforma fue diseñada con el objetivo de ser *rápida*, de *propósito general*, y *fácil de usar*.\n",
    "    * Velocidad: $100$ veces más rápido que Hadoop.\n",
    "    * Propósito general: Spark SQL, grafos (GraphX), Spark Streaming, **aprendizaje automático (MLlib)**.\n",
    "    * Facilidad de uso: APIs en Java, Scala, **Python**, R y SQL.\n",
    "    * Funciona sobre Hadoop, Apache Mesos, Kubernetes, en modo local, o en la nube.\n",
    "* Basado principalmente en el modelo *map-reduce*."
   ]
  },
  {
   "cell_type": "markdown",
   "metadata": {},
   "source": [
    "## Spark desde Python"
   ]
  },
  {
   "cell_type": "markdown",
   "metadata": {},
   "source": [
    "* Para utilizar Spark desde Python se carga el paquete [pyspark](https://spark.apache.org/docs/latest/api/python/index.html), y los programas simplemente acceden al `SparkContext`, un objeto que representa una conexión a un clúster de computación.\n",
    "    * Cuando se utiliza el *kernel* Pyspark, hay un objeto de este tipo definido automáticamente en la variable `sc`, así que no es necesario crearlo.\n",
    "    * En el caso de que se esté utilizando un *kernel* genérico de Python, el primer paso será crearlo como:\n",
    "    ```pyhon\n",
    "    import pyspark\n",
    "    sc = pyspark.SparkContext()\n",
    "    ```"
   ]
  },
  {
   "cell_type": "markdown",
   "metadata": {},
   "source": [
    "El siguiente código crea el objeto `SparkContext`, en el caso de que no exista previamente."
   ]
  },
  {
   "cell_type": "code",
   "execution_count": 3,
   "metadata": {},
   "outputs": [
    {
     "name": "stdout",
     "output_type": "stream",
     "text": [
      "SparkContext ya creado:\n",
      "\t <SparkContext master=local[*] appName=Jupyter Notebook #1>\n"
     ]
    }
   ],
   "source": [
    "if not ((\"sc\" in globals()) or (\"sc\" in locals())):\n",
    "    print(\"Creando SparkContext:\")\n",
    "    import pyspark\n",
    "    sc = pyspark.SparkContext()\n",
    "else:\n",
    "    print(\"SparkContext ya creado:\")\n",
    "\n",
    "print(\"\\t\", sc)"
   ]
  },
  {
   "cell_type": "markdown",
   "metadata": {},
   "source": [
    "## RDD"
   ]
  },
  {
   "cell_type": "markdown",
   "metadata": {},
   "source": [
    "- Un Resilient Distributed Dataset (RDD) es una colección de elementos distribuida en el clúster.\n",
    "- Es la estructura básica de almacenamiento de información en Spark.\n",
    "- Cualquier trabajo en Spark consiste en la manipulación de RDDs para obtener un resultado."
   ]
  },
  {
   "cell_type": "markdown",
   "metadata": {},
   "source": [
    "### Creación de RDDs"
   ]
  },
  {
   "cell_type": "markdown",
   "metadata": {},
   "source": [
    "* La primera forma para crear un RDD es cargar los datos de una fuente externa (por ejemplo un fichero)."
   ]
  },
  {
   "cell_type": "markdown",
   "metadata": {},
   "source": [
    "<div class=\"qst\">\n",
    "\n",
    "* Cargar el fichero de texto `./data/quijote.txt` en un RDD de nombre `lines` usando la función `textFile()`.\n",
    "\n",
    "</div>"
   ]
  },
  {
   "cell_type": "code",
   "execution_count": 4,
   "metadata": {},
   "outputs": [
    {
     "name": "stdout",
     "output_type": "stream",
     "text": [
      "<class 'pyspark.rdd.RDD'>\n"
     ]
    }
   ],
   "source": [
    "################################\n",
    "# Insertar código.\n",
    "lines = sc.textFile(\"./data/quijote.txt\")\n",
    "################################\n",
    "\n",
    "print(type(lines))"
   ]
  },
  {
   "cell_type": "markdown",
   "metadata": {},
   "source": [
    "* Otra forma muy común de crear RDDs es distribuir sobre el clúster una colección de objetos existente en el programa principal."
   ]
  },
  {
   "cell_type": "markdown",
   "metadata": {},
   "source": [
    "<div class=\"qst\">\n",
    "\n",
    "* Crear un RDD que contenga números del $1$ al $9$, y guardarlo en una variable con nombre `numbers`  usando la función `parallelize()`.\n",
    "\n",
    "</div>"
   ]
  },
  {
   "cell_type": "code",
   "execution_count": 5,
   "metadata": {},
   "outputs": [
    {
     "name": "stdout",
     "output_type": "stream",
     "text": [
      "<class 'pyspark.rdd.PipelinedRDD'>\n"
     ]
    }
   ],
   "source": [
    "################################\n",
    "# Insertar código.\n",
    "numbers = sc.parallelize(range(1, 10))\n",
    "################################\n",
    "\n",
    "print(type(numbers))"
   ]
  },
  {
   "cell_type": "markdown",
   "metadata": {},
   "source": [
    "### Operaciones con RDDs"
   ]
  },
  {
   "cell_type": "markdown",
   "metadata": {},
   "source": [
    "* Los RDDs soportan dos tipos de operaciones:\n",
    "    * *Transformaciones*: Operaciones que generan un nuevo RDD.\n",
    "    * *Acciones*: Operaciones que devuelven un resultado al programa principal, o bien lo escriben en un dispositivo de almacenamiento."
   ]
  },
  {
   "cell_type": "markdown",
   "metadata": {},
   "source": [
    "#### Transformaciones básicas"
   ]
  },
  {
   "cell_type": "markdown",
   "metadata": {},
   "source": [
    "* Las dos [transformaciones](https://spark.apache.org/docs/latest/rdd-programming-guide.html#transformations) básicas son `map()` y `filter()`.\n",
    "    * `map()` recibe como argumento una función y genera un nuevo RDD con el resultado de aplicar la función a cada elemento del RDD original.\n",
    "    * `filter()` recibe como argumento una función y genera un nuevo RDD con los elementos del RDD original para los que la función devuelve `True`."
   ]
  },
  {
   "cell_type": "markdown",
   "metadata": {},
   "source": [
    "<div class=\"qst\">\n",
    "\n",
    "* Utilizar la transformación `filter()` para crear, a partir del RDD `lines`, un nuevo RDD `lines_molino` formado únicamente por las líneas que contenga la palabra `\"molino\"`.\n",
    "\n",
    "</div>"
   ]
  },
  {
   "cell_type": "code",
   "execution_count": 6,
   "metadata": {},
   "outputs": [
    {
     "name": "stdout",
     "output_type": "stream",
     "text": [
      "<class 'pyspark.rdd.PipelinedRDD'>\n"
     ]
    }
   ],
   "source": [
    "################################\n",
    "# Insertar código.\n",
    "lines_molino = lines.filter(lambda line: \"molino\" in line)\n",
    "################################\n",
    "\n",
    "print(type(lines_molino))"
   ]
  },
  {
   "cell_type": "markdown",
   "metadata": {},
   "source": [
    "#### Acciones básicas"
   ]
  },
  {
   "cell_type": "markdown",
   "metadata": {},
   "source": [
    "* Algunas de las [acciones](https://spark.apache.org/docs/latest/rdd-programming-guide.html#actions) más comunes sobre RDDs son `reduce()`, `collect()`, `first()` y `count()`.\n",
    "    * `reduce()` recibe como argumento una función que opera sobre dos elementos del mismo tipo que los almacenados en el RDD, y la aplica a los elementos del RDD por pares hasta obtener un único elemento del mismo tipo. Es importante que la función sea conmutativa y asociativa, ya que no hay ninguna garantía de en qué orden se realizará la reducción.\n",
    "    * `collect()` devuelve todos los elementos de un RDD como un *array*.\n",
    "    * `first()` devuelve el primer elemento de un RDD.\n",
    "    * `count()` devuelve el número de elementos de un RDD."
   ]
  },
  {
   "cell_type": "markdown",
   "metadata": {},
   "source": [
    "<div class=\"qst\">\n",
    "\n",
    "* Almacenar en la variable `num_lines` el número de líneas que contienen la palabra `\"molino\"` (es decir, el número de registros del RDD `lines_molino`).\n",
    "* Recuperar en la variable `array_lines_molino` las líneas contenidas en el RDD `lines_molino`.\n",
    "\n",
    "</div>"
   ]
  },
  {
   "cell_type": "code",
   "execution_count": 7,
   "metadata": {
    "scrolled": true
   },
   "outputs": [
    {
     "name": "stdout",
     "output_type": "stream",
     "text": [
      "14\n",
      "-> Autores hay que dicen que la primera aventura que le avino fue la de Puerto Lápice; otros dicen que la de los molinos de viento; pero lo que yo he podido averiguar en este caso, y lo que he hallado escrito en los anales de la Mancha, es que él anduvo todo aquel día, y al anochecer, su rocín y él se hallaron cansados y\n",
      "-> Y quiso la suerte que cuando llegó a este verso acertó a pasar por allí un labrador de su mismo lugar, y vecino suyo, que venía de llevar una carga de trigo al molino; el cual, viendo aquel hombre allí tendido, se llegó a él y le preguntó que quién era y qué mal sentía que tan tristemente se quejaba. Don Quijote creyó sin duda que aquel era el marqués de Mantua su tío, y así no le respondió otra cosa sino fue proseguir en su romance, donde le daba cuenta de su desgracia y de los amores del hijo del Emperante con su esposa, todo de la misma manera que el romance lo canta. El labrador estaba admirado oyendo aquellos disparates, y quitándole la visera, que ya estaba hecha pedazos de los palos, le limpió el rostro que lo tenía lleno de polvo; y apenas le hubo limpiado, cuando le conoció y le dijo: señor Quijada (que así se debía de llamar cuando él tenía juicio, y no había pasado de hidalgo sosegado a caballero andante) ¿quién ha puesto a vuestra merced de esta suerte? Pero él, seguía con su romance a cuanto le preguntaba. Viendo esto el buen hombre, lo mejor que pudo le quitó el peto y espaldar, para ver si tenía alguna herida; pero no vió sangre ni señal alguna. Procuró levantarle del suelo, y no con poco trabajo le subió sobre su jumento, por parecerle caballería más sosegada. Recogió las armas hasta las astillas de la lanza, y liólas sobre Rocinante, al cual tomó de la rienda, y del cabestro al asno, y se encaminó hacia su pueblo, bien pensativo de oír los disparates que Don Quijote decía; y no menos iba Don Quijote, que de puro molido y quebrantado no se podía tener sobre el borrico, y de cuando en cuando daba unos suspiro que los ponía en el cielo, de modo que de nuevo obligó a que el labrador le preguntase le dijese qué mal sentía; y no parece sino que el diablo le traía a la memoria los cuentos acomodados a sus sucesos, porque en aquel punto, olvidándose de Baldovinos, se acordó del moro Abindarráez cuando el alcaide de Antequera Rodrigo de Narváez le prendió, y llevó cautivo a su alcaidía. De suerte que cuando el labrador le volvió a preguntar cómo estaba y qué sentía, le respondió las mismas palabras y razones que el cautivo Abencerraje respondía a Rodrigo de Narváez, del mismo modo que él había leído la historia en la Diana de Jorge de Montemayor, donde se escribe; aprovechándose de ella tan de propósito que el labrador se iba dando al diablo de oír tanta máquina de necedades; por donde conoció que su vecino estaba loco, y dábase priesa a llegar al pueblo, por excusar el enfado que Don Quijote le causaba con su larga arenga. Al cabo de lo cual dijo; sepa vuestra merced, señor Don Rodrigo de Narváez, que esta hermosa Jarifa, que he dicho, es ahora la linda Dulcinea del Toboso, por quien yo he hecho, hago y haré los más famosos hechos de caballerías que se han visto, vean, ni verán\n",
      "-> Capítulo 8: Del buen suceso que el valeroso Don Quijote tuvo en la espantable y jamás imaginada aventura de los molinos de viento, con otros sucesos dignos de felice recordación\n",
      "-> En esto descubrieron treinta o cuarenta molinos de viento que hay en aquel campo, y así como Don Quijote los vió, dijo a su escudero: la ventura va guiando nuestras cosas mejor de lo que acertáramos a desear; porque ves allí, amigo Sancho Panza, donde se descubren treinta o poco más desaforados gigantes con quien pienso hacer batalla, y quitarles a todos las vidas, con cuyos despojos comenzaremos a enriquecer: que esta es buena guerra, y es gran servicio de Dios quitar tan mala simiente de sobre la faz de la tierra. ¿Qué gigantes? dijo Sancho Panza. Aquellos que allí ves, respondió su amo, de los brazos largos, que los suelen tener algunos de casi dos leguas. Mire vuestra merced, respondió Sancho, que aquellos que allí se parecen no son gigantes, sino molinos de viento, y lo que en ellos parecen brazos son las aspas, que volteadas del viento hacen andar la piedra del molino. Bien parece, respondió Don Quijote, que no estás cursado en esto de las aventuras; ellos son gigantes, y si tienes miedo quítate de ahí, y ponte en oración en el espacio que yo voy a entrar con ellos en fiera y desigual batalla. Y diciendo esto, dio de espuelas a su caballo Rocinante, sin atender a las voces que su escudero Sancho le daba, advirtiéndole que sin duda alguna eran molinos de viento, y no gigantes aquellos que iba a acometer. Pero él iba tan puesto en que eran gigantes, que ni oía las voces de su escudero Sancho, ni echaba de ver, aunque estaba ya bien cerca, lo que eran; antes iba diciendo en voces altas: non fuyades, cobardes y viles criaturas, que un solo caballero es el que os acomete. Levantóse en esto un poco de viento y las grandes aspas comenzaron a moverse, lo cual visto por Don Quijote, dijo: pues aunque mováis más brazos que los del gigante Briareo, me lo habéis de pagar.\n",
      "-> Y en diciendo esto, y encomendándose de todo corazón a su señora Dulcinea, pidiéndole que en tal trance le socorriese, bien cubierto de su rodela, con la lanza en ristre, arremetió a todo el galope de Rocinante, y embistió con el primer molino que estaba delante; y dándole una lanzada en el aspa, la volvió el viento con tanta furia, que hizo la lanza pedazos, llevándose tras sí al caballo y al caballero, que fue rodando muy maltrecho por el campo. Acudió Sancho Panza a socorrerle a todo el correr de su asno, y cuando llegó, halló que no se podía menear, tal fue el golpe que dio con él Rocinante. ¡Válame Dios! dijo Sancho; ¿no le dije yo a vuestra merced que mirase bien lo que hacía, que no eran sino molinos de viento, y no los podía ignorar sino quien llevase otros tales en la cabeza? Calla, amigo Sancho, respondió Don Quijote, que las cosas de la guerra, más que otras, están sujetas a continua mudanza, cuanto más que yo pienso, y es así verdad, que aquel sabio Frestón, que me robó el aposento y los libros, ha vuelto estos gigantes en molinos por quitarme la gloria de su vencimiento: tal es la enemistad que me tiene; mas al cabo al cabo han de poder poco sus malas artes contra la voluntad de mi espada. Dios lo haga como puede, respondió Sancho Panza. Y ayudándole a levantar, tornó a subir sobre Rocinante, que medio despaldado estaba; y hablando en la pasada aventura, siguieron el camino del puerto Lápice, porque allí decía Don Quijote que no era posible dejar de hallarse muchas y diversas aventuras, por ser lugar muy pasajero; sino que iba muy pesaroso por haberle faltado la lanza y diciéndoselo a su escudero, dijo: yo me acuerdo haber leído que un caballero español, llamado Diego Pérez de Vargas, habiéndosele en una batalla roto la espada, desgajó de una encina un pesado ramo o tronco, y con él hizo tales cosas aquel día, y machacó tantos moros, que le quedó por sobrenombre Machuca, y así él, como sus descendientes, se llamaron desde aquel día en adelante Vargas y Machuca. Hete dicho esto, porque de la primera encina o roble que se me depare, pienso desgajar otro tronco tal y bueno como aquel, que me imagino y pienso hacer con él tales hazañas, que tú te tengas por bien afortunado de haber merecido venir a verlas, y aser testigo de cosas que apenas podrán ser creídas. A la mano de Dios, dijo Sancho, yo lo creo todo así como vuestra merced lo dice; pero enderécese un poco, que parece que va de medio lado, y debe de ser del molimiento de la caída. Así es\n",
      "-> hurtada alguna princesa en aquel coche, y es menester deshacer este tuerto a todo mi poderío. Peor será esto que los molinos de viento, dijo Sancho. Mire señor, que aquellos son frailes de San Benito, y el coche debe de ser de alguna gente pasajera: mire que digo que mire bien lo que hace, no sea el diablo que le engañe. Ya te he dicho, Sancho, respondió Don Quijote, que sabes poco de achaques de aventuras: lo que yo digo es verdad, y ahora lo verás. Y diciendo esto se adelantó, y se puso en la mitad del camino por donde los frailes venían, y en llegando tan cerca que a él le pareció que le podían oír lo que dijese, en alta voz dijo: gente endiablada y descomunal, dejad luego al punto las altas princesas que en ese coche lleváis forzadas, si no, aparejáos a recibir presta muerte por justo castigo de vuestras malas obras.\n",
      "-> ¡Sin ventura yo! dijo Don Quijote, oyendo las tristes nuevas que su escudero le daba, que más quisiera que me hubieran derribado un brazo, como no fuera el de la espada; porque te hago saber, Sancho, que la boca sin muelas es como el molino sin piedra, y en mucho más se ha de estimar un diente que un diamante; mas a todo esto estamos sujetos los que profesamos la estrecha orden de la caballería. Sube, amigo, y guía, que yo te seguiré al paso que quisieres. Hízolo así Sancho, y encaminose hacia donde le pareció que podía hallar acogimiento, sin salir del camino real, que por allí iba muy seguido. Yéndose, pues, poco a poco, porque el dolor de las quijadas de Don Quijote no le dejaba sosegar, ni atender a darse priesa, quiso Sancho entretenelle y divertirle diciéndole alguna cosa, y entre otras que le dijo, fue lo que se dirá en el siguiente capítulo.\n",
      "-> En esto, comenzó a llover un poco, y quisiera Sancho que se entraran en el molino de los batanes; mas habíales cobrado tal aborrecimiento don Quijote, por la pesada burla, que en ninguna manera quiso entrar dentro; y así, torciendo el camino a la derecha mano, dieron en otro como el que habían llevado el día de antes.\n",
      "-> Era el espejo en que se miraban, el báculo de su vejez, y el sujeto a quien encaminaban, midiéndolos con el cielo, todos sus deseos; de los cuales, por ser ellos tan buenos, los míos no salían un punto. Y del mismo modo que yo era señora de sus ánimos, ansí lo era de su hacienda: por mí se recebían y despedían los criados; la razón y cuenta de lo que se sembraba y cogía pasaba por mi mano; los molinos de aceite, los lagares del vino, el número del ganado mayor y menor, el de las colmenas. Finalmente, de todo aquello que un tan rico labrador como mi padre puede tener y tiene, tenía yo la cuenta, y era la mayordoma y señora, con tanta solicitud mía y con tanto gusto suyo, que buenamente no acertaré a encarecerlo. Los ratos que del día me quedaban, después de haber dado lo que convenía a los mayorales, a capataces y a otros jornaleros, los entretenía en ejercicios que son a las doncellas tan lícitos como necesarios, como son los que ofrece la aguja y la almohadilla, y la rueca muchas veces; y si alguna, por recrear el ánimo, estos ejercicios dejaba, me acogía al entretenimiento de leer algún libro devoto, o a tocar una arpa, porque la experiencia me mostraba que la música compone los ánimos descompuestos y alivia los trabajos que nacen del espíritu. Esta, pues, era la vida que yo tenía en casa de mis padres, la cual si tan particularmente he contado, no ha sido por ostentación, ni por dar a entender que soy rica, sino porque se advierta cuán sin culpa me he venido de aquel buen estado que he dicho al infelice en que ahora me hallo.\n",
      "-> -Y bien -prosiguió don Quijote-, he aquí que acabó de limpiar su trigo y de enviallo al molino. ¿Qué hizo cuando leyó la carta?\n",
      "-> -Hermano mío -dijo el cura-, estos dos libros son mentirosos y están llenos de disparates y devaneos, y éste del Gran Capitán es historia verdadera y tiene los hechos de Gonzalo Hernández de Córdoba, el cual, por sus muchas y grandes hazañas, mereció ser llamado de todo el mundo Gran Capitán, renombre famoso y claro, y dél sólo merecido; y este Diego García de Paredes fue un principal caballero natural de la ciudad de Trujillo, en Extremadura, valentísimo soldado, y de tantas fuerzas naturales, que detenía con un dedo una rueda de molino en la mitad de su furia; y, puesto con un montante en la entrada de una puente, detuvo a todo un innumerable ejército, que no pasase por ella; y hizo otras tales cosas, que si como él las cuenta y las escribe él asimismo, con la modestia de caballero y de coronista propio, las escribiera otro libre y desapasionado, pusieran en olvido las de los Hétores, Aquiles y Roldanes.\n",
      "-> -¡Tomaos con mi padre! -dijo el dicho ventero-. ¡Mirad de qué se espanta; de detener una rueda de molino! Por Dios, ahora había vuestra merced de leer lo que leí yo de Félixmarte de Hircania, que de un revés solo partió cinco gigantes por la cintura, como si fueran hechos de habas, como los frailecicos que hacen los niños. Y otra vez arremetió con un grandísimo y poderosísimo ejército, donde llevó más de un millón y seiscientos mil soldados, todos armados desde el pie hasta la cabeza, y los desbarató a todos, como si fueran manadas de ovejas. Pues ¿qué me dirán del bueno de don Cirongilio de Tracia, que fue tan valiente y animoso como se verá en el libro, donde cuenta que navegando por un río, le salió de la mitad del agua una serpiente de fuego, y él, así como la vio, se arrojó sobre ella, y se puso a horcajadas encima de sus escamosas espaldas, y la apretó con ambas manos la garganta con tanta fuerza, que viendo la serpiente que la iba ahogando, no tuvo otro remedio sino dejarse ir a lo hondo del río, llevándose tras sí al caballero, que nunca la quiso soltar? Y cuando llegaron allá abajo, se halló en unos palacios y en unos jardines tan lindos, que era maravilla; y luego la sierpe se volvió en un viejo anciano, que le dijo tantas de cosas, que no hay más que oír. Calle, señor; que si oyese esto, se volvería loco de placer. ¡Dos higas para el Gran Capitán y para ese Diego García que dice!\n",
      "-> sepa que le entiendo, por más que disimule sus embustes. En fin, donde reina la envidia no puede vivir la virtud, ni adonde hay escaseza la liberalidad. ¡Mal haya el diablo; que si por su reverencia no fuera, ésta fuera ya la hora que mi señor estuviera casado con la infanta Micomicona, y yo fuera conde, por lo menos, pues no se podía esperar otra cosa, así de la bondad de mi señor el de la Triste Figura como de la grandeza de mis servicios! Pero ya veo que es verdad lo que se dice por ahí, que la rueda de la Fortuna anda más lista que una rueda de molino, y que los que ayer estaban en pinganitos, hoy están por el suelo. De mis hijos y de mi mujer me pesa; pues cuando podían y debían esperar ver entrar a su padre por sus puertas hecho gobernador o visorrey de alguna ínsula o reino, le verán entrar hecho mozo de caballos. Todo esto que he dicho, señor cura, no es más de por encarecer a su paternidad haga conciencia del mal tratamiento que a mi señor se le hace, y mire bien no le pida Dios en la otra vida esta prisión de mi amo, y se le haga cargo de todos aquellos socorros y bienes que mi señor don Quijote deja de hacer en este tiempo que está preso.\n",
      "-> Ya en esto llegaron todos los de la compañía de don Quijote adonde él estaba; mas los de la procesión, que los vieron venir corriendo, y con ellos los cuadrilleros con sus ballestas, temieron algún mal suceso, y hiciéronse todos un remolino alrededor de la imagen; y alzados los capirotes, empuñando las diciplinas, y los clérigos los ciriales, esperaban el asalto con determinación de defenderse, y aun ofender, si pudiesen, a sus acometedores; pero la fortuna lo hizo mejor que se pensaba, porque Sancho no hizo otra cosa que arrojarse sobre el cuerpo de su señor, haciendo sobre él el más doloroso y risueño llanto del mundo, creyendo que estaba muerto.\n"
     ]
    }
   ],
   "source": [
    "################################\n",
    "# Insertar código.\n",
    "num_lines = lines_molino.count()\n",
    "array_lines_molino = lines_molino.collect()\n",
    "################################\n",
    "\n",
    "print(num_lines)\n",
    "for line in array_lines_molino:\n",
    "    print(\"->\", line)"
   ]
  },
  {
   "cell_type": "markdown",
   "metadata": {},
   "source": [
    "#### Map-reduce"
   ]
  },
  {
   "cell_type": "markdown",
   "metadata": {},
   "source": [
    "* Una de las combinaciones más útiles de Spark es la de **_map-reduce_**.\n",
    "* Por ejemplo, se puede calcular el número de caracteres de un fichero de la siguiente forma:\n",
    "    1. Transformando cada línea en el número de caracteres que contiene.\n",
    "    2. Reduciendo el RDD para sumar todos los elementos."
   ]
  },
  {
   "cell_type": "markdown",
   "metadata": {},
   "source": [
    "<div class=\"qst\">\n",
    "\n",
    "* Crear mediante `map()` un nuevo RDD `chars` que contenga el número de caracteres de cada línea almacenada en el RDD `lines`.\n",
    "* Obtener el número total de caracteres utilizando `reduce()` sobre el nuevo RDD `chars`, y almacenar el resultado en la variable `num_chars`.\n",
    "\n",
    "</div>"
   ]
  },
  {
   "cell_type": "code",
   "execution_count": 8,
   "metadata": {},
   "outputs": [
    {
     "name": "stdout",
     "output_type": "stream",
     "text": [
      "Total number of characters (reduce): 1036211\n"
     ]
    }
   ],
   "source": [
    "################################\n",
    "# Insertar código.\n",
    "chars = lines.map(lambda line: len(line))\n",
    "num_chars = chars.reduce(lambda chars_1, chars_2: chars_1 + chars_2)\n",
    "################################\n",
    "\n",
    "print(\"Total number of characters (reduce): {:}\".format(num_chars))"
   ]
  },
  {
   "cell_type": "markdown",
   "metadata": {},
   "source": [
    "En este caso, existe una función que directamente realiza ese reducción, la función `sum()`, como se muestra a continuación:"
   ]
  },
  {
   "cell_type": "code",
   "execution_count": 9,
   "metadata": {},
   "outputs": [
    {
     "name": "stdout",
     "output_type": "stream",
     "text": [
      "Total number of characters (sum): 1036211\n"
     ]
    }
   ],
   "source": [
    "num_chars = chars.sum()\n",
    "\n",
    "print(\"Total number of characters (sum): {:}\".format(num_chars))"
   ]
  },
  {
   "cell_type": "markdown",
   "metadata": {},
   "source": [
    "#### Evaluación perezosa"
   ]
  },
  {
   "cell_type": "markdown",
   "metadata": {},
   "source": [
    "* En Spark se utiliza evaluación perezosa (*lazy evaluation*):\n",
    "    * Las transformaciones sobre los RDDs se evalúan de forma perezosa.\n",
    "    * No se ejecutan hasta que aparecen en una acción.\n",
    "    * Esto reduce el número de pasadas necesarias sobre los datos.\n",
    "    * Es posible forzar a Spark a que ejecute una transformación ejecutando una acción (por ejemplo, `count()`)."
   ]
  },
  {
   "cell_type": "markdown",
   "metadata": {},
   "source": [
    "De esta forma, el siguiente código no realiza ningún cálculo, ni siquiera carga los datos del fichero."
   ]
  },
  {
   "cell_type": "code",
   "execution_count": 10,
   "metadata": {},
   "outputs": [],
   "source": [
    "lines_molino = sc.textFile(\"./data/quijote.txt\").filter(lambda line: \"molino\" in line)"
   ]
  },
  {
   "cell_type": "markdown",
   "metadata": {},
   "source": [
    "Mientras que al realizar la llamada a `count()` se desencadena toda la ejecución."
   ]
  },
  {
   "cell_type": "code",
   "execution_count": 11,
   "metadata": {},
   "outputs": [
    {
     "name": "stdout",
     "output_type": "stream",
     "text": [
      "14\n"
     ]
    }
   ],
   "source": [
    "print(lines_molino.count())"
   ]
  },
  {
   "cell_type": "markdown",
   "metadata": {},
   "source": [
    "#### Persistencia"
   ]
  },
  {
   "cell_type": "markdown",
   "metadata": {},
   "source": [
    "* A veces un RDD se usa más de una vez en un programa.\n",
    "* Dado que los RDDs se evalúan de forma perezosa, esto puede implicar que se repitan cálculos costosos.\n",
    "* Para evitar este problema se puede controlar la [persistencia](https://spark.apache.org/docs/latest/rdd-programming-guide.html#rdd-persistence) de un RDD a través de la función `persist()`, que permite por ejemplo indicar a Spark que guarde el RDD en memoria o en disco."
   ]
  },
  {
   "cell_type": "code",
   "execution_count": 12,
   "metadata": {},
   "outputs": [
    {
     "name": "stdout",
     "output_type": "stream",
     "text": [
      "Memory Serialized 1x Replicated\n"
     ]
    }
   ],
   "source": [
    "from pyspark import StorageLevel\n",
    "lines.persist(StorageLevel.MEMORY_ONLY)\n",
    "\n",
    "print(lines.getStorageLevel())"
   ]
  },
  {
   "cell_type": "markdown",
   "metadata": {},
   "source": [
    "* Para acabar con la persistencia de un RDD se usa el método `unpersist()`."
   ]
  },
  {
   "cell_type": "code",
   "execution_count": 13,
   "metadata": {},
   "outputs": [
    {
     "name": "stdout",
     "output_type": "stream",
     "text": [
      "Serialized 1x Replicated\n"
     ]
    }
   ],
   "source": [
    "lines.unpersist()\n",
    "\n",
    "print(lines.getStorageLevel())"
   ]
  },
  {
   "cell_type": "markdown",
   "metadata": {},
   "source": [
    "# Repaso de ML"
   ]
  },
  {
   "cell_type": "markdown",
   "metadata": {},
   "source": [
    "* El **objetivo** del aprendizaje automático (*Machine Learning*, ML) es realizar predicciones o tomar decisiones en base a datos históricos.\n",
    "* Los datos consisten en un conjunto de ejemplos o **patrones**, cada uno de ellos descrito por un vector de **características**.\n",
    "* Hay distintos tipos de problemas de aprendizaje automático: **clasificación**, **regresión**, **_clustering_**.\n",
    "* En los **modelos paramétricos**, el modelo depende de unos parámetros que se ajustan para minimizar la **función de coste** evaluada sobre un conjunto de datos. Este proceso de ajuste de parámetros es el **entrenamiento del modelo**.\n",
    "* En muchos casos, los modelos dependen también de parámetros de alto nivel o **hiperparámetros** que no pueden ajustarse en el entrenamiento, así que se suelen seleccionar durante una fase de **validación del modelo**."
   ]
  },
  {
   "cell_type": "markdown",
   "metadata": {},
   "source": [
    "# Spark MLlib"
   ]
  },
  {
   "cell_type": "markdown",
   "metadata": {},
   "source": [
    "## Introducción a MLlib"
   ]
  },
  {
   "cell_type": "markdown",
   "metadata": {},
   "source": [
    "* [MLlib](https://spark.apache.org/docs/latest/ml-guide.html) es una librería de funciones de *Machine Learning* para Spark.\n",
    "    * Incluye un conjunto de algoritmos que se pueden aplicar a RDDs/DataFrames.\n",
    "    * No están todos los algoritmos, solo aquellos fácilmente paralelizables que funcionan bien en un clúster de computación.\n",
    "    * MLlib está diseñada para ejecutar un único algoritmo sobre un conjunto muy grande de datos distribuido en el clúster.\n",
    "* MLlib proporciona las siguientes herramientas:\n",
    "    * Extracción de características, transformación y selección de atributos, reducción de la dimensión.\n",
    "    * Algoritmos de ML (p. ej. clasificación, regresión, *clustering* o filtrado colaborativo).\n",
    "    * *Pipelines*.\n",
    "    * Persistencia: herramientas para salvar y cargar algoritmos y modelos.\n",
    "    * Otras utilidades (álgebra lineal, estadística, etc.).\n",
    "* En el caso de Python, a esta librería se accede a través de `pyspark.ml`."
   ]
  },
  {
   "cell_type": "markdown",
   "metadata": {},
   "source": [
    "## Tipos de datos en MLlib"
   ]
  },
  {
   "cell_type": "markdown",
   "metadata": {},
   "source": [
    "* MLlib incluye algunos tipos de datos propios, pensados para aplicaciones de ML."
   ]
  },
  {
   "cell_type": "markdown",
   "metadata": {},
   "source": [
    "### Vector"
   ]
  },
  {
   "cell_type": "markdown",
   "metadata": {},
   "source": [
    "* El tipo de dato [`Vector`](https://spark.apache.org/docs/latest/api/python/reference/pyspark.mllib.html#vector-and-matrix), definido dentro del módulo `ml.linalg`, se corresponde a un vector en el sentido matemático.\n",
    "* Puede definirse de manera densa (especificando todas sus componentes), o de manera dispersa (especificando solo el tamaño total y aquellas componentes que son distintas de $0$).\n",
    "* Estos vectores se integran con los *arrays* de NumPy."
   ]
  },
  {
   "cell_type": "markdown",
   "metadata": {},
   "source": [
    "A continuación se muestran algunos ejemplos sencillos."
   ]
  },
  {
   "cell_type": "code",
   "execution_count": 14,
   "metadata": {},
   "outputs": [
    {
     "name": "stdout",
     "output_type": "stream",
     "text": [
      "v1 = [4.0,5.0,0.0,3.0]\n",
      "v2 = (4,[0,3],[1.0,-2.0])\n",
      "v3 = (4,[1,3],[1.0,2.0])\n",
      "v4 = [4. 5. 0. 3.]\n",
      "\n",
      "v2 (array) = [ 1.  0.  0. -2.]\n",
      "v3 (array) = [0. 1. 0. 2.]\n",
      "\n",
      "v1 + v2 = [5.0,5.0,0.0,1.0]\n",
      "v3 + v4 = [4. 6. 0. 5.]\n",
      "\n",
      "v2 · v3 = -4.0\n",
      "||v2|| = 2.23606797749979\n"
     ]
    }
   ],
   "source": [
    "from pyspark.ml.linalg import Vectors\n",
    "import numpy as np\n",
    "\n",
    "v1 = Vectors.dense([4.0, 5.0, 0.0, 3.0])\n",
    "v2 = Vectors.sparse(4, [(0, 1.0), (3, -2.0)])\n",
    "v3 = Vectors.sparse(4, {1: 1.0, 3: 2.0})\n",
    "v4 = np.array([4.0, 5.0, 0.0, 3.0])\n",
    "\n",
    "print(\"v1 =\", v1)\n",
    "print(\"v2 =\", v2)\n",
    "print(\"v3 =\", v3)\n",
    "print(\"v4 =\", v4)\n",
    "print(\"\")\n",
    "print(\"v2 (array) =\", v2.toArray())\n",
    "print(\"v3 (array) =\", v3.toArray())\n",
    "print(\"\")\n",
    "print(\"v1 + v2 =\", v1 + v2)\n",
    "print(\"v3 + v4 =\", v3 + v4)\n",
    "print(\"\")\n",
    "print(\"v2 · v3 =\", v2.dot(v3))\n",
    "print(\"||v2|| =\", v2.norm(2))"
   ]
  },
  {
   "cell_type": "markdown",
   "metadata": {},
   "source": [
    "<div class=\"qst\">\n",
    "\n",
    "* Crear un vector disperso en la variable `u1` con el siguiente contenido: $\\begin{pmatrix} 0 & 2 & 0 & 0 & 0 & 0 \\end{pmatrix} $.\n",
    "* Crear un vector denso en la variable `u2` con el siguiente contenido: $\\begin{pmatrix} 1 & 2 & 3 & 4 & 5 & 6 \\end{pmatrix}$.\n",
    "* Calcular la distancia al cuadrado entre `u1` y `u2` usando la función de instancia `squared_distance()` y almacenarla en `distance`.\n",
    "\n",
    "</div>"
   ]
  },
  {
   "cell_type": "code",
   "execution_count": 15,
   "metadata": {},
   "outputs": [
    {
     "name": "stdout",
     "output_type": "stream",
     "text": [
      "u1 = (6,[1],[2.0])\n",
      "u2 = [1.0,2.0,3.0,4.0,5.0,6.0]\n",
      "distance = 87.0\n"
     ]
    }
   ],
   "source": [
    "################################\n",
    "# Insertar código.\n",
    "u1 = Vectors.sparse(6, [(1, 2)])\n",
    "u2 = Vectors.dense(np.arange(1, 7))\n",
    "distance = u1.squared_distance(u2)\n",
    "################################\n",
    "\n",
    "print(\"u1 =\", u1)\n",
    "print(\"u2 =\", u2)\n",
    "print(\"distance =\", distance)"
   ]
  },
  {
   "cell_type": "markdown",
   "metadata": {},
   "source": [
    "### LabeledPoint"
   ]
  },
  {
   "cell_type": "markdown",
   "metadata": {},
   "source": [
    "* El tipo de dato `LabeledPoint` representa un vector de características, junto con su clase o etiqueta.\n",
    "* Se utiliza en problemas de aprendizaje supervisado (como clasificación y regresión)."
   ]
  },
  {
   "cell_type": "markdown",
   "metadata": {},
   "source": [
    "<div class=\"notes\">\n",
    "\n",
    "* Como se verá más adelante, este tipo de dato pertenece a la librería antigua de MLlib, por eso se accede a través de [`mllib.regression`](https://spark.apache.org/docs/latest/api/python/reference/pyspark.mllib.html#regression), y por eso se usa la versión antigua de SparseVector en `mllib.linalg`.\n",
    "\n",
    "</div>"
   ]
  },
  {
   "cell_type": "markdown",
   "metadata": {},
   "source": [
    "A continuación se muestran algunos ejemplos sencillos."
   ]
  },
  {
   "cell_type": "code",
   "execution_count": 16,
   "metadata": {},
   "outputs": [
    {
     "name": "stdout",
     "output_type": "stream",
     "text": [
      "sample_pos = (1.0,[1.0,2.0,4.0])\n",
      "  >> label = 1.0\n",
      "  >> features = [1.0,2.0,4.0]\n",
      "sample_neg = (0.0,(3,[0,2],[1.0,3.0]))\n",
      "  >> label = 0.0\n",
      "  >> features = (3,[0,2],[1.0,3.0])\n"
     ]
    }
   ],
   "source": [
    "from pyspark.mllib.linalg import SparseVector\n",
    "from pyspark.mllib.regression import LabeledPoint\n",
    "\n",
    "sample_pos = LabeledPoint(1, [1.0, 2.0, 4.0])\n",
    "sample_neg = LabeledPoint(0, SparseVector(3, [0, 2], [1.0, 3.0]))\n",
    "\n",
    "print(\"sample_pos =\", sample_pos)\n",
    "print(\"  >> label =\", sample_pos.label)\n",
    "print(\"  >> features =\", sample_pos.features)\n",
    "print(\"sample_neg =\", sample_neg)\n",
    "print(\"  >> label =\", sample_neg.label)\n",
    "print(\"  >> features =\", sample_neg.features)"
   ]
  },
  {
   "cell_type": "markdown",
   "metadata": {},
   "source": [
    "* En las primeras versiones de Spark, un problema de clasificación o regresión se representaba como un RDD de `LabeledPoint`, en el que los elementos `label` hacían referencia a las clases o *targets* y los elementos `features` hacían referencia a los vectores de características.\n",
    "* Actualmente:\n",
    "<div align=\"center\", style=\"border: 2px solid gray; border-radius: 5px;margin-right: 100px;\n",
    "  margin-left: 100px; margin-top: 20px; margin-bottom: 20px; padding: 20px;\">\n",
    "<b>The MLlib RDD-based API is now in maintenance mode.</b><br><br>\n",
    "As of Spark 2.0, the RDD-based APIs in the <code>spark.mllib</code> package have entered maintenance mode.\n",
    "The primary Machine Learning API for Spark is now the DataFrame-based API in the <code>spark.ml</code> package.\n",
    "</div>\n",
    "* Desde la versión 2.0, Spark MLlib trabaja con SQL DataFrames en vez de con RDDs.\n",
    "* Actualmente coexisten dos APIs en MLlib:\n",
    "    * Basada en RDD: La antigua, de momento se mantiene (`mllib`).\n",
    "    * Basada en DataFrame: La principal y más recomendable (`ml`)."
   ]
  },
  {
   "cell_type": "markdown",
   "metadata": {},
   "source": [
    "### DataFrame"
   ]
  },
  {
   "cell_type": "markdown",
   "metadata": {},
   "source": [
    "* Un DataFrame es una colección de datos distribuida en el clúster y organizada en columnas, similar a una tabla en una base de datos relacional o a un DataFrame de Pandas.\n",
    "* El comportamiento es similar al de un RDD, pero con una estructura de tabla.\n",
    "* Para acceder a la funcionalidad de los DataFrames, es necesario crear una [sesión de Spark](https://spark.apache.org/docs/latest/api/python/reference/api/pyspark.sql.SparkSession.html)."
   ]
  },
  {
   "cell_type": "markdown",
   "metadata": {},
   "source": [
    "La siguiente celda muestra cómo crear una sesión de Spark:"
   ]
  },
  {
   "cell_type": "code",
   "execution_count": 17,
   "metadata": {},
   "outputs": [],
   "source": [
    "from pyspark.sql import SparkSession \n",
    "spark = SparkSession(sc)"
   ]
  },
  {
   "cell_type": "markdown",
   "metadata": {},
   "source": [
    "#### Carga desde fichero de Texto"
   ]
  },
  {
   "cell_type": "markdown",
   "metadata": {},
   "source": [
    "* A partir de la sesión de Spark, se puede crear un DataFrame cargando un fichero de texto mediante `read` (que accede al `DataFrameReader`) y la función `text()`.\n",
    "* Si no se especifican más opciones, creará una única columna (`value`), y una entrada para cada línea leída del fichero.\n",
    "* Cuando se imprime el DataFrame con `print()`, se puede ver que que la única columna de nombre `value` contiene cadenas de texto. También se puede mostrar la estructura del DataFrame con `printSchema()`."
   ]
  },
  {
   "cell_type": "markdown",
   "metadata": {},
   "source": [
    "<div class=\"qst\">\n",
    "\n",
    "* Cargar el fichero de texto `./data/quijote.txt` en un DataFrame de nombre `lines`.\n",
    "\n",
    "</div>"
   ]
  },
  {
   "cell_type": "code",
   "execution_count": 18,
   "metadata": {},
   "outputs": [
    {
     "name": "stdout",
     "output_type": "stream",
     "text": [
      "DataFrame[value: string]\n",
      "root\n",
      " |-- value: string (nullable = true)\n",
      "\n"
     ]
    }
   ],
   "source": [
    "################################\n",
    "# Insertar código.\n",
    "lines = spark.read.text(\"./data/quijote.txt\")\n",
    "################################\n",
    "\n",
    "print(lines)\n",
    "lines.printSchema()"
   ]
  },
  {
   "cell_type": "markdown",
   "metadata": {},
   "source": [
    "* Existen numerosas acciones que se pueden realizar sobre un [DataFrame](https://spark.apache.org/docs/latest/api/python/reference/api/pyspark.sql.DataFrame.html), como por ejemplo:\n",
    "    * `show()` muestra el contenido de un DataFrame (por defecto, solo los primeros $20$ registros).\n",
    "    * `count()` cuenta el número de registros.\n",
    "    * `toPandas()` devuelve el DataFrame (en local) convertido en un DataFrame de Pandas."
   ]
  },
  {
   "cell_type": "markdown",
   "metadata": {},
   "source": [
    "<div class=\"qst\">\n",
    "\n",
    "* Mostrar el DataFrame `lines` usando la función `show()`.\n",
    "* Almacenar el número de elementos del DataFrame `lines` en la variable `num_lines`.\n",
    "* Convertir el DataFrame `lines` en un DataFramde de Pandas, y almacenarlo en la variable `lines_pandas`.\n",
    "\n",
    "</div>"
   ]
  },
  {
   "cell_type": "code",
   "execution_count": 19,
   "metadata": {},
   "outputs": [
    {
     "name": "stdout",
     "output_type": "stream",
     "text": [
      "+--------------------+\n",
      "|               value|\n",
      "+--------------------+\n",
      "|DON QUIJOTE DE LA...|\n",
      "|Miguel de Cervant...|\n",
      "|                    |\n",
      "|       PRIMERA PARTE|\n",
      "|CAPÍTULO 1: Que ...|\n",
      "|En un lugar de la...|\n",
      "|Tuvo muchas veces...|\n",
      "|En resolución, e...|\n",
      "|historia más cie...|\n",
      "|Decía él, que e...|\n",
      "|En efecto, remata...|\n",
      "|Imaginábase el p...|\n",
      "|linaje y patria, ...|\n",
      "|Limpias, pues, su...|\n",
      "|Capítulo 2: Que ...|\n",
      "|Hechas, pues, est...|\n",
      "|Estos pensamiento...|\n",
      "|Con estos iba ens...|\n",
      "|Autores hay que d...|\n",
      "|muertos de hambre...|\n",
      "+--------------------+\n",
      "only showing top 20 rows\n",
      "\n",
      "Number of lines: 2186\n",
      "DataFrame of Pandas:\n",
      "                                                   value\n",
      "0                              DON QUIJOTE DE LA MANCHA\n",
      "1                          Miguel de Cervantes Saavedra\n",
      "2                                                      \n",
      "3                                         PRIMERA PARTE\n",
      "4     CAPÍTULO 1: Que trata de la condición y ejer...\n",
      "...                                                 ...\n",
      "2181                             Reposa aquí Dulcinea;\n",
      "2182  y, aunque de carnes rolliza, la volvió en pol...\n",
      "2183  y tuvo asomos de dama; del gran Quijote fue ll...\n",
      "2184  Estos fueron los versos que se pudieron leer; ...\n",
      "2185    Forse altri canterà con miglior plettro. FINIS\n",
      "\n",
      "[2186 rows x 1 columns]\n"
     ]
    }
   ],
   "source": [
    "################################\n",
    "# Insertar código.\n",
    "lines.show()\n",
    "num_lines = lines.count()\n",
    "lines_pandas = lines.toPandas()\n",
    "################################\n",
    "\n",
    "print(\"Number of lines: %d\" % num_lines)\n",
    "print(\"DataFrame of Pandas:\\n\", lines_pandas)"
   ]
  },
  {
   "cell_type": "markdown",
   "metadata": {},
   "source": [
    "* También se pueden realizar transformaciones sobre un [DataFrame](https://spark.apache.org/docs/latest/api/python/reference/api/pyspark.sql.DataFrame.html), que devuelven otro DataFrame (que se evaluará de forma perezosa):\n",
    "    * `filter()` (también llamado `where()`) filtra algunos registros, recibiendo para ello un DataFrame de valores Booleanos (por lo general obtenido operando con las columnas, de tipo de dato [Column](https://spark.apache.org/docs/latest/api/python/reference/api/pyspark.sql.Column.html), usando funciones como `contains()`, `eqNullSafe()`, `isin()`...) o una cadena con una expresión SQL.\n",
    "    * `select()` selecciona solo algunas columnas.\n",
    "    * `drop()` elimina algunas columnas.\n",
    "    * `limit()` selecciona las primeras filas.\n",
    "    * `withColumn()` permite añadir una nueva columna.\n",
    "    * `withColumnRenamed()`permite renombrar una columna."
   ]
  },
  {
   "cell_type": "markdown",
   "metadata": {},
   "source": [
    "<div class=\"qst\">\n",
    "\n",
    "* Utilizar la transformación `filter()` para crear, a partir del DataFrame `lines`, un nuevo DataFrame `lines_molino` formado únicamente por las líneas que contenga la palabra `\"molino\"`.\n",
    "\n",
    "</div>"
   ]
  },
  {
   "cell_type": "code",
   "execution_count": 20,
   "metadata": {},
   "outputs": [
    {
     "name": "stdout",
     "output_type": "stream",
     "text": [
      "+--------------------+\n",
      "|               value|\n",
      "+--------------------+\n",
      "|Autores hay que d...|\n",
      "|Y quiso la suerte...|\n",
      "|Capítulo 8: Del ...|\n",
      "|En esto descubrie...|\n",
      "|Y en diciendo est...|\n",
      "|hurtada alguna pr...|\n",
      "|¡Sin ventura yo! ...|\n",
      "|En esto, comenzó...|\n",
      "|Era el espejo en ...|\n",
      "|-Y bien -prosigui...|\n",
      "|-Hermano mío -di...|\n",
      "|-¡Tomaos con mi p...|\n",
      "|sepa que le entie...|\n",
      "|Ya en esto llegar...|\n",
      "+--------------------+\n",
      "\n",
      "Number of lines with molino: 14\n"
     ]
    }
   ],
   "source": [
    "################################\n",
    "# Insertar código.\n",
    "lines_molino = lines.filter(lines.value.contains(\"molino\"))\n",
    "# También se puede usar lines.filter(lines[\"value\"].contains(\"molino\")).\n",
    "################################\n",
    "\n",
    "lines_molino.show()\n",
    "print(\"Number of lines with molino: %d\" % lines_molino.count())"
   ]
  },
  {
   "cell_type": "markdown",
   "metadata": {},
   "source": [
    "#### Carga desde fichero JSON"
   ]
  },
  {
   "cell_type": "markdown",
   "metadata": {},
   "source": [
    "* Otra forma útil de crear un DataFrame es a partir de un archivo JSON como el siguiente:\n",
    "```json\n",
    "{\"name\":\"Michael\"}\n",
    "{\"name\":\"Andy\", \"age\":30}\n",
    "{\"name\":\"Justin\", \"age\":19}\n",
    "{\"name\":\"Julia\", \"age\":20}\n",
    "{\"name\":\"Jane\", \"age\":36}\n",
    "{\"name\":\"Michael\", \"age\":18}\n",
    "```\n",
    "* Para ello se utiliza la función `read.json()`."
   ]
  },
  {
   "cell_type": "markdown",
   "metadata": {},
   "source": [
    "<div class=\"qst\">\n",
    "\n",
    "* Cargar el fichero JSON `./data/people.json` en un DataFrame de nombre `people`.\n",
    "\n",
    "</div>"
   ]
  },
  {
   "cell_type": "code",
   "execution_count": 21,
   "metadata": {},
   "outputs": [
    {
     "name": "stdout",
     "output_type": "stream",
     "text": [
      "+----+-------+\n",
      "| age|   name|\n",
      "+----+-------+\n",
      "|null|Michael|\n",
      "|  30|   Andy|\n",
      "|  19| Justin|\n",
      "|  20|  Julia|\n",
      "|  36|   Jane|\n",
      "|  18|Michael|\n",
      "+----+-------+\n",
      "\n",
      "root\n",
      " |-- age: long (nullable = true)\n",
      " |-- name: string (nullable = true)\n",
      "\n"
     ]
    }
   ],
   "source": [
    "################################\n",
    "# Insertar código.\n",
    "people = spark.read.json(\"./data/people.json\")\n",
    "################################\n",
    "\n",
    "people.show()\n",
    "people.printSchema()"
   ]
  },
  {
   "cell_type": "markdown",
   "metadata": {},
   "source": [
    "A continuación se muestran algunos ejemplos con el DataFrame creado.\n",
    "En primer lugar, se selecciona solo la columna del nombre."
   ]
  },
  {
   "cell_type": "code",
   "execution_count": 22,
   "metadata": {},
   "outputs": [
    {
     "name": "stdout",
     "output_type": "stream",
     "text": [
      "+-------+\n",
      "|   name|\n",
      "+-------+\n",
      "|Michael|\n",
      "|   Andy|\n",
      "| Justin|\n",
      "|  Julia|\n",
      "|   Jane|\n",
      "|Michael|\n",
      "+-------+\n",
      "\n"
     ]
    }
   ],
   "source": [
    "people.select(\"name\").show()"
   ]
  },
  {
   "cell_type": "markdown",
   "metadata": {},
   "source": [
    "Se seleccionan las entradas con edad menor a $21$, y las que empiezan por `\"J\"`."
   ]
  },
  {
   "cell_type": "code",
   "execution_count": 23,
   "metadata": {},
   "outputs": [
    {
     "name": "stdout",
     "output_type": "stream",
     "text": [
      "+---+-------+\n",
      "|age|   name|\n",
      "+---+-------+\n",
      "| 19| Justin|\n",
      "| 20|  Julia|\n",
      "| 18|Michael|\n",
      "+---+-------+\n",
      "\n",
      "+---+------+\n",
      "|age|  name|\n",
      "+---+------+\n",
      "| 19|Justin|\n",
      "| 20| Julia|\n",
      "| 36|  Jane|\n",
      "+---+------+\n",
      "\n"
     ]
    }
   ],
   "source": [
    "people.filter(people[\"age\"] < 21).show()\n",
    "people.filter(people[\"name\"].startswith(\"J\")).show()"
   ]
  },
  {
   "cell_type": "markdown",
   "metadata": {},
   "source": [
    "<div class=\"qst\">\n",
    "\n",
    "* Seleccionar los registros del DataFrame `people` que cumplen las dos condiciones anteriores, y almacenarlos en un nuevo DataFrame `people_j21`.\n",
    "\n",
    "</div>"
   ]
  },
  {
   "cell_type": "code",
   "execution_count": 24,
   "metadata": {},
   "outputs": [
    {
     "name": "stdout",
     "output_type": "stream",
     "text": [
      "+---+------+\n",
      "|age|  name|\n",
      "+---+------+\n",
      "| 19|Justin|\n",
      "| 20| Julia|\n",
      "+---+------+\n",
      "\n"
     ]
    }
   ],
   "source": [
    "################################\n",
    "# Insertar código.\n",
    "people_j21 = people.filter((people.name.startswith(\"J\")) & (people.age < 21))\n",
    "################################\n",
    "\n",
    "people_j21.show()"
   ]
  },
  {
   "cell_type": "markdown",
   "metadata": {},
   "source": [
    "# Estadísticas básicas"
   ]
  },
  {
   "cell_type": "markdown",
   "metadata": {},
   "source": [
    "* El primer paso cuando se va a afrontar un problema de ML es realizar un análisis de los datos recibidos.\n",
    "* MLlib proporciona herramientas en este sentido en el módulo `ml.stat`."
   ]
  },
  {
   "cell_type": "markdown",
   "metadata": {},
   "source": [
    "## Conjunto de datos numéricos"
   ]
  },
  {
   "cell_type": "markdown",
   "metadata": {},
   "source": [
    "* Para algunos ejemplos se utilizará un conjunto de datos formado por $500$ puntos en tres dimensiones, correspondientes a dos clases de $250$ puntos cada una."
   ]
  },
  {
   "cell_type": "code",
   "execution_count": 25,
   "metadata": {},
   "outputs": [
    {
     "name": "stdout",
     "output_type": "stream",
     "text": [
      "[[17.11116589  9.63595131  2.34527287]\n",
      " [19.18012627  9.94266369 -0.27404596]\n",
      " [18.97292128 11.02869364 -1.08796343]\n",
      " ...\n",
      " [-1.59979128 -0.64364358  3.40608093]\n",
      " [-2.58624559 -0.32406842  2.59069081]\n",
      " [ 0.71988347  0.70483375  1.65821649]]\n",
      "[0 0 0 0 0 0 0 0 0 0 0 0 0 0 0 0 0 0 0 0 0 0 0 0 0 0 0 0 0 0 0 0 0 0 0 0 0\n",
      " 0 0 0 0 0 0 0 0 0 0 0 0 0 0 0 0 0 0 0 0 0 0 0 0 0 0 0 0 0 0 0 0 0 0 0 0 0\n",
      " 0 0 0 0 0 0 0 0 0 0 0 0 0 0 0 0 0 0 0 0 0 0 0 0 0 0 0 0 0 0 0 0 0 0 0 0 0\n",
      " 0 0 0 0 0 0 0 0 0 0 0 0 0 0 0 0 0 0 0 0 0 0 0 0 0 0 0 0 0 0 0 0 0 0 0 0 0\n",
      " 0 0 0 0 0 0 0 0 0 0 0 0 0 0 0 0 0 0 0 0 0 0 0 0 0 0 0 0 0 0 0 0 0 0 0 0 0\n",
      " 0 0 0 0 0 0 0 0 0 0 0 0 0 0 0 0 0 0 0 0 0 0 0 0 0 0 0 0 0 0 0 0 0 0 0 0 0\n",
      " 0 0 0 0 0 0 0 0 0 0 0 0 0 0 0 0 0 0 0 0 0 0 0 0 0 0 0 0 1 1 1 1 1 1 1 1 1\n",
      " 1 1 1 1 1 1 1 1 1 1 1 1 1 1 1 1 1 1 1 1 1 1 1 1 1 1 1 1 1 1 1 1 1 1 1 1 1\n",
      " 1 1 1 1 1 1 1 1 1 1 1 1 1 1 1 1 1 1 1 1 1 1 1 1 1 1 1 1 1 1 1 1 1 1 1 1 1\n",
      " 1 1 1 1 1 1 1 1 1 1 1 1 1 1 1 1 1 1 1 1 1 1 1 1 1 1 1 1 1 1 1 1 1 1 1 1 1\n",
      " 1 1 1 1 1 1 1 1 1 1 1 1 1 1 1 1 1 1 1 1 1 1 1 1 1 1 1 1 1 1 1 1 1 1 1 1 1\n",
      " 1 1 1 1 1 1 1 1 1 1 1 1 1 1 1 1 1 1 1 1 1 1 1 1 1 1 1 1 1 1 1 1 1 1 1 1 1\n",
      " 1 1 1 1 1 1 1 1 1 1 1 1 1 1 1 1 1 1 1 1 1 1 1 1 1 1 1 1 1 1 1 1 1 1 1 1 1\n",
      " 1 1 1 1 1 1 1 1 1 1 1 1 1 1 1 1 1 1 1]\n"
     ]
    }
   ],
   "source": [
    "import numpy as np\n",
    "\n",
    "numbers = np.loadtxt(\"./data/numbers.txt\")\n",
    "labels = np.repeat([0, 1], 250)\n",
    "\n",
    "print(numbers)\n",
    "print(labels)"
   ]
  },
  {
   "cell_type": "markdown",
   "metadata": {},
   "source": [
    "* A partir del *array* de NumPy, se construye un DataFrame sobre los datos, que tendrá una columna llamada `\"label\"` y otra llamada `\"features\"`.\n",
    "* Para ello, se transforma el *array* en una lista de listas, cada una con dos elementos, la etiqueta y las características de tipo `Vector`, y se crea el DataFrame a partir de esta lista."
   ]
  },
  {
   "cell_type": "code",
   "execution_count": 26,
   "metadata": {},
   "outputs": [
    {
     "name": "stdout",
     "output_type": "stream",
     "text": [
      "+-----+------------------------------------------------------------+\n",
      "|label|features                                                    |\n",
      "+-----+------------------------------------------------------------+\n",
      "|0    |[17.111165885025684,9.635951311173281,2.345272872845365]    |\n",
      "|0    |[19.180126269125928,9.94266368732471,-0.2740459609652126]   |\n",
      "|0    |[18.97292128433064,11.0286936370439,-1.0879634329406391]    |\n",
      "|0    |[22.948892025926195,12.197755525459277,2.8194621519365026]  |\n",
      "|0    |[18.984126427074788,9.836549137117064,-1.2353155616745144]  |\n",
      "|0    |[17.150166798966488,8.858936170375616,2.896967714626184]    |\n",
      "|0    |[22.92080349261344,11.213368814700013,0.9316151957979513]   |\n",
      "|0    |[16.764981399250075,9.407661258646804,3.803870015604918]    |\n",
      "|0    |[18.965096548392033,10.977448430265776,1.0211818474607124]  |\n",
      "|0    |[18.76019433695045,11.583635203870571,-0.14653134992974448] |\n",
      "|0    |[21.17772758173259,10.463494362719965,3.1483597637399]      |\n",
      "|0    |[19.921474300594035,10.15759760398005,-0.5649111567523755]  |\n",
      "|0    |[19.853320944253365,10.592986627520645,2.823747147669426]   |\n",
      "|0    |[16.377653819073924,8.413228119012796,1.78217021147384]     |\n",
      "|0    |[19.963278611157314,10.666721997483146,0.22210516838607286] |\n",
      "|0    |[18.605645264003638,10.086524662703729,3.3198221473575784]  |\n",
      "|0    |[20.629740607361896,10.059019624708698,-0.23920939740168867]|\n",
      "|0    |[17.617403108414276,9.992719448243173,2.9416472133614144]   |\n",
      "|0    |[17.009835285742817,9.350173069011692,-0.8990607713066805]  |\n",
      "|0    |[17.64835195372922,8.795681801536487,0.04511877821678978]   |\n",
      "+-----+------------------------------------------------------------+\n",
      "only showing top 20 rows\n",
      "\n"
     ]
    }
   ],
   "source": [
    "from pyspark.ml.linalg import Vectors\n",
    "\n",
    "samples = spark.createDataFrame([[l, Vectors.dense(v)] for l, v in zip(labels.tolist(), numbers)], \\\n",
    "                                [\"label\", \"features\"])\n",
    "\n",
    "samples.show(truncate=False)"
   ]
  },
  {
   "cell_type": "markdown",
   "metadata": {},
   "source": [
    "## Matriz de correlación"
   ]
  },
  {
   "cell_type": "markdown",
   "metadata": {},
   "source": [
    "* Se puede calcular la matriz de correlación utilizando la función `corr()` de `ml.stat.Correlation`.\n",
    "* Esta función recibe el DataFrame y la columna sobre la que calcular las estadísticas, y permite elegir entre la correlación de Pearson (por defecto) y la de Spearman.\n",
    "* Por tanto, se calcula la correlación entre las distintas componentes de los vectores de una columna, no entre distintas columnas."
   ]
  },
  {
   "cell_type": "markdown",
   "metadata": {},
   "source": [
    "A continuación se muestra un ejemplo con el DataFrame `samples`."
   ]
  },
  {
   "cell_type": "code",
   "execution_count": 27,
   "metadata": {},
   "outputs": [
    {
     "name": "stdout",
     "output_type": "stream",
     "text": [
      "Pearson correlation matrix:\n",
      "DenseMatrix([[1.        , 0.99041192, 0.08396279],\n",
      "             [0.99041192, 1.        , 0.08708823],\n",
      "             [0.08396279, 0.08708823, 1.        ]])\n",
      "\n",
      "Spearman correlation matrix:\n",
      "DenseMatrix([[1.        , 0.92379096, 0.07581054],\n",
      "             [0.92379096, 1.        , 0.08512181],\n",
      "             [0.07581054, 0.08512181, 1.        ]])\n"
     ]
    }
   ],
   "source": [
    "from pyspark.ml.stat import Correlation\n",
    "\n",
    "corr_p = Correlation.corr(samples, \"features\").head()[0]\n",
    "corr_s = Correlation.corr(samples, \"features\", method=\"spearman\").head()[0]\n",
    "\n",
    "print(\"Pearson correlation matrix:\")\n",
    "print(corr_p)\n",
    "print(\"\\nSpearman correlation matrix:\")\n",
    "print(corr_s)"
   ]
  },
  {
   "cell_type": "markdown",
   "metadata": {},
   "source": [
    "<div class=\"qst\">\n",
    "\n",
    "* Calcular e imprimir la matriz de correlación de Pearson del DataFrame `data`, generado en la siguiente celda.\n",
    "\n",
    "</div>"
   ]
  },
  {
   "cell_type": "code",
   "execution_count": 28,
   "metadata": {},
   "outputs": [
    {
     "name": "stdout",
     "output_type": "stream",
     "text": [
      "+-------------+\n",
      "|      numbers|\n",
      "+-------------+\n",
      "|[1.0,1.0,0.0]|\n",
      "|[2.0,2.0,0.0]|\n",
      "|[1.0,1.0,1.0]|\n",
      "|[2.0,2.0,0.0]|\n",
      "+-------------+\n",
      "\n",
      "DenseMatrix([[ 1.        ,  1.        , -0.57735027],\n",
      "             [ 1.        ,  1.        , -0.57735027],\n",
      "             [-0.57735027, -0.57735027,  1.        ]])\n"
     ]
    }
   ],
   "source": [
    "data = spark.createDataFrame([[Vectors.dense([1, 1, 0])], \\\n",
    "                              [Vectors.dense([2, 2, 0])], \\\n",
    "                              [Vectors.dense([1, 1, 1])], \\\n",
    "                              [Vectors.dense([2, 2, 0])]], [\"numbers\"])\n",
    "data.show()\n",
    "\n",
    "################################\n",
    "# Insertar código.\n",
    "corr_p = Correlation.corr(data, \"numbers\").head()[0]\n",
    "print(corr_p)\n",
    "################################"
   ]
  },
  {
   "cell_type": "markdown",
   "metadata": {},
   "source": [
    "## Test Chi-Cuadrado"
   ]
  },
  {
   "cell_type": "markdown",
   "metadata": {},
   "source": [
    "* El test $\\chi^2$, o test de independencia de Pearson, sirve para medir la independencia entre variables aleatorias discretas.\n",
    "    * Es especialmente útil en ML, ya que sirve para calcular la dependencia entre cada característica y la clase real, siempre que los atributos sean categóricos.\n",
    "    * Valores más pequeños del test suelen indicar mayor dependencia.\n",
    "* Se puede acceder a este test con la función `test()` de `ml.stat.ChiSquareTest`, que recibe como argumentos el DataFrame, el nombre de la columna de características y el nombre de la columna de etiquetas."
   ]
  },
  {
   "cell_type": "markdown",
   "metadata": {},
   "source": [
    "A continuación se muestra un ejemplo con el RDD `samples`, en el que se sustituyen las características originales por características categóricas."
   ]
  },
  {
   "cell_type": "code",
   "execution_count": 29,
   "metadata": {},
   "outputs": [
    {
     "name": "stdout",
     "output_type": "stream",
     "text": [
      "+-----+-------------+\n",
      "|label| features-cat|\n",
      "+-----+-------------+\n",
      "|    0|[1.0,1.0,1.0]|\n",
      "|    0|[1.0,1.0,0.0]|\n",
      "|    0|[1.0,1.0,0.0]|\n",
      "|    0|[1.0,1.0,1.0]|\n",
      "|    0|[1.0,1.0,0.0]|\n",
      "|    0|[1.0,1.0,1.0]|\n",
      "|    0|[1.0,1.0,0.0]|\n",
      "|    0|[1.0,1.0,1.0]|\n",
      "|    0|[1.0,1.0,1.0]|\n",
      "|    0|[1.0,1.0,0.0]|\n",
      "|    0|[1.0,1.0,1.0]|\n",
      "|    0|[1.0,1.0,0.0]|\n",
      "|    0|[1.0,1.0,1.0]|\n",
      "|    0|[1.0,1.0,1.0]|\n",
      "|    0|[1.0,1.0,0.0]|\n",
      "|    0|[1.0,1.0,1.0]|\n",
      "|    0|[1.0,1.0,0.0]|\n",
      "|    0|[1.0,1.0,1.0]|\n",
      "|    0|[1.0,1.0,0.0]|\n",
      "|    0|[1.0,1.0,0.0]|\n",
      "+-----+-------------+\n",
      "only showing top 20 rows\n",
      "\n",
      "pValues: [0.0,0.0,0.12813128078870484]\n"
     ]
    }
   ],
   "source": [
    "from pyspark.ml.stat import ChiSquareTest\n",
    "from pyspark.ml.linalg import Vectors\n",
    "\n",
    "samples_cat = spark.createDataFrame([[l, Vectors.dense(v)] for l, v in \\\n",
    "                                     zip(labels.tolist(), numbers > numbers.mean(axis = 0))],\\\n",
    "                                    [\"label\", \"features-cat\"])\n",
    "\n",
    "samples_cat.show()\n",
    "\n",
    "chi_t = ChiSquareTest.test(samples_cat, \"features-cat\", \"label\").head()\n",
    "\n",
    "print(\"pValues:\", chi_t.pValues)"
   ]
  },
  {
   "cell_type": "markdown",
   "metadata": {},
   "source": [
    "<div class=\"qst\">\n",
    "\n",
    "* Calcular e imprimir el $p$-valor del test $\\chi^2$ entre las dos columnas del DataFrame `data`, generado en la siguiente celda.\n",
    "* Determinar cuál de las dos características es más informativa de acuerdo al resultado del test.\n",
    "\n",
    "</div>"
   ]
  },
  {
   "cell_type": "code",
   "execution_count": 30,
   "metadata": {},
   "outputs": [
    {
     "name": "stdout",
     "output_type": "stream",
     "text": [
      "+---------+-----+\n",
      "| features|label|\n",
      "+---------+-----+\n",
      "|[0.0,0.0]|    0|\n",
      "|[1.0,5.0]|    1|\n",
      "|[0.0,0.0]|    0|\n",
      "|[0.0,5.0]|    1|\n",
      "+---------+-----+\n",
      "\n",
      "pValues: [0.24821307898992373,0.04550026389635764]\n",
      "Most informative feature: 2\n"
     ]
    }
   ],
   "source": [
    "data = spark.createDataFrame([[Vectors.dense([0, 0]), 0], \\\n",
    "                              [Vectors.dense([1, 5]), 1], \\\n",
    "                              [Vectors.dense([0, 0]), 0], \\\n",
    "                              [Vectors.dense([0, 5]), 1]], [\"features\",  \"label\"])\n",
    "data.show()\n",
    "\n",
    "################################\n",
    "# Insertar código.\n",
    "chi_t = ChiSquareTest.test(data, \"features\", \"label\").head()\n",
    "print(\"pValues:\", chi_t.pValues)\n",
    "print(\"Most informative feature:\", chi_t.pValues.argmin() + 1)\n",
    "################################"
   ]
  },
  {
   "cell_type": "markdown",
   "metadata": {},
   "source": [
    "## Summarizer"
   ]
  },
  {
   "cell_type": "markdown",
   "metadata": {},
   "source": [
    "* La clase [`ml.stat.Summarizer`](https://spark.apache.org/docs/latest/api/python/reference/api/pyspark.ml.stat.Summarizer.html) permite obtener un resumen con algunas de las principales estadísticas asociadas a una columna de tipo `Vector`, por lo que es muy útil para analizar las características."
   ]
  },
  {
   "cell_type": "markdown",
   "metadata": {},
   "source": [
    "A continuación se incluye un ejemplo, en el que se obtiene la media, la varianza, el valor máximo y el mínimo de cada característica."
   ]
  },
  {
   "cell_type": "code",
   "execution_count": 31,
   "metadata": {},
   "outputs": [
    {
     "name": "stdout",
     "output_type": "stream",
     "text": [
      "mean\n",
      "    9.07\t    5.03\t    1.01\t\n",
      "variance\n",
      "  101.98\t   26.35\t    3.11\t\n",
      "min\n",
      "   -4.19\t   -2.11\t   -4.47\t\n",
      "max\n",
      "   23.65\t   13.20\t    5.51\t\n"
     ]
    }
   ],
   "source": [
    "from pyspark.ml.stat import Summarizer\n",
    "\n",
    "metrics = (\"mean\", \"variance\", \"min\", \"max\")\n",
    "summarizer = Summarizer.metrics(*metrics)\n",
    "summary = samples.select(summarizer.summary(samples.features)).head()[0]\n",
    "\n",
    "for i, metric in enumerate(metrics):\n",
    "    print(metric)\n",
    "    for val in summary[i]:\n",
    "        print(\"%8.2f\\t\" % val, end='')\n",
    "    print(\"\")"
   ]
  },
  {
   "cell_type": "markdown",
   "metadata": {},
   "source": [
    "* Cuando se usa un DataFrame con una estructura como la anterior no funciona utilizar directamente la función `summary()` del DataFrame, ya que la columna de características contiene datos tipo `Vector`, no datos numéricos, así que solo se mostrarán las estadísticas de la etiqueta."
   ]
  },
  {
   "cell_type": "code",
   "execution_count": 32,
   "metadata": {},
   "outputs": [
    {
     "name": "stdout",
     "output_type": "stream",
     "text": [
      "+-------+------------------+\n",
      "|summary|             label|\n",
      "+-------+------------------+\n",
      "|  count|               500|\n",
      "|   mean|               0.5|\n",
      "| stddev|0.5005007512521913|\n",
      "|    min|                 0|\n",
      "|    25%|                 0|\n",
      "|    50%|                 0|\n",
      "|    75%|                 1|\n",
      "|    max|                 1|\n",
      "+-------+------------------+\n",
      "\n"
     ]
    }
   ],
   "source": [
    "samples.summary().show()"
   ]
  },
  {
   "cell_type": "markdown",
   "metadata": {},
   "source": [
    "<div class=\"qst\">\n",
    "\n",
    "* Calcular la media de los elementos del DataFrame `data`, generado en la siguiente celda.\n",
    "\n",
    "</div>"
   ]
  },
  {
   "cell_type": "code",
   "execution_count": 33,
   "metadata": {},
   "outputs": [
    {
     "name": "stdout",
     "output_type": "stream",
     "text": [
      "+-------------+\n",
      "|      numbers|\n",
      "+-------------+\n",
      "|[1.0,1.0,0.0]|\n",
      "|[2.0,2.0,0.0]|\n",
      "|[1.0,1.0,1.0]|\n",
      "|[2.0,2.0,0.0]|\n",
      "+-------------+\n",
      "\n",
      "Mean: [1.5,1.5,0.25]\n"
     ]
    }
   ],
   "source": [
    "data = spark.createDataFrame([[Vectors.dense([1, 1, 0])], \\\n",
    "                              [Vectors.dense([2, 2, 0])], \\\n",
    "                              [Vectors.dense([1, 1, 1])], \\\n",
    "                              [Vectors.dense([2, 2, 0])]], [\"numbers\"])\n",
    "data.show()\n",
    "\n",
    "################################\n",
    "# Insertar código.\n",
    "print(\"Mean:\", data.select(Summarizer.metrics(\"mean\").summary(data.numbers)).head()[0].mean)\n",
    "################################"
   ]
  },
  {
   "cell_type": "markdown",
   "metadata": {},
   "source": [
    "# Flujo de trabajo en MLlib"
   ]
  },
  {
   "cell_type": "markdown",
   "metadata": {},
   "source": [
    "## Conceptos básicos"
   ]
  },
  {
   "cell_type": "markdown",
   "metadata": {},
   "source": [
    "* **DataFrame:**\n",
    "    * Estructura básica para almacenar los datos en forma de tabla con filas y columnas.\n",
    "    * Equivale a un RDD pero con estructura.\n",
    "* **Transformer:**\n",
    "    * Algoritmo que transforma un DataFrame en otro DataFrame, similar a las transformaciones de los RDDs.\n",
    "    * Todos los Transformers implementan el método `transform()`.\n",
    "    * Un modelo predictivo es un Transformer que transforma un DataFrame con los vectores de características en otro DataFrame con las predicciones.\n",
    "* **Estimator:**\n",
    "    * Algoritmo que se aplica a un DataFrame para obtener un Transformer.\n",
    "    * Todos los Estimators implementan el método `fit()`.\n",
    "    * Un algoritmo de aprendizaje automático es un Estimator que se entrena con los datos de un DataFrame para obtener un modelo.\n",
    "* **Pipeline:**\n",
    "    * Secuencia de algoritmos que procesan los datos y aprenden a partir de ellos.\n",
    "    * En MLlib, equivale a una cadena de Transformers y Estimators que determina el flujo de trabajo en un problema de ML."
   ]
  },
  {
   "cell_type": "markdown",
   "metadata": {},
   "source": [
    "## Flujo de trabajo"
   ]
  },
  {
   "cell_type": "markdown",
   "metadata": {},
   "source": [
    "1. De manera general, los algoritmos son objetos *Estimator* que se entrenan (`fit()`) usando un conjunto de datos almacenado en un *DataFrame*.\n",
    "2. El resultado del entrenamiento es un modelo almacenado en un objeto *Transformer*.\n",
    "3. Este último se puede aplicar (`transform()`) a otro conjunto de datos para obtener predicciones.\n",
    "\n",
    "* Varios *Transformers* y/o *Estimators* se pueden encadenar en un *Pipeline* para definir el flujo de trabajo de un algoritmo, de manera que todo el proceso realizado durante el entrenamiento se pueda repetir de forma coherente a la hora de predecir sobre nuevos ejemplos."
   ]
  },
  {
   "cell_type": "markdown",
   "metadata": {},
   "source": [
    "# Preproceso de los datos"
   ]
  },
  {
   "cell_type": "markdown",
   "metadata": {},
   "source": [
    "* El primer paso para afrontar con éxito un problema de ML es realizar un preproceso adecuado de los datos.\n",
    "* En MLlib hay muchos mecanismos ya implementados para el tratamiento de los datos, dentro del módulo `ml.feature`.\n",
    "* En la mayoría de casos, funcionan como Estimators. Es decir, primero hay que realizar un ajuste a los datos con la función `fit()`, y después se pueden transformar los datos (tanto los de entrenamiento como los datos nuevos) con `transform()`."
   ]
  },
  {
   "cell_type": "markdown",
   "metadata": {},
   "source": [
    "## StringIndexer"
   ]
  },
  {
   "cell_type": "markdown",
   "metadata": {},
   "source": [
    "* La mayoría de las utilidades de MLlib funcionan con datos numéricos.\n",
    "* Uno de los primeros pasos, por tanto, es codificar las características categóricas, representadas por etiquetas, en categorías numéricas.\n",
    "* En Spark esto se puede hacer usando el Estimator [`ml.feature.StringIndexer`](https://spark.apache.org/docs/latest/api/python/reference/api/pyspark.ml.feature.StringIndexer.html), que transforma cada cadena en un número distinto. Para ello, recibe como argumentos la columna de entrada y la de salida."
   ]
  },
  {
   "cell_type": "markdown",
   "metadata": {},
   "source": [
    "A continuación, se muestra un ejemplo sencillo para ilustrar su funcionamiento."
   ]
  },
  {
   "cell_type": "code",
   "execution_count": 34,
   "metadata": {},
   "outputs": [
    {
     "name": "stdout",
     "output_type": "stream",
     "text": [
      "+--------+\n",
      "|category|\n",
      "+--------+\n",
      "|       a|\n",
      "|       b|\n",
      "|       c|\n",
      "|       b|\n",
      "|       c|\n",
      "|       a|\n",
      "+--------+\n",
      "\n",
      "+--------+------------+\n",
      "|category|category_ind|\n",
      "+--------+------------+\n",
      "|       a|         0.0|\n",
      "|       b|         1.0|\n",
      "|       c|         2.0|\n",
      "|       b|         1.0|\n",
      "|       c|         2.0|\n",
      "|       a|         0.0|\n",
      "+--------+------------+\n",
      "\n"
     ]
    }
   ],
   "source": [
    "from pyspark.ml.feature import StringIndexer\n",
    "\n",
    "# Datos categóricos.\n",
    "category_str = spark.createDataFrame([['a'], ['b'], ['c'], ['b'], ['c'], ['a']], [\"category\"])\n",
    "category_str.show()\n",
    "\n",
    "# Estimator.\n",
    "string_es = StringIndexer(inputCol=\"category\", outputCol=\"category_ind\")\n",
    "# Transformer.\n",
    "string_tr = string_es.fit(category_str)\n",
    "\n",
    "# Datos transformados.\n",
    "category_ind = string_tr.transform(category_str)\n",
    "\n",
    "category_ind.show()"
   ]
  },
  {
   "cell_type": "markdown",
   "metadata": {},
   "source": [
    "## PCA"
   ]
  },
  {
   "cell_type": "markdown",
   "metadata": {},
   "source": [
    "* El Análisis de Componentes Principales (PCA) permite reducir el número de características, transformándolas y reteniendo solo algunas de ellas, de manera que se mantenga la mayor parte de información (varianza) de los datos posible.\n",
    "* En Spark se puede hacer PCA a través del Estimator [`ml.feature.PCA`](https://spark.apache.org/docs/latest/api/python/reference/api/pyspark.ml.feature.PCA.html), que permite especificar el número de dimensiones de salida, así como la columna de entrada y la de salida."
   ]
  },
  {
   "cell_type": "markdown",
   "metadata": {},
   "source": [
    "A continuación se incluye un ejemplo de PCA, utilizando el DataFrame numérico `samples` cargado antes."
   ]
  },
  {
   "cell_type": "code",
   "execution_count": 35,
   "metadata": {},
   "outputs": [
    {
     "name": "stdout",
     "output_type": "stream",
     "text": [
      "+-----+----------------------------------------------------------+-----------------------------------------+\n",
      "|label|features                                                  |features_pca                             |\n",
      "+-----+----------------------------------------------------------+-----------------------------------------+\n",
      "|0    |[17.111165885025684,9.635951311173281,2.345272872845365]  |[-19.6480139428421,-2.088841238846846]   |\n",
      "|0    |[19.180126269125928,9.94266368732471,-0.2740459609652126] |[-21.5972020880208,0.5641002130771292]   |\n",
      "|0    |[18.97292128433064,11.0286936370439,-1.0879634329406391]  |[-21.891159600319572,1.370516741848743]  |\n",
      "|0    |[22.948892025926195,12.197755525459277,2.8194621519365026]|[-26.019488754590444,-2.4730132090365586]|\n",
      "|0    |[18.984126427074788,9.836549137117064,-1.2353155616745144]|[-21.361413774806067,1.5222769222045778] |\n",
      "+-----+----------------------------------------------------------+-----------------------------------------+\n",
      "only showing top 5 rows\n",
      "\n"
     ]
    }
   ],
   "source": [
    "from pyspark.ml.feature import PCA\n",
    "\n",
    "# Estimator.\n",
    "pca_es = PCA(k=2, inputCol=\"features\", outputCol=\"features_pca\")\n",
    "# Transformer.\n",
    "pca_tr = pca_es.fit(samples)\n",
    "\n",
    "# Datos transformados.\n",
    "samples_pca = pca_tr.transform(samples)\n",
    "\n",
    "samples_pca.show(n=5, truncate=False)"
   ]
  },
  {
   "cell_type": "markdown",
   "metadata": {},
   "source": [
    "## PolynomialExpansion"
   ]
  },
  {
   "cell_type": "markdown",
   "metadata": {},
   "source": [
    "* Una aproximación para añadir información no lineal a los datos es usar la expansión polinómica, que calcula productos entre las distintas características hasta el grado especificado.\n",
    "    * Por ejemplo, la expansión polinómica de grado $2$ de un vector de $3$ características sería la siguiente:\n",
    "$$ \\begin{pmatrix} x_1 & x_2 & x_3 \\end{pmatrix} \\to \\begin{pmatrix} x_1 & x_1^2 & x_2 & x_1 x_2 & x_2^2 & x_3 & x_1 x_3 & x_2 x_3 & x_3^2 \\end{pmatrix} . $$\n",
    "* Esta transformación está implementada en el Transformer [`ml.feature.PolynomialExpansion`](https://spark.apache.org/docs/latest/api/python/reference/api/pyspark.ml.feature.PolynomialExpansion.html).\n",
    "* En este caso, se trata directamente de un Transformer, ya que no hace falta ajustarlo a los datos."
   ]
  },
  {
   "cell_type": "markdown",
   "metadata": {},
   "source": [
    "En el siguiente ejemplo es muestra la transformación polinómica de grado $2$ del DataFrame `samples`, que convertirá las $3$ características iniciales en $9$."
   ]
  },
  {
   "cell_type": "code",
   "execution_count": 36,
   "metadata": {},
   "outputs": [
    {
     "name": "stdout",
     "output_type": "stream",
     "text": [
      "-RECORD 0------------------------------------------------------------------------------------------------------------------------------------------------------------------------------\n",
      " label         | 0                                                                                                                                                                     \n",
      " features      | [17.111165885025684,9.635951311173281,2.345272872845365]                                                                                                              \n",
      " features_poly | [17.111165885025684,292.7919979448668,9.635951311173281,164.88236134551676,92.85155767130207,2.345272872845365,40.13035317290779,22.59893521415342,5.500304848104351] \n",
      "only showing top 1 row\n",
      "\n"
     ]
    }
   ],
   "source": [
    "from pyspark.ml.feature import PolynomialExpansion\n",
    "\n",
    "# Transformer.\n",
    "poly_tr = PolynomialExpansion(degree=2, inputCol=\"features\", outputCol=\"features_poly\")\n",
    "\n",
    "# Datos transformados.\n",
    "samples_poly = poly_tr.transform(samples)\n",
    "\n",
    "samples_poly.show(n=1, vertical=True, truncate=False)"
   ]
  },
  {
   "cell_type": "markdown",
   "metadata": {},
   "source": [
    "## OneHotEncoder"
   ]
  },
  {
   "cell_type": "markdown",
   "metadata": {},
   "source": [
    "* La mayoría de los algoritmos de aprendizaje en MLlib no tratan adecuadamente las variables categóricas, incluso aunque sean numéricas.\n",
    "* Una aproximación muy común para paliar esta limitación es usar una codificación de tipo *One-Hot*, que evita introducir una métrica arbitraria en las características generadas.\n",
    "    * Por ejemplo, si hay $4$ categorías se producirá la siguiente codificación:\n",
    "$$\n",
    " 0 \\to \\begin{pmatrix} 1 & 0 & 0 \\end{pmatrix} , \\\\\n",
    " 1 \\to \\begin{pmatrix} 0 & 1 & 0 \\end{pmatrix} , \\\\\n",
    " 2 \\to \\begin{pmatrix} 0 & 0 & 1 \\end{pmatrix} , \\\\\n",
    " 3 \\to \\begin{pmatrix} 0 & 0 & 0 \\end{pmatrix} .\n",
    "$$\n",
    "    * La última categoría, por lo general, no produce columna porque sería linealmente dependiente de las demás.\n",
    "* Esta transformación está implementada en el Estimator [`ml.feature.OneHotEncoderEstimator`](https://spark.apache.org/docs/latest/api/python/reference/api/pyspark.ml.feature.OneHotEncoder.html)."
   ]
  },
  {
   "cell_type": "markdown",
   "metadata": {},
   "source": [
    "A continuación se muestra un ejemplo de esta codificación, usando las características generadas antes con el StringIndexer, de manera que la transformación total es:\n",
    "$$\n",
    " a \\to 0 \\to \\begin{pmatrix} 1 & 0 \\end{pmatrix} , \\\\\n",
    " b \\to 1 \\to \\begin{pmatrix} 0 & 1 \\end{pmatrix} , \\\\\n",
    " c \\to 2 \\to \\begin{pmatrix} 0 & 0 \\end{pmatrix} .\n",
    "$$"
   ]
  },
  {
   "cell_type": "code",
   "execution_count": 37,
   "metadata": {},
   "outputs": [
    {
     "name": "stdout",
     "output_type": "stream",
     "text": [
      "+--------+------------+\n",
      "|category|category_ind|\n",
      "+--------+------------+\n",
      "|       a|         0.0|\n",
      "|       b|         1.0|\n",
      "|       c|         2.0|\n",
      "|       b|         1.0|\n",
      "|       c|         2.0|\n",
      "|       a|         0.0|\n",
      "+--------+------------+\n",
      "\n",
      "+--------+------------+---------------+\n",
      "|category|category_ind|category_ind_oh|\n",
      "+--------+------------+---------------+\n",
      "|       a|         0.0|  (2,[0],[1.0])|\n",
      "|       b|         1.0|  (2,[1],[1.0])|\n",
      "|       c|         2.0|      (2,[],[])|\n",
      "|       b|         1.0|  (2,[1],[1.0])|\n",
      "|       c|         2.0|      (2,[],[])|\n",
      "|       a|         0.0|  (2,[0],[1.0])|\n",
      "+--------+------------+---------------+\n",
      "\n"
     ]
    }
   ],
   "source": [
    "from pyspark.ml.feature import OneHotEncoder\n",
    "\n",
    "category_ind.show()\n",
    "\n",
    "# Estimator.\n",
    "enc_es = OneHotEncoder(inputCols=[\"category_ind\"], outputCols=[\"category_ind_oh\"])\n",
    "# Transformer.\n",
    "enc_tr = enc_es.fit(category_ind)\n",
    "\n",
    "# Datos transformados.\n",
    "category_ind_oh = enc_tr.transform(category_ind)\n",
    "\n",
    "category_ind_oh.show()"
   ]
  },
  {
   "cell_type": "markdown",
   "metadata": {},
   "source": [
    "## VectorAssembler"
   ]
  },
  {
   "cell_type": "markdown",
   "metadata": {},
   "source": [
    "* Los modelos predictivos de MLlib funcionan usando una única columna de características, cuyos elementos son de tipo `Vector`.\n",
    "* Sin embargo, en muchos casos el DataFrame estará compuesto por más de una columna, bien porque se tiene estructurado de esta forma, o bien porque se han generado nuevas características con algunos de los mecanismos de preproceso.\n",
    "* En estos casos, una herramienta útil es el Transformer [`ml.feature.VectorAssembler`](https://spark.apache.org/docs/latest/api/python/reference/api/pyspark.ml.feature.VectorAssembler.html), que permite concatenar varias columnas en una única."
   ]
  },
  {
   "cell_type": "markdown",
   "metadata": {},
   "source": [
    "A continuación se muestra un ejemplo con el DataFrame `samples_pca`."
   ]
  },
  {
   "cell_type": "code",
   "execution_count": 38,
   "metadata": {},
   "outputs": [
    {
     "name": "stdout",
     "output_type": "stream",
     "text": [
      "-RECORD 0------------------------------------------------------------------------------------------------------\n",
      " label         | 0                                                                                             \n",
      " features      | [17.111165885025684,9.635951311173281,2.345272872845365]                                      \n",
      " features_pca  | [-19.6480139428421,-2.088841238846846]                                                        \n",
      " features_join | [17.111165885025684,9.635951311173281,2.345272872845365,-19.6480139428421,-2.088841238846846] \n",
      "only showing top 1 row\n",
      "\n"
     ]
    }
   ],
   "source": [
    "from pyspark.ml.feature import VectorAssembler\n",
    "\n",
    "# Transformer.\n",
    "assembler_tr = VectorAssembler(inputCols=[\"features\", \"features_pca\"], outputCol=\"features_join\")\n",
    "\n",
    "# Datos transformados.\n",
    "samples_pca_join = assembler_tr.transform(samples_pca)\n",
    "\n",
    "samples_pca_join.show(n=1, vertical=True, truncate=False)"
   ]
  },
  {
   "cell_type": "markdown",
   "metadata": {},
   "source": [
    "## StandardScaler"
   ]
  },
  {
   "cell_type": "markdown",
   "metadata": {},
   "source": [
    "* Muchos modelos predictivos dependen del escalado de los datos, ya que distintas escalas en distintas características pueden afectar a la importancia relativa de cada una dentro del modelo.\n",
    "* Por ello, lo más común es escalar los datos, por ejemplo para que tengan media $0$ y desviación $1$.\n",
    "* Este escalado está implementado en MLlib en el Estimator [`ml.feature.SandardScaler`](https://spark.apache.org/docs/latest/api/python/reference/api/pyspark.ml.feature.StandardScaler.html)."
   ]
  },
  {
   "cell_type": "markdown",
   "metadata": {},
   "source": [
    "A continuación se muestra un ejemplo de su uso con el DataFrame `samples`."
   ]
  },
  {
   "cell_type": "code",
   "execution_count": 39,
   "metadata": {},
   "outputs": [
    {
     "name": "stdout",
     "output_type": "stream",
     "text": [
      "Original:\n",
      " Row(mean=DenseVector([9.0678, 5.0322, 1.011]), variance=DenseVector([101.9784, 26.3542, 3.1114]))\n",
      "Scaled:\n",
      " Row(mean=DenseVector([0.0, -0.0, -0.0]), variance=DenseVector([1.0, 1.0, 1.0]))\n"
     ]
    }
   ],
   "source": [
    "from pyspark.ml.stat import Summarizer\n",
    "from pyspark.ml.feature import StandardScaler\n",
    "\n",
    "# Estimator.\n",
    "scaler_es = StandardScaler(withMean=True, withStd=True, inputCol=\"features\", outputCol=\"features_sc\")\n",
    "# Transformer.\n",
    "scaler_tr = scaler_es.fit(samples)\n",
    "\n",
    "# Datos transformados.\n",
    "samples_sc = scaler_tr.transform(samples)\n",
    "\n",
    "print(\"Original:\\n\", \\\n",
    "      samples_sc.select(Summarizer.metrics(\"mean\", \"variance\").summary(samples_sc.features)).head()[0])\n",
    "print(\"Scaled:\\n\", \\\n",
    "      samples_sc.select(Summarizer.metrics(\"mean\", \"variance\").summary(samples_sc.features_sc)).head()[0])"
   ]
  },
  {
   "cell_type": "markdown",
   "metadata": {},
   "source": [
    "## Tokenizer y HashingTF"
   ]
  },
  {
   "cell_type": "markdown",
   "metadata": {},
   "source": [
    "* En la actualidad, multitud de aplicaciones de ML utilizan como datos de partida textos en lenguaje natural.\n",
    "* En ese caso, es importante ser capaz de codificar los textos de manera que puedan ser procesados por los modelos predictivos.\n",
    "* Una de las aproximaciones más sencillas consiste en dividir cada texto en las palabras que lo conforman, y después crear un vector de características donde cada dimensión indica el número de veces que aparece una determinada palabra.\n",
    "* Estas aproximaciones están implementadas en los Transformers [`ml.feature.Tokenizer`](https://spark.apache.org/docs/latest/api/python/reference/api/pyspark.ml.feature.Tokenizer.html), que divide el texto en las palabras que lo componen, y [`ml.feature.HashingTF`](https://spark.apache.org/docs/latest/api/python/reference/api/pyspark.ml.feature.HashingTF.html), que crea el vector de características transformando cada palabra en una característica usando una función *hash*, y asignando a esa característica el número de veces que aparece la palabra."
   ]
  },
  {
   "cell_type": "markdown",
   "metadata": {},
   "source": [
    "A continuación se muestra un ejemplo muy sencillo de ambas utilidades."
   ]
  },
  {
   "cell_type": "code",
   "execution_count": 40,
   "metadata": {},
   "outputs": [
    {
     "name": "stdout",
     "output_type": "stream",
     "text": [
      "+--------------------------+-------------------------------+------------------------------------------------------+\n",
      "|text                      |words                          |features                                              |\n",
      "+--------------------------+-------------------------------+------------------------------------------------------+\n",
      "|Some text about words     |[some, text, about, words]     |(262144,[18700,19208,143985,151864],[1.0,1.0,1.0,1.0])|\n",
      "|more about words          |[more, about, words]           |(262144,[18700,151864,239029],[1.0,1.0,1.0])          |\n",
      "|terms regarding numbers   |[terms, regarding, numbers]    |(262144,[94311,114159,183375],[1.0,1.0,1.0])          |\n",
      "|More About NUMBERS numbers|[more, about, numbers, numbers]|(262144,[18700,94311,239029],[1.0,2.0,1.0])           |\n",
      "+--------------------------+-------------------------------+------------------------------------------------------+\n",
      "\n"
     ]
    }
   ],
   "source": [
    "from pyspark.ml.feature import Tokenizer, HashingTF\n",
    "texts = spark.createDataFrame([[\"Some text about words\"], \\\n",
    "                               [\"more about words\"], \\\n",
    "                               [\"terms regarding numbers\"], \\\n",
    "                               [\"More About NUMBERS numbers\"]], [\"text\"])\n",
    "\n",
    "# Transformers.\n",
    "tokenizer = Tokenizer(inputCol=\"text\", outputCol=\"words\")\n",
    "hashing = HashingTF(inputCol=tokenizer.getOutputCol(), outputCol=\"features\")\n",
    "\n",
    "# Esto se puede hacer de forma más elegante usando pipelines, como se verá más adelante.\n",
    "texts_hash = hashing.transform(tokenizer.transform(texts))\n",
    "texts_hash.show(truncate=False)"
   ]
  },
  {
   "cell_type": "markdown",
   "metadata": {},
   "source": [
    "## Otros algoritmos"
   ]
  },
  {
   "cell_type": "markdown",
   "metadata": {},
   "source": [
    "* Existen muchos otros algoritmos para preprocesar los datos en Spark, por lo que a la hora de enfrentar algún problema nuevo siempre es conveniente hacer un repaso de las herramientas disponibles.\n",
    "    \n",
    "<div class=\"info\"><a href=https://spark.apache.org/docs/latest/ml-features.html>Herramientas de preproceso de Spark</a></div>"
   ]
  },
  {
   "cell_type": "markdown",
   "metadata": {},
   "source": [
    "## Ejercicio de preproceso"
   ]
  },
  {
   "cell_type": "markdown",
   "metadata": {},
   "source": [
    "<div class=\"qst\">\n",
    "\n",
    "* Dado el DataFrame `data`, generado en la siguiente celda, crear un nuevo DataFrame `data_pr` que contenga una columna `\"features\"` con los siguientes elementos concatenados:\n",
    "    * La codificación *One-Hot* de la columna `\"category\"`.\n",
    "    * Las características extraídas mediante HashingTF de las palabras de la columna `\"text\"`.\n",
    "    * La transformación PCA a dimensión $2$ sobre los datos de la columna `\"vector\"`, que previamente habrá que estandarizar para que tenga media $0$ y varianza $1$.\n",
    "\n",
    "</div>"
   ]
  },
  {
   "cell_type": "code",
   "execution_count": 41,
   "metadata": {},
   "outputs": [
    {
     "name": "stdout",
     "output_type": "stream",
     "text": [
      "+--------+------------+--------------+\n",
      "|category|        text|        vector|\n",
      "+--------+------------+--------------+\n",
      "|       a|     dog cat| [1.0,1.0,0.0]|\n",
      "|       a|  cat rabbit| [0.0,1.0,1.0]|\n",
      "|       b|       mouse|[2.0,2.0,-1.0]|\n",
      "|       c|elephant dog| [1.0,1.0,4.0]|\n",
      "|       b| cat cat cat| [0.0,0.0,0.0]|\n",
      "+--------+------------+--------------+\n",
      "\n",
      "+-----------------------------------------------------------------------------------------------+\n",
      "|features                                                                                       |\n",
      "+-----------------------------------------------------------------------------------------------+\n",
      "|(262148,[0,54558,141365,262146,262147],[1.0,1.0,1.0,-0.27648331316771046,-0.35412231430798624])|\n",
      "|(262148,[0,93613,141365,262146,262147],[1.0,1.0,1.0,0.6789506047012545,-0.08354590247742234])  |\n",
      "|(262148,[1,174393,262146,262147],[1.0,1.0,-2.1934256684460784,-0.3486253900954449])            |\n",
      "|(262148,[54558,211673,262146,262147],[1.0,1.0,0.2928268841250725,1.6459245653045038])          |\n",
      "|(262148,[1,141365,262146,262147],[1.0,3.0,1.4981314927874614,-0.8596309584236501])             |\n",
      "+-----------------------------------------------------------------------------------------------+\n",
      "\n"
     ]
    }
   ],
   "source": [
    "data = spark.createDataFrame([[\"a\", \"dog cat\", Vectors.dense([1, 1, 0])], \\\n",
    "                               [\"a\", \"cat rabbit\", Vectors.dense([0, 1, 1])], \\\n",
    "                               [\"b\", \"mouse\", Vectors.dense([2, 2, -1])], \\\n",
    "                               [\"c\", \"elephant dog\", Vectors.dense([1, 1, 4])], \\\n",
    "                               [\"b\", \"cat cat cat\", Vectors.dense([0, 0, 0])]], \\\n",
    "                              [\"category\", \"text\", \"vector\"])\n",
    "data.show()\n",
    "\n",
    "################################\n",
    "# Insertar código.\n",
    "from pyspark.ml.feature import StringIndexer, OneHotEncoder\n",
    "from pyspark.ml.feature import Tokenizer, HashingTF\n",
    "from pyspark.ml.feature import StandardScaler, PCA\n",
    "from pyspark.ml.feature import VectorAssembler\n",
    "\n",
    "data_pr = StringIndexer(inputCol=\"category\", \\\n",
    "                        outputCol=\"category_in\").fit(data).transform(data)\n",
    "data_pr = OneHotEncoder(inputCols=[\"category_in\"], \\\n",
    "                        outputCols=[\"category_oh\"]).fit(data_pr).transform(data_pr)\n",
    "data_pr = Tokenizer(inputCol=\"text\", \\\n",
    "                    outputCol=\"words\").transform(data_pr)\n",
    "data_pr = HashingTF(inputCol=\"words\", \\\n",
    "                    outputCol=\"text_htf\").transform(data_pr)\n",
    "data_pr = StandardScaler(withMean=True,\n",
    "                         withStd=True,\n",
    "                         inputCol=\"vector\", \\\n",
    "                         outputCol=\"vector_sc\").fit(data_pr).transform(data_pr)\n",
    "data_pr = PCA(k=2, inputCol=\"vector_sc\", \\\n",
    "              outputCol=\"vector_pca\").fit(data_pr).transform(data_pr)\n",
    "data_pr = VectorAssembler(inputCols=[\"category_oh\", \"text_htf\", \"vector_pca\"], \\\n",
    "                          outputCol=\"features\").transform(data_pr)\n",
    "\n",
    "data_pr.select(\"features\").show(truncate=False)\n",
    "################################"
   ]
  },
  {
   "cell_type": "markdown",
   "metadata": {},
   "source": [
    "# Clasificación"
   ]
  },
  {
   "cell_type": "markdown",
   "metadata": {},
   "source": [
    "* Los problemas de clasificación son problemas supervisados donde las etiquetas son discretas."
   ]
  },
  {
   "cell_type": "markdown",
   "metadata": {},
   "source": [
    "## Conjunto de datos de clasificación"
   ]
  },
  {
   "cell_type": "markdown",
   "metadata": {},
   "source": [
    "* Como ilustración se utilizará el conjunto de datos *iris*, un problema básico de 3 clases fácilmente separables.\n",
    "* Este conjunto se puede cargar utilizando la función [`sklearn.datasets.load_iris()`](https://scikit-learn.org/stable/modules/generated/sklearn.datasets.load_iris.html#sklearn.datasets.load_iris)."
   ]
  },
  {
   "cell_type": "code",
   "execution_count": 42,
   "metadata": {},
   "outputs": [
    {
     "name": "stdout",
     "output_type": "stream",
     "text": [
      "+-----------------+----------------+-----------------+----------------+-----+\n",
      "|sepal length (cm)|sepal width (cm)|petal length (cm)|petal width (cm)|label|\n",
      "+-----------------+----------------+-----------------+----------------+-----+\n",
      "|              5.1|             3.5|              1.4|             0.2|  0.0|\n",
      "|              4.9|             3.0|              1.4|             0.2|  0.0|\n",
      "|              4.7|             3.2|              1.3|             0.2|  0.0|\n",
      "|              4.6|             3.1|              1.5|             0.2|  0.0|\n",
      "|              5.0|             3.6|              1.4|             0.2|  0.0|\n",
      "|              5.4|             3.9|              1.7|             0.4|  0.0|\n",
      "|              4.6|             3.4|              1.4|             0.3|  0.0|\n",
      "|              5.0|             3.4|              1.5|             0.2|  0.0|\n",
      "|              4.4|             2.9|              1.4|             0.2|  0.0|\n",
      "|              4.9|             3.1|              1.5|             0.1|  0.0|\n",
      "|              5.4|             3.7|              1.5|             0.2|  0.0|\n",
      "|              4.8|             3.4|              1.6|             0.2|  0.0|\n",
      "|              4.8|             3.0|              1.4|             0.1|  0.0|\n",
      "|              4.3|             3.0|              1.1|             0.1|  0.0|\n",
      "|              5.8|             4.0|              1.2|             0.2|  0.0|\n",
      "|              5.7|             4.4|              1.5|             0.4|  0.0|\n",
      "|              5.4|             3.9|              1.3|             0.4|  0.0|\n",
      "|              5.1|             3.5|              1.4|             0.3|  0.0|\n",
      "|              5.7|             3.8|              1.7|             0.3|  0.0|\n",
      "|              5.1|             3.8|              1.5|             0.3|  0.0|\n",
      "+-----------------+----------------+-----------------+----------------+-----+\n",
      "only showing top 20 rows\n",
      "\n"
     ]
    }
   ],
   "source": [
    "import numpy as np\n",
    "import pandas as pd\n",
    "from sklearn.datasets import load_iris\n",
    "\n",
    "from pyspark.sql import SparkSession\n",
    "spark = SparkSession(sc)\n",
    "\n",
    "data = load_iris()\n",
    "iris = spark.createDataFrame(pd.DataFrame(data=np.column_stack([data[\"data\"], data[\"target\"]]),\n",
    "                                          columns=(data[\"feature_names\"] + [\"label\"])))\n",
    "\n",
    "iris.show()"
   ]
  },
  {
   "cell_type": "markdown",
   "metadata": {},
   "source": [
    "* Para poder aplicar los modelos de Spark, es necesario concatenar todas las características en una sola columna.\n",
    "* La aproximación usual en los problemas supervisados es dividir el conjunto de datos en entrenamiento y test (p. ej. en una proporción $70\\% / 30\\%$).\n",
    "    * En Spark se puede hacer esta partición con `randomSplit()`."
   ]
  },
  {
   "cell_type": "code",
   "execution_count": 43,
   "metadata": {},
   "outputs": [
    {
     "name": "stdout",
     "output_type": "stream",
     "text": [
      "+-----------------+----------------+-----------------+----------------+-----+-----------------+\n",
      "|sepal length (cm)|sepal width (cm)|petal length (cm)|petal width (cm)|label|         features|\n",
      "+-----------------+----------------+-----------------+----------------+-----+-----------------+\n",
      "|              4.4|             3.0|              1.3|             0.2|  0.0|[4.4,3.0,1.3,0.2]|\n",
      "|              4.4|             3.2|              1.3|             0.2|  0.0|[4.4,3.2,1.3,0.2]|\n",
      "|              4.6|             3.1|              1.5|             0.2|  0.0|[4.6,3.1,1.5,0.2]|\n",
      "|              4.6|             3.2|              1.4|             0.2|  0.0|[4.6,3.2,1.4,0.2]|\n",
      "|              4.6|             3.4|              1.4|             0.3|  0.0|[4.6,3.4,1.4,0.3]|\n",
      "|              4.6|             3.6|              1.0|             0.2|  0.0|[4.6,3.6,1.0,0.2]|\n",
      "|              4.7|             3.2|              1.3|             0.2|  0.0|[4.7,3.2,1.3,0.2]|\n",
      "|              4.7|             3.2|              1.6|             0.2|  0.0|[4.7,3.2,1.6,0.2]|\n",
      "|              4.8|             3.0|              1.4|             0.1|  0.0|[4.8,3.0,1.4,0.1]|\n",
      "|              4.8|             3.0|              1.4|             0.3|  0.0|[4.8,3.0,1.4,0.3]|\n",
      "|              4.8|             3.1|              1.6|             0.2|  0.0|[4.8,3.1,1.6,0.2]|\n",
      "|              4.8|             3.4|              1.6|             0.2|  0.0|[4.8,3.4,1.6,0.2]|\n",
      "|              4.8|             3.4|              1.9|             0.2|  0.0|[4.8,3.4,1.9,0.2]|\n",
      "|              4.9|             2.4|              3.3|             1.0|  1.0|[4.9,2.4,3.3,1.0]|\n",
      "|              4.9|             2.5|              4.5|             1.7|  2.0|[4.9,2.5,4.5,1.7]|\n",
      "|              4.9|             3.0|              1.4|             0.2|  0.0|[4.9,3.0,1.4,0.2]|\n",
      "|              4.9|             3.1|              1.5|             0.1|  0.0|[4.9,3.1,1.5,0.1]|\n",
      "|              4.9|             3.1|              1.5|             0.2|  0.0|[4.9,3.1,1.5,0.2]|\n",
      "|              5.0|             2.0|              3.5|             1.0|  1.0|[5.0,2.0,3.5,1.0]|\n",
      "|              5.0|             2.3|              3.3|             1.0|  1.0|[5.0,2.3,3.3,1.0]|\n",
      "+-----------------+----------------+-----------------+----------------+-----+-----------------+\n",
      "only showing top 20 rows\n",
      "\n"
     ]
    }
   ],
   "source": [
    "from pyspark.ml.feature import VectorAssembler\n",
    "\n",
    "iris_join = VectorAssembler(inputCols=iris.columns[:-1], outputCol=\"features\").transform(iris)\n",
    "\n",
    "iris_tr, iris_te = iris_join.randomSplit([0.7, 0.3], seed=1234)\n",
    "\n",
    "iris_tr.show()"
   ]
  },
  {
   "cell_type": "markdown",
   "metadata": {},
   "source": [
    "## Entrenamiento en clasificación"
   ]
  },
  {
   "cell_type": "markdown",
   "metadata": {},
   "source": [
    "* El primer paso es entrenar un modelo.\n",
    "* Se utilizará el Estimator correspondiente al modelo y algoritmo de entrenamiento que se elija.\n",
    "* En el caso concreto de problemas de clasificación, estos Estimators se encuentran en el módulo [`ml.classification`](https://spark.apache.org/docs/latest/api/python/reference/pyspark.ml.html#classification)."
   ]
  },
  {
   "cell_type": "markdown",
   "metadata": {},
   "source": [
    "El siguiente código entrena un modelo de regresión logística multinomial (ya que el problema tiene tres clases) con un parámetro de regularización de $0.1$.\n",
    "Para ello, primero se crea el Estimator, y luego se utiliza el método `fit()` para obtener el modelo entrenado."
   ]
  },
  {
   "cell_type": "code",
   "execution_count": 44,
   "metadata": {},
   "outputs": [
    {
     "name": "stdout",
     "output_type": "stream",
     "text": [
      "LogisticRegressionModel: uid=LogisticRegression_afaaf7454a6f, numClasses=3, numFeatures=4\n",
      "\n",
      "Training accuracy: 91.92%\n"
     ]
    }
   ],
   "source": [
    "from pyspark.ml.classification import LogisticRegression\n",
    "\n",
    "# Estimator.\n",
    "logreg_es = LogisticRegression(regParam=1e-1)\n",
    "# Transformer.\n",
    "logreg_tr = logreg_es.fit(iris_tr)\n",
    "\n",
    "print(logreg_tr)\n",
    "# En este caso el modelo tiene un resumen de los resultados (no siempre es así).\n",
    "print(\"\\nTraining accuracy: {:.2f}%\".format(100 * logreg_tr.summary.accuracy))"
   ]
  },
  {
   "cell_type": "markdown",
   "metadata": {},
   "source": [
    "## Predicción en clasificación"
   ]
  },
  {
   "cell_type": "markdown",
   "metadata": {},
   "source": [
    "* Tras el entrenamiento, los modelos son objetos Transformer que pueden realizar predicciones sobre un DataFrame con nuevos puntos.\n",
    "* En el caso particular del modelo de regresión logística, como resultado de la predicción aparecen tres nuevas columnas:\n",
    "    * `rawPrediction`: Contiene la transformación lineal para cada clase.\n",
    "    * `probability`: Contiene la probabilidad de cada clase.\n",
    "    * `prediction`: Contiene la clase predicha."
   ]
  },
  {
   "cell_type": "markdown",
   "metadata": {},
   "source": [
    "A continuación se realiza la predicción sobre el conjunto de test."
   ]
  },
  {
   "cell_type": "code",
   "execution_count": 45,
   "metadata": {},
   "outputs": [
    {
     "name": "stdout",
     "output_type": "stream",
     "text": [
      "-RECORD 0----------------------------------------------------------------------\n",
      " rawPrediction | [2.3567188901908285,0.4814826329875319,-2.8382015231783613]   \n",
      " probability   | [0.8629144747935783,0.13230095992454985,0.004784565281871651] \n",
      " prediction    | 0.0                                                           \n",
      "-RECORD 1----------------------------------------------------------------------\n",
      " rawPrediction | [1.9955290674986597,0.6132109704644715,-2.608740037963133]    \n",
      " probability   | [0.7930182295410676,0.1990444392102776,0.007937331248654632]  \n",
      " prediction    | 0.0                                                           \n",
      "-RECORD 2----------------------------------------------------------------------\n",
      " rawPrediction | [1.224193687264645,1.3471075227957243,-2.5713012100603714]    \n",
      " probability   | [0.4644123671001296,0.5251514595027708,0.01043617339709959]   \n",
      " prediction    | 1.0                                                           \n",
      "-RECORD 3----------------------------------------------------------------------\n",
      " rawPrediction | [2.5994493391801283,-0.15715939049704053,-2.4422899486830887] \n",
      " probability   | [0.9346062802624401,0.05935382815357942,0.006039891583980404] \n",
      " prediction    | 0.0                                                           \n",
      "-RECORD 4----------------------------------------------------------------------\n",
      " rawPrediction | [1.7146334958788894,0.5899168713650607,-2.304550367243952]    \n",
      " probability   | [0.7447612921291299,0.2418571177511939,0.013381590119676177]  \n",
      " prediction    | 0.0                                                           \n",
      "only showing top 5 rows\n",
      "\n"
     ]
    }
   ],
   "source": [
    "pred_logreg = logreg_tr.transform(iris_te)\n",
    "\n",
    "pred_logreg.select(pred_logreg.columns[-3:]).show(n=5, vertical=True, truncate=False)"
   ]
  },
  {
   "cell_type": "markdown",
   "metadata": {},
   "source": [
    "## Evaluación en clasificación"
   ]
  },
  {
   "cell_type": "markdown",
   "metadata": {},
   "source": [
    "* Una parte fundamental del ML es el análisis de los resultados obtenidos.\n",
    "* El módulo [`ml.evaluation`](https://spark.apache.org/docs/latest/api/python/reference/pyspark.ml.html#evaluation) permite acceder a herramientas (Evaluators) para evaluar los modelos de ML en distintos tipos de problema.\n",
    "* En el caso de problemas de clasificación, existen dos Evaluators distintos:\n",
    "    * [`ml.evaluation.BinaryClassificationEvaluator`](https://spark.apache.org/docs/latest/api/python/reference/api/pyspark.ml.evaluation.BinaryClassificationEvaluator.html), para problemas de clasificación binaria, que permite calcular las siguientes métricas:\n",
    "        * `\"areaUnderROC\"` (por defecto), calcula el área bajo la curva ROC.\n",
    "        * `\"areaUnderPR\"`, calcula el área bajo la curva PR.\n",
    "    * [`ml.evaluation.MulticlassClassificationEvaluator`](https://spark.apache.org/docs/latest/api/python/reference/api/pyspark.ml.evaluation.MulticlassClassificationEvaluator.html), para problemas de clasificación multiclase, permite calcular, entre otras, las siguiente métricas:\n",
    "        * `\"f1\"` (por defecto), calcula el Valor-F.\n",
    "        * `\"weightedPrecision\"`, calcula la precisión media ponderada.\n",
    "        * `\"weightedRecall\"`, calcula la exhaustividad (*recall*) media ponderada.\n",
    "        * `\"accuracy\"`, calcula la tasa de acierto.\n",
    "* Otras métricas (por ejemplo la tasa de aciertos o fallos) se pueden calcular manipulando directamente el DataFrame con las predicciones."
   ]
  },
  {
   "cell_type": "markdown",
   "metadata": {},
   "source": [
    "La siguiente celda muestra un ejemplo de cómo calcular las cuatro medidas anteriores para clasificación multiclase, con las predicciones del modelo de regresión logística."
   ]
  },
  {
   "cell_type": "code",
   "execution_count": 46,
   "metadata": {},
   "outputs": [
    {
     "name": "stdout",
     "output_type": "stream",
     "text": [
      "F1:  84.55%\n",
      "W-P: 85.06%\n",
      "W-R: 84.31%\n",
      "Acc: 84.31%\n"
     ]
    }
   ],
   "source": [
    "from pyspark.ml.evaluation import MulticlassClassificationEvaluator\n",
    "\n",
    "evaluator = MulticlassClassificationEvaluator()\n",
    "\n",
    "print(\"F1:  {:5.2f}%\".format(100 * evaluator.evaluate(pred_logreg)))\n",
    "print(\"W-P: {:5.2f}%\".format(100 * evaluator.evaluate(pred_logreg, {evaluator.metricName: \"weightedPrecision\"})))\n",
    "print(\"W-R: {:5.2f}%\".format(100 * evaluator.evaluate(pred_logreg, {evaluator.metricName: \"weightedRecall\"})))\n",
    "print(\"Acc: {:5.2f}%\".format(100 * evaluator.evaluate(pred_logreg, {evaluator.metricName: \"accuracy\"})))"
   ]
  },
  {
   "cell_type": "markdown",
   "metadata": {},
   "source": [
    "También se pueden calcular errores a partir del DataFrame, como muestra el siguiente ejemplo."
   ]
  },
  {
   "cell_type": "code",
   "execution_count": 47,
   "metadata": {},
   "outputs": [
    {
     "name": "stdout",
     "output_type": "stream",
     "text": [
      "Acc: 84.31%\n"
     ]
    }
   ],
   "source": [
    "acc = pred_logreg.filter(pred_logreg[\"label\"] == pred_logreg[\"prediction\"]).count() / pred_logreg.count()\n",
    "print(\"Acc: {:5.2f}%\".format(100 * acc))"
   ]
  },
  {
   "cell_type": "markdown",
   "metadata": {},
   "source": [
    "## Persistencia en modelos de clasificación"
   ]
  },
  {
   "cell_type": "markdown",
   "metadata": {},
   "source": [
    "* En una aplicación real, y más cuando se está utilizando Spark, la cantidad de datos disponibles puede hacer que el entrenamiento de un modelo requiera un gran coste computacional.\n",
    "* Por ello, es fundamental poder almacenar el modelo entrenado (el Transformer), de manera que se pueda cargar para realizar nuevas predicciones sin necesidad de repetir de nuevo el ajuste a los datos.\n",
    "* En el caso de Spark, esto se puede hacer de la siguiente manera:\n",
    "    * Para almacenar un modelo se utiliza la función `save()` del propio Transformer, que recibe como argumento la ruta donde se almacenará el modelo (que será una carpeta completa).\n",
    "    * Para cargar el modelo, se utiliza la función `load()` de la clase del modelo entrenado, que recibe como argumento la ruta donde está almacenado el modelo."
   ]
  },
  {
   "cell_type": "markdown",
   "metadata": {},
   "source": [
    "En la siguiente celda se puede ver un ejemplo de cómo se guarda el modelo de regresión logística entrenado anteriormente, y cómo se puede cargar y utilizar para predecir posteriormente."
   ]
  },
  {
   "cell_type": "code",
   "execution_count": 48,
   "metadata": {},
   "outputs": [
    {
     "name": "stdout",
     "output_type": "stream",
     "text": [
      "LogisticRegressionModel: uid=LogisticRegression_afaaf7454a6f, numClasses=3, numFeatures=4\n",
      "\n",
      "+----------+\n",
      "|prediction|\n",
      "+----------+\n",
      "|       0.0|\n",
      "|       0.0|\n",
      "|       1.0|\n",
      "|       0.0|\n",
      "|       0.0|\n",
      "|       0.0|\n",
      "|       0.0|\n",
      "|       0.0|\n",
      "|       0.0|\n",
      "|       0.0|\n",
      "|       1.0|\n",
      "|       0.0|\n",
      "|       0.0|\n",
      "|       0.0|\n",
      "|       1.0|\n",
      "|       1.0|\n",
      "|       0.0|\n",
      "|       0.0|\n",
      "|       1.0|\n",
      "|       1.0|\n",
      "+----------+\n",
      "only showing top 20 rows\n",
      "\n"
     ]
    }
   ],
   "source": [
    "from pyspark.ml.classification import LogisticRegressionModel\n",
    "\n",
    "logreg_tr.save(\"./Model_logreg\")\n",
    "\n",
    "loaded = LogisticRegressionModel.load(\"./Model_logreg\")\n",
    "\n",
    "print(loaded)\n",
    "print(\"\")\n",
    "loaded.transform(iris_te).select(\"prediction\").show()"
   ]
  },
  {
   "cell_type": "markdown",
   "metadata": {},
   "source": [
    "## Ejercicio de clasificación"
   ]
  },
  {
   "cell_type": "markdown",
   "metadata": {},
   "source": [
    "<div class=\"qst\">\n",
    "\n",
    "* Repetir la metodología para problemas de clasificación utilizando un modelo de bosque aleatorio (*random forest*) de clasificación. Para ello:\n",
    "    * Entrenar un modelo de bosque aleatorio utilizando el conjunto de datos `iris_tr`, y almacenar el modelo en un Transformer con nombre `ranfor_tr`.\n",
    "    * Predecir sobre el conjunto de datos `iris_te` usando el modelo de bosque aleatorio, y almacenar el resultado en un DataFrame con nombre `pred_ranfor`.\n",
    "    * Calcular e imprimir las cuatro medidas para clasificadores multiclase en el caso del modelo de bosque aleatorio, y comparar con los resultados del modelo lineal.\n",
    "    * Almacenar el modelo de bosque aleatorio entrenado en el directorio `./Model_ranfor`.\n",
    "    * Comprobar que el modelo almacenado se puede cargar, y sigue realizando correctamente las predicciones.\n",
    "\n",
    "</div>"
   ]
  },
  {
   "cell_type": "code",
   "execution_count": 49,
   "metadata": {},
   "outputs": [
    {
     "name": "stdout",
     "output_type": "stream",
     "text": [
      "F1:  94.10%\n",
      "W-P: 95.05%\n",
      "W-R: 94.12%\n",
      "Acc: 94.12%\n",
      "+----------+\n",
      "|prediction|\n",
      "+----------+\n",
      "|       0.0|\n",
      "|       0.0|\n",
      "|       0.0|\n",
      "|       0.0|\n",
      "|       0.0|\n",
      "|       0.0|\n",
      "|       0.0|\n",
      "|       0.0|\n",
      "|       0.0|\n",
      "|       0.0|\n",
      "|       1.0|\n",
      "|       0.0|\n",
      "|       0.0|\n",
      "|       0.0|\n",
      "|       1.0|\n",
      "|       1.0|\n",
      "|       0.0|\n",
      "|       0.0|\n",
      "|       1.0|\n",
      "|       1.0|\n",
      "+----------+\n",
      "only showing top 20 rows\n",
      "\n",
      "+----------+\n",
      "|prediction|\n",
      "+----------+\n",
      "|       0.0|\n",
      "|       0.0|\n",
      "|       0.0|\n",
      "|       0.0|\n",
      "|       0.0|\n",
      "|       0.0|\n",
      "|       0.0|\n",
      "|       0.0|\n",
      "|       0.0|\n",
      "|       0.0|\n",
      "|       1.0|\n",
      "|       0.0|\n",
      "|       0.0|\n",
      "|       0.0|\n",
      "|       1.0|\n",
      "|       1.0|\n",
      "|       0.0|\n",
      "|       0.0|\n",
      "|       1.0|\n",
      "|       1.0|\n",
      "+----------+\n",
      "only showing top 20 rows\n",
      "\n"
     ]
    }
   ],
   "source": [
    "from pyspark.ml.classification import RandomForestClassifier, RandomForestClassificationModel\n",
    "\n",
    "################################\n",
    "# Insertar código.\n",
    "# Estimator.\n",
    "ranfor_es = RandomForestClassifier()\n",
    "# Transformer.\n",
    "ranfor_tr = ranfor_es.fit(iris_tr)\n",
    "# Predicción.\n",
    "pred_ranfor = ranfor_tr.transform(iris_te)\n",
    "# Evaluación.\n",
    "evaluator = MulticlassClassificationEvaluator()\n",
    "print(\"F1:  {:5.2f}%\".format(100 * evaluator.evaluate(pred_ranfor)))\n",
    "print(\"W-P: {:5.2f}%\".format(100 * evaluator.evaluate(pred_ranfor, {evaluator.metricName: \"weightedPrecision\"})))\n",
    "print(\"W-R: {:5.2f}%\".format(100 * evaluator.evaluate(pred_ranfor, {evaluator.metricName: \"weightedRecall\"})))\n",
    "print(\"Acc: {:5.2f}%\".format(100 * evaluator.evaluate(pred_ranfor, {evaluator.metricName: \"accuracy\"})))\n",
    "# Almacenamiento.\n",
    "ranfor_tr.save(\"./Model_ranfor\")\n",
    "# Recuperación.\n",
    "loaded = RandomForestClassificationModel.load(\"./Model_ranfor\")\n",
    "\n",
    "pred_ranfor.select(\"prediction\").show()\n",
    "loaded.transform(iris_te).select(\"prediction\").show()\n",
    "################################"
   ]
  },
  {
   "cell_type": "markdown",
   "metadata": {},
   "source": [
    "# Regresión"
   ]
  },
  {
   "cell_type": "markdown",
   "metadata": {},
   "source": [
    "* Los problemas de regresión son problemas supervisados donde las etiquetas son variables continuas."
   ]
  },
  {
   "cell_type": "markdown",
   "metadata": {},
   "source": [
    "## Conjunto de datos de regresión"
   ]
  },
  {
   "cell_type": "markdown",
   "metadata": {},
   "source": [
    "* Como ilustración se utilizará el conjunto de datos *boston*, un problema de regresión consistente en predecir el precio de viviendas.\n",
    "* Este conjunto se puede cargar utilizando la función [`sklearn.datasets.load_boston()`](https://scikit-learn.org/stable/modules/generated/sklearn.datasets.load_boston.html#sklearn.datasets.load_boston)"
   ]
  },
  {
   "cell_type": "code",
   "execution_count": 50,
   "metadata": {},
   "outputs": [
    {
     "name": "stdout",
     "output_type": "stream",
     "text": [
      "+-------+----+-----+----+-----+-----+-----+------+---+-----+-------+------+-----+-----+\n",
      "|   CRIM|  ZN|INDUS|CHAS|  NOX|   RM|  AGE|   DIS|RAD|  TAX|PTRATIO|     B|LSTAT|label|\n",
      "+-------+----+-----+----+-----+-----+-----+------+---+-----+-------+------+-----+-----+\n",
      "|0.00632|18.0| 2.31| 0.0|0.538|6.575| 65.2|  4.09|1.0|296.0|   15.3| 396.9| 4.98| 24.0|\n",
      "|0.02731| 0.0| 7.07| 0.0|0.469|6.421| 78.9|4.9671|2.0|242.0|   17.8| 396.9| 9.14| 21.6|\n",
      "|0.02729| 0.0| 7.07| 0.0|0.469|7.185| 61.1|4.9671|2.0|242.0|   17.8|392.83| 4.03| 34.7|\n",
      "|0.03237| 0.0| 2.18| 0.0|0.458|6.998| 45.8|6.0622|3.0|222.0|   18.7|394.63| 2.94| 33.4|\n",
      "|0.06905| 0.0| 2.18| 0.0|0.458|7.147| 54.2|6.0622|3.0|222.0|   18.7| 396.9| 5.33| 36.2|\n",
      "|0.02985| 0.0| 2.18| 0.0|0.458| 6.43| 58.7|6.0622|3.0|222.0|   18.7|394.12| 5.21| 28.7|\n",
      "|0.08829|12.5| 7.87| 0.0|0.524|6.012| 66.6|5.5605|5.0|311.0|   15.2| 395.6|12.43| 22.9|\n",
      "|0.14455|12.5| 7.87| 0.0|0.524|6.172| 96.1|5.9505|5.0|311.0|   15.2| 396.9|19.15| 27.1|\n",
      "|0.21124|12.5| 7.87| 0.0|0.524|5.631|100.0|6.0821|5.0|311.0|   15.2|386.63|29.93| 16.5|\n",
      "|0.17004|12.5| 7.87| 0.0|0.524|6.004| 85.9|6.5921|5.0|311.0|   15.2|386.71| 17.1| 18.9|\n",
      "|0.22489|12.5| 7.87| 0.0|0.524|6.377| 94.3|6.3467|5.0|311.0|   15.2|392.52|20.45| 15.0|\n",
      "|0.11747|12.5| 7.87| 0.0|0.524|6.009| 82.9|6.2267|5.0|311.0|   15.2| 396.9|13.27| 18.9|\n",
      "|0.09378|12.5| 7.87| 0.0|0.524|5.889| 39.0|5.4509|5.0|311.0|   15.2| 390.5|15.71| 21.7|\n",
      "|0.62976| 0.0| 8.14| 0.0|0.538|5.949| 61.8|4.7075|4.0|307.0|   21.0| 396.9| 8.26| 20.4|\n",
      "|0.63796| 0.0| 8.14| 0.0|0.538|6.096| 84.5|4.4619|4.0|307.0|   21.0|380.02|10.26| 18.2|\n",
      "|0.62739| 0.0| 8.14| 0.0|0.538|5.834| 56.5|4.4986|4.0|307.0|   21.0|395.62| 8.47| 19.9|\n",
      "|1.05393| 0.0| 8.14| 0.0|0.538|5.935| 29.3|4.4986|4.0|307.0|   21.0|386.85| 6.58| 23.1|\n",
      "| 0.7842| 0.0| 8.14| 0.0|0.538| 5.99| 81.7|4.2579|4.0|307.0|   21.0|386.75|14.67| 17.5|\n",
      "|0.80271| 0.0| 8.14| 0.0|0.538|5.456| 36.6|3.7965|4.0|307.0|   21.0|288.99|11.69| 20.2|\n",
      "| 0.7258| 0.0| 8.14| 0.0|0.538|5.727| 69.5|3.7965|4.0|307.0|   21.0|390.95|11.28| 18.2|\n",
      "+-------+----+-----+----+-----+-----+-----+------+---+-----+-------+------+-----+-----+\n",
      "only showing top 20 rows\n",
      "\n"
     ]
    }
   ],
   "source": [
    "from sklearn.datasets import load_boston\n",
    "\n",
    "data = load_boston()\n",
    "boston = spark.createDataFrame(pd.DataFrame(data=np.column_stack([data[\"data\"], data[\"target\"]]),\n",
    "                                            columns=(np.append(data[\"feature_names\"], [\"label\"]))))\n",
    "\n",
    "# En este caso, una de las variables es categórica, pero binaria.\n",
    "boston.show()"
   ]
  },
  {
   "cell_type": "markdown",
   "metadata": {},
   "source": [
    "* En problemas de regresión, la aproximación estándar es de nuevo concatenar todas las características en una sola columna y dividir el conjunto de datos en entrenamiento y test."
   ]
  },
  {
   "cell_type": "code",
   "execution_count": 51,
   "metadata": {},
   "outputs": [
    {
     "name": "stdout",
     "output_type": "stream",
     "text": [
      "+-------+-----+-----+----+------+-----+----+-------+---+-----+-------+------+-----+-----+--------------------+\n",
      "|   CRIM|   ZN|INDUS|CHAS|   NOX|   RM| AGE|    DIS|RAD|  TAX|PTRATIO|     B|LSTAT|label|            features|\n",
      "+-------+-----+-----+----+------+-----+----+-------+---+-----+-------+------+-----+-----+--------------------+\n",
      "|0.01096| 55.0| 2.25| 0.0| 0.389|6.453|31.9| 7.3073|1.0|300.0|   15.3|394.72| 8.23| 22.0|[0.01096,55.0,2.2...|\n",
      "|0.01301| 35.0| 1.52| 0.0| 0.442|7.241|49.3| 7.0379|1.0|284.0|   15.5|394.74| 5.49| 32.7|[0.01301,35.0,1.5...|\n",
      "| 0.0136| 75.0|  4.0| 0.0|  0.41|5.888|47.6| 7.3197|3.0|469.0|   21.1| 396.9| 14.8| 18.9|[0.0136,75.0,4.0,...|\n",
      "|0.01381| 80.0| 0.46| 0.0| 0.422|7.875|32.0| 5.6484|4.0|255.0|   14.4|394.23| 2.97| 50.0|[0.01381,80.0,0.4...|\n",
      "|0.01432|100.0| 1.32| 0.0| 0.411|6.816|40.5| 8.3248|5.0|256.0|   15.1| 392.9| 3.95| 31.6|[0.01432,100.0,1....|\n",
      "|0.01439| 60.0| 2.93| 0.0| 0.401|6.604|18.8| 6.2196|1.0|265.0|   15.6| 376.7| 4.38| 29.1|[0.01439,60.0,2.9...|\n",
      "|0.01501| 80.0| 2.01| 0.0| 0.435|6.635|29.7|  8.344|4.0|280.0|   17.0|390.94| 5.99| 24.5|[0.01501,80.0,2.0...|\n",
      "|0.01501| 90.0| 1.21| 1.0| 0.401|7.923|24.8|  5.885|1.0|198.0|   13.6|395.52| 3.16| 50.0|[0.01501,90.0,1.2...|\n",
      "|0.01538| 90.0| 3.75| 0.0| 0.394|7.454|34.2| 6.3361|3.0|244.0|   15.9|386.34| 3.11| 44.0|[0.01538,90.0,3.7...|\n",
      "|0.01709| 90.0| 2.02| 0.0|  0.41|6.728|36.1|12.1265|5.0|187.0|   17.0|384.46|  4.5| 30.1|[0.01709,90.0,2.0...|\n",
      "|0.01778| 95.0| 1.47| 0.0| 0.403|7.135|13.9| 7.6534|3.0|402.0|   17.0| 384.3| 4.45| 32.9|[0.01778,95.0,1.4...|\n",
      "| 0.0187| 85.0| 4.15| 0.0| 0.429|6.516|27.7| 8.5353|4.0|351.0|   17.9|392.43| 6.36| 23.1|[0.0187,85.0,4.15...|\n",
      "|0.01951| 17.5| 1.38| 0.0|0.4161|7.104|59.5| 9.2229|3.0|216.0|   18.6|393.24| 8.05| 33.0|[0.01951,17.5,1.3...|\n",
      "|0.01965| 80.0| 1.76| 0.0| 0.385| 6.23|31.5| 9.0892|1.0|241.0|   18.2| 341.6|12.93| 20.1|[0.01965,80.0,1.7...|\n",
      "|0.02009| 95.0| 2.68| 0.0|0.4161|8.034|31.9|  5.118|4.0|224.0|   14.7|390.55| 2.88| 50.0|[0.02009,95.0,2.6...|\n",
      "|0.02055| 85.0| 0.74| 0.0|  0.41|6.383|35.7| 9.1876|2.0|313.0|   17.3| 396.9| 5.77| 24.7|[0.02055,85.0,0.7...|\n",
      "|0.02177| 82.5| 2.03| 0.0| 0.415| 7.61|15.7|   6.27|2.0|348.0|   14.7|395.38| 3.11| 42.3|[0.02177,82.5,2.0...|\n",
      "|0.02187| 60.0| 2.93| 0.0| 0.401|  6.8| 9.9| 6.2196|1.0|265.0|   15.6|393.37| 5.03| 31.1|[0.02187,60.0,2.9...|\n",
      "|0.02543| 55.0| 3.78| 0.0| 0.484|6.696|56.4| 5.7321|5.0|370.0|   17.6| 396.9| 7.18| 23.9|[0.02543,55.0,3.7...|\n",
      "|0.02729|  0.0| 7.07| 0.0| 0.469|7.185|61.1| 4.9671|2.0|242.0|   17.8|392.83| 4.03| 34.7|[0.02729,0.0,7.07...|\n",
      "+-------+-----+-----+----+------+-----+----+-------+---+-----+-------+------+-----+-----+--------------------+\n",
      "only showing top 20 rows\n",
      "\n"
     ]
    }
   ],
   "source": [
    "boston_join = VectorAssembler(inputCols=boston.columns[:-1], outputCol=\"features\").transform(boston)\n",
    "\n",
    "boston_tr, boston_te = boston_join.randomSplit([0.7, 0.3], seed=1234)\n",
    "\n",
    "boston_tr.show()"
   ]
  },
  {
   "cell_type": "markdown",
   "metadata": {},
   "source": [
    "## Entrenamiento en regresión"
   ]
  },
  {
   "cell_type": "markdown",
   "metadata": {},
   "source": [
    "* Para entrenar un modelo de regresión se usan los Estimators del módulo [`ml.regression`](https://spark.apache.org/docs/latest/api/python/reference/pyspark.ml.html#regression)."
   ]
  },
  {
   "cell_type": "markdown",
   "metadata": {},
   "source": [
    "El siguiente código entrena un modelo de regresión lineal.\n",
    "De nuevo, primero se crea el Estimator, y luego se utiliza el método `fit()` para obtener el modelo entrenado."
   ]
  },
  {
   "cell_type": "code",
   "execution_count": 52,
   "metadata": {},
   "outputs": [
    {
     "name": "stdout",
     "output_type": "stream",
     "text": [
      "LinearRegressionModel: uid=LinearRegression_1eaad451e5d0, numFeatures=13\n",
      "\n",
      "Training R2: 0.77\n"
     ]
    }
   ],
   "source": [
    "from pyspark.ml.regression import LinearRegression\n",
    "\n",
    "# Estimator.\n",
    "linreg_es = LinearRegression()\n",
    "# Transformer.\n",
    "linreg_tr = linreg_es.fit(boston_tr)\n",
    "\n",
    "print(linreg_tr)\n",
    "# En este caso el modelo tiene un resumen de los resultados (no siempre es así).\n",
    "print(\"\\nTraining R2: {:.2f}\".format(linreg_tr.summary.r2))"
   ]
  },
  {
   "cell_type": "markdown",
   "metadata": {},
   "source": [
    "## Predicción en regresión"
   ]
  },
  {
   "cell_type": "markdown",
   "metadata": {},
   "source": [
    "* Tras el entrenamiento, los modelos son objetos Transformer que pueden realizar predicciones sobre un DataFrame con nuevos puntos.\n",
    "* En el caso de la regresión lineal, como resultado de la predicción aparece una única nueva columna:\n",
    "    * `prediction`: Contiene la salida predicha."
   ]
  },
  {
   "cell_type": "markdown",
   "metadata": {},
   "source": [
    "A continuación se realiza la predicción sobre el conjunto de test."
   ]
  },
  {
   "cell_type": "code",
   "execution_count": 53,
   "metadata": {},
   "outputs": [
    {
     "name": "stdout",
     "output_type": "stream",
     "text": [
      "+------------------+\n",
      "|        prediction|\n",
      "+------------------+\n",
      "|30.223688917850517|\n",
      "|31.700706405435227|\n",
      "|30.816457118477295|\n",
      "|21.688006600462657|\n",
      "|25.315515032681464|\n",
      "|31.417015311788695|\n",
      "| 29.28473468899165|\n",
      "| 21.33878627608835|\n",
      "|18.976333132275638|\n",
      "|  16.0343586315201|\n",
      "|29.832983491764075|\n",
      "|19.767066404385698|\n",
      "|30.538448922482186|\n",
      "| 25.91396272886254|\n",
      "|27.791811521520806|\n",
      "|29.361612527552907|\n",
      "|27.752884586590383|\n",
      "|26.881437428365313|\n",
      "|27.221290025525242|\n",
      "|22.416429524723377|\n",
      "+------------------+\n",
      "only showing top 20 rows\n",
      "\n"
     ]
    }
   ],
   "source": [
    "pred_linreg = linreg_tr.transform(boston_te)\n",
    "\n",
    "pred_linreg.select(\"prediction\").show()"
   ]
  },
  {
   "cell_type": "markdown",
   "metadata": {},
   "source": [
    "## Evaluación en regresión"
   ]
  },
  {
   "cell_type": "markdown",
   "metadata": {},
   "source": [
    "* Para evaluar los modelos de regresión se puede usar de nuevo el módulo [`ml.evaluation`](https://spark.apache.org/docs/latest/api/python/reference/pyspark.ml.html#evaluation), en concreto el siguiente Evaluator:\n",
    "    * [`ml.evaluation.RegressionEvaluator`](https://spark.apache.org/docs/latest/api/python/reference/api/pyspark.ml.evaluation.RegressionEvaluator.html), para problemas de regresión, que permite calcular, entre otras, las siguientes métricas:\n",
    "        * `\"rmse\"` (por defecto), calcula la raíz del error cuadrático medio.\n",
    "        * `\"mse\"`, calcula el error cuadrático medio.\n",
    "        * `\"r2\"`, calcula el coeficiente $R^2$.\n",
    "        * `\"mae`\", calcula el error absoluto medio."
   ]
  },
  {
   "cell_type": "markdown",
   "metadata": {},
   "source": [
    "La siguiente celda muestra un ejemplo de cómo calcular las cuatro medidas anteriores para regresión, con las predicciones del modelo de regresión lineal."
   ]
  },
  {
   "cell_type": "code",
   "execution_count": 54,
   "metadata": {},
   "outputs": [
    {
     "name": "stdout",
     "output_type": "stream",
     "text": [
      "RMSE:  4.98\n",
      "MSE:  24.79\n",
      "R2:    0.65\n",
      "MAE:   3.61\n"
     ]
    }
   ],
   "source": [
    "from pyspark.ml.evaluation import RegressionEvaluator\n",
    "\n",
    "evaluator = RegressionEvaluator()\n",
    "\n",
    "print(\"RMSE: {:5.2f}\".format(evaluator.evaluate(pred_linreg)))\n",
    "print(\"MSE:  {:5.2f}\".format(evaluator.evaluate(pred_linreg, {evaluator.metricName: \"mse\"})))\n",
    "print(\"R2:   {:5.2f}\".format(evaluator.evaluate(pred_linreg, {evaluator.metricName: \"r2\"})))\n",
    "print(\"MAE:  {:5.2f}\".format(evaluator.evaluate(pred_linreg, {evaluator.metricName: \"mae\"})))"
   ]
  },
  {
   "cell_type": "markdown",
   "metadata": {},
   "source": [
    "## Persistencia en modelos de regresión"
   ]
  },
  {
   "cell_type": "markdown",
   "metadata": {},
   "source": [
    "En la siguiente celda se puede ver un ejemplo de cómo se almacena el modelo de regresión lineal entrenado anteriormente, y cómo se puede cargar y utilizar para predecir posteriormente."
   ]
  },
  {
   "cell_type": "code",
   "execution_count": 55,
   "metadata": {},
   "outputs": [
    {
     "name": "stdout",
     "output_type": "stream",
     "text": [
      "LinearRegressionModel: uid=LinearRegression_1eaad451e5d0, numFeatures=13\n",
      "\n",
      "+------------------+\n",
      "|        prediction|\n",
      "+------------------+\n",
      "|30.223688917850517|\n",
      "|31.700706405435227|\n",
      "|30.816457118477295|\n",
      "|21.688006600462657|\n",
      "|25.315515032681464|\n",
      "|31.417015311788695|\n",
      "| 29.28473468899165|\n",
      "| 21.33878627608835|\n",
      "|18.976333132275638|\n",
      "|  16.0343586315201|\n",
      "|29.832983491764075|\n",
      "|19.767066404385698|\n",
      "|30.538448922482186|\n",
      "| 25.91396272886254|\n",
      "|27.791811521520806|\n",
      "|29.361612527552907|\n",
      "|27.752884586590383|\n",
      "|26.881437428365313|\n",
      "|27.221290025525242|\n",
      "|22.416429524723377|\n",
      "+------------------+\n",
      "only showing top 20 rows\n",
      "\n"
     ]
    }
   ],
   "source": [
    "from pyspark.ml.regression import LinearRegressionModel\n",
    "\n",
    "linreg_tr.save(\"./Model_linreg\")\n",
    "\n",
    "loaded = LinearRegressionModel.load(\"./Model_linreg\")\n",
    "\n",
    "print(loaded)\n",
    "print(\"\")\n",
    "loaded.transform(boston_te).select(\"prediction\").show()"
   ]
  },
  {
   "cell_type": "markdown",
   "metadata": {},
   "source": [
    "## Ejercicio de regresión"
   ]
  },
  {
   "cell_type": "markdown",
   "metadata": {},
   "source": [
    "<div class=\"qst\">\n",
    "\n",
    "* Repetir la metodología para problemas de regresión utilizando un modelo de bosque aleatorio (*random forest*) de regresión. Para ello:\n",
    "    * Entrenar un modelo de bosque aleatorio utilizando el conjunto de datos `boston_tr`, y almacenar el modelo en un Transformer con nombre `ranforr_tr`.\n",
    "    * Predecir sobre el conjunto de datos `boston_te` usando el modelo de bosque aleatorio, y almacenar el resultado en un DataFrame con nombre `pred_ranforr`.\n",
    "    * Calcular e imprimir las cuatro medidas anteriores para regresores en el caso del modelo de bosque aleatorio, y comparar con los resultados del modelo lineal.\n",
    "    * Almacenar el modelo de bosque aleatorio entrenado en el directorio `./Model_ranforr`.\n",
    "    * Comprobar que el modelo almacenado se puede cargar, y sigue realizando correctamente las predicciones.\n",
    "\n",
    "</div>"
   ]
  },
  {
   "cell_type": "code",
   "execution_count": 56,
   "metadata": {},
   "outputs": [
    {
     "name": "stdout",
     "output_type": "stream",
     "text": [
      "RMSE:  3.67\n",
      "MSE:  13.47\n",
      "R2:    0.81\n",
      "MAE:   2.53\n",
      "+------------------+\n",
      "|        prediction|\n",
      "+------------------+\n",
      "| 28.30070538821182|\n",
      "|  31.7691369064313|\n",
      "| 34.16506678546549|\n",
      "|23.493931785899417|\n",
      "| 22.29856393896916|\n",
      "|28.696711404474378|\n",
      "|24.614305451800696|\n",
      "| 28.28075847649144|\n",
      "|20.842045824904456|\n",
      "|20.734983966462025|\n",
      "| 32.07417742313406|\n",
      "|21.035580623439255|\n",
      "|25.381369071779154|\n",
      "|23.727900598537662|\n",
      "|23.674969006141897|\n",
      "|22.884713026713065|\n",
      "|21.379912637856222|\n",
      "|23.720553719973463|\n",
      "|24.066517829872257|\n",
      "|  20.3973668755111|\n",
      "+------------------+\n",
      "only showing top 20 rows\n",
      "\n",
      "+------------------+\n",
      "|        prediction|\n",
      "+------------------+\n",
      "| 28.30070538821182|\n",
      "|  31.7691369064313|\n",
      "| 34.16506678546549|\n",
      "|23.493931785899417|\n",
      "| 22.29856393896916|\n",
      "|28.696711404474378|\n",
      "|24.614305451800696|\n",
      "| 28.28075847649144|\n",
      "|20.842045824904456|\n",
      "|20.734983966462025|\n",
      "| 32.07417742313406|\n",
      "|21.035580623439255|\n",
      "|25.381369071779154|\n",
      "|23.727900598537662|\n",
      "|23.674969006141897|\n",
      "|22.884713026713065|\n",
      "|21.379912637856222|\n",
      "|23.720553719973463|\n",
      "|24.066517829872257|\n",
      "|  20.3973668755111|\n",
      "+------------------+\n",
      "only showing top 20 rows\n",
      "\n"
     ]
    }
   ],
   "source": [
    "from pyspark.ml.regression import RandomForestRegressor, RandomForestRegressionModel\n",
    "\n",
    "################################\n",
    "# Insertar código.\n",
    "# Estimator.\n",
    "ranforr_es = RandomForestRegressor()\n",
    "# Transformer.\n",
    "ranforr_tr = ranforr_es.fit(boston_tr)\n",
    "# Predicción.\n",
    "pred_ranforr = ranforr_tr.transform(boston_te)\n",
    "# Evaluación.\n",
    "evaluator = RegressionEvaluator()\n",
    "print(\"RMSE: {:5.2f}\".format(evaluator.evaluate(pred_ranforr)))\n",
    "print(\"MSE:  {:5.2f}\".format(evaluator.evaluate(pred_ranforr, {evaluator.metricName: \"mse\"})))\n",
    "print(\"R2:   {:5.2f}\".format(evaluator.evaluate(pred_ranforr, {evaluator.metricName: \"r2\"})))\n",
    "print(\"MAE:  {:5.2f}\".format(evaluator.evaluate(pred_ranforr, {evaluator.metricName: \"mae\"})))\n",
    "# Almacenamiento.\n",
    "ranforr_tr.save(\"./Model_ranforr\")\n",
    "# Recuperación.\n",
    "loaded = RandomForestRegressionModel.load(\"./Model_ranforr\")\n",
    "\n",
    "pred_ranforr.select(\"prediction\").show()\n",
    "loaded.transform(boston_te).select(\"prediction\").show()\n",
    "################################"
   ]
  },
  {
   "cell_type": "markdown",
   "metadata": {},
   "source": [
    "# Clustering"
   ]
  },
  {
   "cell_type": "markdown",
   "metadata": {},
   "source": [
    "* Los problemas de *clustering* (agrupamiento) son problemas no supervisados en los que se busca agrupar los distintos patrones de acuerdo a un cierto criterio."
   ]
  },
  {
   "cell_type": "markdown",
   "metadata": {},
   "source": [
    "## Conjunto de datos de clustering"
   ]
  },
  {
   "cell_type": "markdown",
   "metadata": {},
   "source": [
    "* Como ilustración se creará un problema muy sencillo de *clustering*, utilizando la función [`sklearn.datasets.make_blobs()`](https://scikit-learn.org/stable/modules/generated/sklearn.datasets.make_blobs.html) para crear tres grupos distintos."
   ]
  },
  {
   "cell_type": "markdown",
   "metadata": {},
   "source": [
    "El siguiente código crea el conjunto de datos y lo muestra en una figura."
   ]
  },
  {
   "cell_type": "code",
   "execution_count": 57,
   "metadata": {},
   "outputs": [
    {
     "data": {
      "image/png": "[encoded data removed]",
      "text/plain": [
       "<Figure size 1080x360 with 1 Axes>"
      ]
     },
     "metadata": {
      "needs_background": "light"
     },
     "output_type": "display_data"
    },
    {
     "name": "stdout",
     "output_type": "stream",
     "text": [
      "+----------------------------------------+\n",
      "|features                                |\n",
      "+----------------------------------------+\n",
      "|[5.585237373748507,-4.794868701166052]  |\n",
      "|[-5.0195752677023355,3.434121443139315] |\n",
      "|[-7.904959866892547,3.652559125701152]  |\n",
      "|[0.03748802701681253,5.9775096000147565]|\n",
      "|[5.0112894340875505,-4.522206180823035] |\n",
      "|[5.216151582225241,-5.329963982420278]  |\n",
      "|[-0.8822678723132585,7.600851499827227] |\n",
      "|[4.69635712537919,-5.645425956766199]   |\n",
      "|[-1.462990700348187,8.344962884979248]  |\n",
      "|[-5.37217557299428,2.0623646367492583]  |\n",
      "|[5.6284606607771925,-2.444070527717862] |\n",
      "|[-7.029279292403895,2.6681609075303925] |\n",
      "|[-6.489814874663033,1.5259765595300965] |\n",
      "|[5.434186685858791,-4.429033911748826]  |\n",
      "|[-1.633331451824887,5.620064704311385]  |\n",
      "|[-7.579042732344923,3.8651613735688803] |\n",
      "|[5.198871960316093,-5.685209432556292]  |\n",
      "|[-2.5110457574589216,7.495151306731135] |\n",
      "|[-5.3286021974907625,0.996365343752331] |\n",
      "|[4.83347627885324,-4.44826581784454]    |\n",
      "+----------------------------------------+\n",
      "only showing top 20 rows\n",
      "\n"
     ]
    }
   ],
   "source": [
    "from sklearn.datasets import make_blobs\n",
    "from pyspark.ml.linalg import Vectors\n",
    "\n",
    "data = make_blobs(n_samples=300, random_state=1234)[0]\n",
    "\n",
    "plt.scatter(data[:,0], data[:,1])\n",
    "plt.xlabel(\"$x_1$\")\n",
    "plt.ylabel(\"$x_2$\")\n",
    "plt.axis(\"equal\")\n",
    "plt.show()\n",
    "\n",
    "blobs = spark.createDataFrame([[Vectors.dense(v)] for v in data], [\"features\"])\n",
    "\n",
    "blobs.show(truncate=False)"
   ]
  },
  {
   "cell_type": "markdown",
   "metadata": {},
   "source": [
    "* El DataFrame ya tiene una única columna de características.\n",
    "* Aunque el problema es no supervisado, se puede dividir el conjunto de datos en entrenamiento ($70\\%$) y test ($30\\%$) para mostrar cómo se asignan puntos nuevos al grupo que corresponda."
   ]
  },
  {
   "cell_type": "code",
   "execution_count": 58,
   "metadata": {},
   "outputs": [
    {
     "name": "stdout",
     "output_type": "stream",
     "text": [
      "+---------------------------------------+\n",
      "|features                               |\n",
      "+---------------------------------------+\n",
      "|[-8.254876634542264,4.372422188262213] |\n",
      "|[-7.904959866892547,3.652559125701152] |\n",
      "|[-7.642727405887801,1.5455948054947664]|\n",
      "|[-7.579042732344923,3.8651613735688803]|\n",
      "|[-7.571584273922998,2.3412572208477234]|\n",
      "|[-7.365134734089125,1.8503124476493884]|\n",
      "|[-7.238599775902286,1.9302941116698222]|\n",
      "|[-7.19746155110406,1.857457209535849]  |\n",
      "|[-7.143847326189469,2.3718305436925347]|\n",
      "|[-7.107763606515258,1.2031038582018447]|\n",
      "|[-7.09586530595238,4.450018371574638]  |\n",
      "|[-7.056330344907532,2.7763733516956464]|\n",
      "|[-7.029279292403895,2.6681609075303925]|\n",
      "|[-6.955046204185351,2.904235157958686] |\n",
      "|[-6.950716276047546,1.9741577544591518]|\n",
      "|[-6.852494988871488,2.878433025137554] |\n",
      "|[-6.717853441609009,2.297555912427253] |\n",
      "|[-6.648934995997651,2.143159127830557] |\n",
      "|[-6.620376095558428,3.1913392267157024]|\n",
      "|[-6.584115835954344,1.0163806873586159]|\n",
      "+---------------------------------------+\n",
      "only showing top 20 rows\n",
      "\n"
     ]
    }
   ],
   "source": [
    "blobs_tr, blobs_te = blobs.randomSplit([0.7, 0.3], seed=1234)\n",
    "\n",
    "blobs_tr.show(truncate=False)"
   ]
  },
  {
   "cell_type": "markdown",
   "metadata": {},
   "source": [
    "## Entrenamiento en clustering"
   ]
  },
  {
   "cell_type": "markdown",
   "metadata": {},
   "source": [
    "* Para construir un modelo de *clustering*, se usan los Estimators del módulo [`ml.clustering`](https://spark.apache.org/docs/latest/api/python/reference/pyspark.ml.html#clustering)."
   ]
  },
  {
   "cell_type": "markdown",
   "metadata": {},
   "source": [
    "El siguiente código entrena un modelo de $k$-means.\n",
    "De nuevo, primero se crea el Estimator, y luego se utiliza el método `fit()` para obtener el modelo adaptado a los datos (en este caso, con los centroides calculados)."
   ]
  },
  {
   "cell_type": "code",
   "execution_count": 59,
   "metadata": {},
   "outputs": [
    {
     "name": "stdout",
     "output_type": "stream",
     "text": [
      "KMeansModel: uid=KMeans_23a6ecd15311, k=3, distanceMeasure=euclidean, numFeatures=2\n"
     ]
    }
   ],
   "source": [
    "from pyspark.ml.clustering import KMeans\n",
    "\n",
    "# Estimator.\n",
    "kmeans_es = KMeans(k=3)\n",
    "# Transformer.\n",
    "kmeans_tr = kmeans_es.fit(blobs_tr)\n",
    "\n",
    "print(kmeans_tr)"
   ]
  },
  {
   "cell_type": "markdown",
   "metadata": {},
   "source": [
    "## Predicción en clustering"
   ]
  },
  {
   "cell_type": "markdown",
   "metadata": {},
   "source": [
    "* Tras adaptarlo a los datos, los modelos son objetos Transformer que pueden realizar asignaciones de grupo sobre un DataFrame con nuevos puntos.\n",
    "* Al realizar la predicción sobre un conjunto de datos usando el modelo de $k$-means aparece una nueva columna:\n",
    "    * `prediction`: Contiene el grupo asignado."
   ]
  },
  {
   "cell_type": "markdown",
   "metadata": {},
   "source": [
    "A continuación se realiza la predicción sobre el conjunto de test."
   ]
  },
  {
   "cell_type": "code",
   "execution_count": 60,
   "metadata": {},
   "outputs": [
    {
     "name": "stdout",
     "output_type": "stream",
     "text": [
      "+----------+\n",
      "|prediction|\n",
      "+----------+\n",
      "|         2|\n",
      "|         2|\n",
      "|         2|\n",
      "|         2|\n",
      "|         2|\n",
      "|         2|\n",
      "|         2|\n",
      "|         2|\n",
      "|         2|\n",
      "|         2|\n",
      "|         2|\n",
      "|         2|\n",
      "|         2|\n",
      "|         2|\n",
      "|         2|\n",
      "|         2|\n",
      "|         2|\n",
      "|         2|\n",
      "|         2|\n",
      "|         2|\n",
      "+----------+\n",
      "only showing top 20 rows\n",
      "\n"
     ]
    }
   ],
   "source": [
    "pred_kmeans = kmeans_tr.transform(blobs_te)\n",
    "\n",
    "pred_kmeans.select(\"prediction\").show()"
   ]
  },
  {
   "cell_type": "markdown",
   "metadata": {},
   "source": [
    "Como este ejemplo es muy sencillo, se puede visualizar el resultado."
   ]
  },
  {
   "cell_type": "code",
   "execution_count": 61,
   "metadata": {},
   "outputs": [
    {
     "data": {
      "image/png": "[encoded data removed]",
      "text/plain": [
       "<Figure size 1080x360 with 1 Axes>"
      ]
     },
     "metadata": {
      "needs_background": "light"
     },
     "output_type": "display_data"
    }
   ],
   "source": [
    "data = pred_kmeans.collect()\n",
    "features = np.array([row[\"features\"].toArray() for row in data])\n",
    "prediction = np.array([row[\"prediction\"] for row in data])\n",
    "\n",
    "plt.scatter(features[:,0], features[:,1], c=prediction)\n",
    "plt.xlabel(\"$x_1$\")\n",
    "plt.ylabel(\"$x_2$\")\n",
    "plt.axis(\"equal\")\n",
    "plt.show()"
   ]
  },
  {
   "cell_type": "markdown",
   "metadata": {},
   "source": [
    "## Evaluación en clustering"
   ]
  },
  {
   "cell_type": "markdown",
   "metadata": {},
   "source": [
    "* Para evaluar los modelos de *clustering* se puede usar de nuevo el módulo [`ml.evaluation`](https://spark.apache.org/docs/latest/api/python/reference/pyspark.ml.html#evaluation), en concreto el siguiente Evaluator:\n",
    "    * [`ml.evaluation.ClusteringEvaluator`](https://spark.apache.org/docs/latest/api/python/reference/api/pyspark.ml.evaluation.ClusteringEvaluator.html), para problemas de *clustering*, que permite calcular la siguiente métrica:\n",
    "        * `\"silhouette\"` (por defecto), calcula el coeficiente Silhouette (entre $-1$ y $1$, mejor cuanto mayor)."
   ]
  },
  {
   "cell_type": "markdown",
   "metadata": {},
   "source": [
    "La siguiente celda muestra un ejemplo de cómo calcular la medida anterior para *clustering*, con las agrupaciones del modelo de $k$-means."
   ]
  },
  {
   "cell_type": "code",
   "execution_count": 62,
   "metadata": {},
   "outputs": [
    {
     "name": "stdout",
     "output_type": "stream",
     "text": [
      "Sil (k=3): 0.92\n"
     ]
    }
   ],
   "source": [
    "from pyspark.ml.evaluation import ClusteringEvaluator\n",
    "\n",
    "evaluator = ClusteringEvaluator()\n",
    "\n",
    "print(\"Sil (k=3): %.2f\" % evaluator.evaluate(pred_kmeans))"
   ]
  },
  {
   "cell_type": "markdown",
   "metadata": {},
   "source": [
    "El resultado anterior se puede comparar con otros agrupamientos con distinto número de clases."
   ]
  },
  {
   "cell_type": "code",
   "execution_count": 63,
   "metadata": {},
   "outputs": [
    {
     "name": "stdout",
     "output_type": "stream",
     "text": [
      "Sil (k=2): 0.84\n",
      "Sil (k=4): 0.74\n",
      "Sil (k=5): 0.61\n"
     ]
    }
   ],
   "source": [
    "for k in [2, 4, 5]:\n",
    "    print(\"Sil (k=%d): %.2f\" % (k, evaluator.evaluate(KMeans(k=k).fit(boston_tr).transform(boston_te))))"
   ]
  },
  {
   "cell_type": "markdown",
   "metadata": {},
   "source": [
    "## Persistencia en modelos de clustering"
   ]
  },
  {
   "cell_type": "markdown",
   "metadata": {},
   "source": [
    "En la siguiente celda se puede ver un ejemplo de cómo se guarda el modelo de $k$-means adaptado anteriormente, y cómo se puede cargar y utilizar para asignar nuevos puntos posteriormente."
   ]
  },
  {
   "cell_type": "code",
   "execution_count": 64,
   "metadata": {},
   "outputs": [
    {
     "name": "stdout",
     "output_type": "stream",
     "text": [
      "KMeansModel: uid=KMeans_23a6ecd15311, k=3, distanceMeasure=euclidean, numFeatures=2\n",
      "\n",
      "+----------+\n",
      "|prediction|\n",
      "+----------+\n",
      "|         2|\n",
      "|         2|\n",
      "|         2|\n",
      "|         2|\n",
      "|         2|\n",
      "|         2|\n",
      "|         2|\n",
      "|         2|\n",
      "|         2|\n",
      "|         2|\n",
      "|         2|\n",
      "|         2|\n",
      "|         2|\n",
      "|         2|\n",
      "|         2|\n",
      "|         2|\n",
      "|         2|\n",
      "|         2|\n",
      "|         2|\n",
      "|         2|\n",
      "+----------+\n",
      "only showing top 20 rows\n",
      "\n"
     ]
    }
   ],
   "source": [
    "from pyspark.ml.clustering import KMeansModel\n",
    "\n",
    "kmeans_tr.save(\"./Model_kmeans\")\n",
    "\n",
    "loaded = KMeansModel.load(\"./Model_kmeans\")\n",
    "\n",
    "print(loaded)\n",
    "print(\"\")\n",
    "loaded.transform(blobs_te).select(\"prediction\").show()"
   ]
  },
  {
   "cell_type": "markdown",
   "metadata": {},
   "source": [
    "## Ejercicio de clustering"
   ]
  },
  {
   "cell_type": "markdown",
   "metadata": {},
   "source": [
    "<div class=\"qst\">\n",
    "\n",
    "* Repetir la metodología para problemas de *clustering* utilizando un modelo de $k$-means por bisección (*bisecting $k$-means*). Para ello:\n",
    "    * Entrenar un modelo de $k$-means por bisección utilizando el conjunto de datos `blobs_tr`, y almacenar el modelo en un Transformer con nombre `bkmeans_tr`.\n",
    "    * Predecir sobre el conjunto de datos `blobs_te` usando el modelo de $k$-means por bisección, y almacenar el resultado en un DataFrame con nombre `pred_bkmeans`.\n",
    "    * Calcular e imprimir la medida de calidad en el caso del modelo de $k$-means por bisección, y comparar con el resultados de $k$-means.\n",
    "    * Almacenar el modelo de $k$-means por bisección entrenado en el directorio `./Model_bkmeans`.\n",
    "    * Comprobar que el modelo almacenado se puede cargar, y sigue realizando correctamente las predicciones.\n",
    "\n",
    "</div>"
   ]
  },
  {
   "cell_type": "code",
   "execution_count": 65,
   "metadata": {},
   "outputs": [
    {
     "name": "stdout",
     "output_type": "stream",
     "text": [
      "Sil (k=3): 0.92\n",
      "+----------+\n",
      "|prediction|\n",
      "+----------+\n",
      "|         0|\n",
      "|         0|\n",
      "|         0|\n",
      "|         0|\n",
      "|         0|\n",
      "|         0|\n",
      "|         0|\n",
      "|         0|\n",
      "|         0|\n",
      "|         0|\n",
      "|         0|\n",
      "|         0|\n",
      "|         0|\n",
      "|         0|\n",
      "|         0|\n",
      "|         0|\n",
      "|         0|\n",
      "|         0|\n",
      "|         0|\n",
      "|         0|\n",
      "+----------+\n",
      "only showing top 20 rows\n",
      "\n",
      "+----------+\n",
      "|prediction|\n",
      "+----------+\n",
      "|         0|\n",
      "|         0|\n",
      "|         0|\n",
      "|         0|\n",
      "|         0|\n",
      "|         0|\n",
      "|         0|\n",
      "|         0|\n",
      "|         0|\n",
      "|         0|\n",
      "|         0|\n",
      "|         0|\n",
      "|         0|\n",
      "|         0|\n",
      "|         0|\n",
      "|         0|\n",
      "|         0|\n",
      "|         0|\n",
      "|         0|\n",
      "|         0|\n",
      "+----------+\n",
      "only showing top 20 rows\n",
      "\n"
     ]
    }
   ],
   "source": [
    "from pyspark.ml.clustering import BisectingKMeans, BisectingKMeansModel\n",
    "\n",
    "################################\n",
    "# Insertar código.\n",
    "# Estimator.\n",
    "bkmeans_es = BisectingKMeans(k=3)\n",
    "# Transformer.\n",
    "bkmeans_tr = bkmeans_es.fit(blobs_tr)\n",
    "# Predicción.\n",
    "pred_bkmeans = bkmeans_tr.transform(blobs_te)\n",
    "# Evaluación.\n",
    "evaluator = ClusteringEvaluator()\n",
    "print(\"Sil (k=3): %.2f\" % evaluator.evaluate(pred_bkmeans))\n",
    "# Almacenamiento.\n",
    "bkmeans_tr.save(\"./Model_bkmeans\")\n",
    "# Recuperación.\n",
    "loaded = BisectingKMeansModel.load(\"./Model_bkmeans\")\n",
    "\n",
    "pred_bkmeans.select(\"prediction\").show()\n",
    "loaded.transform(blobs_te).select(\"prediction\").show()\n",
    "################################"
   ]
  },
  {
   "cell_type": "markdown",
   "metadata": {},
   "source": [
    "# Pipelines"
   ]
  },
  {
   "cell_type": "markdown",
   "metadata": {},
   "source": [
    "## Introducción a los Pipelines"
   ]
  },
  {
   "cell_type": "markdown",
   "metadata": {},
   "source": [
    "* Cuando se resuelve un problema de ML es muy común tener que realizar una secuencia de varios pasos para transformar los datos originales en predicciones.\n",
    "* Esta secuencia deberá ser igual en entrenamiento (cuando se usan los Estimators) y en predicción (cuando se aplican los Transformers).\n",
    "* Para facilitar la construcción de estos flujos de trabajo en Spark se usan los Pipelines.\n",
    "    * Básicamente, un Pipeline es una secuencia de Transformers y Estimators, que se aplicarán por orden sobre un DataFrame.\n",
    "    * Una vez construido, el Pipeline tiene una función `fit()` que llama de forma secuencial a la función `fit()` de los Estimators, a la vez que va transformando el DataFrame en cada nivel para usarlo como entrada del siguiente paso.\n",
    "* La propia documentación de MLlib trae un ejemplo muy ilustrativo en un problema de clasificación de textos.\n",
    "    * En concreto, el Pipeline durante la fase de entrenamiento se corresponde al esquema que se muestra a continuación, donde los elementos en azul representan Transformers y los elementos en rojo representan Estimators:\n",
    "<img src=\"figures/ml-Pipeline.png\" width=\"690\" alt=\"Pipeline durante la fase de entrenamiento.\">\n",
    "    * Una vez realizada la llamada a `fit()` se obtiene un modelo en forma de Transformer, que se puede utilizar para realizar nuevas predicciones, para lo que aplicará por orden cada uno de los pasos especificados en el Pipeline, como se muestra a continuación:\n",
    "<img src=\"figures/ml-PipelineModel.png\" width=\"695\" alt=\"Pipeline durante la fase de predicción.\">"
   ]
  },
  {
   "cell_type": "markdown",
   "metadata": {},
   "source": [
    "## Conjunto de datos para Pipelines"
   ]
  },
  {
   "cell_type": "markdown",
   "metadata": {},
   "source": [
    "* Como ilustración se usará un sencillo problema sintético de clasificación de textos.\n",
    "    * La clase positiva son aquellos textos que tratan sobre Spark."
   ]
  },
  {
   "cell_type": "code",
   "execution_count": 66,
   "metadata": {},
   "outputs": [
    {
     "name": "stdout",
     "output_type": "stream",
     "text": [
      "+------------------+-----+\n",
      "|              text|label|\n",
      "+------------------+-----+\n",
      "|   a b c d e spark|    1|\n",
      "|               b d|    0|\n",
      "|       spark f g h|    1|\n",
      "|  hadoop mapreduce|    0|\n",
      "|       spark i j k|    1|\n",
      "|             l m n|    0|\n",
      "|spark hadoop spark|    1|\n",
      "|     apache hadoop|    0|\n",
      "+------------------+-----+\n",
      "\n"
     ]
    }
   ],
   "source": [
    "# Preparar los datos a partir de una lista de tuplas (text, label).\n",
    "texts = spark.createDataFrame([\n",
    "    [\"a b c d e spark\", 1],\n",
    "    [\"b d\", 0],\n",
    "    [\"spark f g h\", 1],\n",
    "    [\"hadoop mapreduce\", 0],\n",
    "    [\"spark i j k\", 1],\n",
    "    [\"l m n\", 0],\n",
    "    [\"spark hadoop spark\", 1],\n",
    "    [\"apache hadoop\", 0]\n",
    "], [\"text\", \"label\"])\n",
    "\n",
    "texts.show()"
   ]
  },
  {
   "cell_type": "markdown",
   "metadata": {},
   "source": [
    "* El conjunto de datos se divide en entrenamiento ($50\\%$) y test ($50\\%$)."
   ]
  },
  {
   "cell_type": "code",
   "execution_count": 67,
   "metadata": {},
   "outputs": [
    {
     "name": "stdout",
     "output_type": "stream",
     "text": [
      "+----------------+-----+\n",
      "|            text|label|\n",
      "+----------------+-----+\n",
      "|             b d|    0|\n",
      "|hadoop mapreduce|    0|\n",
      "|     spark f g h|    1|\n",
      "|     spark i j k|    1|\n",
      "+----------------+-----+\n",
      "\n",
      "+------------------+-----+\n",
      "|              text|label|\n",
      "+------------------+-----+\n",
      "|   a b c d e spark|    1|\n",
      "|     apache hadoop|    0|\n",
      "|             l m n|    0|\n",
      "|spark hadoop spark|    1|\n",
      "+------------------+-----+\n",
      "\n"
     ]
    }
   ],
   "source": [
    "texts_tr, texts_te = texts.randomSplit([0.5, 0.5], seed=1234)\n",
    "\n",
    "texts_tr.show()\n",
    "texts_te.show()"
   ]
  },
  {
   "cell_type": "markdown",
   "metadata": {},
   "source": [
    "## Entrenamiento con Pipelines"
   ]
  },
  {
   "cell_type": "markdown",
   "metadata": {},
   "source": [
    "* Los Pipelines de Spark están implementados en la clase [`ml.pipeline`](https://spark.apache.org/docs/latest/api/python/reference/api/pyspark.ml.Pipeline.html).\n",
    "* Para construir un Pipeline, primero hay que crear los objetos Transformer y Estimator que lo compondrán, y a continuación crear el objeto Pipeline indicando en el argumento `stages` las distintas fases que formarán parte del flujo de trabajo."
   ]
  },
  {
   "cell_type": "markdown",
   "metadata": {},
   "source": [
    "En la siguiente celda se crea el Pipeline descrito arriba para clasificación de textos."
   ]
  },
  {
   "cell_type": "code",
   "execution_count": 68,
   "metadata": {},
   "outputs": [
    {
     "name": "stdout",
     "output_type": "stream",
     "text": [
      "PipelineModel_64205af0ad60\n"
     ]
    }
   ],
   "source": [
    "from pyspark.ml.feature import Tokenizer, HashingTF\n",
    "from pyspark.ml.classification import LogisticRegression\n",
    "from pyspark.ml.pipeline import Pipeline\n",
    "\n",
    "tokenizer = Tokenizer(inputCol=\"text\", outputCol=\"words\")\n",
    "hashing = HashingTF(inputCol=\"words\", outputCol=\"features\")\n",
    "logreg_es = LogisticRegression(maxIter=10, regParam=0.001)\n",
    "\n",
    "# Estimator.\n",
    "pipeline_es = Pipeline(stages=[tokenizer, hashing, logreg_es])\n",
    "# Transformer.\n",
    "pipeline_tr = pipeline_es.fit(texts_tr)\n",
    "\n",
    "print(pipeline_tr)"
   ]
  },
  {
   "cell_type": "markdown",
   "metadata": {},
   "source": [
    "## Predicción con Pipelines"
   ]
  },
  {
   "cell_type": "markdown",
   "metadata": {},
   "source": [
    "* Tras el entrenamiento, todo el Pipeline se ha convertido en un Transformer que se puede utilizar para realizar predicciones sobre un DataFrame con nuevos puntos, aplicando una a una las transformaciones definidas en el Pipeline."
   ]
  },
  {
   "cell_type": "code",
   "execution_count": 69,
   "metadata": {},
   "outputs": [
    {
     "name": "stdout",
     "output_type": "stream",
     "text": [
      "-RECORD 0-------------------------------------------------------------------------------------\n",
      " text          | a b c d e spark                                                              \n",
      " label         | 1                                                                            \n",
      " words         | [a, b, c, d, e, spark]                                                       \n",
      " features      | (262144,[74920,89530,107107,148981,167694,173558],[1.0,1.0,1.0,1.0,1.0,1.0]) \n",
      " rawPrediction | [3.649619461045998,-3.649619461045998]                                       \n",
      " probability   | [0.974657899204672,0.02534210079532795]                                      \n",
      " prediction    | 0.0                                                                          \n",
      "-RECORD 1-------------------------------------------------------------------------------------\n",
      " text          | apache hadoop                                                                \n",
      " label         | 0                                                                            \n",
      " words         | [apache, hadoop]                                                             \n",
      " features      | (262144,[68303,198017],[1.0,1.0])                                            \n",
      " rawPrediction | [3.47341928600967,-3.47341928600967]                                         \n",
      " probability   | [0.9699219310816465,0.030078068918353518]                                    \n",
      " prediction    | 0.0                                                                          \n",
      "-RECORD 2-------------------------------------------------------------------------------------\n",
      " text          | l m n                                                                        \n",
      " label         | 0                                                                            \n",
      " words         | [l, m, n]                                                                    \n",
      " features      | (262144,[1303,52644,248090],[1.0,1.0,1.0])                                   \n",
      " rawPrediction | [0.8545414948889486,-0.8545414948889486]                                     \n",
      " probability   | [0.7015189560512146,0.2984810439487854]                                      \n",
      " prediction    | 0.0                                                                          \n",
      "-RECORD 3-------------------------------------------------------------------------------------\n",
      " text          | spark hadoop spark                                                           \n",
      " label         | 1                                                                            \n",
      " words         | [spark, hadoop, spark]                                                       \n",
      " features      | (262144,[173558,198017],[2.0,1.0])                                           \n",
      " rawPrediction | [-1.411935946159116,1.411935946159116]                                       \n",
      " probability   | [0.19592888639301378,0.8040711136069862]                                     \n",
      " prediction    | 1.0                                                                          \n",
      "\n"
     ]
    }
   ],
   "source": [
    "pred_pipeline = pipeline_tr.transform(texts_te)\n",
    "\n",
    "pred_pipeline.show(vertical=True, truncate=False)"
   ]
  },
  {
   "cell_type": "markdown",
   "metadata": {},
   "source": [
    "## Persistencia con Pipelines"
   ]
  },
  {
   "cell_type": "markdown",
   "metadata": {},
   "source": [
    "* En cuanto a persistencia, los Pipelines se comportan como cualquier otro modelo de MLlib, pueden almacenarse en disco para ser cargados cuando sea necesario realizar nuevas predicciones."
   ]
  },
  {
   "cell_type": "markdown",
   "metadata": {},
   "source": [
    "En la siguiente celda se almacena y recupera el Pipeline creado anteriormente."
   ]
  },
  {
   "cell_type": "code",
   "execution_count": 70,
   "metadata": {},
   "outputs": [
    {
     "name": "stdout",
     "output_type": "stream",
     "text": [
      "PipelineModel_64205af0ad60\n",
      "\n",
      "+----------+\n",
      "|prediction|\n",
      "+----------+\n",
      "|       0.0|\n",
      "|       0.0|\n",
      "|       0.0|\n",
      "|       1.0|\n",
      "+----------+\n",
      "\n"
     ]
    }
   ],
   "source": [
    "from pyspark.ml.pipeline import PipelineModel\n",
    "\n",
    "pipeline_tr.save(\"./Model_pipeline\")\n",
    "\n",
    "loaded = PipelineModel.load(\"./Model_pipeline\")\n",
    "\n",
    "print(loaded)\n",
    "print(\"\")\n",
    "loaded.transform(texts_te).select(\"prediction\").show()"
   ]
  },
  {
   "cell_type": "markdown",
   "metadata": {},
   "source": [
    "## Ejercicio de Pipelines"
   ]
  },
  {
   "cell_type": "markdown",
   "metadata": {},
   "source": [
    "A continuación se define un problema de regresión 1-dimensional."
   ]
  },
  {
   "cell_type": "code",
   "execution_count": 71,
   "metadata": {},
   "outputs": [
    {
     "data": {
      "image/png": "[encoded data removed]",
      "text/plain": [
       "<Figure size 1080x360 with 1 Axes>"
      ]
     },
     "metadata": {
      "needs_background": "light"
     },
     "output_type": "display_data"
    },
    {
     "name": "stdout",
     "output_type": "stream",
     "text": [
      "+--------------------+--------------------+\n",
      "|                   x|               label|\n",
      "+--------------------+--------------------+\n",
      "|[-4.959919839679359]|-0.11231812610382885|\n",
      "|[-4.939879759519038]|-0.06870288366074906|\n",
      "|[-4.8997995991983...| 0.01265025142429721|\n",
      "|[-4.8797595190380...|0.050371569195680976|\n",
      "|[-4.859719438877756]| 0.08611298885685414|\n",
      "|[-4.839679358717435]| 0.11986820488533478|\n",
      "|[-4.819639278557114]| 0.15163170940088389|\n",
      "|[-4.799599198396794]|  0.1813987943774258|\n",
      "|[-4.779559118236473]| 0.20916555353374822|\n",
      "|[-4.759519038076152]|   0.234928883902227|\n",
      "|[-4.739478957915832]| 0.25868648707495456|\n",
      "|[-4.719438877755511]|  0.2804368701267643|\n",
      "| [-4.69939879759519]|  0.3001793462147697|\n",
      "|[-4.679358717434869]| 0.31791403485419956|\n",
      "|[-4.659318637274549]| 0.33364186187039646|\n",
      "|[-4.6392785571142...|  0.3473645590270218|\n",
      "|[-4.619238476953908]|  0.3590846633305853|\n",
      "|[-4.599198396793588]|  0.3688055160116104|\n",
      "|[-4.559118236472946]| 0.38226684417491263|\n",
      "|[-4.539078156312625]|  0.3860180095505301|\n",
      "+--------------------+--------------------+\n",
      "only showing top 20 rows\n",
      "\n"
     ]
    }
   ],
   "source": [
    "from pyspark.ml.linalg import Vectors\n",
    "\n",
    "x = np.linspace(-5, 5, 500)\n",
    "y = 5 * np.sin(x) + x\n",
    "\n",
    "plt.plot(x, y, \"-\")\n",
    "plt.xlabel(\"$x$\")\n",
    "plt.ylabel(\"$y$\")\n",
    "plt.show()\n",
    "\n",
    "sine = spark.createDataFrame([[Vectors.dense(u), v] for u, v in zip(x.tolist(), y.tolist())], [\"x\", \"label\"])\n",
    "sine_tr, sine_te = sine.randomSplit([0.7, 0.3], seed=1234)\n",
    "\n",
    "sine_tr.show()"
   ]
  },
  {
   "cell_type": "markdown",
   "metadata": {},
   "source": [
    "<div class=\"qst\">\n",
    "\n",
    "* Dado el problema de regresión definido arriba, crear un Transformer de nombre `pipeline_tr` que contenga el modelo correspondiente a un Pipeline entrenado sobre el DataFrame `sine_tr`. El Pipeline deberá tener los siguientes pasos:\n",
    "    * Una expansión polinómica de grado $5$.\n",
    "    * Un escalado estándar de los datos (en media y desviación).\n",
    "    * Un modelo de regresión lineal con los parámetros por defecto.\n",
    "* Utilizar el Transformer anterior para predecir sobre el DataFrame `sine_te`, almacenando el resultado en un nuevo DataFrame `pred_pipeline`.\n",
    "\n",
    "</div>"
   ]
  },
  {
   "cell_type": "code",
   "execution_count": 72,
   "metadata": {},
   "outputs": [
    {
     "name": "stdout",
     "output_type": "stream",
     "text": [
      "+--------------------+--------------------+--------------------+--------------------+--------------------+\n",
      "|                   x|               label|              x_poly|            features|          prediction|\n",
      "+--------------------+--------------------+--------------------+--------------------+--------------------+\n",
      "|              [-5.0]|-0.20537862668430762|[-5.0,25.0,-125.0...|[-1.7573166016326...| -1.3855059635755347|\n",
      "|[-4.979959919839679]|-0.15788012357227998|[-4.9799599198396...|[-1.7503336154279...|  -1.216608854438436|\n",
      "|[-4.919839679358717]|-0.02704386382482...|[-4.9198396793587...|[-1.7293846568137...| -0.7560615717509857|\n",
      "|[-4.579158316633267]|  0.3765312611828229|[-4.5791583166332...|[-1.6106738913338...|  0.7146895856269045|\n",
      "|[-4.519038076152305]|  0.3877912987973202|[-4.5190380761523...|[-1.5897249327197...|  0.8038858492793656|\n",
      "|[-4.498997995991984]|  0.3875940477009152|[-4.4989979959919...|[-1.5827419465149...|  0.8240145554981643|\n",
      "|[-4.478957915831663]| 0.38543438339895086|[-4.4789579158316...|[-1.5757589603102...|  0.8395382333706832|\n",
      "|[-4.458917835671342]|  0.3813212211172745|[-4.4589178356713...|[-1.5687759741055...|  0.8505729486564609|\n",
      "|[-4.4188376753507...|  0.3672739821625193|[-4.4188376753507...|[-1.5548100016961...|  0.8596333612119954|\n",
      "| [-4.37875751503006]|  0.3455392704934708|[-4.3787575150300...|[-1.5408440292867...|  0.8520988262394033|\n",
      "| [-4.35871743486974]|  0.3318196615708553|[-4.3587174348697...|[-1.5338610430820...|  0.8423851222751834|\n",
      "|[-4.278557114228457]|   0.258251321824992|[-4.2785571142284...|[-1.5059290982632...|   0.766403952668289|\n",
      "|[-4.098196392785571]|-0.01200127237273918|[-4.0981963927855...|[-1.4430822224209...|  0.4063570927176391|\n",
      "| [-4.05811623246493]|-0.09066257911617415|[-4.0581162324649...|[-1.4291162500114...|  0.2961864137934226|\n",
      "|[-3.9579158316633...|-0.31475339514676737|[-3.9579158316633...|[-1.3942013189879...|-0.01862083039818485|\n",
      "|[-3.877755511022044]| -0.5205087837616142|[-3.8777555110220...|[-1.3662693741691...|-0.30527197595130373|\n",
      "|[-3.8577154308617...| -0.5753914068448358|[-3.8577154308617...|[-1.3592863879644...|-0.38107745557609773|\n",
      "|[-3.837675350701403]| -0.6315921829377742|[-3.8376753507014...|[-1.3523034017597...|-0.45838023753947843|\n",
      "|[-3.7374749498997...| -0.9312789068722678|[-3.7374749498997...|[-1.3173884707362...| -0.8646636044996493|\n",
      "|[-3.717434869739479]|  -0.994727974583208|[-3.7174348697394...|[-1.3104054845315...| -0.9493513771400638|\n",
      "+--------------------+--------------------+--------------------+--------------------+--------------------+\n",
      "only showing top 20 rows\n",
      "\n"
     ]
    },
    {
     "data": {
      "image/png": "[encoded data removed]",
      "text/plain": [
       "<Figure size 1080x360 with 1 Axes>"
      ]
     },
     "metadata": {
      "needs_background": "light"
     },
     "output_type": "display_data"
    }
   ],
   "source": [
    "from pyspark.ml.regression import LinearRegression\n",
    "from pyspark.ml.feature import PolynomialExpansion, StandardScaler\n",
    "from pyspark.ml.pipeline import Pipeline\n",
    "\n",
    "################################\n",
    "# Insertar código.\n",
    "poly_tr = PolynomialExpansion(degree=5, inputCol=\"x\", outputCol=\"x_poly\")\n",
    "scaler_es = StandardScaler(withMean=True, withStd=True, inputCol=\"x_poly\", outputCol=\"features\")\n",
    "linreg_es = LinearRegression()\n",
    "\n",
    "# Estimator.\n",
    "pipeline_es = Pipeline(stages=[poly_tr, scaler_es, linreg_es])\n",
    "# Transformer.\n",
    "pipeline_tr = pipeline_es.fit(sine_tr)\n",
    "\n",
    "# Predicción.\n",
    "pred_pipeline = pipeline_tr.transform(sine_te)\n",
    "################################\n",
    "\n",
    "pred_pipeline.show()\n",
    "\n",
    "data = pred_pipeline.collect()\n",
    "x_p = np.array([row[\"x\"].toArray() for row in data])\n",
    "y_p = np.array([row[\"prediction\"] for row in data])\n",
    "\n",
    "plt.plot(x, y, \"-\", label=\"Real\")\n",
    "plt.plot(x_p, y_p, \"*\", label=\"Pred\")\n",
    "plt.xlabel(\"$x$\")\n",
    "plt.ylabel(\"$y$\")\n",
    "plt.legend()\n",
    "plt.show()"
   ]
  },
  {
   "cell_type": "markdown",
   "metadata": {},
   "source": [
    "# Ajuste de hiperparámetros"
   ]
  },
  {
   "cell_type": "markdown",
   "metadata": {},
   "source": [
    "## Introducción al ajuste de hiperparámetros"
   ]
  },
  {
   "cell_type": "markdown",
   "metadata": {},
   "source": [
    "* Cuando se afronta un problema de ML, y una vez que se ha decidido el modelo que se va a utilizar, es crucial determinar los mejores **hiperparámetros** (aquellos parámetros del modelo que hay que fijar de antemano, ya que no se ajustan durante el entrenamiento).\n",
    "* Una de las aproximaciones más comunes para ajustar los hiperparámetros es utilizar uno o varios conjuntos de validación donde se estimará la precisión que tendrá el modelo en test.\n",
    "* MLlib soporta dos métodos de validación, definidos en el módulo [`ml.tuning`](https://spark.apache.org/docs/latest/api/python/reference/pyspark.ml.html#tuning) a través de los siguientes objetos:\n",
    "    * [`ml.tuning.CrossValidator`](https://spark.apache.org/docs/latest/api/python/reference/api/pyspark.ml.tuning.CrossValidator.html), que ajusta los hiperparámetros usando validación cruzada.\n",
    "    * [`ml.tuning.TrainValidationSplit`](https://spark.apache.org/docs/latest/api/python/reference/api/pyspark.ml.tuning.TrainValidationSplit.html), que ajusta los hiperparámetros usando una única partición de entrenamiento/validación.\n",
    "* Cualquiera de los dos métodos necesita los siguientes elementos:\n",
    "    * El Estimator (puede ser un Pipeline) cuyos hiperparámetros se van a ajustar.\n",
    "    * Un conjunto de valores posibles para los hiperparámetros. A menudo se realiza una búsqueda en rejilla (*grid*), y se construye usando la clase [`ml.tuning.ParamGridBuilder`](https://spark.apache.org/docs/latest/api/python/reference/api/pyspark.ml.tuning.ParamGridBuilder.html).\n",
    "    * Un Evaluator que establece la medida de lo bien que funciona el modelo entrenado con los distintos hiperparámetros.\n",
    "* Ambos métodos devuelven un Estimator, que cuando se ajusta a los datos (usando la función `fit()`) realiza las siguientes operaciones:\n",
    "    1. El conjunto de datos se divide en dos (entrenamiento y validación), una o varias veces según el método usado.\n",
    "    2. El conjunto de entrenamiento se utiliza para entrenar modelos con cada uno de los posibles conjuntos de valores de los hiperparámetros.\n",
    "    3. Cada uno de estos modelos se evalúa sobre el conjunto de validación.\n",
    "    4. Los hiperparámetros del modelo que da los mejores resultados (de acuerdo al Evaluator) son seleccionados.\n",
    "    5. Se devuelve un modelo final entrenado con todos los datos disponibles y usando los mejores hiperparámetros.\n",
    "* Por tanto, el resultado de entrenar estos objetos de validación, que no son más que Estimators, es un Transformer entrenado con los hiperparámetros óptimos, que se podrá usar para realizar predicciones sobre nuevos datos."
   ]
  },
  {
   "cell_type": "markdown",
   "metadata": {},
   "source": [
    "## Conjunto de datos para el ajuste de hiperparámetros"
   ]
  },
  {
   "cell_type": "markdown",
   "metadata": {},
   "source": [
    "Se usará de nuevo el dataset *boston*, definido más arriba."
   ]
  },
  {
   "cell_type": "code",
   "execution_count": 73,
   "metadata": {},
   "outputs": [
    {
     "name": "stdout",
     "output_type": "stream",
     "text": [
      "+-------+-----+-----+----+------+-----+----+-------+---+-----+-------+------+-----+-----+--------------------+\n",
      "|   CRIM|   ZN|INDUS|CHAS|   NOX|   RM| AGE|    DIS|RAD|  TAX|PTRATIO|     B|LSTAT|label|            features|\n",
      "+-------+-----+-----+----+------+-----+----+-------+---+-----+-------+------+-----+-----+--------------------+\n",
      "|0.01096| 55.0| 2.25| 0.0| 0.389|6.453|31.9| 7.3073|1.0|300.0|   15.3|394.72| 8.23| 22.0|[0.01096,55.0,2.2...|\n",
      "|0.01301| 35.0| 1.52| 0.0| 0.442|7.241|49.3| 7.0379|1.0|284.0|   15.5|394.74| 5.49| 32.7|[0.01301,35.0,1.5...|\n",
      "| 0.0136| 75.0|  4.0| 0.0|  0.41|5.888|47.6| 7.3197|3.0|469.0|   21.1| 396.9| 14.8| 18.9|[0.0136,75.0,4.0,...|\n",
      "|0.01381| 80.0| 0.46| 0.0| 0.422|7.875|32.0| 5.6484|4.0|255.0|   14.4|394.23| 2.97| 50.0|[0.01381,80.0,0.4...|\n",
      "|0.01432|100.0| 1.32| 0.0| 0.411|6.816|40.5| 8.3248|5.0|256.0|   15.1| 392.9| 3.95| 31.6|[0.01432,100.0,1....|\n",
      "|0.01439| 60.0| 2.93| 0.0| 0.401|6.604|18.8| 6.2196|1.0|265.0|   15.6| 376.7| 4.38| 29.1|[0.01439,60.0,2.9...|\n",
      "|0.01501| 80.0| 2.01| 0.0| 0.435|6.635|29.7|  8.344|4.0|280.0|   17.0|390.94| 5.99| 24.5|[0.01501,80.0,2.0...|\n",
      "|0.01501| 90.0| 1.21| 1.0| 0.401|7.923|24.8|  5.885|1.0|198.0|   13.6|395.52| 3.16| 50.0|[0.01501,90.0,1.2...|\n",
      "|0.01538| 90.0| 3.75| 0.0| 0.394|7.454|34.2| 6.3361|3.0|244.0|   15.9|386.34| 3.11| 44.0|[0.01538,90.0,3.7...|\n",
      "|0.01709| 90.0| 2.02| 0.0|  0.41|6.728|36.1|12.1265|5.0|187.0|   17.0|384.46|  4.5| 30.1|[0.01709,90.0,2.0...|\n",
      "|0.01778| 95.0| 1.47| 0.0| 0.403|7.135|13.9| 7.6534|3.0|402.0|   17.0| 384.3| 4.45| 32.9|[0.01778,95.0,1.4...|\n",
      "| 0.0187| 85.0| 4.15| 0.0| 0.429|6.516|27.7| 8.5353|4.0|351.0|   17.9|392.43| 6.36| 23.1|[0.0187,85.0,4.15...|\n",
      "|0.01951| 17.5| 1.38| 0.0|0.4161|7.104|59.5| 9.2229|3.0|216.0|   18.6|393.24| 8.05| 33.0|[0.01951,17.5,1.3...|\n",
      "|0.01965| 80.0| 1.76| 0.0| 0.385| 6.23|31.5| 9.0892|1.0|241.0|   18.2| 341.6|12.93| 20.1|[0.01965,80.0,1.7...|\n",
      "|0.02009| 95.0| 2.68| 0.0|0.4161|8.034|31.9|  5.118|4.0|224.0|   14.7|390.55| 2.88| 50.0|[0.02009,95.0,2.6...|\n",
      "|0.02055| 85.0| 0.74| 0.0|  0.41|6.383|35.7| 9.1876|2.0|313.0|   17.3| 396.9| 5.77| 24.7|[0.02055,85.0,0.7...|\n",
      "|0.02177| 82.5| 2.03| 0.0| 0.415| 7.61|15.7|   6.27|2.0|348.0|   14.7|395.38| 3.11| 42.3|[0.02177,82.5,2.0...|\n",
      "|0.02187| 60.0| 2.93| 0.0| 0.401|  6.8| 9.9| 6.2196|1.0|265.0|   15.6|393.37| 5.03| 31.1|[0.02187,60.0,2.9...|\n",
      "|0.02543| 55.0| 3.78| 0.0| 0.484|6.696|56.4| 5.7321|5.0|370.0|   17.6| 396.9| 7.18| 23.9|[0.02543,55.0,3.7...|\n",
      "|0.02729|  0.0| 7.07| 0.0| 0.469|7.185|61.1| 4.9671|2.0|242.0|   17.8|392.83| 4.03| 34.7|[0.02729,0.0,7.07...|\n",
      "+-------+-----+-----+----+------+-----+----+-------+---+-----+-------+------+-----+-----+--------------------+\n",
      "only showing top 20 rows\n",
      "\n"
     ]
    }
   ],
   "source": [
    "boston_tr.show()"
   ]
  },
  {
   "cell_type": "markdown",
   "metadata": {},
   "source": [
    "## Construcción de la rejilla"
   ]
  },
  {
   "cell_type": "markdown",
   "metadata": {},
   "source": [
    "* El primer paso para seleccionar los hiperparámetros es crear el espacio de búsqueda."
   ]
  },
  {
   "cell_type": "markdown",
   "metadata": {},
   "source": [
    "En el siguiente ejemplo se crea una rejilla de dos dimensiones para un modelo de bosque aleatorio de regresión, donde el hiperparámetro `numTrees` tomará tres posibles valores, y el hiperparámetro `maxDepth` tomará otros tres.\n",
    "El número total de configuraciones que se evaluarán será, por tanto de $3 \\times 3 = 9$."
   ]
  },
  {
   "cell_type": "code",
   "execution_count": 74,
   "metadata": {},
   "outputs": [],
   "source": [
    "from pyspark.ml.regression import RandomForestRegressor\n",
    "from pyspark.ml.tuning import ParamGridBuilder\n",
    "\n",
    "# Modelo que se va a ajustar.\n",
    "ranforr = RandomForestRegressor()\n",
    "\n",
    "# Rejilla.\n",
    "paramGrid = ParamGridBuilder()\\\n",
    "    .addGrid(ranforr.numTrees, [15, 20, 25]) \\\n",
    "    .addGrid(ranforr.maxDepth, [4, 5, 6])\\\n",
    "    .build()"
   ]
  },
  {
   "cell_type": "markdown",
   "metadata": {},
   "source": [
    "## Ajuste de hiperparámetros"
   ]
  },
  {
   "cell_type": "markdown",
   "metadata": {},
   "source": [
    "* Para realizar el ajuste de hiperparámetros, es necesario crear el objeto de validación, y simplemente llamar a la función `fit()` como con cualquier otro Estimator."
   ]
  },
  {
   "cell_type": "markdown",
   "metadata": {},
   "source": [
    "A continuación, se crea un objeto CrossValidator para optimizar un bosque aleatorio de regresión, usando el coeficiente $R^2$, la rejilla definida anteriormente, y $3$ hojas para la validación cruzada.\n",
    "Por tanto, se tendrán que construir y evaluar $9 \\times 3 = 27$ modelos diferentes."
   ]
  },
  {
   "cell_type": "code",
   "execution_count": 75,
   "metadata": {},
   "outputs": [],
   "source": [
    "from pyspark.ml.tuning import CrossValidator\n",
    "from pyspark.ml.evaluation import RegressionEvaluator\n",
    "\n",
    "# Estimator.\n",
    "cv_es = CrossValidator(estimator=ranforr,\n",
    "                       estimatorParamMaps=paramGrid,\n",
    "                       evaluator=RegressionEvaluator(metricName=\"r2\"),\n",
    "                       numFolds=3,\n",
    "                       seed=1234\n",
    "                      )\n",
    "\n",
    "# Transformer.\n",
    "cv_tr = cv_es.fit(boston_tr)"
   ]
  },
  {
   "cell_type": "markdown",
   "metadata": {},
   "source": [
    "La siguiente celda muestra los hiperparámetros óptimos encontrados."
   ]
  },
  {
   "cell_type": "code",
   "execution_count": 76,
   "metadata": {},
   "outputs": [
    {
     "name": "stdout",
     "output_type": "stream",
     "text": [
      "numTrees:     25\n",
      "maxDepth:      6\n"
     ]
    }
   ],
   "source": [
    "for param, value in cv_tr.getEstimatorParamMaps()[np.argmax(cv_tr.avgMetrics)].items():\n",
    "    print(\"%-10s %5g\" % (param.name + \":\", value))"
   ]
  },
  {
   "cell_type": "markdown",
   "metadata": {},
   "source": [
    "## Predicción con ajuste de hiperparámetros"
   ]
  },
  {
   "cell_type": "markdown",
   "metadata": {},
   "source": [
    "* A la hora de predecir, y dado que el resultado de la validación es un Transformer, basta con aplicar la función `transform()` a los datos nuevos."
   ]
  },
  {
   "cell_type": "code",
   "execution_count": 77,
   "metadata": {},
   "outputs": [
    {
     "name": "stdout",
     "output_type": "stream",
     "text": [
      "+------------------+\n",
      "|        prediction|\n",
      "+------------------+\n",
      "| 28.55145820314544|\n",
      "| 30.76990639383803|\n",
      "| 35.37168373585479|\n",
      "|24.903288108525363|\n",
      "|22.645209855285692|\n",
      "|29.116682217799404|\n",
      "|24.218988067915564|\n",
      "|26.616132037692992|\n",
      "|20.302863963723457|\n",
      "| 20.91491648809866|\n",
      "| 32.99569877451983|\n",
      "|20.342248579108073|\n",
      "|26.631315307877852|\n",
      "|23.256204810384205|\n",
      "| 24.10892848484116|\n",
      "|  22.7862335327418|\n",
      "| 20.96578892561854|\n",
      "|24.463811239990243|\n",
      "|24.928381035603916|\n",
      "| 18.78842744546201|\n",
      "+------------------+\n",
      "only showing top 20 rows\n",
      "\n"
     ]
    }
   ],
   "source": [
    "pred_cv = cv_tr.transform(boston_te)\n",
    "\n",
    "pred_cv.select(\"prediction\").show()"
   ]
  },
  {
   "cell_type": "markdown",
   "metadata": {},
   "source": [
    "Se puede comparar el resultado en test de este modelo con el bosque aleatorio con parámetros por defecto utilizado antes, para ver si se ha producido alguna mejora."
   ]
  },
  {
   "cell_type": "code",
   "execution_count": 78,
   "metadata": {},
   "outputs": [
    {
     "name": "stdout",
     "output_type": "stream",
     "text": [
      "R2 (default): 0.809\n",
      "R2 (tuned):   0.814\n"
     ]
    }
   ],
   "source": [
    "evaluator = RegressionEvaluator()\n",
    "\n",
    "print(\"R2 (default): {:5.3f}\".format(evaluator.evaluate(pred_ranforr, {evaluator.metricName: \"r2\"})))\n",
    "print(\"R2 (tuned):   {:5.3f}\".format(evaluator.evaluate(pred_cv, {evaluator.metricName: \"r2\"})))"
   ]
  },
  {
   "cell_type": "markdown",
   "metadata": {},
   "source": [
    "## Persistencia de modelos ajustados"
   ]
  },
  {
   "cell_type": "markdown",
   "metadata": {},
   "source": [
    "* En cuanto a persistencia, como el resultado de la validación es un modelo de MLlib, se puede almacenar en disco de la forma usual."
   ]
  },
  {
   "cell_type": "markdown",
   "metadata": {},
   "source": [
    "En la siguiente celda se almacena y recupera el modelo con hiperparámetros óptimos creado anteriormente."
   ]
  },
  {
   "cell_type": "code",
   "execution_count": 79,
   "metadata": {},
   "outputs": [
    {
     "name": "stdout",
     "output_type": "stream",
     "text": [
      "CrossValidatorModel_20c7839a2a76\n",
      "\n",
      "+------------------+\n",
      "|        prediction|\n",
      "+------------------+\n",
      "| 28.55145820314544|\n",
      "| 30.76990639383803|\n",
      "| 35.37168373585479|\n",
      "|24.903288108525363|\n",
      "|22.645209855285692|\n",
      "|29.116682217799404|\n",
      "|24.218988067915564|\n",
      "|26.616132037692992|\n",
      "|20.302863963723457|\n",
      "| 20.91491648809866|\n",
      "| 32.99569877451983|\n",
      "|20.342248579108073|\n",
      "|26.631315307877852|\n",
      "|23.256204810384205|\n",
      "| 24.10892848484116|\n",
      "|  22.7862335327418|\n",
      "| 20.96578892561854|\n",
      "|24.463811239990243|\n",
      "|24.928381035603916|\n",
      "| 18.78842744546201|\n",
      "+------------------+\n",
      "only showing top 20 rows\n",
      "\n"
     ]
    }
   ],
   "source": [
    "from pyspark.ml.tuning import CrossValidatorModel\n",
    "\n",
    "cv_tr.save(\"./Model_cv\")\n",
    "\n",
    "loaded = CrossValidatorModel.load(\"./Model_cv\")\n",
    "\n",
    "print(loaded)\n",
    "print(\"\")\n",
    "loaded.transform(boston_te).select(\"prediction\").show()"
   ]
  },
  {
   "cell_type": "markdown",
   "metadata": {},
   "source": [
    "## Ejercicio de ajuste de hiperparámetros"
   ]
  },
  {
   "cell_type": "markdown",
   "metadata": {},
   "source": [
    "<div class=\"qst\">\n",
    "\n",
    "* Partiendo del Pipeline del último ejercicio, ajustar el hiperparámetro `degree` de la expansión polinómica de manera que tome los valores $(3, 5, 7)$, y el hiperparámetro `regParam` de la regresión lineal de manera que tome los valores $(0, 0.01, 0.1)$. Utilizar para ello el DataFrame `sine_tr`, y almacenar el Transformer resultante en la variable `cv_tr`.\n",
    "* Utilizar el Transformer anterior para predecir sobre el DataFrame `sine_te`, almacenando el resultado en un nuevo DataFrame `pred_cv`.\n",
    "\n",
    "<div class=\"notes\">\n",
    "\n",
    "* Para definir una rejilla con un Pipeline se pueden usar los Estimators y Transformers que lo van a componer, por ejemplo, `poly_tr.degree` se refiere al hiperparámetro `degree` de la componente `poly_tr`.\n",
    "\n",
    "</div>\n",
    "</div>"
   ]
  },
  {
   "cell_type": "code",
   "execution_count": 80,
   "metadata": {},
   "outputs": [
    {
     "name": "stdout",
     "output_type": "stream",
     "text": [
      "R2 (default): 0.9913\n",
      "R2 (tuning):  0.9999\n"
     ]
    },
    {
     "data": {
      "image/png": "[encoded data removed]",
      "text/plain": [
       "<Figure size 1080x360 with 1 Axes>"
      ]
     },
     "metadata": {
      "needs_background": "light"
     },
     "output_type": "display_data"
    }
   ],
   "source": [
    "from pyspark.ml.regression import LinearRegression\n",
    "from pyspark.ml.feature import PolynomialExpansion, StandardScaler\n",
    "from pyspark.ml.pipeline import Pipeline\n",
    "from pyspark.ml.tuning import ParamGridBuilder, CrossValidator\n",
    "from pyspark.ml.evaluation import RegressionEvaluator\n",
    "\n",
    "################################\n",
    "# Insertar código.\n",
    "# Modelos base.\n",
    "poly_tr = PolynomialExpansion(inputCol=\"x\", outputCol=\"x_poly\")\n",
    "scaler_es = StandardScaler(withMean=True, withStd=True, inputCol=\"x_poly\", outputCol=\"features\")\n",
    "linreg_es = LinearRegression()\n",
    "\n",
    "# Rejilla.\n",
    "paramGrid = ParamGridBuilder()\\\n",
    "    .addGrid(poly_tr.degree, [3, 5, 7]) \\\n",
    "    .addGrid(linreg_es.regParam, [0, 0.01, 0.1])\\\n",
    "    .build()\n",
    "\n",
    "# Pipeline.\n",
    "pipeline_es = Pipeline(stages=[poly_tr, scaler_es, linreg_es])\n",
    "\n",
    "# Estimator.\n",
    "cv_es = CrossValidator(estimator=pipeline_es,\n",
    "                       estimatorParamMaps=paramGrid,\n",
    "                       evaluator=RegressionEvaluator(metricName=\"r2\"),\n",
    "                       numFolds=3,\n",
    "                       seed=1234\n",
    "                      )\n",
    "\n",
    "# Transformer.\n",
    "cv_tr = cv_es.fit(sine_tr)\n",
    "\n",
    "# Predicción.\n",
    "pred_cv = cv_tr.transform(sine_te)\n",
    "################################\n",
    "\n",
    "evaluator = RegressionEvaluator()\n",
    "\n",
    "print(\"R2 (default): {:.4f}\".format(evaluator.evaluate(pred_pipeline, {evaluator.metricName: \"r2\"})))\n",
    "print(\"R2 (tuning):  {:.4f}\".format(evaluator.evaluate(pred_cv, {evaluator.metricName: \"r2\"})))\n",
    "\n",
    "data = pred_pipeline.collect()\n",
    "x_ps = np.array([row[\"x\"].toArray() for row in data])\n",
    "y_ps = np.array([row[\"prediction\"] for row in data])\n",
    "\n",
    "data = pred_cv.collect()\n",
    "x_pt = np.array([row[\"x\"].toArray() for row in data])\n",
    "y_pt = np.array([row[\"prediction\"] for row in data])\n",
    "\n",
    "plt.plot(x, y, \"-\", label=\"Real\")\n",
    "plt.plot(x_ps, y_ps, \"*\", label=\"Pred\")\n",
    "plt.plot(x_pt, y_pt, \"*\", label=\"Pred (Tuned)\")\n",
    "plt.xlabel(\"$x$\")\n",
    "plt.ylabel(\"$y$\")\n",
    "plt.legend()\n",
    "plt.show()"
   ]
  },
  {
   "cell_type": "markdown",
   "metadata": {},
   "source": [
    "# Ejemplo de uso"
   ]
  },
  {
   "cell_type": "markdown",
   "metadata": {},
   "source": [
    "A continuación se muestran distintos ejemplos de uso de Spark MLlib, incluyendo primero la parte de análisis exploratorio e integración con Pandas y Matplotlib, para posteriormente ajustar un algoritmo de aprendizaje automático."
   ]
  },
  {
   "cell_type": "markdown",
   "metadata": {},
   "source": [
    "## Conjunto de datos Adult"
   ]
  },
  {
   "cell_type": "markdown",
   "metadata": {},
   "source": [
    "El conjunto de datos que se va a utilizar es [*Adult*](http://archive.ics.uci.edu/ml/datasets/Adult), perteneciente al repositorio UCI, formado por una muestra de individuos con diferentes atributos y cuyo objetivo consiste en predecir si su salario está por encima o por debajo de $50.000$$ dólares al año."
   ]
  },
  {
   "cell_type": "markdown",
   "metadata": {},
   "source": [
    "La siguiente celda carga el conjunto de datos, mostrando su estructura y el número total de patrones."
   ]
  },
  {
   "cell_type": "code",
   "execution_count": 81,
   "metadata": {},
   "outputs": [
    {
     "name": "stdout",
     "output_type": "stream",
     "text": [
      "root\n",
      " |-- age: integer (nullable = true)\n",
      " |-- workclass: string (nullable = true)\n",
      " |-- fnlwgt: integer (nullable = true)\n",
      " |-- education: string (nullable = true)\n",
      " |-- education_num: integer (nullable = true)\n",
      " |-- marital_status: string (nullable = true)\n",
      " |-- occupation: string (nullable = true)\n",
      " |-- relationship: string (nullable = true)\n",
      " |-- race: string (nullable = true)\n",
      " |-- sex: string (nullable = true)\n",
      " |-- capital_gain: integer (nullable = true)\n",
      " |-- capital_loss: integer (nullable = true)\n",
      " |-- hours_per_week: integer (nullable = true)\n",
      " |-- native_country: string (nullable = true)\n",
      " |-- target: integer (nullable = true)\n",
      "\n",
      "Number of samples: 32561\n"
     ]
    }
   ],
   "source": [
    "from pyspark.sql import SparkSession\n",
    "spark = SparkSession(sc)\n",
    "\n",
    "adult = spark.\\\n",
    "    read.\\\n",
    "    option(\"header\", \"true\").\\\n",
    "    option(\"inferschema\", \"true\").\\\n",
    "    option(\"mode\", \"DROPMALFORMED\").\\\n",
    "    csv(\"./data/adult.csv\").\\\n",
    "    cache()\n",
    "\n",
    "adult.printSchema()\n",
    "\n",
    "print(\"Number of samples: %d\" % adult.count())"
   ]
  },
  {
   "cell_type": "markdown",
   "metadata": {},
   "source": [
    "Una vez cargados los datos, se pueden realizar consultas para realizar una inspección preliminar."
   ]
  },
  {
   "cell_type": "markdown",
   "metadata": {},
   "source": [
    "<div class=\"qst\">\n",
    "\n",
    "* Sacar el número de patrones de cada una de las categorías correspondientes a la columna `\"workclass\"`.\n",
    "\n",
    "<div class=\"notes\">\n",
    "\n",
    "* Se recomienda utilizar el método de agregación `groupBy()`.\n",
    "\n",
    "</div>\n",
    "</div>"
   ]
  },
  {
   "cell_type": "code",
   "execution_count": 82,
   "metadata": {},
   "outputs": [
    {
     "name": "stdout",
     "output_type": "stream",
     "text": [
      "+----------------+-----+\n",
      "|       workclass|count|\n",
      "+----------------+-----+\n",
      "|Self-emp-not-inc| 2541|\n",
      "|            null| 1836|\n",
      "|       Local-gov| 2093|\n",
      "|       State-gov| 1298|\n",
      "|         Private|22696|\n",
      "|     Without-pay|   14|\n",
      "|     Federal-gov|  960|\n",
      "|    Never-worked|    7|\n",
      "|    Self-emp-inc| 1116|\n",
      "+----------------+-----+\n",
      "\n"
     ]
    }
   ],
   "source": [
    "################################\n",
    "# Insertar código.\n",
    "adult.groupBy(\"workclass\").count().show()\n",
    "################################"
   ]
  },
  {
   "cell_type": "markdown",
   "metadata": {},
   "source": [
    "Se puede obtener un pequeño resumen de algunas características (en este caso las $5$ primeras) mediante los métodos `describe()` o `summary()`, aunque solo funcionará con características numéricas."
   ]
  },
  {
   "cell_type": "code",
   "execution_count": 83,
   "metadata": {},
   "outputs": [
    {
     "name": "stdout",
     "output_type": "stream",
     "text": [
      "Description:\n",
      "+-------+------------------+-----------+------------------+------------+-----------------+\n",
      "|summary|               age|  workclass|            fnlwgt|   education|    education_num|\n",
      "+-------+------------------+-----------+------------------+------------+-----------------+\n",
      "|  count|             32561|      30725|             32561|       32561|            32561|\n",
      "|   mean| 38.58164675532078|       null|189778.36651208502|        null| 10.0806793403151|\n",
      "| stddev|13.640432553581356|       null|105549.97769702227|        null|2.572720332067397|\n",
      "|    min|                17|Federal-gov|             12285|        10th|                1|\n",
      "|    max|                90|Without-pay|           1484705|Some-college|               16|\n",
      "+-------+------------------+-----------+------------------+------------+-----------------+\n",
      "\n",
      "Summary:\n",
      "+-------+------------------+-----------+------------------+------------+-----------------+\n",
      "|summary|               age|  workclass|            fnlwgt|   education|    education_num|\n",
      "+-------+------------------+-----------+------------------+------------+-----------------+\n",
      "|  count|             32561|      30725|             32561|       32561|            32561|\n",
      "|   mean| 38.58164675532078|       null|189778.36651208502|        null| 10.0806793403151|\n",
      "| stddev|13.640432553581356|       null|105549.97769702227|        null|2.572720332067397|\n",
      "|    min|                17|Federal-gov|             12285|        10th|                1|\n",
      "|    25%|                28|       null|            117802|        null|                9|\n",
      "|    50%|                37|       null|            178353|        null|               10|\n",
      "|    75%|                48|       null|            236994|        null|               12|\n",
      "|    max|                90|Without-pay|           1484705|Some-college|               16|\n",
      "+-------+------------------+-----------+------------------+------------+-----------------+\n",
      "\n"
     ]
    }
   ],
   "source": [
    "print(\"Description:\")\n",
    "adult.select(adult.columns[:5]).describe().show()\n",
    "\n",
    "print(\"Summary:\")\n",
    "adult.select(adult.columns[:5]).summary().show()"
   ]
  },
  {
   "cell_type": "markdown",
   "metadata": {},
   "source": [
    "Con el objetivo de realizar una primera limpieza de los datos, se eliminan las columnas que tienen campos vacíos (a `null`), o aquellas columnas que son constantes."
   ]
  },
  {
   "cell_type": "code",
   "execution_count": 84,
   "metadata": {},
   "outputs": [
    {
     "name": "stdout",
     "output_type": "stream",
     "text": [
      "age                 \tMissing values:     0\tDistinc values:    73\n",
      "workclass           \tMissing values:  1836\tDistinc values:     9\n",
      "fnlwgt              \tMissing values:     0\tDistinc values: 21648\n",
      "education           \tMissing values:     0\tDistinc values:    16\n",
      "education_num       \tMissing values:     0\tDistinc values:    16\n",
      "marital_status      \tMissing values:     0\tDistinc values:     7\n",
      "occupation          \tMissing values:  1843\tDistinc values:    15\n",
      "relationship        \tMissing values:     0\tDistinc values:     6\n",
      "race                \tMissing values:     0\tDistinc values:     5\n",
      "sex                 \tMissing values:     0\tDistinc values:     2\n",
      "capital_gain        \tMissing values:     0\tDistinc values:   119\n",
      "capital_loss        \tMissing values:     0\tDistinc values:    92\n",
      "hours_per_week      \tMissing values:     0\tDistinc values:    94\n",
      "native_country      \tMissing values:   583\tDistinc values:    42\n",
      "target              \tMissing values:     0\tDistinc values:     2\n",
      "\n",
      "Dropping: workclass occupation native_country\n",
      "\n",
      "root\n",
      " |-- age: integer (nullable = true)\n",
      " |-- fnlwgt: integer (nullable = true)\n",
      " |-- education: string (nullable = true)\n",
      " |-- education_num: integer (nullable = true)\n",
      " |-- marital_status: string (nullable = true)\n",
      " |-- relationship: string (nullable = true)\n",
      " |-- race: string (nullable = true)\n",
      " |-- sex: string (nullable = true)\n",
      " |-- capital_gain: integer (nullable = true)\n",
      " |-- capital_loss: integer (nullable = true)\n",
      " |-- hours_per_week: integer (nullable = true)\n",
      " |-- target: integer (nullable = true)\n",
      "\n"
     ]
    }
   ],
   "source": [
    "from pyspark.sql import Column\n",
    "\n",
    "not_valid = []\n",
    "\n",
    "for field in adult.columns:\n",
    "    count = adult.filter(field + \" is null\").count()\n",
    "    count_distinct = adult.select(field).distinct().count()\n",
    "\n",
    "    if (count > 0) or (count_distinct == 1):\n",
    "        not_valid.append(field)\n",
    "\n",
    "    print(\"%-20s\\tMissing values: %5d\\tDistinc values: %5d\" % (field, count, count_distinct))\n",
    "\n",
    "print(\"\\nDropping:\", *not_valid, end=\"\\n\\n\")\n",
    "adult = adult.drop(*not_valid)\n",
    "\n",
    "adult.printSchema()"
   ]
  },
  {
   "cell_type": "markdown",
   "metadata": {},
   "source": [
    "Para hacerlo más manejable, se reduce el conjunto de datos reteniendo solo aquellos individuos con menos de $35$ años.\n",
    "\n",
    "Además, se renombra la columna de las etiquetas para hacer más sencillas las llamadas cuando se construyan los modelos."
   ]
  },
  {
   "cell_type": "code",
   "execution_count": 85,
   "metadata": {},
   "outputs": [
    {
     "name": "stdout",
     "output_type": "stream",
     "text": [
      "Number of samples (old): 32561\n",
      "Number of samples (new): 14049\n"
     ]
    }
   ],
   "source": [
    "print(\"Number of samples (old): %d\" % adult.count())\n",
    "adult = adult.filter(adult.age < 35).withColumnRenamed(\"target\", \"label\")\n",
    "print(\"Number of samples (new): %d\" % adult.count())"
   ]
  },
  {
   "cell_type": "markdown",
   "metadata": {},
   "source": [
    "## Análisis de los datos de Adult"
   ]
  },
  {
   "cell_type": "markdown",
   "metadata": {},
   "source": [
    "### Histograma de edades"
   ]
  },
  {
   "cell_type": "markdown",
   "metadata": {},
   "source": [
    "La siguiente celda muestra como generar un histograma de la columna `\"age\"`.\n",
    "\n",
    "El histograma se calcula a partir del RDD, de manera que la parte computacionalmente costosa se hace desde Spark, pero la figura se representa localmente."
   ]
  },
  {
   "cell_type": "code",
   "execution_count": 86,
   "metadata": {},
   "outputs": [
    {
     "data": {
      "image/png": "[encoded data removed]",
      "text/plain": [
       "<Figure size 1080x360 with 1 Axes>"
      ]
     },
     "metadata": {
      "needs_background": "light"
     },
     "output_type": "display_data"
    }
   ],
   "source": [
    "import numpy as np\n",
    "from matplotlib import pyplot as plt\n",
    "\n",
    "hist = adult.select(\"age\").rdd.map(lambda row: row[\"age\"]).histogram(np.linspace(16.5, 34.5, 19).tolist())\n",
    "\n",
    "bins = np.array(hist[0])\n",
    "bins = (bins[1:] + bins[:-1]) / 2\n",
    "freqs = np.array(hist[1])\n",
    "\n",
    "plt.bar(bins, freqs, width=(bins[1] - bins[0]), edgecolor=\"white\")\n",
    "plt.xlabel(\"Age\")\n",
    "plt.ylabel(\"Frequency\")\n",
    "plt.xticks(bins)\n",
    "plt.show()"
   ]
  },
  {
   "cell_type": "markdown",
   "metadata": {},
   "source": [
    "### Porcentaje por estado civil"
   ]
  },
  {
   "cell_type": "markdown",
   "metadata": {
    "collapsed": true
   },
   "source": [
    "En el siguiente ejemplo se muestra el porcentaje de ejemplos según el valor del atributo `\"marital_status\"`.\n",
    "\n",
    "De nuevo, los porcentajes se calculan de manera distribuida y solo se descarga localmente el resultado para pintarlo."
   ]
  },
  {
   "cell_type": "code",
   "execution_count": 87,
   "metadata": {},
   "outputs": [
    {
     "name": "stdout",
     "output_type": "stream",
     "text": [
      "+--------------------+-----+--------------------+\n",
      "|      marital_status|count|               ratio|\n",
      "+--------------------+-----+--------------------+\n",
      "|   Married-AF-spouse|   16|0.001138871094028...|\n",
      "|             Widowed|   29|0.002064203857925831|\n",
      "|Married-spouse-ab...|  150|0.010676916506512918|\n",
      "|           Separated|  373|0.026549932379528792|\n",
      "|            Divorced|  970|  0.0690440600754502|\n",
      "|  Married-civ-spouse| 3975| 0.28293828742259236|\n",
      "|       Never-married| 8536|  0.6075877286639618|\n",
      "+--------------------+-----+--------------------+\n",
      "\n"
     ]
    },
    {
     "data": {
      "text/html": [
       "<div>\n",
       "<style scoped>\n",
       "    .dataframe tbody tr th:only-of-type {\n",
       "        vertical-align: middle;\n",
       "    }\n",
       "\n",
       "    .dataframe tbody tr th {\n",
       "        vertical-align: top;\n",
       "    }\n",
       "\n",
       "    .dataframe thead th {\n",
       "        text-align: right;\n",
       "    }\n",
       "</style>\n",
       "<table border=\"1\" class=\"dataframe\">\n",
       "  <thead>\n",
       "    <tr style=\"text-align: right;\">\n",
       "      <th></th>\n",
       "      <th>marital_status</th>\n",
       "      <th>count</th>\n",
       "      <th>ratio</th>\n",
       "    </tr>\n",
       "  </thead>\n",
       "  <tbody>\n",
       "    <tr>\n",
       "      <th>0</th>\n",
       "      <td>Married-AF-spouse</td>\n",
       "      <td>16</td>\n",
       "      <td>0.001139</td>\n",
       "    </tr>\n",
       "    <tr>\n",
       "      <th>1</th>\n",
       "      <td>Widowed</td>\n",
       "      <td>29</td>\n",
       "      <td>0.002064</td>\n",
       "    </tr>\n",
       "    <tr>\n",
       "      <th>2</th>\n",
       "      <td>Married-spouse-absent</td>\n",
       "      <td>150</td>\n",
       "      <td>0.010677</td>\n",
       "    </tr>\n",
       "    <tr>\n",
       "      <th>3</th>\n",
       "      <td>Separated</td>\n",
       "      <td>373</td>\n",
       "      <td>0.026550</td>\n",
       "    </tr>\n",
       "    <tr>\n",
       "      <th>4</th>\n",
       "      <td>Divorced</td>\n",
       "      <td>970</td>\n",
       "      <td>0.069044</td>\n",
       "    </tr>\n",
       "    <tr>\n",
       "      <th>5</th>\n",
       "      <td>Married-civ-spouse</td>\n",
       "      <td>3975</td>\n",
       "      <td>0.282938</td>\n",
       "    </tr>\n",
       "    <tr>\n",
       "      <th>6</th>\n",
       "      <td>Never-married</td>\n",
       "      <td>8536</td>\n",
       "      <td>0.607588</td>\n",
       "    </tr>\n",
       "  </tbody>\n",
       "</table>\n",
       "</div>"
      ],
      "text/plain": [
       "          marital_status  count     ratio\n",
       "0      Married-AF-spouse     16  0.001139\n",
       "1                Widowed     29  0.002064\n",
       "2  Married-spouse-absent    150  0.010677\n",
       "3              Separated    373  0.026550\n",
       "4               Divorced    970  0.069044\n",
       "5     Married-civ-spouse   3975  0.282938\n",
       "6          Never-married   8536  0.607588"
      ]
     },
     "metadata": {},
     "output_type": "display_data"
    }
   ],
   "source": [
    "from pyspark.sql.functions import col, lit\n",
    "\n",
    "num_samples = adult.count()\n",
    "mstatus = adult.groupBy(\"marital_status\").count().sort(col(\"count\"))\n",
    "mstatus = mstatus.withColumn(\"ratio\", col(\"count\") / num_samples)\n",
    "mstatus.show()\n",
    "\n",
    "mstatus_pd = mstatus.toPandas()\n",
    "display(mstatus_pd)"
   ]
  },
  {
   "cell_type": "code",
   "execution_count": 88,
   "metadata": {
    "scrolled": true
   },
   "outputs": [
    {
     "data": {
      "image/png": "[encoded data removed]",
      "text/plain": [
       "<Figure size 1080x360 with 1 Axes>"
      ]
     },
     "metadata": {},
     "output_type": "display_data"
    }
   ],
   "source": [
    "labs = mstatus_pd[\"marital_status\"]\n",
    "sizs = mstatus_pd[\"ratio\"]\n",
    "\n",
    "plt.pie(sizs, labels=labs, autopct='%4.1f%%', shadow=True)\n",
    "plt.axis('equal')\n",
    "plt.tight_layout()\n",
    "plt.show()  "
   ]
  },
  {
   "cell_type": "markdown",
   "metadata": {},
   "source": [
    "## Preproceso de Adult"
   ]
  },
  {
   "cell_type": "markdown",
   "metadata": {},
   "source": [
    "Es importante, para tener éxito en la tarea de predicción, realizar un adecuado preproceso de los datos.\n",
    "\n",
    "En primer lugar, se divide el conjunto de datos en una parte para entrenamiento y otra para test."
   ]
  },
  {
   "cell_type": "code",
   "execution_count": 89,
   "metadata": {},
   "outputs": [],
   "source": [
    "adult_tr, adult_te = adult.randomSplit([0.7, 0.3], seed=1234)"
   ]
  },
  {
   "cell_type": "markdown",
   "metadata": {},
   "source": [
    "### StringIndexers"
   ]
  },
  {
   "cell_type": "markdown",
   "metadata": {},
   "source": [
    "El primer paso para el preproceso consiste en convertir las variables categóricas en variables numéricas, para lo que habrá que utilizar primero un conjunto de StringIndexers, que formarán parte del Pipeline."
   ]
  },
  {
   "cell_type": "markdown",
   "metadata": {},
   "source": [
    "En la siguiente celda, se identifican las columnas categóricas como aquellas de tipo `\"string\"`."
   ]
  },
  {
   "cell_type": "code",
   "execution_count": 90,
   "metadata": {},
   "outputs": [
    {
     "name": "stdout",
     "output_type": "stream",
     "text": [
      "String fields: ['education', 'marital_status', 'relationship', 'race', 'sex']\n"
     ]
    }
   ],
   "source": [
    "fields_str = []\n",
    "for field, field_type in adult_tr.dtypes:\n",
    "    if (field_type == \"string\"):\n",
    "        fields_str.append(field)\n",
    "\n",
    "print(\"String fields:\", fields_str)"
   ]
  },
  {
   "cell_type": "markdown",
   "metadata": {},
   "source": [
    "<div class=\"qst\">\n",
    "\n",
    "* Crear una lista de StringIndexers de nombre `indexers`, cada uno de los cuales tomará uno de los atributos de tipo `string`, y creará un nuevo atributo numérico, cuyo nombre sea el nombre original con el sufijo `\"_ind\"`.\n",
    "* Crear un Pipeline que realice todas las transformaciones, y comprobar con el conjunto `adult_tr` que añade las columnas adecuadamente.\n",
    "\n",
    "</div>"
   ]
  },
  {
   "cell_type": "code",
   "execution_count": 91,
   "metadata": {},
   "outputs": [
    {
     "name": "stdout",
     "output_type": "stream",
     "text": [
      "root\n",
      " |-- age: integer (nullable = true)\n",
      " |-- fnlwgt: integer (nullable = true)\n",
      " |-- education: string (nullable = true)\n",
      " |-- education_num: integer (nullable = true)\n",
      " |-- marital_status: string (nullable = true)\n",
      " |-- relationship: string (nullable = true)\n",
      " |-- race: string (nullable = true)\n",
      " |-- sex: string (nullable = true)\n",
      " |-- capital_gain: integer (nullable = true)\n",
      " |-- capital_loss: integer (nullable = true)\n",
      " |-- hours_per_week: integer (nullable = true)\n",
      " |-- label: integer (nullable = true)\n",
      " |-- education_ind: double (nullable = false)\n",
      " |-- marital_status_ind: double (nullable = false)\n",
      " |-- relationship_ind: double (nullable = false)\n",
      " |-- race_ind: double (nullable = false)\n",
      " |-- sex_ind: double (nullable = false)\n",
      "\n"
     ]
    }
   ],
   "source": [
    "from pyspark.ml.feature import StringIndexer\n",
    "from pyspark.ml import Pipeline\n",
    "\n",
    "################################\n",
    "# Insertar código.\n",
    "indexers = []\n",
    "for field in fields_str:\n",
    "    indexers.append(StringIndexer(inputCol=field, outputCol=field + \"_ind\"))\n",
    "\n",
    "Pipeline(stages=indexers).fit(adult_tr).transform(adult_tr).printSchema()\n",
    "################################"
   ]
  },
  {
   "cell_type": "markdown",
   "metadata": {},
   "source": [
    "### OneHotEncoders"
   ]
  },
  {
   "cell_type": "markdown",
   "metadata": {},
   "source": [
    "El siguiente paso consiste en convertir esas variables categóricas numéricas en variables binarias, utilizando OneHotEncoders, que también se añadirán al Pipeline."
   ]
  },
  {
   "cell_type": "markdown",
   "metadata": {},
   "source": [
    "<div class=\"qst\">\n",
    "\n",
    "* Crear una lista de OneHotEncoders de nombre `encoders`, cada uno de los cuales tomará uno de los atributos de salida de los StringIndexers, y lo transformará en un vector binario, cuyo nombre sea el nombre original con el sufijo `\"_ind_oh\"`.\n",
    "* Crear un Pipeline que realice todas las transformaciones (tanto las de `indexers` como las de `encoders`), y comprobar con el conjunto `adult_tr` que añade las columnas adecuadamente.\n",
    "\n",
    "</div>"
   ]
  },
  {
   "cell_type": "code",
   "execution_count": 92,
   "metadata": {},
   "outputs": [
    {
     "name": "stdout",
     "output_type": "stream",
     "text": [
      "root\n",
      " |-- age: integer (nullable = true)\n",
      " |-- fnlwgt: integer (nullable = true)\n",
      " |-- education: string (nullable = true)\n",
      " |-- education_num: integer (nullable = true)\n",
      " |-- marital_status: string (nullable = true)\n",
      " |-- relationship: string (nullable = true)\n",
      " |-- race: string (nullable = true)\n",
      " |-- sex: string (nullable = true)\n",
      " |-- capital_gain: integer (nullable = true)\n",
      " |-- capital_loss: integer (nullable = true)\n",
      " |-- hours_per_week: integer (nullable = true)\n",
      " |-- label: integer (nullable = true)\n",
      " |-- education_ind: double (nullable = false)\n",
      " |-- marital_status_ind: double (nullable = false)\n",
      " |-- relationship_ind: double (nullable = false)\n",
      " |-- race_ind: double (nullable = false)\n",
      " |-- sex_ind: double (nullable = false)\n",
      " |-- education_ind_oh: vector (nullable = true)\n",
      " |-- marital_status_ind_oh: vector (nullable = true)\n",
      " |-- relationship_ind_oh: vector (nullable = true)\n",
      " |-- race_ind_oh: vector (nullable = true)\n",
      " |-- sex_ind_oh: vector (nullable = true)\n",
      "\n"
     ]
    }
   ],
   "source": [
    "from pyspark.ml.feature import OneHotEncoder\n",
    "from pyspark.ml import Pipeline\n",
    "\n",
    "################################\n",
    "# Insertar código.\n",
    "encoders = []\n",
    "for field in fields_str:\n",
    "    encoders.append(OneHotEncoder(inputCol=field + \"_ind\", outputCol=field + \"_ind_oh\"))\n",
    "\n",
    "Pipeline(stages=indexers + encoders).fit(adult_tr).transform(adult_tr).printSchema()\n",
    "################################"
   ]
  },
  {
   "cell_type": "markdown",
   "metadata": {},
   "source": [
    "### Concatenación de atributos"
   ]
  },
  {
   "cell_type": "markdown",
   "metadata": {},
   "source": [
    "El último paso del preproceso es concatenar todas las características, tanto las inicialmente numéricas como las que se han creado a través de los OneHotEncoders.\n",
    "Este será el último nivel del Pipeline."
   ]
  },
  {
   "cell_type": "markdown",
   "metadata": {},
   "source": [
    "En la siguiente celda se identifican las características inicialmente numéricas (salvo la etiqueta)."
   ]
  },
  {
   "cell_type": "code",
   "execution_count": 93,
   "metadata": {},
   "outputs": [
    {
     "name": "stdout",
     "output_type": "stream",
     "text": [
      "Numeric fields: ['age', 'fnlwgt', 'education_num', 'capital_gain', 'capital_loss', 'hours_per_week']\n"
     ]
    }
   ],
   "source": [
    "fields_num = [field for field in adult.columns if field not in fields_str and field != \"label\"]\n",
    "print(\"Numeric fields:\", fields_num)"
   ]
  },
  {
   "cell_type": "markdown",
   "metadata": {},
   "source": [
    "<div class=\"qst\">\n",
    "\n",
    "* Crear un VectorAssembler de nombre `assembler` que concatene tanto los atributos inicialmente numéricos como los creados a través de los OneHotEncoders, en una columna de nombre `\"features\"`.\n",
    "* Crear un Pipeline que realice todas las transformaciones (las de `indexers`, las de `encoders` y la de `assembler`), y comprobar con el conjunto `adult_tr` que añade las columnas adecuadamente.\n",
    "\n",
    "</div>"
   ]
  },
  {
   "cell_type": "code",
   "execution_count": 94,
   "metadata": {},
   "outputs": [
    {
     "name": "stdout",
     "output_type": "stream",
     "text": [
      "root\n",
      " |-- age: integer (nullable = true)\n",
      " |-- fnlwgt: integer (nullable = true)\n",
      " |-- education: string (nullable = true)\n",
      " |-- education_num: integer (nullable = true)\n",
      " |-- marital_status: string (nullable = true)\n",
      " |-- relationship: string (nullable = true)\n",
      " |-- race: string (nullable = true)\n",
      " |-- sex: string (nullable = true)\n",
      " |-- capital_gain: integer (nullable = true)\n",
      " |-- capital_loss: integer (nullable = true)\n",
      " |-- hours_per_week: integer (nullable = true)\n",
      " |-- label: integer (nullable = true)\n",
      " |-- education_ind: double (nullable = false)\n",
      " |-- marital_status_ind: double (nullable = false)\n",
      " |-- relationship_ind: double (nullable = false)\n",
      " |-- race_ind: double (nullable = false)\n",
      " |-- sex_ind: double (nullable = false)\n",
      " |-- education_ind_oh: vector (nullable = true)\n",
      " |-- marital_status_ind_oh: vector (nullable = true)\n",
      " |-- relationship_ind_oh: vector (nullable = true)\n",
      " |-- race_ind_oh: vector (nullable = true)\n",
      " |-- sex_ind_oh: vector (nullable = true)\n",
      " |-- features: vector (nullable = true)\n",
      "\n",
      "+-------------------------------------------------------------------------+-----+\n",
      "|features                                                                 |label|\n",
      "+-------------------------------------------------------------------------+-----+\n",
      "|(37,[0,1,2,5,11,21,27,32,36],[17.0,25051.0,6.0,16.0,1.0,1.0,1.0,1.0,1.0])|1    |\n",
      "|(37,[0,1,2,5,11,21,27,32],[17.0,25690.0,6.0,10.0,1.0,1.0,1.0,1.0])       |1    |\n",
      "|(37,[0,1,2,5,9,21,27,36],[17.0,27415.0,7.0,20.0,1.0,1.0,1.0,1.0])        |1    |\n",
      "|(37,[0,1,2,5,15,21,27,32,36],[17.0,28031.0,5.0,16.0,1.0,1.0,1.0,1.0,1.0])|1    |\n",
      "|(37,[0,1,2,5,14,21,27,32,36],[17.0,29571.0,8.0,15.0,1.0,1.0,1.0,1.0,1.0])|1    |\n",
      "+-------------------------------------------------------------------------+-----+\n",
      "only showing top 5 rows\n",
      "\n"
     ]
    }
   ],
   "source": [
    "from pyspark.ml.feature import VectorAssembler\n",
    "from pyspark.ml import Pipeline\n",
    "\n",
    "################################\n",
    "# Insertar código.\n",
    "fields_str_oh = [field + \"_ind_oh\" for field in fields_str]\n",
    "assembler = VectorAssembler(inputCols=fields_num + fields_str_oh, outputCol=\"features\")\n",
    "\n",
    "aux = Pipeline(stages=indexers + encoders + [assembler]).fit(adult_tr).transform(adult_tr)\n",
    "aux.printSchema()\n",
    "aux.select(\"features\", \"label\").show(5, truncate=False)\n",
    "################################"
   ]
  },
  {
   "cell_type": "markdown",
   "metadata": {},
   "source": [
    "## Regresión logística"
   ]
  },
  {
   "cell_type": "markdown",
   "metadata": {},
   "source": [
    "Cabe destacar que el problema de clasificación está desbalanceado, como muestra la siguiente celda."
   ]
  },
  {
   "cell_type": "code",
   "execution_count": 95,
   "metadata": {},
   "outputs": [
    {
     "name": "stdout",
     "output_type": "stream",
     "text": [
      "+-----+-----+\n",
      "|label|count|\n",
      "+-----+-----+\n",
      "|    1|12561|\n",
      "|    0| 1488|\n",
      "+-----+-----+\n",
      "\n"
     ]
    }
   ],
   "source": [
    "adult.groupBy(\"label\").count().show()"
   ]
  },
  {
   "cell_type": "markdown",
   "metadata": {},
   "source": [
    "Para realizar la predicción se puede usar un sencillo modelo de regresión logística."
   ]
  },
  {
   "cell_type": "markdown",
   "metadata": {},
   "source": [
    "<div class=\"qst\">\n",
    "\n",
    "* Crear un Estimator de regresión logística con parámetro de regularización $0.01$, de nombre `logreg_es`.\n",
    "* Crear un Pipeline, de nombre `pipeline_es`, con todos los estimadores juntos (`indexers`, `encoders`, `assembler` y `logreg_es`).\n",
    "* Entrenar el Estimator `pipeline_es` utilizando el conjunto de datos `adult_tr`, y almacenar el modelo en un Transformer con nombre `pipeline_tr`.\n",
    "\n",
    "</div>"
   ]
  },
  {
   "cell_type": "code",
   "execution_count": 96,
   "metadata": {},
   "outputs": [],
   "source": [
    "from pyspark.ml.classification import LogisticRegression\n",
    "from pyspark.ml import Pipeline\n",
    "\n",
    "################################\n",
    "# Insertar código.\n",
    "# Estimator.\n",
    "logreg_es = LogisticRegression(regParam=0.01)\n",
    "\n",
    "# Estimator (pipeline).\n",
    "pipeline_es = Pipeline(stages=indexers + encoders + [assembler, logreg_es])\n",
    "\n",
    "# Transformer.\n",
    "pipeline_tr = pipeline_es.fit(adult_tr)\n",
    "################################\n",
    "\n",
    "pred_tr = pipeline_tr.transform(adult_tr).cache()\n",
    "pred_te = pipeline_tr.transform(adult_te).cache()"
   ]
  },
  {
   "cell_type": "code",
   "execution_count": 97,
   "metadata": {},
   "outputs": [],
   "source": [
    "from pyspark.ml.evaluation import BinaryClassificationEvaluator\n",
    "\n",
    "def printMetrics(pred):\n",
    "    evaluator = BinaryClassificationEvaluator()\n",
    "\n",
    "    print(\"No. Samples: {:6d}\".format(pred.count()))\n",
    "    print(\"AUX ROC:     {:6.4f}\".format(evaluator.evaluate(pred, {evaluator.metricName: \"areaUnderROC\"})))\n",
    "    print(\"AUX PR:      {:6.4f}\".format(evaluator.evaluate(pred, {evaluator.metricName: \"areaUnderPR\"})))"
   ]
  },
  {
   "cell_type": "code",
   "execution_count": 98,
   "metadata": {},
   "outputs": [
    {
     "name": "stdout",
     "output_type": "stream",
     "text": [
      "Training Performance\n",
      "--------------------\n",
      "No. Samples:   9846\n",
      "AUX ROC:     0.9290\n",
      "AUX PR:      0.9910\n",
      "--------------------\n",
      "\n",
      "Test Performance\n",
      "--------------------\n",
      "No. Samples:   4203\n",
      "AUX ROC:     0.9168\n",
      "AUX PR:      0.9877\n",
      "--------------------\n"
     ]
    }
   ],
   "source": [
    "print(\"Training Performance\")\n",
    "print(\"--------------------\")\n",
    "printMetrics(pred_tr)\n",
    "print(\"--------------------\")\n",
    "\n",
    "print(\"\\nTest Performance\")\n",
    "print(\"--------------------\")\n",
    "printMetrics(pred_te)\n",
    "print(\"--------------------\")"
   ]
  },
  {
   "cell_type": "markdown",
   "metadata": {},
   "source": [
    "## Ajuste de hiperparámetros"
   ]
  },
  {
   "cell_type": "markdown",
   "metadata": {},
   "source": [
    "Para mejorar el resultado anterior, se puede realizar un ajuste de los hiperparámetros."
   ]
  },
  {
   "cell_type": "markdown",
   "metadata": {},
   "source": [
    "<div class=\"qst\">\n",
    "\n",
    "* Partiendo del Pipeline anterior, ajustar el hiperparámetro `regParam` de la regresión logística de manera que tome los valores $(10^{-3}, 10^{-2}, 10^{-1}, 10^{0}, 10^{1}, 10^{2}, 10^{3})$. Utilizar para ello el DataFrame `adult_tr`, y almacenar el Transformer resultante en la variable `cv_tr`. Para el ajuste, usar validación cruzada de $3$ hojas, y la medida por defecto del evaluador.\n",
    "\n",
    "</div>"
   ]
  },
  {
   "cell_type": "code",
   "execution_count": 99,
   "metadata": {},
   "outputs": [],
   "source": [
    "import numpy as np\n",
    "from pyspark.ml.tuning import ParamGridBuilder, CrossValidator\n",
    "from pyspark.ml.evaluation import BinaryClassificationEvaluator\n",
    "\n",
    "################################\n",
    "# Insertar código.\n",
    "# Rejilla.\n",
    "paramGrid = ParamGridBuilder()\\\n",
    "    .addGrid(logreg_es.regParam, np.logspace(-3, 3, 7))\\\n",
    "    .build()\n",
    "\n",
    "# Estimator.\n",
    "cv_es = CrossValidator(estimator=pipeline_es,\n",
    "                       estimatorParamMaps=paramGrid,\n",
    "                       evaluator=BinaryClassificationEvaluator(),\n",
    "                       numFolds=3,\n",
    "                       seed=1234\n",
    "                      )\n",
    "\n",
    "# Transformer.\n",
    "cv_tr = cv_es.fit(adult_tr)\n",
    "################################\n",
    "\n",
    "pred_cv_tr = cv_tr.transform(adult_tr).cache()\n",
    "pred_cv_te = cv_tr.transform(adult_te).cache()"
   ]
  },
  {
   "cell_type": "code",
   "execution_count": 100,
   "metadata": {},
   "outputs": [
    {
     "name": "stdout",
     "output_type": "stream",
     "text": [
      "Training Performance\n",
      "--------------------\n",
      "No. Samples:   9846\n",
      "AUX ROC:     0.9318\n",
      "AUX PR:      0.9914\n",
      "--------------------\n",
      "\n",
      "Test Performance\n",
      "--------------------\n",
      "No. Samples:   4203\n",
      "AUX ROC:     0.9202\n",
      "AUX PR:      0.9884\n",
      "--------------------\n"
     ]
    }
   ],
   "source": [
    "print(\"Training Performance\")\n",
    "print(\"--------------------\")\n",
    "printMetrics(pred_cv_tr)\n",
    "print(\"--------------------\")\n",
    "\n",
    "print(\"\\nTest Performance\")\n",
    "print(\"--------------------\")\n",
    "printMetrics(pred_cv_te)\n",
    "print(\"--------------------\")"
   ]
  }
 ],
 "metadata": {
  "kernelspec": {
   "display_name": "Pyspark (Py3)",
   "language": "",
   "name": "pyspark"
  },
  "language_info": {
   "codemirror_mode": {
    "name": "ipython",
    "version": 3
   },
   "file_extension": ".py",
   "mimetype": "text/x-python",
   "name": "python",
   "nbconvert_exporter": "python",
   "pygments_lexer": "ipython3",
   "version": "3.8.5"
  }
 },
 "nbformat": 4,
 "nbformat_minor": 2
}
