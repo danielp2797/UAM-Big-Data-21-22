{
 "cells": [
  {
   "cell_type": "markdown",
   "id": "headed-commonwealth",
   "metadata": {},
   "source": [
    "# Práctica Grafos"
   ]
  },
  {
   "cell_type": "code",
   "execution_count": 1,
   "id": "imported-starter",
   "metadata": {},
   "outputs": [],
   "source": [
    "import graphframes as gf\n",
    "from pyspark.sql.types import StructType, StructField, StringType, LongType\n",
    "import pyspark.sql.functions as F\n",
    "import matplotlib.pyplot as plt"
   ]
  },
  {
   "cell_type": "code",
   "execution_count": 6,
   "id": "trained-dressing",
   "metadata": {},
   "outputs": [],
   "source": [
    "spark.sparkContext.setCheckpointDir('/vagrant/IPNB/checkpoints')"
   ]
  },
  {
   "cell_type": "markdown",
   "id": "second-brazil",
   "metadata": {},
   "source": [
    "### 1. Cree un grafo de GraphFrames correspondiente a los ficheros de datos suministrados, en el que cada enlace es una relación de descendencia."
   ]
  },
  {
   "cell_type": "code",
   "execution_count": 2,
   "id": "modular-promotion",
   "metadata": {},
   "outputs": [],
   "source": [
    "df_edges = spark.read.csv('edges-subset.csv', inferSchema=True, header=True)\n",
    "df_nodes = spark.read.csv('vertices-subset.csv', inferSchema=True, header=True)\n",
    "graph = gf.GraphFrame(df_nodes, df_edges)"
   ]
  },
  {
   "cell_type": "markdown",
   "id": "blond-suspect",
   "metadata": {},
   "source": [
    "### 2 Contenga las operaciones necesarias para contestar a las siguientes preguntas sobre el grafo creado: \n",
    " **2.1 ¿Cuántos árboles genealógicos distintos contiene el dataset proporcionado, y qué tamaño (número de personas) tienen? Nota: definimos un árbol genealógico como el subgrafo que contiene todos sus nodos conectados y no tiene ninguna conexión a otros nodos. Tomando solo el árbol más grande, ¿cuántos nodos tiene? ¿Qué intervalo temporal abarca?**"
   ]
  },
  {
   "cell_type": "markdown",
   "id": "structural-furniture",
   "metadata": {},
   "source": [
    "Para encontrar el número de árboles genealógicos se asume que los miembros de las familias no se han mezclado. En tal caso, para encontrar el número de familias basta calcular el número de componentes conexas del grafo."
   ]
  },
  {
   "cell_type": "code",
   "execution_count": 7,
   "id": "advanced-absorption",
   "metadata": {},
   "outputs": [],
   "source": [
    "families = graph.connectedComponents()"
   ]
  },
  {
   "cell_type": "code",
   "execution_count": 8,
   "id": "verbal-binding",
   "metadata": {},
   "outputs": [
    {
     "data": {
      "text/html": [
       "<div>\n",
       "<style scoped>\n",
       "    .dataframe tbody tr th:only-of-type {\n",
       "        vertical-align: middle;\n",
       "    }\n",
       "\n",
       "    .dataframe tbody tr th {\n",
       "        vertical-align: top;\n",
       "    }\n",
       "\n",
       "    .dataframe thead th {\n",
       "        text-align: right;\n",
       "    }\n",
       "</style>\n",
       "<table border=\"1\" class=\"dataframe\">\n",
       "  <thead>\n",
       "    <tr style=\"text-align: right;\">\n",
       "      <th></th>\n",
       "      <th>count(DISTINCT component)</th>\n",
       "    </tr>\n",
       "  </thead>\n",
       "  <tbody>\n",
       "    <tr>\n",
       "      <th>0</th>\n",
       "      <td>3</td>\n",
       "    </tr>\n",
       "  </tbody>\n",
       "</table>\n",
       "</div>"
      ],
      "text/plain": [
       "   count(DISTINCT component)\n",
       "0                          3"
      ]
     },
     "execution_count": 8,
     "metadata": {},
     "output_type": "execute_result"
    }
   ],
   "source": [
    "num_families = families.select(F.countDistinct('component')).toPandas() # numero de componentes conexas\n",
    "num_families"
   ]
  },
  {
   "cell_type": "markdown",
   "id": "positive-match",
   "metadata": {},
   "source": [
    "Se observa que hay 3 componentes conexas en el grafo, es decir, **hay 3 familias o arboles genealógicos.**\n",
    "\n",
    "Por otro lado, para ver como de grandes son, se hace un recuento de nodos en el grafo agregando por la componente a la cual pertencen."
   ]
  },
  {
   "cell_type": "code",
   "execution_count": 9,
   "id": "drawn-minister",
   "metadata": {},
   "outputs": [
    {
     "data": {
      "text/html": [
       "<div>\n",
       "<style scoped>\n",
       "    .dataframe tbody tr th:only-of-type {\n",
       "        vertical-align: middle;\n",
       "    }\n",
       "\n",
       "    .dataframe tbody tr th {\n",
       "        vertical-align: top;\n",
       "    }\n",
       "\n",
       "    .dataframe thead th {\n",
       "        text-align: right;\n",
       "    }\n",
       "</style>\n",
       "<table border=\"1\" class=\"dataframe\">\n",
       "  <thead>\n",
       "    <tr style=\"text-align: right;\">\n",
       "      <th></th>\n",
       "      <th>component</th>\n",
       "      <th>count</th>\n",
       "    </tr>\n",
       "  </thead>\n",
       "  <tbody>\n",
       "    <tr>\n",
       "      <th>0</th>\n",
       "      <td>24553</td>\n",
       "      <td>1488</td>\n",
       "    </tr>\n",
       "    <tr>\n",
       "      <th>1</th>\n",
       "      <td>55143</td>\n",
       "      <td>1658</td>\n",
       "    </tr>\n",
       "    <tr>\n",
       "      <th>2</th>\n",
       "      <td>225398</td>\n",
       "      <td>1381</td>\n",
       "    </tr>\n",
       "  </tbody>\n",
       "</table>\n",
       "</div>"
      ],
      "text/plain": [
       "   component  count\n",
       "0      24553   1488\n",
       "1      55143   1658\n",
       "2     225398   1381"
      ]
     },
     "execution_count": 9,
     "metadata": {},
     "output_type": "execute_result"
    }
   ],
   "source": [
    "families.groupBy('component').count().toPandas()"
   ]
  },
  {
   "cell_type": "markdown",
   "id": "exempt-involvement",
   "metadata": {},
   "source": [
    "Se ve que **la familia más grande tiene 1658 nodos (personas).**\n",
    "\n",
    "Para calcular el intervalo temporal, usamos la función describe sobre la columna del año de nacimiento."
   ]
  },
  {
   "cell_type": "code",
   "execution_count": 10,
   "id": "mounted-nashville",
   "metadata": {},
   "outputs": [
    {
     "data": {
      "text/html": [
       "<div>\n",
       "<style scoped>\n",
       "    .dataframe tbody tr th:only-of-type {\n",
       "        vertical-align: middle;\n",
       "    }\n",
       "\n",
       "    .dataframe tbody tr th {\n",
       "        vertical-align: top;\n",
       "    }\n",
       "\n",
       "    .dataframe thead th {\n",
       "        text-align: right;\n",
       "    }\n",
       "</style>\n",
       "<table border=\"1\" class=\"dataframe\">\n",
       "  <thead>\n",
       "    <tr style=\"text-align: right;\">\n",
       "      <th></th>\n",
       "      <th>summary</th>\n",
       "      <th>birth_year</th>\n",
       "    </tr>\n",
       "  </thead>\n",
       "  <tbody>\n",
       "    <tr>\n",
       "      <th>0</th>\n",
       "      <td>count</td>\n",
       "      <td>1457</td>\n",
       "    </tr>\n",
       "    <tr>\n",
       "      <th>1</th>\n",
       "      <td>mean</td>\n",
       "      <td>1707.4351407000686</td>\n",
       "    </tr>\n",
       "    <tr>\n",
       "      <th>2</th>\n",
       "      <td>stddev</td>\n",
       "      <td>62.76035946620318</td>\n",
       "    </tr>\n",
       "    <tr>\n",
       "      <th>3</th>\n",
       "      <td>min</td>\n",
       "      <td>1520</td>\n",
       "    </tr>\n",
       "    <tr>\n",
       "      <th>4</th>\n",
       "      <td>max</td>\n",
       "      <td>1952</td>\n",
       "    </tr>\n",
       "  </tbody>\n",
       "</table>\n",
       "</div>"
      ],
      "text/plain": [
       "  summary          birth_year\n",
       "0   count                1457\n",
       "1    mean  1707.4351407000686\n",
       "2  stddev   62.76035946620318\n",
       "3     min                1520\n",
       "4     max                1952"
      ]
     },
     "execution_count": 10,
     "metadata": {},
     "output_type": "execute_result"
    }
   ],
   "source": [
    "families.filter('birth_year != \"*\" and component == 55143').select('birth_year').describe().toPandas()"
   ]
  },
  {
   "cell_type": "markdown",
   "id": "wireless-mining",
   "metadata": {},
   "source": [
    "Se observa que **abarca desde la generación nacida a principios del S.XVI (1520) hasta bien entrado el S.XX (1952)**"
   ]
  },
  {
   "cell_type": "markdown",
   "id": "specialized-performer",
   "metadata": {},
   "source": [
    "**2.2 ¿Cuántos ejemplos hay en el dataset de 3 personas de generaciones sucesivas (padre o madre, hijo o hija, nieto o nieta) en las que cada una tiene un país de nacimiento distinto (es decir, 3 países de nacimiento distintos)? Nota: no cuente para este cálculo las personas con país de nacimiento desconocido.**"
   ]
  },
  {
   "cell_type": "markdown",
   "id": "sized-drinking",
   "metadata": {},
   "source": [
    "Para este ejercicio filtramos previamente los valores de la columna \"país de nacimiento\" para eliminar los valores perdidos. Despues, se calculan todos los caminos con longitud igual 2 con los 3 nodos distintos. Finalmente, se hace un recuento del número total de caminos, lo cual es equivalente al número de ejemplos pedido."
   ]
  },
  {
   "cell_type": "code",
   "execution_count": 11,
   "id": "requested-washer",
   "metadata": {},
   "outputs": [
    {
     "data": {
      "text/plain": [
       "85"
      ]
     },
     "execution_count": 11,
     "metadata": {},
     "output_type": "execute_result"
    }
   ],
   "source": [
    "df_nodes_kc = df_nodes.filter(\"birth_location_country != '*'\")\n",
    "graph_known_country = gf.GraphFrame(df_nodes_kc, df_edges)\n",
    "\n",
    "pattern = graph_known_country.find(\"(a)-[e1]->(b); (b)-[e2]->(c)\") # caminos con 3 nodos distintos\n",
    "result = pattern.filter((pattern['a'].birth_location_country != pattern['b'].birth_location_country) &\n",
    "                        (pattern['b'].birth_location_country != pattern['c'].birth_location_country))\n",
    "\n",
    "result.count()"
   ]
  },
  {
   "cell_type": "markdown",
   "id": "supposed-elimination",
   "metadata": {},
   "source": [
    "Se observa que **el número de ejemplos de 3 generaciones sucesivas nacidas en países distintos es 85.**"
   ]
  },
  {
   "cell_type": "markdown",
   "id": "fantastic-profile",
   "metadata": {},
   "source": [
    " **2.3 Encuentre la persona o personas del dataset con el máximo de descendencia directa (i.e.\n",
    "mayor número de hijos+hijas). ¿En qué año nació? ¿Qué nacionalidad tiene? ¿Cuántos\n",
    "hijos+hijas tuvo?**"
   ]
  },
  {
   "cell_type": "markdown",
   "id": "printable-twenty",
   "metadata": {},
   "source": [
    "Para este ejercicio se calcula el grado exterior de cada nodo del grafo y se extrae el máximo."
   ]
  },
  {
   "cell_type": "code",
   "execution_count": 30,
   "id": "romantic-starter",
   "metadata": {},
   "outputs": [
    {
     "data": {
      "text/plain": [
       "16"
      ]
     },
     "execution_count": 30,
     "metadata": {},
     "output_type": "execute_result"
    }
   ],
   "source": [
    "max_degree = int(graph.outDegrees.groupBy().max('outDegree').toPandas().iloc[0])\n",
    "max_degree"
   ]
  },
  {
   "cell_type": "markdown",
   "id": "national-sister",
   "metadata": {},
   "source": [
    "Dentro del conjunto de datos, **el número máximo de descendencia directa es igual a 16 hijos+hijas.**\n",
    "\n",
    "Despues, para encontrar información de los nodos, se filtra el conjunto de vertices y grado para obtener los Id."
   ]
  },
  {
   "cell_type": "code",
   "execution_count": 31,
   "id": "hollywood-identifier",
   "metadata": {},
   "outputs": [
    {
     "data": {
      "text/html": [
       "<div>\n",
       "<style scoped>\n",
       "    .dataframe tbody tr th:only-of-type {\n",
       "        vertical-align: middle;\n",
       "    }\n",
       "\n",
       "    .dataframe tbody tr th {\n",
       "        vertical-align: top;\n",
       "    }\n",
       "\n",
       "    .dataframe thead th {\n",
       "        text-align: right;\n",
       "    }\n",
       "</style>\n",
       "<table border=\"1\" class=\"dataframe\">\n",
       "  <thead>\n",
       "    <tr style=\"text-align: right;\">\n",
       "      <th></th>\n",
       "      <th>id</th>\n",
       "      <th>gender</th>\n",
       "      <th>is_alive</th>\n",
       "      <th>birth_year</th>\n",
       "      <th>birth_location_city</th>\n",
       "      <th>birth_location_country</th>\n",
       "      <th>death_year</th>\n",
       "      <th>death_location_country</th>\n",
       "      <th>cause_of_death</th>\n",
       "    </tr>\n",
       "  </thead>\n",
       "  <tbody>\n",
       "    <tr>\n",
       "      <th>0</th>\n",
       "      <td>43475617</td>\n",
       "      <td>female</td>\n",
       "      <td>0</td>\n",
       "      <td>1704</td>\n",
       "      <td>Isfield</td>\n",
       "      <td>England</td>\n",
       "      <td>1780</td>\n",
       "      <td>England</td>\n",
       "      <td>*</td>\n",
       "    </tr>\n",
       "    <tr>\n",
       "      <th>1</th>\n",
       "      <td>43871304</td>\n",
       "      <td>male</td>\n",
       "      <td>0</td>\n",
       "      <td>1700</td>\n",
       "      <td>Isfield</td>\n",
       "      <td>England</td>\n",
       "      <td>1767</td>\n",
       "      <td>England</td>\n",
       "      <td>*</td>\n",
       "    </tr>\n",
       "  </tbody>\n",
       "</table>\n",
       "</div>"
      ],
      "text/plain": [
       "         id  gender  is_alive birth_year birth_location_city  \\\n",
       "0  43475617  female         0       1704             Isfield   \n",
       "1  43871304    male         0       1700             Isfield   \n",
       "\n",
       "  birth_location_country death_year death_location_country cause_of_death  \n",
       "0                England       1780                England              *  \n",
       "1                England       1767                England              *  "
      ]
     },
     "execution_count": 31,
     "metadata": {},
     "output_type": "execute_result"
    }
   ],
   "source": [
    "max_desc_node_id = graph.outDegrees.filter(f\"outDegree == {max_degree}\").select('id')\n",
    "nodes_id = max_desc_node_id.toPandas()['id'].tolist() # nodos con el max numero de descendencia\n",
    "\n",
    "result_max_nodes_desc = graph.vertices.filter(graph.vertices['id'].isin(nodes_id))\n",
    "\n",
    "result_max_nodes_desc.toPandas()"
   ]
  },
  {
   "cell_type": "markdown",
   "id": "bottom-preliminary",
   "metadata": {},
   "source": [
    "Se observa que **las dos personas con mayor número de descendencia directa nacieron en 1704 y 1700, y eran de Inglaterra.**\n",
    "\n",
    "Para calcular la cantidad de hijos e hijas, se obtienen sus nodos vecinos y despues se hace un recuento de observaciones agregando por el id de los padres y el genero de los hijos."
   ]
  },
  {
   "cell_type": "code",
   "execution_count": 24,
   "id": "olympic-vatican",
   "metadata": {},
   "outputs": [
    {
     "data": {
      "text/plain": [
       "[Row(a[id]=43871304, b[gender]='female', count=7),\n",
       " Row(a[id]=43475617, b[gender]='male', count=9),\n",
       " Row(a[id]=43475617, b[gender]='female', count=7),\n",
       " Row(a[id]=43871304, b[gender]='male', count=9)]"
      ]
     },
     "execution_count": 24,
     "metadata": {},
     "output_type": "execute_result"
    }
   ],
   "source": [
    "pattern_path1 = graph.find(\"(a)-[e1]->(b)\")\n",
    "neigs = pattern_path1.filter(pattern_path1['a'].id.isin(nodes_id))\n",
    "neigs.groupBy(neigs.a.id, neigs.b.gender).count().collect()"
   ]
  },
  {
   "cell_type": "markdown",
   "id": "related-curve",
   "metadata": {},
   "source": [
    "Se observa que en ambos casos se tuvieron 7 hijas y 9 hijos. Por los datos de los nodos (nacimiento, país, número de hijos y sexo) parece que fueron pareja."
   ]
  },
  {
   "cell_type": "markdown",
   "id": "funded-senegal",
   "metadata": {},
   "source": [
    "**2.4 Cree ahora la lista de personas que tengan el mayor número de descendientes +\n",
    "ascendientes directos (de primer nivel), es decir, la suma del número de descendientes y\n",
    "del número de ascendientes directos encontrados en el dataset para esas personas sea\n",
    "la mayor posible. Muestre y comente los dos primeros resultados de la lista encontrada.**"
   ]
  },
  {
   "cell_type": "markdown",
   "id": "prostate-throw",
   "metadata": {},
   "source": [
    "Se repite el proceso anterior pero esta vez sobre el dataframe que contiene la suma de los vecinos interiores y exteriores a cada nodo, sumando ambos para obtener el grado de cada nodo."
   ]
  },
  {
   "cell_type": "code",
   "execution_count": 33,
   "id": "promising-lightning",
   "metadata": {},
   "outputs": [],
   "source": [
    "total_degrees = graph.outDegrees.join(graph.inDegrees, 'id')\n",
    "total_degrees = total_degrees.withColumn('totalDegree',total_degrees.inDegree+total_degrees.outDegree) "
   ]
  },
  {
   "cell_type": "code",
   "execution_count": 34,
   "id": "incomplete-peninsula",
   "metadata": {},
   "outputs": [
    {
     "data": {
      "text/plain": [
       "18"
      ]
     },
     "execution_count": 34,
     "metadata": {},
     "output_type": "execute_result"
    }
   ],
   "source": [
    "max_degree_total = int(total_degrees.groupBy().max('totalDegree').toPandas().iloc[0])\n",
    "max_degree_total"
   ]
  },
  {
   "cell_type": "code",
   "execution_count": 35,
   "id": "grand-iraqi",
   "metadata": {},
   "outputs": [
    {
     "data": {
      "text/plain": [
       "18"
      ]
     },
     "execution_count": 35,
     "metadata": {},
     "output_type": "execute_result"
    }
   ],
   "source": [
    "max_degree_total # grado máximo "
   ]
  },
  {
   "cell_type": "code",
   "execution_count": 39,
   "id": "earlier-johnston",
   "metadata": {},
   "outputs": [
    {
     "data": {
      "text/html": [
       "<div>\n",
       "<style scoped>\n",
       "    .dataframe tbody tr th:only-of-type {\n",
       "        vertical-align: middle;\n",
       "    }\n",
       "\n",
       "    .dataframe tbody tr th {\n",
       "        vertical-align: top;\n",
       "    }\n",
       "\n",
       "    .dataframe thead th {\n",
       "        text-align: right;\n",
       "    }\n",
       "</style>\n",
       "<table border=\"1\" class=\"dataframe\">\n",
       "  <thead>\n",
       "    <tr style=\"text-align: right;\">\n",
       "      <th></th>\n",
       "      <th>id</th>\n",
       "      <th>gender</th>\n",
       "      <th>is_alive</th>\n",
       "      <th>birth_year</th>\n",
       "      <th>birth_location_city</th>\n",
       "      <th>birth_location_country</th>\n",
       "      <th>death_year</th>\n",
       "      <th>death_location_country</th>\n",
       "      <th>cause_of_death</th>\n",
       "    </tr>\n",
       "  </thead>\n",
       "  <tbody>\n",
       "    <tr>\n",
       "      <th>0</th>\n",
       "      <td>43475617</td>\n",
       "      <td>female</td>\n",
       "      <td>0</td>\n",
       "      <td>1704</td>\n",
       "      <td>Isfield</td>\n",
       "      <td>England</td>\n",
       "      <td>1780</td>\n",
       "      <td>England</td>\n",
       "      <td>*</td>\n",
       "    </tr>\n",
       "  </tbody>\n",
       "</table>\n",
       "</div>"
      ],
      "text/plain": [
       "         id  gender  is_alive birth_year birth_location_city  \\\n",
       "0  43475617  female         0       1704             Isfield   \n",
       "\n",
       "  birth_location_country death_year death_location_country cause_of_death  \n",
       "0                England       1780                England              *  "
      ]
     },
     "execution_count": 39,
     "metadata": {},
     "output_type": "execute_result"
    }
   ],
   "source": [
    "max_desc_node_id = total_degrees.filter(f\"totalDegree == {max_degree_total}\").select('id')\n",
    "nodes_id_total = max_desc_node_id.toPandas()['id'].tolist() # nodos con el max numero de descendencia\n",
    "\n",
    "result_max_nodes_desc = graph.vertices.filter(graph.vertices['id'].isin(nodes_id_total))\n",
    "\n",
    "result_max_nodes_desc.toPandas()"
   ]
  },
  {
   "cell_type": "markdown",
   "id": "affecting-workstation",
   "metadata": {},
   "source": [
    "El grado total máximo es 18, y el grado interior máximo es 2, lo cual es consistente con que cada persona debe tener, a lo sumo, una ascendencia directa de dos personas (padre y madre) salvo datos faltantes.\n",
    "\n",
    "En este caso, la persona con más ascendencia y descendencia directa es la misma mujer (mismo Id) que tuvo 16 hijos en el apartado anterior. Sin embargo, el hombre ahora no aparece. **Dado que el hombre no aparece en el resultado de grado interior, la causa del resultado de este apartado es que es la mujer la que forma parte del tronco familiar y el hombre no tiene ascendencia directa dentro del árbol genealógico, ya que proviene de una familia distinta.**"
   ]
  },
  {
   "cell_type": "code",
   "execution_count": 40,
   "id": "immediate-mobile",
   "metadata": {},
   "outputs": [
    {
     "data": {
      "text/plain": [
       "[Row(id=43475617, inDegree=2)]"
      ]
     },
     "execution_count": 40,
     "metadata": {},
     "output_type": "execute_result"
    }
   ],
   "source": [
    "graph.inDegrees.filter(graph.inDegrees['id'].isin(nodes_id)).collect() # id del nodo con grado interior maximo"
   ]
  },
  {
   "cell_type": "code",
   "execution_count": null,
   "id": "surgical-timothy",
   "metadata": {},
   "outputs": [],
   "source": []
  }
 ],
 "metadata": {
  "kernelspec": {
   "display_name": "Pyspark (Py3)",
   "language": "",
   "name": "pyspark"
  },
  "language_info": {
   "codemirror_mode": {
    "name": "ipython",
    "version": 3
   },
   "file_extension": ".py",
   "mimetype": "text/x-python",
   "name": "python",
   "nbconvert_exporter": "python",
   "pygments_lexer": "ipython3",
   "version": "3.8.5"
  }
 },
 "nbformat": 4,
 "nbformat_minor": 5
}
