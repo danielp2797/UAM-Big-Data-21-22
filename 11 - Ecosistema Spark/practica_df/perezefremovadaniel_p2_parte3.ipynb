{
 "cells": [
  {
   "cell_type": "code",
   "execution_count": 1,
   "id": "976d91d8-b32a-41f2-9a13-55252eedc325",
   "metadata": {},
   "outputs": [],
   "source": [
    "from pyspark.sql import SparkSession, Window\n",
    "import pyspark.sql.functions as f\n",
    "from pyspark.sql.types import *"
   ]
  },
  {
   "cell_type": "code",
   "execution_count": 2,
   "id": "7c7e97f1-24ac-4371-ae01-0e0ddd911f26",
   "metadata": {},
   "outputs": [
    {
     "name": "stdout",
     "output_type": "stream",
     "text": [
      "Welcome to\n",
      "      ____              __\n",
      "     / __/__  ___ _____/ /__\n",
      "    _\\ \\/ _ \\/ _ `/ __/  '_/\n",
      "   /___/ .__/\\_,_/_/ /_/\\_\\   version 3.1.2\n",
      "      /_/\n",
      "                        \n",
      "Using Scala version 2.12.10, OpenJDK 64-Bit Server VM, 1.8.0_312\n",
      "Branch HEAD\n",
      "Compiled by user centos on 2021-05-24T04:27:48Z\n",
      "Revision de351e30a90dd988b133b3d00fa6218bfcaba8b8\n",
      "Url https://github.com/apache/spark\n",
      "Type --help for more information.\n"
     ]
    }
   ],
   "source": [
    "! pyspark --version"
   ]
  },
  {
   "cell_type": "code",
   "execution_count": 3,
   "id": "d8466de8-7bba-44b0-aae3-ef4689e4aa81",
   "metadata": {},
   "outputs": [],
   "source": [
    "data_path = '/media/daniel/Seagate Basic/spark_data/libros/' # en esta carpeta deben encontrarse los 4 ficheros"
   ]
  },
  {
   "cell_type": "code",
   "execution_count": 4,
   "id": "3aadbd4f-c00c-4a2d-ba0b-8ebdebaba06d",
   "metadata": {},
   "outputs": [
    {
     "name": "stderr",
     "output_type": "stream",
     "text": [
      "22/01/09 12:47:18 WARN NativeCodeLoader: Unable to load native-hadoop library for your platform... using builtin-java classes where applicable\n",
      "Using Spark's default log4j profile: org/apache/spark/log4j-defaults.properties\n",
      "Setting default log level to \"WARN\".\n",
      "To adjust logging level use sc.setLogLevel(newLevel). For SparkR, use setLogLevel(newLevel).\n"
     ]
    }
   ],
   "source": [
    "spark = SparkSession.builder.master(\"local[*]\")\\\n",
    "          .appName(\"practica 2 Ecosistema Spark parte 3\")\\\n",
    "          .getOrCreate()"
   ]
  },
  {
   "cell_type": "markdown",
   "id": "601ef51e-4fde-48af-b789-c5670eb59b33",
   "metadata": {},
   "source": [
    "# 1. Carga de dataframes"
   ]
  },
  {
   "cell_type": "markdown",
   "id": "cdb31935-9757-4331-80d3-96cd3097eee2",
   "metadata": {},
   "source": [
    "El primer paso consiste en cargar los tres dataframes. Para ello, se leen los ficheros csv con la API de Spark."
   ]
  },
  {
   "cell_type": "code",
   "execution_count": 26,
   "id": "570c55dc-851c-4578-9dd0-f3447f416bfd",
   "metadata": {},
   "outputs": [
    {
     "name": "stderr",
     "output_type": "stream",
     "text": [
      "[Stage 47:=======>                                                  (1 + 7) / 8]\r"
     ]
    },
    {
     "name": "stdout",
     "output_type": "stream",
     "text": [
      "root\n",
      " |-- User-ID: integer (nullable = true)\n",
      " |-- ISBN: string (nullable = true)\n",
      " |-- Book-Rating: integer (nullable = true)\n",
      "\n"
     ]
    },
    {
     "name": "stderr",
     "output_type": "stream",
     "text": [
      "                                                                                \r"
     ]
    }
   ],
   "source": [
    "ratings = spark.read.csv(data_path+'BX-Book-Ratings.csv', sep=';', header=True, inferSchema=True, encoding='latin1')\n",
    "ratings.printSchema()"
   ]
  },
  {
   "cell_type": "code",
   "execution_count": 27,
   "id": "2c18ed30-8768-45d5-a05f-3393284dcdaf",
   "metadata": {},
   "outputs": [
    {
     "name": "stdout",
     "output_type": "stream",
     "text": [
      "root\n",
      " |-- ISBN: string (nullable = true)\n",
      " |-- Book-Title: string (nullable = true)\n",
      " |-- Book-Author: string (nullable = true)\n",
      " |-- Year-Of-Publication: integer (nullable = true)\n",
      " |-- Publisher: string (nullable = true)\n",
      " |-- Image-URL-S: string (nullable = true)\n",
      " |-- Image-URL-M: string (nullable = true)\n",
      " |-- Image-URL-L: string (nullable = true)\n",
      "\n"
     ]
    }
   ],
   "source": [
    "books = spark.read.csv(data_path+'BX-Books.csv', sep=';', header=True, inferSchema=True, encoding='latin1')\n",
    "books.printSchema()"
   ]
  },
  {
   "cell_type": "code",
   "execution_count": 28,
   "id": "d0446ec8-09e0-49ea-bfdd-d022ddcc79a7",
   "metadata": {},
   "outputs": [
    {
     "name": "stdout",
     "output_type": "stream",
     "text": [
      "root\n",
      " |-- User-ID: string (nullable = true)\n",
      " |-- Location: string (nullable = true)\n",
      " |-- Age: string (nullable = true)\n",
      "\n"
     ]
    }
   ],
   "source": [
    "users = spark.read.csv(data_path+'BX-Users.csv', sep=';', header=True, inferSchema=True, encoding='latin1')\n",
    "users.printSchema()"
   ]
  },
  {
   "cell_type": "markdown",
   "id": "d6f89d04-aca1-4d6f-bbae-5cc4adc667f2",
   "metadata": {},
   "source": [
    "# 2. Consultas"
   ]
  },
  {
   "cell_type": "markdown",
   "id": "5d6b8574-72f5-4861-9ea4-23588939e6e4",
   "metadata": {},
   "source": [
    "### a. Lista de usuarios junto con el número de libros que han valorado"
   ]
  },
  {
   "cell_type": "markdown",
   "id": "3c63f47c-9fba-40bf-b23c-c8a35b172d08",
   "metadata": {},
   "source": [
    "Se agrupa por usuario y se cuenta el número de reseñas que estan registradas en el fichero de reseñas."
   ]
  },
  {
   "cell_type": "code",
   "execution_count": 13,
   "id": "35b0dde0-ac94-4535-ad94-7a8edc8c5380",
   "metadata": {},
   "outputs": [],
   "source": [
    "ratings_count = ratings.groupBy('User-ID').count()"
   ]
  },
  {
   "cell_type": "code",
   "execution_count": 21,
   "id": "e6ec953b-8524-4582-a54c-705ad9c4d9c9",
   "metadata": {},
   "outputs": [
    {
     "name": "stderr",
     "output_type": "stream",
     "text": [
      "[Stage 23:========================================>             (149 + 9) / 200]\r"
     ]
    },
    {
     "name": "stdout",
     "output_type": "stream",
     "text": [
      "+-------+-----+\n",
      "|User-ID|count|\n",
      "+-------+-----+\n",
      "|  11676|13602|\n",
      "| 198711| 7550|\n",
      "| 153662| 6109|\n",
      "|  98391| 5891|\n",
      "|  35859| 5850|\n",
      "| 212898| 4785|\n",
      "| 278418| 4533|\n",
      "|  76352| 3367|\n",
      "| 110973| 3100|\n",
      "| 235105| 3067|\n",
      "| 230522| 2991|\n",
      "|  16795| 2948|\n",
      "| 234623| 2674|\n",
      "|  36836| 2529|\n",
      "|  52584| 2512|\n",
      "| 245963| 2507|\n",
      "| 204864| 2504|\n",
      "|  55492| 2459|\n",
      "| 185233| 2448|\n",
      "| 171118| 2421|\n",
      "+-------+-----+\n",
      "only showing top 20 rows\n",
      "\n"
     ]
    },
    {
     "name": "stderr",
     "output_type": "stream",
     "text": [
      "                                                                                \r"
     ]
    }
   ],
   "source": [
    "ratings_count.sort(f.col(\"count\").desc()).show(20)"
   ]
  },
  {
   "cell_type": "markdown",
   "id": "42c16240-7495-4c05-9428-2df12ade1889",
   "metadata": {},
   "source": [
    "### b. Rating máximo recibido por cada editorial\n"
   ]
  },
  {
   "cell_type": "markdown",
   "id": "b1a31928-71e7-4c40-b545-a9e57d5ad611",
   "metadata": {},
   "source": [
    "En primer lugar se cruzan los datos de reseñas y de libros mediante un join sobre la clave ISBN. Despues se busca el máximo de las puntuaciones agregando por editorial."
   ]
  },
  {
   "cell_type": "code",
   "execution_count": 8,
   "id": "f7f5d3b2-699e-4605-89e8-955f03fb9d7e",
   "metadata": {},
   "outputs": [],
   "source": [
    "joined = books.join(ratings, on='ISBN', how='left')"
   ]
  },
  {
   "cell_type": "code",
   "execution_count": null,
   "id": "6e1df1cc-9c97-4988-a77e-04f565771181",
   "metadata": {},
   "outputs": [
    {
     "name": "stderr",
     "output_type": "stream",
     "text": [
      "[Stage 63:=======================================>              (148 + 8) / 200]\r"
     ]
    },
    {
     "name": "stdout",
     "output_type": "stream",
     "text": [
      "+--------------------+----------------+\n",
      "|           Publisher|max(Book-Rating)|\n",
      "+--------------------+----------------+\n",
      "|Heinemann Educati...|              10|\n",
      "|            Sterling|              10|\n",
      "|   Editions du Seuil|              10|\n",
      "|Abdo &amp; Daught...|              10|\n",
      "|     South End Press|              10|\n",
      "|    Gooseberry Patch|              10|\n",
      "|    Thomas Nelson(J)|              10|\n",
      "|Harpercollins Canada|              10|\n",
      "| Harri Deutsch, Ffm.|              10|\n",
      "|      Fog City Press|              10|\n",
      "|       Ogden Pub Inc|              10|\n",
      "|     Barricade Books|              10|\n",
      "|      Wrox Press Inc|              10|\n",
      "|Clothespin Fever ...|              10|\n",
      "|     Scholastic, Inc|              10|\n",
      "| Indigo Publications|              10|\n",
      "|Quadrillion Publi...|              10|\n",
      "|  Firefly Publishing|              10|\n",
      "|Nettle Creek Publ...|              10|\n",
      "|           Jugglebug|              10|\n",
      "+--------------------+----------------+\n",
      "only showing top 20 rows\n",
      "\n"
     ]
    },
    {
     "name": "stderr",
     "output_type": "stream",
     "text": [
      "                                                                                \r"
     ]
    }
   ],
   "source": [
    "max_rating = joined.select('Publisher', 'Book-Rating').groupBy('Publisher').max().sort(f.col(\"max(Book-Rating)\").desc())\n",
    "\n",
    "max_rating.show()"
   ]
  },
  {
   "cell_type": "markdown",
   "id": "77cb5030-4db8-40dc-8253-52fc1554401f",
   "metadata": {},
   "source": [
    "### c. Nombre del autor que ha recibido más ratings"
   ]
  },
  {
   "cell_type": "markdown",
   "id": "2821595e-e950-4b2d-b2e5-04119a495ae3",
   "metadata": {},
   "source": [
    "En este caso, reutilizamos el dataframe concatenado (\"joined\") del ejercicio anterior. Al haber hecho un left join, cada autor aparece tantas veces como haya aparecido el ISBN de su libro en el fichero de reseñas. Por tanto, basta hacer un recuento de cuántas veces aparece un autor en el dataframe \"joined\"."
   ]
  },
  {
   "cell_type": "code",
   "execution_count": null,
   "id": "e5a97f28-3350-4337-b104-15f01ad11ce6",
   "metadata": {},
   "outputs": [
    {
     "name": "stderr",
     "output_type": "stream",
     "text": [
      "[Stage 71:===================================================>  (192 + 8) / 200]\r"
     ]
    },
    {
     "name": "stdout",
     "output_type": "stream",
     "text": [
      "+--------------------+-------------+\n",
      "|         Book-Author|ratings_count|\n",
      "+--------------------+-------------+\n",
      "|        Stephen King|        10055|\n",
      "|        Nora Roberts|         8429|\n",
      "|        John Grisham|         6010|\n",
      "|     James Patterson|         5845|\n",
      "|  Mary Higgins Clark|         4778|\n",
      "|      Dean R. Koontz|         4313|\n",
      "|          Tom Clancy|         4036|\n",
      "|      Danielle Steel|         3726|\n",
      "|         Sue Grafton|         3457|\n",
      "|     Janet Evanovich|         3350|\n",
      "|           Anne Rice|         3030|\n",
      "|    Michael Crichton|         2921|\n",
      "|       J. K. Rowling|         2909|\n",
      "|        JOHN GRISHAM|         2808|\n",
      "|        V.C. Andrews|         2785|\n",
      "|        Sandra Brown|         2663|\n",
      "|     Nicholas Sparks|         2650|\n",
      "|         R. L. Stine|         2606|\n",
      "|        Rich Shapero|         2502|\n",
      "|Patricia Daniels ...|         2461|\n",
      "+--------------------+-------------+\n",
      "only showing top 20 rows\n",
      "\n"
     ]
    },
    {
     "name": "stderr",
     "output_type": "stream",
     "text": [
      "                                                                                \r"
     ]
    }
   ],
   "source": [
    "count_author = joined.select('Book-Author')\\\n",
    "                        .groupBy('Book-Author')\\\n",
    "                        .count()\\\n",
    "                        .select('Book-Author', f.col('count')\\\n",
    "                        .alias('ratings_count'))\\\n",
    "                        .sort(f.col(\"ratings_count\").desc())\n",
    "\n",
    "count_author.show(20)"
   ]
  },
  {
   "cell_type": "markdown",
   "id": "17bb500f-f2c4-48d4-ac4a-c3d79810596f",
   "metadata": {},
   "source": [
    "# 3. Window Functions"
   ]
  },
  {
   "cell_type": "markdown",
   "id": "15769f23-2d16-45b9-9f5a-62bc64fff223",
   "metadata": {},
   "source": [
    "### a. ¿Cuál es el título del libro con mayor número de ratings para cada editorial?\n"
   ]
  },
  {
   "cell_type": "markdown",
   "id": "234372e9-d2ba-43a3-b99d-63056240e891",
   "metadata": {},
   "source": [
    "Para este caso se usa una window function tal que:\n",
    "\n",
    "- Particionamiento: Editorial\n",
    "- Ordenamiento: Recuento de reseñas (descendente)\n",
    "\n",
    "Despues, se calcula el número de reseñas para cada libro y editorial. Luego, se particiona por editorial y ordena por número de reseñas. Se escogeran las primeras filas en el rankeo para dar el resultado pedido."
   ]
  },
  {
   "cell_type": "code",
   "execution_count": 29,
   "id": "b6cb685e-f1a8-442c-afde-ee47883818ba",
   "metadata": {},
   "outputs": [],
   "source": [
    "joined_count = joined.select('Publisher', 'Book-Title')\\\n",
    "                        .groupBy('Publisher', 'Book-Title')\\\n",
    "                        .count().select('Publisher', 'Book-Title', f.col('count').alias('ratings_count')) # calculo del numero de reseñas\n",
    "\n",
    "window = Window.partitionBy(joined_count.Publisher).orderBy(joined_count.ratings_count.desc())"
   ]
  },
  {
   "cell_type": "markdown",
   "id": "38dc1fe5-a39d-4f0f-a7b9-46718e2e9db6",
   "metadata": {},
   "source": [
    "Primero se calcula el número de reseñas para cada libro y editorial. Despues se particiona por editorial y ordena por número de reseñas. Se escogeran las primeras filas en el rankeo para dar el resultado pedido."
   ]
  },
  {
   "cell_type": "code",
   "execution_count": 30,
   "id": "7d928136-2376-45f9-b311-12efbb6e6492",
   "metadata": {},
   "outputs": [],
   "source": [
    "result_window = joined_count.withColumn('rank', f.dense_rank().over(window)) # calculo del rankeo\n",
    "\n",
    "result_filter_by_window = result_window.where('rank == 1')  # resultado final"
   ]
  },
  {
   "cell_type": "markdown",
   "id": "d2402038-e233-4bf8-b01f-76bd934b422a",
   "metadata": {},
   "source": [
    "Se puede apreciar que se calcula una clasificación (rank) en función del número de reseñas a nivel editorial de cada libro. En el siguiente ejemplo se observan los valores de ratings_count y rank de las filas de Adams Media Corp. Se ve que aaprecen ordenadas por el numero de reseñas y que si existen duplicados en el numero de reseñas, estas se rankean en la misma posicion."
   ]
  },
  {
   "cell_type": "code",
   "execution_count": 17,
   "id": "9e516ad9-5054-4604-bfdd-b3e4e0559643",
   "metadata": {},
   "outputs": [
    {
     "name": "stderr",
     "output_type": "stream",
     "text": [
      "[Stage 19:=====================================================>(198 + 2) / 200]\r"
     ]
    },
    {
     "name": "stdout",
     "output_type": "stream",
     "text": [
      "+-------------------+--------------------+-------------+----+\n",
      "|          Publisher|          Book-Title|ratings_count|rank|\n",
      "+-------------------+--------------------+-------------+----+\n",
      "|A. &amp; M. Muchnik|Comuna Verdad (An...|            1|   1|\n",
      "|   Adams Media Corp|365 Tv-Free Activ...|           10|   1|\n",
      "|   Adams Media Corp|The Verbally Abus...|            7|   2|\n",
      "|   Adams Media Corp|Show Biz Tricks f...|            4|   3|\n",
      "|   Adams Media Corp|Jacob Marley's Ch...|            4|   3|\n",
      "|   Adams Media Corp|The Complete Sing...|            3|   4|\n",
      "|   Adams Media Corp| Mr. Cheap's Chicago|            2|   5|\n",
      "|   Adams Media Corp|The Everything We...|            2|   5|\n",
      "|   Adams Media Corp|Museum of Science...|            2|   5|\n",
      "|   Adams Media Corp|Knock 'Em Dead: T...|            2|   5|\n",
      "+-------------------+--------------------+-------------+----+\n",
      "only showing top 10 rows\n",
      "\n"
     ]
    },
    {
     "name": "stderr",
     "output_type": "stream",
     "text": [
      "                                                                                \r"
     ]
    }
   ],
   "source": [
    "result_window.show(10)"
   ]
  },
  {
   "cell_type": "markdown",
   "id": "ac50f860-0ca0-4ed5-8620-9b1b8e4dc837",
   "metadata": {},
   "source": [
    "Y tambien se observa que para obtener el libro con mas reseñas de cada editorial basta filtrar por rank = 1 (continuando con el ejemplo anterior, observar la segunda fila del siguiente resultado)"
   ]
  },
  {
   "cell_type": "code",
   "execution_count": 20,
   "id": "ff9001c1-21f7-44ef-8a06-1b9ab722453b",
   "metadata": {},
   "outputs": [
    {
     "name": "stderr",
     "output_type": "stream",
     "text": [
      "[Stage 30:================================================>     (179 + 8) / 200]\r"
     ]
    },
    {
     "name": "stdout",
     "output_type": "stream",
     "text": [
      "+--------------------+--------------------+-------------+----+\n",
      "|           Publisher|          Book-Title|ratings_count|rank|\n",
      "+--------------------+--------------------+-------------+----+\n",
      "|             Too Far|         Wild Animus|         2502|   1|\n",
      "|       Little, Brown|The Lovely Bones:...|         1295|   1|\n",
      "|           Doubleday|   The Da Vinci Code|          884|   1|\n",
      "|           Perennial|Divine Secrets of...|          732|   1|\n",
      "|         Picador USA|The Red Tent (Bes...|          723|   1|\n",
      "|Dell Publishing C...|     A Painted House|          649|   1|\n",
      "|        Warner Books|        The Notebook|          647|   1|\n",
      "|   Vintage Books USA|Snow Falling on C...|          618|   1|\n",
      "|       Penguin Books|The Secret Life o...|          615|   1|\n",
      "|         Pocket Star| Angels &amp; Demons|          586|   1|\n",
      "|Arthur A. Levine ...|Harry Potter and ...|          575|   1|\n",
      "|      Back Bay Books|The Pilot's Wife ...|          568|   1|\n",
      "|          Scholastic|Harry Potter and ...|          556|   1|\n",
      "|       Vintage Books|House of Sand and...|          552|   1|\n",
      "|Bantam Dell Publi...|            The Firm|          534|   1|\n",
      "|         Plume Books|Girl with a Pearl...|          526|   1|\n",
      "|                Dell|   The Pelican Brief|          523|   1|\n",
      "|Prentice Hall (K-12)|   The Joy Luck Club|          519|   1|\n",
      "|    Ballantine Books|Interview with th...|          508|   1|\n",
      "|  St. Martin's Press|The Nanny Diaries...|          474|   1|\n",
      "+--------------------+--------------------+-------------+----+\n",
      "only showing top 20 rows\n",
      "\n"
     ]
    },
    {
     "name": "stderr",
     "output_type": "stream",
     "text": [
      "                                                                                \r"
     ]
    }
   ],
   "source": [
    "result_filter_by_window.sort(f.col(\"ratings_count\").desc()).show()"
   ]
  },
  {
   "cell_type": "markdown",
   "id": "a5d0ed88-1c7a-441f-93a8-caa577ea08dd",
   "metadata": {},
   "source": [
    "### b. ¿Cuál es la diferencia entre el número de ratings de cada libro y el número de ratings del libro con mayor número de ratings de la misma editorial?"
   ]
  },
  {
   "cell_type": "markdown",
   "id": "d7052e69-ad6d-4d8d-8b02-4f07b4664844",
   "metadata": {},
   "source": [
    "Para este caso, se calcula el máximo de ratings con la misma partición que en el ajercicio anterior. Esta operación asignará a cada fila de la partición el rating máximo dentro de la partición. Así, se vuelve sencillo calcular dicha diferencia, ya que el problema se reduce a operar dos columnas del dataframe. "
   ]
  },
  {
   "cell_type": "code",
   "execution_count": 31,
   "id": "06123d0c-c365-43f1-b194-14fd22ea9267",
   "metadata": {},
   "outputs": [],
   "source": [
    "ratings_diff = joined_count.withColumn('max_ratings_diff',\n",
    "                                       f.max(joined_count.ratings_count).over(window) - joined_count.ratings_count)\n",
    "                                        # maximo de la particion - rating de la fila"
   ]
  },
  {
   "cell_type": "markdown",
   "id": "788b78c6-9eb0-4ef0-893c-9e1a6cf3b386",
   "metadata": {},
   "source": [
    "A continuación se observan algunos ejemplos del resultado. El máximo de la partición tiene diferencia 0 y el resto valores estrictamente mayores a 1. Si se pone el foco sobre Adams Media Corp, se ve que el máximo tiene valor 0 (10 reseñas) y el resto se ordenan de menor a mayor según su diferencia con respecto al máximo (10)."
   ]
  },
  {
   "cell_type": "code",
   "execution_count": 35,
   "id": "6f10b4be-5d98-41cb-85cf-38bc441a31d8",
   "metadata": {},
   "outputs": [
    {
     "name": "stderr",
     "output_type": "stream",
     "text": [
      "[Stage 71:===========================================>          (162 + 8) / 200]\r"
     ]
    },
    {
     "name": "stdout",
     "output_type": "stream",
     "text": [
      "+--------------------+--------------------+-------------+----------------+\n",
      "|           Publisher|          Book-Title|ratings_count|max_ratings_diff|\n",
      "+--------------------+--------------------+-------------+----------------+\n",
      "| Editions P. Terrail|Afrique noire: Ma...|            1|               0|\n",
      "|     Tri-State Press|Fluoridation: A m...|            1|               0|\n",
      "|           \"Corvina\"|Jan Matejko (W kr...|            1|               0|\n",
      "|             \"Nauka\"|Tabakokurenie i m...|            2|               0|\n",
      "|  \"Otokar Kersovani\"|Gdje pijevac ne p...|            1|               0|\n",
      "|             'K' Pub|Trilogi Khadijah ...|            1|               0|\n",
      "|(3 Queen Sq., WC1...|      The big chapel|            1|               0|\n",
      "|(49 Poland St., W...|Japan: the years ...|            1|               0|\n",
      "|               10-18|Le roman de Trist...|            8|               0|\n",
      "|               10-18|Le Chat qui sniff...|            6|               2|\n",
      "|               10-18|   Sinistres augures|            3|               5|\n",
      "|               10-18|Mort d'un trimardeur|            3|               5|\n",
      "|               10-18|Le chat qui lisai...|            3|               5|\n",
      "|               10-18|Pas de traces dan...|            3|               5|\n",
      "|               10-18|  La loi de la tribu|            3|               5|\n",
      "|               10-18|   Le motif du saule|            3|               5|\n",
      "|               10-18|La Clinique du crime|            3|               5|\n",
      "|               10-18|             Zombies|            2|               6|\n",
      "|               10-18|          Le D�?©mon|            2|               6|\n",
      "|               10-18|Le chat qui jouai...|            2|               6|\n",
      "+--------------------+--------------------+-------------+----------------+\n",
      "only showing top 20 rows\n",
      "\n"
     ]
    },
    {
     "name": "stderr",
     "output_type": "stream",
     "text": [
      "                                                                                \r"
     ]
    }
   ],
   "source": [
    "ratings_diff.sort(f.col(\"Publisher\").asc(), f.col(\"ratings_count\").desc()).show()"
   ]
  },
  {
   "cell_type": "markdown",
   "id": "e82f0943-b594-4dc3-a054-2c4fe58f3b88",
   "metadata": {},
   "source": [
    "# 4. Conclusión"
   ]
  },
  {
   "cell_type": "markdown",
   "id": "b61a6c9c-f49f-4992-8ef8-41a742a9889b",
   "metadata": {},
   "source": [
    "A modo de reflexión final, se observa que la API de Spark permite realizar consultas de manera cómoda e intuitiva. Por otro lado, tiene limitaciones en cuánto a consultas agregadas. Éstas se pueden subsanar de manera eficiente con el uso de Window Functions, las cuales simplifican el agregado de información tanto desde el punto de vista de la síntaxis como en eficiencia de computación."
   ]
  },
  {
   "cell_type": "code",
   "execution_count": null,
   "id": "4c31967b-7767-4a0e-b5a0-ef7d0fd1ef4d",
   "metadata": {},
   "outputs": [],
   "source": []
  }
 ],
 "metadata": {
  "kernelspec": {
   "display_name": "Python 3 (ipykernel)",
   "language": "python",
   "name": "python3"
  },
  "language_info": {
   "codemirror_mode": {
    "name": "ipython",
    "version": 3
   },
   "file_extension": ".py",
   "mimetype": "text/x-python",
   "name": "python",
   "nbconvert_exporter": "python",
   "pygments_lexer": "ipython3",
   "version": "3.8.12"
  }
 },
 "nbformat": 4,
 "nbformat_minor": 5
}
