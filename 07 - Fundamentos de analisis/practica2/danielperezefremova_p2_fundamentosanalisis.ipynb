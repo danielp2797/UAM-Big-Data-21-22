{
 "cells": [
  {
   "cell_type": "markdown",
   "id": "0a521869",
   "metadata": {},
   "source": [
    "# Práctica 2. Fundamentos Análisis"
   ]
  },
  {
   "cell_type": "markdown",
   "id": "b48ca3b4",
   "metadata": {},
   "source": [
    "### Daniel Pérez Efremova "
   ]
  },
  {
   "cell_type": "code",
   "execution_count": 1,
   "id": "cb34850f-38ab-47dd-b604-4531fc0e1e62",
   "metadata": {},
   "outputs": [],
   "source": [
    "import pandas as pd\n",
    "import numpy as np\n",
    "import matplotlib.pyplot as plt\n",
    "from sklearn.discriminant_analysis import LinearDiscriminantAnalysis\n",
    "from sklearn.decomposition import PCA\n",
    "from sklearn.preprocessing import LabelEncoder\n",
    "from sklearn.feature_selection import mutual_info_classif\n",
    "from scipy import stats\n",
    "import numpy.linalg as alg\n",
    "import seaborn as sns"
   ]
  },
  {
   "cell_type": "code",
   "execution_count": 2,
   "id": "cb95e20d-4526-43e0-b2c6-5603cde21ee8",
   "metadata": {},
   "outputs": [],
   "source": [
    "data = pd.read_csv('bank-additional-filtered.csv').iloc[:, 1:] # lectura de datos\n",
    "data.drop('pdays', axis=1, inplace=True)\n",
    "data.dropna(axis=0, inplace=True)"
   ]
  },
  {
   "cell_type": "markdown",
   "id": "f9a33f7e",
   "metadata": {},
   "source": [
    "Se separan las columnas numericas y categoricas para usar los distintos métodos."
   ]
  },
  {
   "cell_type": "code",
   "execution_count": 3,
   "id": "a21d89e3",
   "metadata": {},
   "outputs": [],
   "source": [
    "numeric_cols = ['age',\t'duration',\t'campaign',\t'previous', 'nr.employed']\n",
    "object_cols = set(data.columns) - set(numeric_cols) \n",
    "object_cols = set(data.columns) - set(data.select_dtypes(include=np.number).columns) "
   ]
  },
  {
   "cell_type": "code",
   "execution_count": 4,
   "id": "6af477cc",
   "metadata": {},
   "outputs": [],
   "source": [
    "data_numeric = data[numeric_cols]\n",
    "data_object = data[object_cols]\n",
    "y = data['y']"
   ]
  },
  {
   "cell_type": "code",
   "execution_count": 5,
   "id": "05d9a039-7681-4db5-a1da-f2a6d4e08c4e",
   "metadata": {},
   "outputs": [
    {
     "data": {
      "text/html": [
       "<div>\n",
       "<style scoped>\n",
       "    .dataframe tbody tr th:only-of-type {\n",
       "        vertical-align: middle;\n",
       "    }\n",
       "\n",
       "    .dataframe tbody tr th {\n",
       "        vertical-align: top;\n",
       "    }\n",
       "\n",
       "    .dataframe thead th {\n",
       "        text-align: right;\n",
       "    }\n",
       "</style>\n",
       "<table border=\"1\" class=\"dataframe\">\n",
       "  <thead>\n",
       "    <tr style=\"text-align: right;\">\n",
       "      <th></th>\n",
       "      <th>basic_education</th>\n",
       "      <th>month</th>\n",
       "      <th>housing</th>\n",
       "      <th>y</th>\n",
       "      <th>job</th>\n",
       "      <th>loan</th>\n",
       "      <th>active</th>\n",
       "      <th>day_of_week</th>\n",
       "      <th>age_binned</th>\n",
       "      <th>education</th>\n",
       "      <th>marital</th>\n",
       "      <th>contact</th>\n",
       "      <th>poutcome</th>\n",
       "    </tr>\n",
       "  </thead>\n",
       "  <tbody>\n",
       "    <tr>\n",
       "      <th>0</th>\n",
       "      <td>True</td>\n",
       "      <td>may</td>\n",
       "      <td>no</td>\n",
       "      <td>no</td>\n",
       "      <td>housemaid</td>\n",
       "      <td>no</td>\n",
       "      <td>False</td>\n",
       "      <td>mon</td>\n",
       "      <td>(25, 65]</td>\n",
       "      <td>basic_4y</td>\n",
       "      <td>married</td>\n",
       "      <td>False</td>\n",
       "      <td>nonexistent</td>\n",
       "    </tr>\n",
       "    <tr>\n",
       "      <th>1</th>\n",
       "      <td>False</td>\n",
       "      <td>may</td>\n",
       "      <td>no</td>\n",
       "      <td>no</td>\n",
       "      <td>services</td>\n",
       "      <td>no</td>\n",
       "      <td>True</td>\n",
       "      <td>mon</td>\n",
       "      <td>(25, 65]</td>\n",
       "      <td>high_school</td>\n",
       "      <td>married</td>\n",
       "      <td>False</td>\n",
       "      <td>nonexistent</td>\n",
       "    </tr>\n",
       "    <tr>\n",
       "      <th>2</th>\n",
       "      <td>False</td>\n",
       "      <td>may</td>\n",
       "      <td>yes</td>\n",
       "      <td>no</td>\n",
       "      <td>services</td>\n",
       "      <td>no</td>\n",
       "      <td>True</td>\n",
       "      <td>mon</td>\n",
       "      <td>(25, 65]</td>\n",
       "      <td>high_school</td>\n",
       "      <td>married</td>\n",
       "      <td>False</td>\n",
       "      <td>nonexistent</td>\n",
       "    </tr>\n",
       "    <tr>\n",
       "      <th>3</th>\n",
       "      <td>True</td>\n",
       "      <td>may</td>\n",
       "      <td>no</td>\n",
       "      <td>no</td>\n",
       "      <td>admin.</td>\n",
       "      <td>no</td>\n",
       "      <td>True</td>\n",
       "      <td>mon</td>\n",
       "      <td>(25, 65]</td>\n",
       "      <td>basic_6y</td>\n",
       "      <td>married</td>\n",
       "      <td>False</td>\n",
       "      <td>nonexistent</td>\n",
       "    </tr>\n",
       "    <tr>\n",
       "      <th>4</th>\n",
       "      <td>False</td>\n",
       "      <td>may</td>\n",
       "      <td>no</td>\n",
       "      <td>no</td>\n",
       "      <td>services</td>\n",
       "      <td>yes</td>\n",
       "      <td>True</td>\n",
       "      <td>mon</td>\n",
       "      <td>(25, 65]</td>\n",
       "      <td>high_school</td>\n",
       "      <td>married</td>\n",
       "      <td>False</td>\n",
       "      <td>nonexistent</td>\n",
       "    </tr>\n",
       "    <tr>\n",
       "      <th>...</th>\n",
       "      <td>...</td>\n",
       "      <td>...</td>\n",
       "      <td>...</td>\n",
       "      <td>...</td>\n",
       "      <td>...</td>\n",
       "      <td>...</td>\n",
       "      <td>...</td>\n",
       "      <td>...</td>\n",
       "      <td>...</td>\n",
       "      <td>...</td>\n",
       "      <td>...</td>\n",
       "      <td>...</td>\n",
       "      <td>...</td>\n",
       "    </tr>\n",
       "    <tr>\n",
       "      <th>41183</th>\n",
       "      <td>False</td>\n",
       "      <td>nov</td>\n",
       "      <td>yes</td>\n",
       "      <td>yes</td>\n",
       "      <td>retired</td>\n",
       "      <td>no</td>\n",
       "      <td>False</td>\n",
       "      <td>fri</td>\n",
       "      <td>(65, 98]</td>\n",
       "      <td>professional_course</td>\n",
       "      <td>married</td>\n",
       "      <td>False</td>\n",
       "      <td>nonexistent</td>\n",
       "    </tr>\n",
       "    <tr>\n",
       "      <th>41184</th>\n",
       "      <td>False</td>\n",
       "      <td>nov</td>\n",
       "      <td>no</td>\n",
       "      <td>no</td>\n",
       "      <td>blue-collar</td>\n",
       "      <td>no</td>\n",
       "      <td>True</td>\n",
       "      <td>fri</td>\n",
       "      <td>(25, 65]</td>\n",
       "      <td>professional_course</td>\n",
       "      <td>married</td>\n",
       "      <td>False</td>\n",
       "      <td>nonexistent</td>\n",
       "    </tr>\n",
       "    <tr>\n",
       "      <th>41185</th>\n",
       "      <td>False</td>\n",
       "      <td>nov</td>\n",
       "      <td>yes</td>\n",
       "      <td>no</td>\n",
       "      <td>retired</td>\n",
       "      <td>no</td>\n",
       "      <td>False</td>\n",
       "      <td>fri</td>\n",
       "      <td>(25, 65]</td>\n",
       "      <td>university_degree</td>\n",
       "      <td>married</td>\n",
       "      <td>False</td>\n",
       "      <td>nonexistent</td>\n",
       "    </tr>\n",
       "    <tr>\n",
       "      <th>41186</th>\n",
       "      <td>False</td>\n",
       "      <td>nov</td>\n",
       "      <td>no</td>\n",
       "      <td>yes</td>\n",
       "      <td>technician</td>\n",
       "      <td>no</td>\n",
       "      <td>True</td>\n",
       "      <td>fri</td>\n",
       "      <td>(25, 65]</td>\n",
       "      <td>professional_course</td>\n",
       "      <td>married</td>\n",
       "      <td>False</td>\n",
       "      <td>nonexistent</td>\n",
       "    </tr>\n",
       "    <tr>\n",
       "      <th>41187</th>\n",
       "      <td>False</td>\n",
       "      <td>nov</td>\n",
       "      <td>yes</td>\n",
       "      <td>no</td>\n",
       "      <td>retired</td>\n",
       "      <td>no</td>\n",
       "      <td>False</td>\n",
       "      <td>fri</td>\n",
       "      <td>(65, 98]</td>\n",
       "      <td>professional_course</td>\n",
       "      <td>married</td>\n",
       "      <td>False</td>\n",
       "      <td>failure</td>\n",
       "    </tr>\n",
       "  </tbody>\n",
       "</table>\n",
       "<p>41183 rows × 13 columns</p>\n",
       "</div>"
      ],
      "text/plain": [
       "       basic_education month housing    y          job loan  active  \\\n",
       "0                 True   may      no   no    housemaid   no   False   \n",
       "1                False   may      no   no     services   no    True   \n",
       "2                False   may     yes   no     services   no    True   \n",
       "3                 True   may      no   no       admin.   no    True   \n",
       "4                False   may      no   no     services  yes    True   \n",
       "...                ...   ...     ...  ...          ...  ...     ...   \n",
       "41183            False   nov     yes  yes      retired   no   False   \n",
       "41184            False   nov      no   no  blue-collar   no    True   \n",
       "41185            False   nov     yes   no      retired   no   False   \n",
       "41186            False   nov      no  yes   technician   no    True   \n",
       "41187            False   nov     yes   no      retired   no   False   \n",
       "\n",
       "      day_of_week age_binned            education  marital  contact  \\\n",
       "0             mon   (25, 65]             basic_4y  married    False   \n",
       "1             mon   (25, 65]          high_school  married    False   \n",
       "2             mon   (25, 65]          high_school  married    False   \n",
       "3             mon   (25, 65]             basic_6y  married    False   \n",
       "4             mon   (25, 65]          high_school  married    False   \n",
       "...           ...        ...                  ...      ...      ...   \n",
       "41183         fri   (65, 98]  professional_course  married    False   \n",
       "41184         fri   (25, 65]  professional_course  married    False   \n",
       "41185         fri   (25, 65]    university_degree  married    False   \n",
       "41186         fri   (25, 65]  professional_course  married    False   \n",
       "41187         fri   (65, 98]  professional_course  married    False   \n",
       "\n",
       "          poutcome  \n",
       "0      nonexistent  \n",
       "1      nonexistent  \n",
       "2      nonexistent  \n",
       "3      nonexistent  \n",
       "4      nonexistent  \n",
       "...            ...  \n",
       "41183  nonexistent  \n",
       "41184  nonexistent  \n",
       "41185  nonexistent  \n",
       "41186  nonexistent  \n",
       "41187      failure  \n",
       "\n",
       "[41183 rows x 13 columns]"
      ]
     },
     "execution_count": 5,
     "metadata": {},
     "output_type": "execute_result"
    }
   ],
   "source": [
    "data_object"
   ]
  },
  {
   "cell_type": "markdown",
   "id": "636faf3b-02de-4151-b08c-48f30a5a1d58",
   "metadata": {},
   "source": [
    "# 1. U-Mann-Whitney y Chi-Square"
   ]
  },
  {
   "cell_type": "code",
   "execution_count": 6,
   "id": "ffb768ee-52f3-4b2f-84b0-99f01623c4cf",
   "metadata": {},
   "outputs": [],
   "source": [
    "def wilcoxon_test(df1, df2):\n",
    "  \n",
    "    list_col_1 = df1.columns\n",
    "    list_col_2 = df2.columns\n",
    "    dict_column = {}\n",
    "\n",
    "    for i in range(0, len(list_col_1)):\n",
    "        pvalue_list = []\n",
    "        name_row = []\n",
    "        name = list_col_1[i]\n",
    "        for j in range(0, len(list_col_2)):\n",
    "            name_check = list_col_2[j]\n",
    "            name_row.append(name_check)\n",
    "            stat, pvalue = stats.mannwhitneyu(df1[name], df2[name_check])\n",
    "            pvalue_list.append(round(pvalue, 2))\n",
    "\n",
    "        dict_column.update({str(name): pvalue_list})\n",
    "\n",
    "    df = pd.DataFrame(dict_column)\n",
    "    df.reset_index(inplace = True)\n",
    "    df.loc[:, ['Name']] = name_row\n",
    "    df = df.set_index(['Name'])\n",
    "    df = df.drop('index', axis = 1)\n",
    "\n",
    "    return df"
   ]
  },
  {
   "cell_type": "code",
   "execution_count": 7,
   "id": "74f6b99a-ae59-4886-861d-65fc30d6ddbf",
   "metadata": {},
   "outputs": [
    {
     "data": {
      "text/html": [
       "<div>\n",
       "<style scoped>\n",
       "    .dataframe tbody tr th:only-of-type {\n",
       "        vertical-align: middle;\n",
       "    }\n",
       "\n",
       "    .dataframe tbody tr th {\n",
       "        vertical-align: top;\n",
       "    }\n",
       "\n",
       "    .dataframe thead th {\n",
       "        text-align: right;\n",
       "    }\n",
       "</style>\n",
       "<table border=\"1\" class=\"dataframe\">\n",
       "  <thead>\n",
       "    <tr style=\"text-align: right;\">\n",
       "      <th></th>\n",
       "      <th>age</th>\n",
       "      <th>duration</th>\n",
       "      <th>campaign</th>\n",
       "      <th>previous</th>\n",
       "      <th>nr.employed</th>\n",
       "    </tr>\n",
       "    <tr>\n",
       "      <th>Name</th>\n",
       "      <th></th>\n",
       "      <th></th>\n",
       "      <th></th>\n",
       "      <th></th>\n",
       "      <th></th>\n",
       "    </tr>\n",
       "  </thead>\n",
       "  <tbody>\n",
       "    <tr>\n",
       "      <th>age</th>\n",
       "      <td>1.00</td>\n",
       "      <td>0.81</td>\n",
       "      <td>0.0</td>\n",
       "      <td>0.0</td>\n",
       "      <td>0.0</td>\n",
       "    </tr>\n",
       "    <tr>\n",
       "      <th>duration</th>\n",
       "      <td>0.81</td>\n",
       "      <td>1.00</td>\n",
       "      <td>0.0</td>\n",
       "      <td>0.0</td>\n",
       "      <td>0.0</td>\n",
       "    </tr>\n",
       "    <tr>\n",
       "      <th>campaign</th>\n",
       "      <td>0.00</td>\n",
       "      <td>0.00</td>\n",
       "      <td>1.0</td>\n",
       "      <td>0.5</td>\n",
       "      <td>0.0</td>\n",
       "    </tr>\n",
       "    <tr>\n",
       "      <th>previous</th>\n",
       "      <td>0.00</td>\n",
       "      <td>0.00</td>\n",
       "      <td>0.5</td>\n",
       "      <td>1.0</td>\n",
       "      <td>0.0</td>\n",
       "    </tr>\n",
       "    <tr>\n",
       "      <th>nr.employed</th>\n",
       "      <td>0.00</td>\n",
       "      <td>0.00</td>\n",
       "      <td>0.0</td>\n",
       "      <td>0.0</td>\n",
       "      <td>1.0</td>\n",
       "    </tr>\n",
       "  </tbody>\n",
       "</table>\n",
       "</div>"
      ],
      "text/plain": [
       "              age  duration  campaign  previous  nr.employed\n",
       "Name                                                        \n",
       "age          1.00      0.81       0.0       0.0          0.0\n",
       "duration     0.81      1.00       0.0       0.0          0.0\n",
       "campaign     0.00      0.00       1.0       0.5          0.0\n",
       "previous     0.00      0.00       0.5       1.0          0.0\n",
       "nr.employed  0.00      0.00       0.0       0.0          1.0"
      ]
     },
     "execution_count": 7,
     "metadata": {},
     "output_type": "execute_result"
    }
   ],
   "source": [
    "wilcoxon_test(data_numeric, data_numeric)"
   ]
  },
  {
   "cell_type": "markdown",
   "id": "e835d783-7a1d-4cd7-8d00-416c4cb42b34",
   "metadata": {},
   "source": [
    "Se deben eliminar una de cada par de variables (age, duration) y (previous, campaign)"
   ]
  },
  {
   "cell_type": "code",
   "execution_count": 8,
   "id": "1174de87-589d-4ed7-ae70-552ffa888a63",
   "metadata": {},
   "outputs": [],
   "source": [
    "def chisquare_test(df1, df2):\n",
    "  \n",
    "    list_col_1 = df1.columns\n",
    "    list_col_2 = df2.columns\n",
    "    dict_column = {}\n",
    "\n",
    "    for i in range(0, len(list_col_1)):\n",
    "        pvalue_list = []\n",
    "        name_row = []\n",
    "        name = list_col_1[i]\n",
    "        for j in range(0, len(list_col_2)):\n",
    "            name_check = list_col_2[j]\n",
    "            name_row.append(name_check)\n",
    "            pvalue = stats.chisquare(pd.crosstab(df1[name], df2[name_check]))[1][0]\n",
    "            pvalue_list.append(round(pvalue, 2))\n",
    "\n",
    "        dict_column.update({str(name): pvalue_list})\n",
    "\n",
    "    df = pd.DataFrame(dict_column)\n",
    "    df.reset_index(inplace = True)\n",
    "    df.loc[:, ['Name']] = name_row\n",
    "    df = df.set_index(['Name'])\n",
    "    df = df.drop('index', axis = 1)\n",
    "\n",
    "    return df"
   ]
  },
  {
   "cell_type": "code",
   "execution_count": 9,
   "id": "5fa15d1c-3e57-43d1-9c7e-7ba62b7e0fbd",
   "metadata": {},
   "outputs": [],
   "source": [
    "result = chisquare_test(data_object, data_object)"
   ]
  },
  {
   "cell_type": "code",
   "execution_count": 10,
   "id": "8a3ee39a-4fab-4536-9fe6-9fad6c62371c",
   "metadata": {},
   "outputs": [
    {
     "data": {
      "text/plain": [
       "<AxesSubplot:ylabel='Name'>"
      ]
     },
     "execution_count": 10,
     "metadata": {},
     "output_type": "execute_result"
    },
    {
     "data": {
      "image/png": "[encoded data removed]",
      "text/plain": [
       "<Figure size 432x288 with 2 Axes>"
      ]
     },
     "metadata": {
      "needs_background": "light"
     },
     "output_type": "display_data"
    }
   ],
   "source": [
    "sns.heatmap(result)"
   ]
  },
  {
   "cell_type": "markdown",
   "id": "d17aeb2c",
   "metadata": {},
   "source": [
    "Se observa cierta correlación con distintas variables: housing, job, active y poutcome. Puede tener que ver con los planes u horarios de trabajo de los empleados y clientes. Es una relación que debe ignorarse por tener un caractrer espúreo o bien eliminarse day_of_week para evitar problemas de colinealidad en un posible modelo de clasificación."
   ]
  },
  {
   "cell_type": "markdown",
   "id": "cf3bb9f0-adf0-4a84-b699-d04cc91218dc",
   "metadata": {},
   "source": [
    "# Ejercicio 2"
   ]
  },
  {
   "cell_type": "code",
   "execution_count": 11,
   "id": "63da6c76",
   "metadata": {},
   "outputs": [],
   "source": [
    "x_ob, y = data_object.drop('y', axis=1), data['y']"
   ]
  },
  {
   "cell_type": "code",
   "execution_count": 13,
   "id": "bff2c8e1",
   "metadata": {},
   "outputs": [
    {
     "data": {
      "text/plain": [
       "contact            0.030843\n",
       "poutcome           0.030385\n",
       "month              0.026378\n",
       "job                0.009818\n",
       "age_binned         0.007948\n",
       "active             0.004664\n",
       "education          0.002384\n",
       "basic_education    0.001479\n",
       "marital            0.001404\n",
       "day_of_week        0.000322\n",
       "housing            0.000062\n",
       "loan               0.000011\n",
       "dtype: float64"
      ]
     },
     "execution_count": 13,
     "metadata": {},
     "output_type": "execute_result"
    }
   ],
   "source": [
    "mi_objects = mutual_info_classif(x_ob.apply(LabelEncoder().fit_transform), y, discrete_features=True)\n",
    "mutual_info_objects = pd.Series(mi_objects)\n",
    "mutual_info_objects.index = x_ob.columns\n",
    "mutual_info_objects.index = x_ob.columns\n",
    "mutual_info_objects.sort_values(ascending=False)"
   ]
  },
  {
   "cell_type": "markdown",
   "id": "001dfc3c",
   "metadata": {},
   "source": [
    "Se concluye que las variables categóricas no contienen demasiada información común ya que MI $\\approx$ 0."
   ]
  },
  {
   "cell_type": "code",
   "execution_count": 14,
   "id": "66d39a71-46c9-46e4-9f40-68b5d0f0fe77",
   "metadata": {},
   "outputs": [
    {
     "data": {
      "text/plain": [
       "duration       0.075152\n",
       "nr.employed    0.063909\n",
       "previous       0.022700\n",
       "age            0.014190\n",
       "campaign       0.001252\n",
       "dtype: float64"
      ]
     },
     "execution_count": 14,
     "metadata": {},
     "output_type": "execute_result"
    }
   ],
   "source": [
    "x_num = data_numeric\n",
    "mutual_info = mutual_info_classif(x_num, y)\n",
    "mutual_info = pd.Series(mutual_info)\n",
    "mutual_info.index = data_numeric.columns\n",
    "mutual_info.sort_values(ascending=False)"
   ]
  },
  {
   "cell_type": "markdown",
   "id": "fac57806",
   "metadata": {},
   "source": [
    "\n",
    "Se concluye que las variables continuas no contienen demasiada información común ya que MI  ≈  0."
   ]
  },
  {
   "cell_type": "markdown",
   "id": "35880833-ef60-42e2-98d7-5354d2dcac8a",
   "metadata": {},
   "source": [
    "# Ejercicio 3. LDA"
   ]
  },
  {
   "cell_type": "code",
   "execution_count": 15,
   "id": "e397bb69-04bb-4f62-b49c-1ce742445646",
   "metadata": {},
   "outputs": [],
   "source": [
    "lda = LinearDiscriminantAnalysis(n_components=1, store_covariance=True).fit(data_numeric, data['y'])"
   ]
  },
  {
   "cell_type": "markdown",
   "id": "47e2c8fb",
   "metadata": {},
   "source": [
    "Los autovalores de la matriz de covarianzas son:"
   ]
  },
  {
   "cell_type": "code",
   "execution_count": 16,
   "id": "ff8b63e2-20c8-4ee5-8b66-de9cca016a98",
   "metadata": {},
   "outputs": [
    {
     "data": {
      "text/plain": [
       "array([ 0.04473098, -0.01305987,  0.78293967,  0.62012027, -0.0168788 ])"
      ]
     },
     "execution_count": 16,
     "metadata": {},
     "output_type": "execute_result"
    }
   ],
   "source": [
    "alg.eig(lda.covariance_)[1][0]"
   ]
  },
  {
   "cell_type": "code",
   "execution_count": 17,
   "id": "22704ccc-5eb1-4587-a421-b6823a0112cf",
   "metadata": {},
   "outputs": [
    {
     "data": {
      "image/png": "[encoded data removed]",
      "text/plain": [
       "<Figure size 432x288 with 1 Axes>"
      ]
     },
     "metadata": {
      "needs_background": "light"
     },
     "output_type": "display_data"
    }
   ],
   "source": [
    "plt.hist(lda.transform(data_numeric)) # histograma de la proyeccion\n",
    "plt.xlabel('X')\n",
    "plt.ylabel('Freq')\n",
    "plt.title('Histograma de la proyección')\n",
    "plt.show()"
   ]
  },
  {
   "cell_type": "code",
   "execution_count": 18,
   "id": "b18d324e-440c-46c8-8903-4e1cfd3198bd",
   "metadata": {},
   "outputs": [
    {
     "data": {
      "text/plain": [
       "array([-0.1002521 , -0.91495526,  0.44765799, -1.08112836,  1.18532741])"
      ]
     },
     "execution_count": 18,
     "metadata": {},
     "output_type": "execute_result"
    }
   ],
   "source": [
    "lda.covariance_ @ (lda.means_[0]-lda.means_[1]) # vector de proyecccion"
   ]
  },
  {
   "cell_type": "markdown",
   "id": "8b792999-933b-4a40-9f7a-da215063241c",
   "metadata": {},
   "source": [
    "# Ejercicio 4. PCA"
   ]
  },
  {
   "cell_type": "code",
   "execution_count": 19,
   "id": "2248d322-5416-432c-895f-4ade99dfa5f6",
   "metadata": {},
   "outputs": [],
   "source": [
    "pca = PCA().fit(data_numeric, y)"
   ]
  },
  {
   "cell_type": "markdown",
   "id": "76cb504f",
   "metadata": {},
   "source": [
    "La varianza explicada por cada una de las componentes principales es:"
   ]
  },
  {
   "cell_type": "code",
   "execution_count": 20,
   "id": "509ae03e-9d9d-448a-81b8-91f5ba56351e",
   "metadata": {},
   "outputs": [
    {
     "data": {
      "text/plain": [
       "array([0.31119184, 0.2077373 , 0.1992294 , 0.18313077, 0.09871069])"
      ]
     },
     "execution_count": 20,
     "metadata": {},
     "output_type": "execute_result"
    }
   ],
   "source": [
    "pca.explained_variance_ratio_"
   ]
  },
  {
   "cell_type": "code",
   "execution_count": 21,
   "id": "94a58eb9-d5b9-454e-8cca-f7453a638532",
   "metadata": {},
   "outputs": [
    {
     "data": {
      "image/png": "[encoded data removed]",
      "text/plain": [
       "<Figure size 432x288 with 1 Axes>"
      ]
     },
     "metadata": {
      "needs_background": "light"
     },
     "output_type": "display_data"
    }
   ],
   "source": [
    "transformed = pca.transform(data_numeric)[:, :2]\n",
    "plt.scatter(transformed[:, 0], transformed[:, 1]) # gráfico 2d de las dos primeras componentes\n",
    "plt.xlabel('C1')\n",
    "plt.ylabel('C2')\n",
    "plt.title('C1 vs C2')\n",
    "plt.show()"
   ]
  },
  {
   "cell_type": "markdown",
   "id": "b08cd3d7",
   "metadata": {},
   "source": [
    "La matriz de proyección del PCA consiste en autovectores de la matriz de covarianza. "
   ]
  },
  {
   "cell_type": "code",
   "execution_count": 22,
   "id": "fd4725bd-0599-4d4d-a335-85998bdaa549",
   "metadata": {},
   "outputs": [
    {
     "data": {
      "text/html": [
       "<div>\n",
       "<style scoped>\n",
       "    .dataframe tbody tr th:only-of-type {\n",
       "        vertical-align: middle;\n",
       "    }\n",
       "\n",
       "    .dataframe tbody tr th {\n",
       "        vertical-align: top;\n",
       "    }\n",
       "\n",
       "    .dataframe thead th {\n",
       "        text-align: right;\n",
       "    }\n",
       "</style>\n",
       "<table border=\"1\" class=\"dataframe\">\n",
       "  <thead>\n",
       "    <tr style=\"text-align: right;\">\n",
       "      <th></th>\n",
       "      <th>0</th>\n",
       "      <th>1</th>\n",
       "      <th>2</th>\n",
       "      <th>3</th>\n",
       "      <th>4</th>\n",
       "    </tr>\n",
       "  </thead>\n",
       "  <tbody>\n",
       "    <tr>\n",
       "      <th>0</th>\n",
       "      <td>0.050005</td>\n",
       "      <td>-0.007918</td>\n",
       "      <td>0.104133</td>\n",
       "      <td>0.276966</td>\n",
       "      <td>-0.953878</td>\n",
       "    </tr>\n",
       "    <tr>\n",
       "      <th>1</th>\n",
       "      <td>0.115985</td>\n",
       "      <td>0.021895</td>\n",
       "      <td>-0.583328</td>\n",
       "      <td>-0.754426</td>\n",
       "      <td>-0.276836</td>\n",
       "    </tr>\n",
       "    <tr>\n",
       "      <th>2</th>\n",
       "      <td>-0.285961</td>\n",
       "      <td>-0.091924</td>\n",
       "      <td>-0.784685</td>\n",
       "      <td>0.539288</td>\n",
       "      <td>0.056696</td>\n",
       "    </tr>\n",
       "    <tr>\n",
       "      <th>3</th>\n",
       "      <td>0.661252</td>\n",
       "      <td>0.693511</td>\n",
       "      <td>-0.164593</td>\n",
       "      <td>0.221444</td>\n",
       "      <td>0.075238</td>\n",
       "    </tr>\n",
       "    <tr>\n",
       "      <th>4</th>\n",
       "      <td>-0.681924</td>\n",
       "      <td>0.714178</td>\n",
       "      <td>0.077870</td>\n",
       "      <td>-0.119423</td>\n",
       "      <td>-0.067851</td>\n",
       "    </tr>\n",
       "  </tbody>\n",
       "</table>\n",
       "</div>"
      ],
      "text/plain": [
       "          0         1         2         3         4\n",
       "0  0.050005 -0.007918  0.104133  0.276966 -0.953878\n",
       "1  0.115985  0.021895 -0.583328 -0.754426 -0.276836\n",
       "2 -0.285961 -0.091924 -0.784685  0.539288  0.056696\n",
       "3  0.661252  0.693511 -0.164593  0.221444  0.075238\n",
       "4 -0.681924  0.714178  0.077870 -0.119423 -0.067851"
      ]
     },
     "execution_count": 22,
     "metadata": {},
     "output_type": "execute_result"
    }
   ],
   "source": [
    "P = alg.eig(pca.get_covariance())[1]\n",
    "pd.DataFrame(P)"
   ]
  }
 ],
 "metadata": {
  "kernelspec": {
   "display_name": "Python 3 (ipykernel)",
   "language": "python",
   "name": "python3"
  },
  "language_info": {
   "codemirror_mode": {
    "name": "ipython",
    "version": 3
   },
   "file_extension": ".py",
   "mimetype": "text/x-python",
   "name": "python",
   "nbconvert_exporter": "python",
   "pygments_lexer": "ipython3",
   "version": "3.10.6"
  }
 },
 "nbformat": 4,
 "nbformat_minor": 5
}
