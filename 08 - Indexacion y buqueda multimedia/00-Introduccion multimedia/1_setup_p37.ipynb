{
  "nbformat": 4,
  "nbformat_minor": 0,
  "metadata": {
    "colab": {
      "provenance": [],
      "collapsed_sections": [
        "wVQg60QVXE8m",
        "55oysizVn1Rp",
        "U0ZHNFrBo2sa"
      ]
    },
    "kernelspec": {
      "name": "python2",
      "display_name": "Python 2"
    },
    "accelerator": "GPU"
  },
  "cells": [
    {
      "cell_type": "markdown",
      "metadata": {
        "id": "0jJwbyFc60Rx"
      },
      "source": [
        "#Máster en Big Data y Data Science: Ciencia e Ingeniería de Datos\n",
        "### ASIGNATURA: Indexación, búsqueda y análisis en repositorios multimedia\n",
        "### PARTE: Multimedia (imagen, video)\n",
        "### Práctica 1: Introducción al diseño de redes neuronales convolucionales con Pytorch mediante Google Colaboratory\n",
        "\n",
        "---\n",
        "\n",
        "Autor: Juan C. SanMiguel (juancarlos.sanmiguel@uam.es), Universidad Autónoma de Madrid\n"
      ]
    },
    {
      "cell_type": "markdown",
      "metadata": {
        "id": "MbrPXkSGlcmB"
      },
      "source": [
        "# 1. Setup\n",
        "En este script interativo de python aprendera como utilizar la herramienta Google Colaboratory https://colab.research.google.com \n",
        "\n",
        "Colaboratory permite utilizar gratuitamente una máquina virtual con Ubuntu que proporciona un entorno de Jupyter para ejecutar interactivamente instrucciones en una consola de Python. \n",
        "\n",
        "Información adicional (política de uso, restricciones,...) disponible en https://research.google.com/colaboratory/faq.html"
      ]
    },
    {
      "cell_type": "markdown",
      "metadata": {
        "id": "9zoOE4V7l5tS"
      },
      "source": [
        "## Ejecutar instrucciones de sistema\n",
        "\n",
        "Utilize el símbolo '!' delante de cada instrucción de sistema que desee ejecutar. Como por ejemplo la instruccion 'ls' muestra el contenido del directorio actual\n",
        "\n",
        "```\n",
        "$ !ls\n",
        "```\n",
        "Por ejemplo, ejecute cualquiera de las siguientes instrucciones para analizar los detalles de la máquina virtual ejecutando este entorno de Jupyter"
      ]
    },
    {
      "cell_type": "code",
      "metadata": {
        "id": "XqR8mC1UNLJq",
        "outputId": "0e601040-6507-402e-92db-7f5c24ac7f5e",
        "colab": {
          "base_uri": "https://localhost:8080/"
        }
      },
      "source": [
        "# Show linux release\n",
        "!lsb_release -a"
      ],
      "execution_count": 1,
      "outputs": [
        {
          "output_type": "stream",
          "name": "stdout",
          "text": [
            "No LSB modules are available.\n",
            "Distributor ID:\tUbuntu\n",
            "Description:\tUbuntu 18.04.6 LTS\n",
            "Release:\t18.04\n",
            "Codename:\tbionic\n"
          ]
        }
      ]
    },
    {
      "cell_type": "code",
      "metadata": {
        "id": "y4YD9m1RNukQ",
        "outputId": "cc6ebd7b-5e0a-42aa-e3d3-804d4eda3fc6",
        "colab": {
          "base_uri": "https://localhost:8080/"
        }
      },
      "source": [
        "# Show CPU info\n",
        "!cat /proc/cpuinfo"
      ],
      "execution_count": 2,
      "outputs": [
        {
          "output_type": "stream",
          "name": "stdout",
          "text": [
            "processor\t: 0\n",
            "vendor_id\t: GenuineIntel\n",
            "cpu family\t: 6\n",
            "model\t\t: 85\n",
            "model name\t: Intel(R) Xeon(R) CPU @ 2.00GHz\n",
            "stepping\t: 3\n",
            "microcode\t: 0xffffffff\n",
            "cpu MHz\t\t: 2000.174\n",
            "cache size\t: 39424 KB\n",
            "physical id\t: 0\n",
            "siblings\t: 2\n",
            "core id\t\t: 0\n",
            "cpu cores\t: 1\n",
            "apicid\t\t: 0\n",
            "initial apicid\t: 0\n",
            "fpu\t\t: yes\n",
            "fpu_exception\t: yes\n",
            "cpuid level\t: 13\n",
            "wp\t\t: yes\n",
            "flags\t\t: fpu vme de pse tsc msr pae mce cx8 apic sep mtrr pge mca cmov pat pse36 clflush mmx fxsr sse sse2 ss ht syscall nx pdpe1gb rdtscp lm constant_tsc rep_good nopl xtopology nonstop_tsc cpuid tsc_known_freq pni pclmulqdq ssse3 fma cx16 pcid sse4_1 sse4_2 x2apic movbe popcnt aes xsave avx f16c rdrand hypervisor lahf_lm abm 3dnowprefetch invpcid_single ssbd ibrs ibpb stibp fsgsbase tsc_adjust bmi1 hle avx2 smep bmi2 erms invpcid rtm mpx avx512f avx512dq rdseed adx smap clflushopt clwb avx512cd avx512bw avx512vl xsaveopt xsavec xgetbv1 xsaves arat md_clear arch_capabilities\n",
            "bugs\t\t: cpu_meltdown spectre_v1 spectre_v2 spec_store_bypass l1tf mds swapgs taa mmio_stale_data retbleed\n",
            "bogomips\t: 4000.34\n",
            "clflush size\t: 64\n",
            "cache_alignment\t: 64\n",
            "address sizes\t: 46 bits physical, 48 bits virtual\n",
            "power management:\n",
            "\n",
            "processor\t: 1\n",
            "vendor_id\t: GenuineIntel\n",
            "cpu family\t: 6\n",
            "model\t\t: 85\n",
            "model name\t: Intel(R) Xeon(R) CPU @ 2.00GHz\n",
            "stepping\t: 3\n",
            "microcode\t: 0xffffffff\n",
            "cpu MHz\t\t: 2000.174\n",
            "cache size\t: 39424 KB\n",
            "physical id\t: 0\n",
            "siblings\t: 2\n",
            "core id\t\t: 0\n",
            "cpu cores\t: 1\n",
            "apicid\t\t: 1\n",
            "initial apicid\t: 1\n",
            "fpu\t\t: yes\n",
            "fpu_exception\t: yes\n",
            "cpuid level\t: 13\n",
            "wp\t\t: yes\n",
            "flags\t\t: fpu vme de pse tsc msr pae mce cx8 apic sep mtrr pge mca cmov pat pse36 clflush mmx fxsr sse sse2 ss ht syscall nx pdpe1gb rdtscp lm constant_tsc rep_good nopl xtopology nonstop_tsc cpuid tsc_known_freq pni pclmulqdq ssse3 fma cx16 pcid sse4_1 sse4_2 x2apic movbe popcnt aes xsave avx f16c rdrand hypervisor lahf_lm abm 3dnowprefetch invpcid_single ssbd ibrs ibpb stibp fsgsbase tsc_adjust bmi1 hle avx2 smep bmi2 erms invpcid rtm mpx avx512f avx512dq rdseed adx smap clflushopt clwb avx512cd avx512bw avx512vl xsaveopt xsavec xgetbv1 xsaves arat md_clear arch_capabilities\n",
            "bugs\t\t: cpu_meltdown spectre_v1 spectre_v2 spec_store_bypass l1tf mds swapgs taa mmio_stale_data retbleed\n",
            "bogomips\t: 4000.34\n",
            "clflush size\t: 64\n",
            "cache_alignment\t: 64\n",
            "address sizes\t: 46 bits physical, 48 bits virtual\n",
            "power management:\n",
            "\n"
          ]
        }
      ]
    },
    {
      "cell_type": "code",
      "metadata": {
        "id": "7moKjV2GNvcA",
        "outputId": "3a987a66-c2b8-472e-c069-8eea9ff7c74f",
        "colab": {
          "base_uri": "https://localhost:8080/"
        }
      },
      "source": [
        "# Show RAM info\n",
        "!cat /proc/meminfo"
      ],
      "execution_count": 3,
      "outputs": [
        {
          "output_type": "stream",
          "name": "stdout",
          "text": [
            "MemTotal:       13297228 kB\n",
            "MemFree:        10465640 kB\n",
            "MemAvailable:   12448828 kB\n",
            "Buffers:           72716 kB\n",
            "Cached:          2071812 kB\n",
            "SwapCached:            0 kB\n",
            "Active:           578228 kB\n",
            "Inactive:        2019684 kB\n",
            "Active(anon):        884 kB\n",
            "Inactive(anon):   417008 kB\n",
            "Active(file):     577344 kB\n",
            "Inactive(file):  1602676 kB\n",
            "Unevictable:           0 kB\n",
            "Mlocked:               0 kB\n",
            "SwapTotal:             0 kB\n",
            "SwapFree:              0 kB\n",
            "Dirty:              6212 kB\n",
            "Writeback:             0 kB\n",
            "AnonPages:        453508 kB\n",
            "Mapped:           223592 kB\n",
            "Shmem:              1168 kB\n",
            "KReclaimable:      89240 kB\n",
            "Slab:             120064 kB\n",
            "SReclaimable:      89240 kB\n",
            "SUnreclaim:        30824 kB\n",
            "KernelStack:        4416 kB\n",
            "PageTables:         7564 kB\n",
            "NFS_Unstable:          0 kB\n",
            "Bounce:                0 kB\n",
            "WritebackTmp:          0 kB\n",
            "CommitLimit:     6648612 kB\n",
            "Committed_AS:    2596432 kB\n",
            "VmallocTotal:   34359738367 kB\n",
            "VmallocUsed:       44972 kB\n",
            "VmallocChunk:          0 kB\n",
            "Percpu:             1344 kB\n",
            "HardwareCorrupted:     0 kB\n",
            "AnonHugePages:         0 kB\n",
            "ShmemHugePages:        0 kB\n",
            "ShmemPmdMapped:        0 kB\n",
            "FileHugePages:         0 kB\n",
            "FilePmdMapped:         0 kB\n",
            "CmaTotal:              0 kB\n",
            "CmaFree:               0 kB\n",
            "HugePages_Total:       0\n",
            "HugePages_Free:        0\n",
            "HugePages_Rsvd:        0\n",
            "HugePages_Surp:        0\n",
            "Hugepagesize:       2048 kB\n",
            "Hugetlb:               0 kB\n",
            "DirectMap4k:      183104 kB\n",
            "DirectMap2M:     6105088 kB\n",
            "DirectMap1G:     9437184 kB\n"
          ]
        }
      ]
    },
    {
      "cell_type": "code",
      "metadata": {
        "id": "R9EoCHJtN1JF",
        "outputId": "15f53e8a-1b17-4ba4-812a-b91b940b2257",
        "colab": {
          "base_uri": "https://localhost:8080/"
        }
      },
      "source": [
        "# Show mounted directories \n",
        "!df -h"
      ],
      "execution_count": 4,
      "outputs": [
        {
          "output_type": "stream",
          "name": "stdout",
          "text": [
            "Filesystem      Size  Used Avail Use% Mounted on\n",
            "overlay          79G   23G   56G  30% /\n",
            "tmpfs            64M     0   64M   0% /dev\n",
            "shm             5.7G     0  5.7G   0% /dev/shm\n",
            "/dev/root       2.0G  1.1G  910M  54% /sbin/docker-init\n",
            "/dev/sda1        50G   25G   26G  50% /opt/bin/.nvidia\n",
            "tmpfs           6.4G   36K  6.4G   1% /var/colab\n",
            "tmpfs           6.4G     0  6.4G   0% /proc/acpi\n",
            "tmpfs           6.4G     0  6.4G   0% /proc/scsi\n",
            "tmpfs           6.4G     0  6.4G   0% /sys/firmware\n"
          ]
        }
      ]
    },
    {
      "cell_type": "markdown",
      "metadata": {
        "id": "Q9wVz9UKM7w7"
      },
      "source": [
        "En esta práctica, vamos a verificar la versión de Python que estamos ejecutando (recuerde que el código de esta práctica se ha comprobado sobre Python 2.7)"
      ]
    },
    {
      "cell_type": "code",
      "metadata": {
        "id": "Dm_31ZAnl8wl",
        "outputId": "bc8762d1-c4d5-4de6-8565-1eeed1a921bb",
        "colab": {
          "base_uri": "https://localhost:8080/",
          "height": 38
        }
      },
      "source": [
        "#Check Python version\n",
        "import sys\n",
        "sys.version"
      ],
      "execution_count": 5,
      "outputs": [
        {
          "output_type": "execute_result",
          "data": {
            "text/plain": [
              "'3.8.16 (default, Dec  7 2022, 01:12:13) \\n[GCC 7.5.0]'"
            ],
            "application/vnd.google.colaboratory.intrinsic+json": {
              "type": "string"
            }
          },
          "metadata": {},
          "execution_count": 5
        }
      ]
    },
    {
      "cell_type": "markdown",
      "metadata": {
        "id": "klP4mwmXqe4S"
      },
      "source": [
        "## Verificar existencia de GPU\n",
        "Una de las principales ventajas de *Google Colaboratory* es la disponibilidad gratuita de recursos de calculo intensivo mediante GPUs (Graphic Processing Unit). En esta sección describiremos como verificar la existencia de esta GPU."
      ]
    },
    {
      "cell_type": "markdown",
      "metadata": {
        "id": "b7yo4y71q644"
      },
      "source": [
        "Primeramente, debe activar el recurso GPU. Para ello navege por el menu \"Edit-->Notebook Settings\" y seleccione la opción \"GPU\" en la parte \"Hardware acceleretor\". En la otra parte \"Runtime type\", seleccione \"Python3\" pues que todo el código de esta práctica ha sido verificado con Python 3. \n",
        "\n",
        "A continuación se muestra un ejemplo visual de las opciones en \"Notebook Settings\"\n",
        "\n",
        "![alt text](https://cdn-images-1.medium.com/max/1600/1*WNovJnpGMOys8Rv7YIsZzA.png)"
      ]
    },
    {
      "cell_type": "markdown",
      "metadata": {
        "id": "gAuXy-n-sdCc"
      },
      "source": [
        "Posteriormente vamos a utilizar la instrucción  *nvidia-smi* para identificar cuantas GPUs existen en nuestro sistema:"
      ]
    },
    {
      "cell_type": "code",
      "metadata": {
        "id": "2ULmb0BQqkQz",
        "outputId": "326671e0-586f-47ff-cacc-1ffb32e0776e",
        "colab": {
          "base_uri": "https://localhost:8080/"
        }
      },
      "source": [
        "!nvidia-smi"
      ],
      "execution_count": 6,
      "outputs": [
        {
          "output_type": "stream",
          "name": "stdout",
          "text": [
            "Wed Dec 28 09:58:39 2022       \n",
            "+-----------------------------------------------------------------------------+\n",
            "| NVIDIA-SMI 460.32.03    Driver Version: 460.32.03    CUDA Version: 11.2     |\n",
            "|-------------------------------+----------------------+----------------------+\n",
            "| GPU  Name        Persistence-M| Bus-Id        Disp.A | Volatile Uncorr. ECC |\n",
            "| Fan  Temp  Perf  Pwr:Usage/Cap|         Memory-Usage | GPU-Util  Compute M. |\n",
            "|                               |                      |               MIG M. |\n",
            "|===============================+======================+======================|\n",
            "|   0  Tesla T4            Off  | 00000000:00:04.0 Off |                    0 |\n",
            "| N/A   63C    P0    27W /  70W |      0MiB / 15109MiB |      0%      Default |\n",
            "|                               |                      |                  N/A |\n",
            "+-------------------------------+----------------------+----------------------+\n",
            "                                                                               \n",
            "+-----------------------------------------------------------------------------+\n",
            "| Processes:                                                                  |\n",
            "|  GPU   GI   CI        PID   Type   Process name                  GPU Memory |\n",
            "|        ID   ID                                                   Usage      |\n",
            "|=============================================================================|\n",
            "|  No running processes found                                                 |\n",
            "+-----------------------------------------------------------------------------+\n"
          ]
        }
      ]
    },
    {
      "cell_type": "markdown",
      "metadata": {
        "id": "3Vc3u6EoOlWR"
      },
      "source": [
        "## Instalacion de paquetes necesarios\n",
        "\n",
        "En esta sección vamos a mostrar el procedimiento para instalar el software necesario para realizar esta práctica"
      ]
    },
    {
      "cell_type": "markdown",
      "metadata": {
        "id": "H4dIice9P1zR"
      },
      "source": [
        "### Jupyter notebook\n",
        "En el caso de que la máquina virtual de https://colab.research.google.com/ no esté disponible (puede verificar que aparece la palabra \"CONNECTED\" arriba a la derecha de su pantalla). Se sugiere realizar la práctica en local (e.g. PC o portátil personal). Para ejecutar los scripts interactivos \\*.ipynb, necesitará instalar *Jupyter*. \n",
        "\n",
        "Ejecute los siguientes comandos en un terminal de linux\n",
        "\n",
        "\n",
        "```\n",
        "$ pip install jupyter #version 2.X python (recomendada)\n",
        "$ pip3 install jupyter #version 3.X python\n",
        "$ jupyter notebook # lanza jupyter y abre un navegador para ejecutar scripts ipynb\n",
        "```\n",
        "\n",
        "El procedimiento completo está descrito en http://jupyter.readthedocs.io/en/latest/install.html\n",
        "\n",
        "NOTA: los scripts ipynb de esta práctica están preparados para funcionar tanto en local como en colab.research.google.com (asumiendo una conexión directa a internet, sin proxy alguno).\n"
      ]
    },
    {
      "cell_type": "markdown",
      "metadata": {
        "id": "9Qh1axCOPpyp"
      },
      "source": [
        "### Pytorch \n",
        "En esta práctica utilizaremos ```Pytorch``` para las tareas de *deep learning* y el paquete ``torchvision`` que proporciona funcionalidad extendida. \n",
        "\n",
        "A continuación se muestran las instrucciones necesarias para instalar Pytorch con/sin soporte para cálculo intensivo mediante GPUs (descomente aquella opción que desee instalar):"
      ]
    },
    {
      "cell_type": "code",
      "metadata": {
        "id": "8T8AKTMnPogu",
        "outputId": "75c02b88-68a7-410f-930e-80917ee969d9",
        "colab": {
          "base_uri": "https://localhost:8080/"
        }
      },
      "source": [
        "#install pytorch for python 2.7 without CUDA support\n",
        "#!pip install torchvision==0.2.0\n",
        "#!pip install http://download.pytorch.org/whl/cpu/torch-0.3.1-cp27-cp27mu-linux_x86_64.whl \n",
        "\n",
        "#install pytorch for python 2.7 with CUDA 8.0 support\n",
        "!pip install torchvision==0.2.0\n",
        "!pip install http://download.pytorch.org/whl/cu80/torch-0.3.1-cp27-cp27mu-linux_x86_64.whl "
      ],
      "execution_count": 7,
      "outputs": [
        {
          "output_type": "stream",
          "name": "stdout",
          "text": [
            "Looking in indexes: https://pypi.org/simple, https://us-python.pkg.dev/colab-wheels/public/simple/\n",
            "Requirement already satisfied: torchvision==0.2.0 in /usr/local/lib/python3.8/dist-packages (0.2.0)\n",
            "Requirement already satisfied: six in /usr/local/lib/python3.8/dist-packages (from torchvision==0.2.0) (1.15.0)\n",
            "Requirement already satisfied: torch in /usr/local/lib/python3.8/dist-packages (from torchvision==0.2.0) (1.13.0+cu116)\n",
            "Requirement already satisfied: numpy in /usr/local/lib/python3.8/dist-packages (from torchvision==0.2.0) (1.21.6)\n",
            "Requirement already satisfied: pillow>=4.1.1 in /usr/local/lib/python3.8/dist-packages (from torchvision==0.2.0) (5.0.0)\n",
            "Requirement already satisfied: typing-extensions in /usr/local/lib/python3.8/dist-packages (from torch->torchvision==0.2.0) (4.4.0)\n",
            "Looking in indexes: https://pypi.org/simple, https://us-python.pkg.dev/colab-wheels/public/simple/\n",
            "\u001b[31mERROR: torch-0.3.1-cp27-cp27mu-linux_x86_64.whl is not a supported wheel on this platform.\u001b[0m\n"
          ]
        }
      ]
    },
    {
      "cell_type": "markdown",
      "metadata": {
        "id": "xmg8-D_3SUCh"
      },
      "source": [
        "### Pillow\n",
        "\n",
        "También utilizaremos la librería ``Pillow`` para lectura/escritura de imágenes. En esta práctica utilizaremos la versión 5.0.0 debido a que \n",
        "la versión 4.0.0 tiene problemas de compatibilidad con Colaborative (en concreto para la lectura de imágenes con plugins de lectura *TiffImageFile*)"
      ]
    },
    {
      "cell_type": "code",
      "metadata": {
        "id": "9tNr4GLBSUzY",
        "outputId": "83b24fab-3ced-4a3d-c147-e1757b7ca176",
        "colab": {
          "base_uri": "https://localhost:8080/"
        }
      },
      "source": [
        "!pip install Pillow==5.0.0\n",
        "!pip show pillow #check pillow version"
      ],
      "execution_count": 8,
      "outputs": [
        {
          "output_type": "stream",
          "name": "stdout",
          "text": [
            "Looking in indexes: https://pypi.org/simple, https://us-python.pkg.dev/colab-wheels/public/simple/\n",
            "Requirement already satisfied: Pillow==5.0.0 in /usr/local/lib/python3.8/dist-packages (5.0.0)\n",
            "Name: Pillow\n",
            "Version: 5.0.0\n",
            "Summary: Python Imaging Library (Fork)\n",
            "Home-page: https://python-pillow.org\n",
            "Author: Alex Clark (Fork Author)\n",
            "Author-email: aclark@aclark.net\n",
            "License: Standard PIL License\n",
            "Location: /usr/local/lib/python3.8/dist-packages\n",
            "Requires: \n",
            "Required-by: wordcloud, torchvision, scikit-image, imgaug, imageio, fastai, bokeh\n"
          ]
        }
      ]
    },
    {
      "cell_type": "markdown",
      "metadata": {
        "id": "w-j_kzfxgHP3"
      },
      "source": [
        "Para actualizar el entorno y se utilice la versión 5.0 del paquete ``Pillow``, deberá resetear el *runtime* de esta sesión de ``Jupyter``.\n",
        "\n",
        "Para ello, utilice la opción del menu \"Runtime\"->\"Restart Runtime\" ó seleccione Ctrl+M."
      ]
    },
    {
      "cell_type": "markdown",
      "metadata": {
        "id": "7ZorEikzbvvB"
      },
      "source": [
        "## Conectarse a sus carpetas en google drive\n",
        "Debido a que el uso del entorno *colab.research.google.com* está registringido a un máximo de 12 horas continuadas (tras las cuales, se reseteará su máquina virtual y podrá volver a utilizar otra distinta) se sugiere conectar esta máquina virtual a la unidad de *Google Drive* asociada a su usuario con cuenta @gmail. Así podrá guardar datos y resultados que genere para un posterior uso.\n",
        "\n",
        "Debido a que el procedimiento descrito a continuación requiere acceder a su cuenta personal @gmail, **se sugiere crear una nueva cuenta @gmail para la realización de esta práctica**.\n",
        "\n",
        "Tras identificarse con su nueva cuenta @gmail, vuelva a cargar este script refrescando esta página web en el navegador.\n"
      ]
    },
    {
      "cell_type": "markdown",
      "metadata": {
        "id": "onB0-K98g8xa"
      },
      "source": [
        "A continuación utilizaremos el paquete *drive* de *Google.Colab* que permite montar sus directorios de Drive en la carpeta del sistema */content/gdrive/*\n",
        "\n",
        "Estas instrucciónes le pediran autorizar el acceso a su cuenta proporcionándole un enlace. Haga click sore el enlace y copie en el código que obtenga en el cuadro de texto."
      ]
    },
    {
      "cell_type": "code",
      "metadata": {
        "id": "yqAWqJiEbxoz",
        "outputId": "ad230261-d1e9-438c-9c77-0a5a17583ecc",
        "colab": {
          "base_uri": "https://localhost:8080/"
        }
      },
      "source": [
        "from google.colab import drive\n",
        "drive.mount('/content/gdrive')"
      ],
      "execution_count": 9,
      "outputs": [
        {
          "output_type": "stream",
          "name": "stdout",
          "text": [
            "Mounted at /content/gdrive\n"
          ]
        }
      ]
    },
    {
      "cell_type": "markdown",
      "metadata": {
        "id": "cjz32tS4Ag_x"
      },
      "source": [
        "Podemos visualizar el contenido de nuestra carpeta raíz en Google Drive con la siguiente instrucción"
      ]
    },
    {
      "cell_type": "code",
      "metadata": {
        "id": "COePZRUiAnxl",
        "outputId": "e9c994e7-97ad-433c-9683-b80a6643f598",
        "colab": {
          "base_uri": "https://localhost:8080/"
        }
      },
      "source": [
        "!ls /content/gdrive/My\\ Drive/"
      ],
      "execution_count": 10,
      "outputs": [
        {
          "output_type": "stream",
          "name": "stdout",
          "text": [
            "foo.txt  practica1indexacion\n"
          ]
        }
      ]
    },
    {
      "cell_type": "markdown",
      "metadata": {
        "id": "bV6vRyrCAPJm"
      },
      "source": [
        "A continuación creamos un fichero de ejemplo para verificar el correcto funcionamiento de las instrucciones anteriores\n",
        "\n"
      ]
    },
    {
      "cell_type": "code",
      "metadata": {
        "id": "P38Vz9uBAPrk",
        "outputId": "9f7602d0-ae2b-4c0b-ae25-3bd34cf2d7ce",
        "colab": {
          "base_uri": "https://localhost:8080/"
        }
      },
      "source": [
        "with open('/content/gdrive/My Drive/foo.txt', 'w') as f:\n",
        "  f.write('Hello Google Drive!')\n",
        "!cat /content/gdrive/My\\ Drive/foo.txt"
      ],
      "execution_count": 11,
      "outputs": [
        {
          "output_type": "stream",
          "name": "stdout",
          "text": [
            "Hello Google Drive!"
          ]
        }
      ]
    },
    {
      "cell_type": "markdown",
      "metadata": {
        "id": "TwRPNw6AArIR"
      },
      "source": [
        "Por último podemos crear un carpeta para guardar los datos de esta práctica"
      ]
    },
    {
      "cell_type": "code",
      "metadata": {
        "id": "muOvZswOAbU3",
        "outputId": "36d9796b-ebb4-42fd-aad7-b14be5321530",
        "colab": {
          "base_uri": "https://localhost:8080/"
        }
      },
      "source": [
        "!mkdir /content/gdrive/My\\ Drive/practica1indexacion"
      ],
      "execution_count": 12,
      "outputs": [
        {
          "output_type": "stream",
          "name": "stdout",
          "text": [
            "mkdir: cannot create directory ‘/content/gdrive/My Drive/practica1indexacion’: File exists\n"
          ]
        }
      ]
    },
    {
      "cell_type": "markdown",
      "metadata": {
        "id": "YhO-oaoDnrFh"
      },
      "source": [
        "## Operaciones comúnes"
      ]
    },
    {
      "cell_type": "markdown",
      "metadata": {
        "id": "MJtM1Mxbnu4B"
      },
      "source": [
        "En esta sección repasaremos operaciones/comandos de utilidad para el resto de partes de la práctica"
      ]
    },
    {
      "cell_type": "markdown",
      "metadata": {
        "id": "wVQg60QVXE8m"
      },
      "source": [
        "### Moverse a otros directorios\n",
        "\n",
        "El directorio de trabajo por defecto es '/content'. Si hemos seguido el paso anterior, lo deseable es que trabajemos en nuestros directorios de *Google Drive*. \n",
        "\n",
        "Para movernos entre directorios normalmente utilizariamos la instrucción **cd**. De manera alternativa se sugiere utilizar la libreria *os* para moverse entre directorios.\n"
      ]
    },
    {
      "cell_type": "code",
      "metadata": {
        "id": "k1RVQzSTXFpE",
        "outputId": "7c385cdd-164d-4480-9313-d0e9bf045fb0",
        "colab": {
          "base_uri": "https://localhost:8080/"
        }
      },
      "source": [
        "#show current directory\n",
        "!pwd\n",
        "\n",
        "#move to a specific directory\n",
        "import os\n",
        "os.chdir('/content/gdrive/My Drive/practica1indexacion/')\n",
        "!pwd"
      ],
      "execution_count": 13,
      "outputs": [
        {
          "output_type": "stream",
          "name": "stdout",
          "text": [
            "/content\n",
            "/content/gdrive/My Drive/practica1indexacion\n"
          ]
        }
      ]
    },
    {
      "cell_type": "markdown",
      "metadata": {
        "id": "55oysizVn1Rp"
      },
      "source": [
        "### Generación de scripts\n",
        "\n",
        "Frecuentemente, tras desarrollar una nueva funcionalidad es conveniente utilizar un fichero *.py* para encapsular esta funcionalidad.\n",
        "\n",
        "En el siguiente código puede ver como se generan el fichero *textproc.py*"
      ]
    },
    {
      "cell_type": "code",
      "metadata": {
        "id": "HUJTl8uvoPbT",
        "outputId": "3d3cdb29-7f35-406a-99d1-f827e1722ee8",
        "colab": {
          "base_uri": "https://localhost:8080/"
        }
      },
      "source": [
        "%%writefile textproc.py\n",
        "\n",
        "def plural(word):\n",
        "    if word.endswith('y'):\n",
        "        return word[:-1] + 'ies'\n",
        "    elif word[-1] in 'sx' or word[-2:] in ['sh', 'ch']:\n",
        "        return word + 'es'\n",
        "    elif word.endswith('an'):\n",
        "        return word[:-2] + 'en'\n",
        "    else:\n",
        "        return word + 's'"
      ],
      "execution_count": 14,
      "outputs": [
        {
          "output_type": "stream",
          "name": "stdout",
          "text": [
            "Overwriting textproc.py\n"
          ]
        }
      ]
    },
    {
      "cell_type": "code",
      "metadata": {
        "id": "pB9DzOtcoxKe",
        "outputId": "5f5ec5ee-a132-4418-c089-36e144a22f21",
        "colab": {
          "base_uri": "https://localhost:8080/"
        }
      },
      "source": [
        "#list directory contents\n",
        "!ls"
      ],
      "execution_count": 15,
      "outputs": [
        {
          "output_type": "stream",
          "name": "stdout",
          "text": [
            "__pycache__  textproc.py\n"
          ]
        }
      ]
    },
    {
      "cell_type": "markdown",
      "metadata": {
        "id": "U0ZHNFrBo2sa"
      },
      "source": [
        "### Ejecución de scripts\n",
        "\n",
        "Tras encapsular la funcionalidad deseada en un fichero *.py*, tenemos dos maneras utilizar dicha funcionalidad"
      ]
    },
    {
      "cell_type": "code",
      "metadata": {
        "id": "dvnoFzvzo1wo",
        "outputId": "90031ce0-62bd-42ae-cdba-e322c72f109a",
        "colab": {
          "base_uri": "https://localhost:8080/",
          "height": 38
        }
      },
      "source": [
        "#example 1 for importing library\n",
        "from textproc import plural\n",
        "\n",
        "#create object\n",
        "plural('wish') "
      ],
      "execution_count": 16,
      "outputs": [
        {
          "output_type": "execute_result",
          "data": {
            "text/plain": [
              "'wishes'"
            ],
            "application/vnd.google.colaboratory.intrinsic+json": {
              "type": "string"
            }
          },
          "metadata": {},
          "execution_count": 16
        }
      ]
    },
    {
      "cell_type": "code",
      "metadata": {
        "id": "3yjTxFM7pmSV",
        "outputId": "283e4032-8be4-4cdc-93be-3ded654b5a50",
        "colab": {
          "base_uri": "https://localhost:8080/",
          "height": 38
        }
      },
      "source": [
        "#example 2 for running an external script\n",
        "\n",
        "%run -i textproc.py #runs script and keeps variables\n",
        "plural('wish')"
      ],
      "execution_count": 17,
      "outputs": [
        {
          "output_type": "execute_result",
          "data": {
            "text/plain": [
              "'wishes'"
            ],
            "application/vnd.google.colaboratory.intrinsic+json": {
              "type": "string"
            }
          },
          "metadata": {},
          "execution_count": 17
        }
      ]
    },
    {
      "cell_type": "markdown",
      "metadata": {
        "id": "LbW88PSLEyv7"
      },
      "source": [
        "### Reiniciar la máquina virtual\n",
        "Es posible que realice diversas operaciones sobre el sistema (e.g. instalación de paquetes) que produzca un sistema inestable. \n",
        "\n",
        "En ese caso, se recomienda:\n",
        "\n",
        "1) Haga un \"restart runtime\" mediante las teclas Ctrl+M\n",
        "\n",
        "2) En el caso de que no se resuelva su problema, ejecute la siguiente instrucción para forzar un reseteo del sistema. Tras ejecutar esta instrucción la máquina sufrirá un bloqueo durante un pequeño lapso de tiempo (1-2 minutos). Refresque la página y verifique que se conecta a la máquina virtual (\"CONNECTED\" en la esquina superior derecha)\n",
        "\n",
        "```\n",
        "!kill -9 -1\n",
        "```\n",
        "   \n",
        "\n",
        "\n"
      ]
    },
    {
      "cell_type": "code",
      "metadata": {
        "id": "P2Uuh4kzE9j7"
      },
      "source": [
        "!kill -9 -1"
      ],
      "execution_count": null,
      "outputs": []
    },
    {
      "cell_type": "code",
      "source": [],
      "metadata": {
        "id": "aJ8y-QEhLNSN"
      },
      "execution_count": null,
      "outputs": []
    }
  ]
}