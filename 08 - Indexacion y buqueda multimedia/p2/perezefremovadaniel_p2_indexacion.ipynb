{
  "cells": [
    {
      "cell_type": "markdown",
      "metadata": {
        "nbgrader": {
          "grade": false,
          "locked": false,
          "solution": false
        },
        "id": "FFaTFAo_jRow"
      },
      "source": [
        "# Práctica: análisis de opinión en críticas hoteleras"
      ]
    },
    {
      "cell_type": "markdown",
      "metadata": {
        "nbgrader": {
          "grade": false,
          "locked": false,
          "solution": false
        },
        "id": "zTw1PU4FjRpB"
      },
      "source": [
        "<img src=\"./img/bellagio.jpg\" style=\"width:200x;height:150;\">"
      ]
    },
    {
      "cell_type": "markdown",
      "metadata": {
        "nbgrader": {
          "grade": false,
          "locked": false,
          "solution": false
        },
        "id": "-5UwEKs-jRpC"
      },
      "source": [
        "Vamos a poner en práctica todo lo aprendido hasta el momento sobre un problema de análisis de críticas a hoteles. El conjunto de datos que utilizaremos es una extracción de Booking.com, disponible en formato original en [Kaggle](https://www.kaggle.com/jiashenliu/515k-hotel-reviews-data-in-europe)."
      ]
    },
    {
      "cell_type": "markdown",
      "metadata": {
        "nbgrader": {
          "grade": false,
          "locked": false,
          "solution": false
        },
        "id": "pfwsKMXfjRpD"
      },
      "source": [
        "## Instrucciones"
      ]
    },
    {
      "cell_type": "markdown",
      "metadata": {
        "nbgrader": {
          "grade": false,
          "locked": false,
          "solution": false
        },
        "id": "ioMC9ncKjRpD"
      },
      "source": [
        "A lo largo de este cuaderno encontrarás celdas vacías que tendrás que rellenar con tu propio código. Sigue las instrucciones del cuaderno y presta especial atención a los siguientes iconos:\n",
        "\n",
        "<table>\n",
        "<tr><td width=\"80\"><img src=\"img/question.png\" style=\"width:auto;height:auto\"></td><td style=\"text-align:left\">Deberás responder a la pregunta indicada con el código o contestación que escribas en la celda inferior. Se te evaluará la práctica según la corrección de tu solución, así como por la calidad del código.</td></tr>\n",
        " <tr><td width=\"80\"><img src=\"img/exclamation.png\" style=\"width:auto;height:auto\"></td><td style=\"text-align:left\">Esto es una pista u observación que te puede ayudar a resolver la práctica. No tienes que escribir en el cuaderno ninguna contestación a estos apartados, pero conviene que los hagas para entender los siguientes pasos.</td></tr>\n",
        " <tr><td width=\"80\"><img src=\"img/pro.png\" style=\"width:auto;height:auto\"></td><td style=\"text-align:left\">Este es un ejercicio avanzado y voluntario que puedes realizar si quieres profundar más sobre el tema. No se considerará para la evaluación de la práctica, pero te animamos a intentarlo para aprender más ¡Ánimo!</td></tr>\n",
        "</table>\n",
        "\n",
        "Adicionalmente si necesitas consultar la ayuda de cualquier función python puedes colocar el cursor de escritura sobre el nombre de la misma y pulsar Mayúsculas+Shift para que aparezca un recuadro con sus detalles. Ten en cuenta que esto únicamente funciona en las celdas de código.\n",
        "\n",
        "¡Adelante!"
      ]
    },
    {
      "cell_type": "markdown",
      "metadata": {
        "id": "94uDD7PBjRpF"
      },
      "source": [
        "## Entorno\n",
        "\n",
        "Para realizar la práctica, debes usar el **entorno de conda utilizado en las clases de deeplearning**. Para instalarlo:\n",
        "\n",
        "    conda env create -f environment-deeplearning.yml deeplearning-labs \n",
        "    conda ativate deeplearning-labs\n",
        "\n",
        "Después de instalarlo, **asegurate de tener el kernel de jupyter fijado con este entorno recién instalado**. \n",
        "\n",
        "*(opcional)* Si quieres usar paquetes adiccionales de pyhton que no estén instalados en este entorno conda, puedes instarlarlos una vez este esté activado con el siguiente comando:\n",
        "\n",
        "    conda install PACKAGENAME\n",
        "    \n",
        "Si el paquete corresponde al respositorio de Anaconda. Si no deberás usar\n",
        "\n",
        "    pip install PACKAGENAME\n",
        "    \n",
        "Si decides añadir nuevos paquetes, debes listarlos a continuación e indicar la versión del nuevo paquete utilizada en tu entorno. La versión instalada puedes verla ejecutando `conda list` y buscando el paquete entre todos los instalados en ese entorno activado.\n",
        "\n",
        "* Package1: ...\n",
        "* ..."
      ]
    },
    {
      "cell_type": "code",
      "execution_count": 2,
      "metadata": {
        "id": "ui8jK_OSjRpG"
      },
      "outputs": [],
      "source": [
        "import matplotlib.pyplot as plt\n",
        "from sklearn.metrics import confusion_matrix\n",
        "import pandas as pd\n",
        "from sklearn.compose import ColumnTransformer\n",
        "from sklearn.feature_extraction.text import CountVectorizer\n",
        "from sklearn.naive_bayes import MultinomialNB\n",
        "from sklearn.pipeline import Pipeline\n",
        "from sklearn.metrics import plot_roc_curve\n",
        "from sklearn.metrics import classification_report\n",
        "import matplotlib.pyplot as plt\n",
        "\n",
        "from keras.models import Sequential\n",
        "from keras.layers import Embedding\n",
        "from keras.layers import GlobalAveragePooling1D\n",
        "from keras.layers.core import Dense, Activation\n",
        "from keras.wrappers.scikit_learn import KerasRegressor\n",
        "from keras.preprocessing.text import Tokenizer\n",
        "\n",
        "from tensorflow.keras.preprocessing.sequence import pad_sequences\n",
        "\n",
        "%matplotlib inline"
      ]
    },
    {
      "cell_type": "markdown",
      "source": [
        "funciones:\n",
        "\n",
        "1. predict_prob. Implementa un predict basado en un umbral para comparar las predicciones con distintos umbrales sobre la proba bilidad.\n",
        "\n",
        "2. print_classification_summary. Saca distintas metricas de la clasificacion. Hace un grafico de la curva ROC:"
      ],
      "metadata": {
        "id": "83vQabsLLkqV"
      }
    },
    {
      "cell_type": "code",
      "source": [
        "def predict_prob(clf, X, threshold=.5): # funcion para ejecutar un predict_proba sobre una pipeline\n",
        "  return (clf.predict_proba(X) >= threshold).astype(bool)[:, 1]\n",
        "\n",
        "\n",
        "\n",
        "def print_classification_summary(clf, X, y, th=.5):\n",
        "\n",
        "  y_pred = clf.predict(X)\n",
        "  y_th = predict_prob(clf, X, th)\n",
        "  print(classification_report(y, y_th))\n",
        "  print(pd.DataFrame(confusion_matrix(y, y_th)))\n",
        "  plot_roc_curve(clf, X, y) "
      ],
      "metadata": {
        "id": "pbkEnQ6e-ta1"
      },
      "execution_count": 3,
      "outputs": []
    },
    {
      "cell_type": "markdown",
      "metadata": {
        "id": "WRSW_dxRjRpI"
      },
      "source": [
        "## Objetivo: Aplica lo aprendido"
      ]
    },
    {
      "cell_type": "markdown",
      "metadata": {
        "id": "D5g_ocHejRpJ"
      },
      "source": [
        "El objetivo de la práctica es utilizar los datos de entrenamiento para construir un clasificador automático que indique si una crítica de un hotel es favorable o desfavorable. Puedes utilizar cualquiera de las técnicas vistas durante el curso para este fin, aunque a continuación se piden una serie mínima de estrategias a emplear. Para medir la calidad del modelo de clasificación, puedes utilizar el conjunto de datos de test, pero es importante remarcar que estos datos **solo pueden utilizarse para medir el acierto del clasificador**. Esto implica que tampoco pueden emplearse los datos de test para realizar técnicas de validación cruzada o entrenar vectorizadores de textos.\n",
        "\n",
        "Este problema es desbalanceado, ya que existen muchos más datos de críticas positivas que de críticas negativas. Por ello, usar la precisión o accuracy como métrica de la calidad del modelo **no es aconsejable**, ya que un modelo que clasifique todas críticas como positivas obtendrá una precisión muy alta, a pesar de su falta de utilidad en práctica. En su lugar deberá emplearse la métrica [roc_auc_score](https://scikit-learn.org/stable/modules/generated/sklearn.metrics.roc_auc_score.html), que tiene en cuenta la importancia de ambas clases.\n",
        "\n",
        "Para cada modelo, se deberá generar **la curva roc** y **elegir un threshold** adecuado con el cual poder ver **la matriz de confusión** para posteriormente poder comparar resultados entre todos los modelos realizados."
      ]
    },
    {
      "cell_type": "markdown",
      "metadata": {
        "id": "aR5asn1njRpK"
      },
      "source": [
        "## Carga de datos"
      ]
    },
    {
      "cell_type": "markdown",
      "metadata": {
        "id": "UVpvU8g_jRpK"
      },
      "source": [
        "Para empezar vamos a cargar los datos de entrenamiento y test en memoria."
      ]
    },
    {
      "cell_type": "markdown",
      "metadata": {
        "id": "2re3nz0mjRpL"
      },
      "source": [
        "<table>\n",
        "<tr><td width=\"80\"><img src=\"img/question.png\" style=\"width:auto;height:auto\"></td><td style=\"text-align:left\">Carga los datos de <b>data/train.csv</b> y <b>data/test.csv</b> en DataFrames de Pandas con nombres <b>train</b> y <b>test</b>, respectivamente.</td></tr>\n",
        "</table>"
      ]
    },
    {
      "cell_type": "code",
      "source": [
        "!ls"
      ],
      "metadata": {
        "colab": {
          "base_uri": "https://localhost:8080/"
        },
        "id": "B-T0pkxtkbFh",
        "outputId": "321d9255-9c08-4ae1-b78a-e0d26d9cae0a"
      },
      "execution_count": 4,
      "outputs": [
        {
          "output_type": "stream",
          "name": "stdout",
          "text": [
            "practicaPeliculasStudent.ipynb\tsample_data  test.csv  train.csv\n"
          ]
        }
      ]
    },
    {
      "cell_type": "code",
      "execution_count": 5,
      "metadata": {
        "id": "yHmYR8myjRpL"
      },
      "outputs": [],
      "source": [
        "train = pd.read_csv('train.csv', header=0)\n",
        "test = pd.read_csv('test.csv', header=0)"
      ]
    },
    {
      "cell_type": "markdown",
      "metadata": {
        "id": "z6rTGUq2jRpM"
      },
      "source": [
        "<table>\n",
        "<tr><td width=\"80\"><img src=\"img/pro.png\" style=\"width:auto;height:auto\"></td><td style=\"text-align:left\">En <b>data/train.csv</b> solo se incluye una porción del conjunto de entrenamiento. Si quieres tratar de conseguir mayores niveles de acierto, puedes emplear el conjunto de entrenamiento completo disponible en <b>data/trainfull.csv</b>.</td></tr>\n",
        "</table>"
      ]
    },
    {
      "cell_type": "markdown",
      "metadata": {
        "id": "P0VnaE3PjRpM"
      },
      "source": [
        "## Exploración de datos"
      ]
    },
    {
      "cell_type": "markdown",
      "metadata": {
        "id": "RWjM3j_MjRpN"
      },
      "source": [
        "A continuación, explora los datos cargados previamente. Puedes ver el número de datos de cada clase, realizar gráficos comparando las columnas, ver si tenemos datos nulos..."
      ]
    },
    {
      "cell_type": "code",
      "source": [
        "train.head()"
      ],
      "metadata": {
        "colab": {
          "base_uri": "https://localhost:8080/",
          "height": 206
        },
        "id": "NuC2tBU3lQi0",
        "outputId": "e9200373-541a-43c2-c57f-828079d8c94d"
      },
      "execution_count": 6,
      "outputs": [
        {
          "output_type": "execute_result",
          "data": {
            "text/plain": [
              "                                     Negative_Review  \\\n",
              "0   I am so angry that i made this post available...   \n",
              "1   My room was dirty and I was afraid to walk ba...   \n",
              "2   Apart from the price for the brekfast Everyth...   \n",
              "3                                 Nothing all great    \n",
              "4                                        No Negative   \n",
              "\n",
              "                                     Positive_Review  Approves  \n",
              "0   Only the park outside of the hotel was beauti...     False  \n",
              "1   Great location in nice surroundings the bar a...     False  \n",
              "2   Good location Set in a lovely park friendly s...      True  \n",
              "3   Rooms were stunningly decorated and really sp...      True  \n",
              "4   This hotel is being renovated with great care...      True  "
            ],
            "text/html": [
              "\n",
              "  <div id=\"df-386b85f3-2506-4654-89ea-df36b56ecb2e\">\n",
              "    <div class=\"colab-df-container\">\n",
              "      <div>\n",
              "<style scoped>\n",
              "    .dataframe tbody tr th:only-of-type {\n",
              "        vertical-align: middle;\n",
              "    }\n",
              "\n",
              "    .dataframe tbody tr th {\n",
              "        vertical-align: top;\n",
              "    }\n",
              "\n",
              "    .dataframe thead th {\n",
              "        text-align: right;\n",
              "    }\n",
              "</style>\n",
              "<table border=\"1\" class=\"dataframe\">\n",
              "  <thead>\n",
              "    <tr style=\"text-align: right;\">\n",
              "      <th></th>\n",
              "      <th>Negative_Review</th>\n",
              "      <th>Positive_Review</th>\n",
              "      <th>Approves</th>\n",
              "    </tr>\n",
              "  </thead>\n",
              "  <tbody>\n",
              "    <tr>\n",
              "      <th>0</th>\n",
              "      <td>I am so angry that i made this post available...</td>\n",
              "      <td>Only the park outside of the hotel was beauti...</td>\n",
              "      <td>False</td>\n",
              "    </tr>\n",
              "    <tr>\n",
              "      <th>1</th>\n",
              "      <td>My room was dirty and I was afraid to walk ba...</td>\n",
              "      <td>Great location in nice surroundings the bar a...</td>\n",
              "      <td>False</td>\n",
              "    </tr>\n",
              "    <tr>\n",
              "      <th>2</th>\n",
              "      <td>Apart from the price for the brekfast Everyth...</td>\n",
              "      <td>Good location Set in a lovely park friendly s...</td>\n",
              "      <td>True</td>\n",
              "    </tr>\n",
              "    <tr>\n",
              "      <th>3</th>\n",
              "      <td>Nothing all great</td>\n",
              "      <td>Rooms were stunningly decorated and really sp...</td>\n",
              "      <td>True</td>\n",
              "    </tr>\n",
              "    <tr>\n",
              "      <th>4</th>\n",
              "      <td>No Negative</td>\n",
              "      <td>This hotel is being renovated with great care...</td>\n",
              "      <td>True</td>\n",
              "    </tr>\n",
              "  </tbody>\n",
              "</table>\n",
              "</div>\n",
              "      <button class=\"colab-df-convert\" onclick=\"convertToInteractive('df-386b85f3-2506-4654-89ea-df36b56ecb2e')\"\n",
              "              title=\"Convert this dataframe to an interactive table.\"\n",
              "              style=\"display:none;\">\n",
              "        \n",
              "  <svg xmlns=\"http://www.w3.org/2000/svg\" height=\"24px\"viewBox=\"0 0 24 24\"\n",
              "       width=\"24px\">\n",
              "    <path d=\"M0 0h24v24H0V0z\" fill=\"none\"/>\n",
              "    <path d=\"M18.56 5.44l.94 2.06.94-2.06 2.06-.94-2.06-.94-.94-2.06-.94 2.06-2.06.94zm-11 1L8.5 8.5l.94-2.06 2.06-.94-2.06-.94L8.5 2.5l-.94 2.06-2.06.94zm10 10l.94 2.06.94-2.06 2.06-.94-2.06-.94-.94-2.06-.94 2.06-2.06.94z\"/><path d=\"M17.41 7.96l-1.37-1.37c-.4-.4-.92-.59-1.43-.59-.52 0-1.04.2-1.43.59L10.3 9.45l-7.72 7.72c-.78.78-.78 2.05 0 2.83L4 21.41c.39.39.9.59 1.41.59.51 0 1.02-.2 1.41-.59l7.78-7.78 2.81-2.81c.8-.78.8-2.07 0-2.86zM5.41 20L4 18.59l7.72-7.72 1.47 1.35L5.41 20z\"/>\n",
              "  </svg>\n",
              "      </button>\n",
              "      \n",
              "  <style>\n",
              "    .colab-df-container {\n",
              "      display:flex;\n",
              "      flex-wrap:wrap;\n",
              "      gap: 12px;\n",
              "    }\n",
              "\n",
              "    .colab-df-convert {\n",
              "      background-color: #E8F0FE;\n",
              "      border: none;\n",
              "      border-radius: 50%;\n",
              "      cursor: pointer;\n",
              "      display: none;\n",
              "      fill: #1967D2;\n",
              "      height: 32px;\n",
              "      padding: 0 0 0 0;\n",
              "      width: 32px;\n",
              "    }\n",
              "\n",
              "    .colab-df-convert:hover {\n",
              "      background-color: #E2EBFA;\n",
              "      box-shadow: 0px 1px 2px rgba(60, 64, 67, 0.3), 0px 1px 3px 1px rgba(60, 64, 67, 0.15);\n",
              "      fill: #174EA6;\n",
              "    }\n",
              "\n",
              "    [theme=dark] .colab-df-convert {\n",
              "      background-color: #3B4455;\n",
              "      fill: #D2E3FC;\n",
              "    }\n",
              "\n",
              "    [theme=dark] .colab-df-convert:hover {\n",
              "      background-color: #434B5C;\n",
              "      box-shadow: 0px 1px 3px 1px rgba(0, 0, 0, 0.15);\n",
              "      filter: drop-shadow(0px 1px 2px rgba(0, 0, 0, 0.3));\n",
              "      fill: #FFFFFF;\n",
              "    }\n",
              "  </style>\n",
              "\n",
              "      <script>\n",
              "        const buttonEl =\n",
              "          document.querySelector('#df-386b85f3-2506-4654-89ea-df36b56ecb2e button.colab-df-convert');\n",
              "        buttonEl.style.display =\n",
              "          google.colab.kernel.accessAllowed ? 'block' : 'none';\n",
              "\n",
              "        async function convertToInteractive(key) {\n",
              "          const element = document.querySelector('#df-386b85f3-2506-4654-89ea-df36b56ecb2e');\n",
              "          const dataTable =\n",
              "            await google.colab.kernel.invokeFunction('convertToInteractive',\n",
              "                                                     [key], {});\n",
              "          if (!dataTable) return;\n",
              "\n",
              "          const docLinkHtml = 'Like what you see? Visit the ' +\n",
              "            '<a target=\"_blank\" href=https://colab.research.google.com/notebooks/data_table.ipynb>data table notebook</a>'\n",
              "            + ' to learn more about interactive tables.';\n",
              "          element.innerHTML = '';\n",
              "          dataTable['output_type'] = 'display_data';\n",
              "          await google.colab.output.renderOutput(dataTable, element);\n",
              "          const docLink = document.createElement('div');\n",
              "          docLink.innerHTML = docLinkHtml;\n",
              "          element.appendChild(docLink);\n",
              "        }\n",
              "      </script>\n",
              "    </div>\n",
              "  </div>\n",
              "  "
            ]
          },
          "metadata": {},
          "execution_count": 6
        }
      ]
    },
    {
      "cell_type": "code",
      "source": [
        "train.describe()"
      ],
      "metadata": {
        "colab": {
          "base_uri": "https://localhost:8080/",
          "height": 175
        },
        "id": "Sp7fnJaElBso",
        "outputId": "7d52bd50-ef53-479e-8342-b696677faa01"
      },
      "execution_count": 7,
      "outputs": [
        {
          "output_type": "execute_result",
          "data": {
            "text/plain": [
              "       Negative_Review Positive_Review Approves\n",
              "count            10000           10000    10000\n",
              "unique            6090            9236        2\n",
              "top        No Negative     No Positive     True\n",
              "freq              3124             417     9617"
            ],
            "text/html": [
              "\n",
              "  <div id=\"df-e7da1912-e989-44dc-a18e-12bbbaa5bd52\">\n",
              "    <div class=\"colab-df-container\">\n",
              "      <div>\n",
              "<style scoped>\n",
              "    .dataframe tbody tr th:only-of-type {\n",
              "        vertical-align: middle;\n",
              "    }\n",
              "\n",
              "    .dataframe tbody tr th {\n",
              "        vertical-align: top;\n",
              "    }\n",
              "\n",
              "    .dataframe thead th {\n",
              "        text-align: right;\n",
              "    }\n",
              "</style>\n",
              "<table border=\"1\" class=\"dataframe\">\n",
              "  <thead>\n",
              "    <tr style=\"text-align: right;\">\n",
              "      <th></th>\n",
              "      <th>Negative_Review</th>\n",
              "      <th>Positive_Review</th>\n",
              "      <th>Approves</th>\n",
              "    </tr>\n",
              "  </thead>\n",
              "  <tbody>\n",
              "    <tr>\n",
              "      <th>count</th>\n",
              "      <td>10000</td>\n",
              "      <td>10000</td>\n",
              "      <td>10000</td>\n",
              "    </tr>\n",
              "    <tr>\n",
              "      <th>unique</th>\n",
              "      <td>6090</td>\n",
              "      <td>9236</td>\n",
              "      <td>2</td>\n",
              "    </tr>\n",
              "    <tr>\n",
              "      <th>top</th>\n",
              "      <td>No Negative</td>\n",
              "      <td>No Positive</td>\n",
              "      <td>True</td>\n",
              "    </tr>\n",
              "    <tr>\n",
              "      <th>freq</th>\n",
              "      <td>3124</td>\n",
              "      <td>417</td>\n",
              "      <td>9617</td>\n",
              "    </tr>\n",
              "  </tbody>\n",
              "</table>\n",
              "</div>\n",
              "      <button class=\"colab-df-convert\" onclick=\"convertToInteractive('df-e7da1912-e989-44dc-a18e-12bbbaa5bd52')\"\n",
              "              title=\"Convert this dataframe to an interactive table.\"\n",
              "              style=\"display:none;\">\n",
              "        \n",
              "  <svg xmlns=\"http://www.w3.org/2000/svg\" height=\"24px\"viewBox=\"0 0 24 24\"\n",
              "       width=\"24px\">\n",
              "    <path d=\"M0 0h24v24H0V0z\" fill=\"none\"/>\n",
              "    <path d=\"M18.56 5.44l.94 2.06.94-2.06 2.06-.94-2.06-.94-.94-2.06-.94 2.06-2.06.94zm-11 1L8.5 8.5l.94-2.06 2.06-.94-2.06-.94L8.5 2.5l-.94 2.06-2.06.94zm10 10l.94 2.06.94-2.06 2.06-.94-2.06-.94-.94-2.06-.94 2.06-2.06.94z\"/><path d=\"M17.41 7.96l-1.37-1.37c-.4-.4-.92-.59-1.43-.59-.52 0-1.04.2-1.43.59L10.3 9.45l-7.72 7.72c-.78.78-.78 2.05 0 2.83L4 21.41c.39.39.9.59 1.41.59.51 0 1.02-.2 1.41-.59l7.78-7.78 2.81-2.81c.8-.78.8-2.07 0-2.86zM5.41 20L4 18.59l7.72-7.72 1.47 1.35L5.41 20z\"/>\n",
              "  </svg>\n",
              "      </button>\n",
              "      \n",
              "  <style>\n",
              "    .colab-df-container {\n",
              "      display:flex;\n",
              "      flex-wrap:wrap;\n",
              "      gap: 12px;\n",
              "    }\n",
              "\n",
              "    .colab-df-convert {\n",
              "      background-color: #E8F0FE;\n",
              "      border: none;\n",
              "      border-radius: 50%;\n",
              "      cursor: pointer;\n",
              "      display: none;\n",
              "      fill: #1967D2;\n",
              "      height: 32px;\n",
              "      padding: 0 0 0 0;\n",
              "      width: 32px;\n",
              "    }\n",
              "\n",
              "    .colab-df-convert:hover {\n",
              "      background-color: #E2EBFA;\n",
              "      box-shadow: 0px 1px 2px rgba(60, 64, 67, 0.3), 0px 1px 3px 1px rgba(60, 64, 67, 0.15);\n",
              "      fill: #174EA6;\n",
              "    }\n",
              "\n",
              "    [theme=dark] .colab-df-convert {\n",
              "      background-color: #3B4455;\n",
              "      fill: #D2E3FC;\n",
              "    }\n",
              "\n",
              "    [theme=dark] .colab-df-convert:hover {\n",
              "      background-color: #434B5C;\n",
              "      box-shadow: 0px 1px 3px 1px rgba(0, 0, 0, 0.15);\n",
              "      filter: drop-shadow(0px 1px 2px rgba(0, 0, 0, 0.3));\n",
              "      fill: #FFFFFF;\n",
              "    }\n",
              "  </style>\n",
              "\n",
              "      <script>\n",
              "        const buttonEl =\n",
              "          document.querySelector('#df-e7da1912-e989-44dc-a18e-12bbbaa5bd52 button.colab-df-convert');\n",
              "        buttonEl.style.display =\n",
              "          google.colab.kernel.accessAllowed ? 'block' : 'none';\n",
              "\n",
              "        async function convertToInteractive(key) {\n",
              "          const element = document.querySelector('#df-e7da1912-e989-44dc-a18e-12bbbaa5bd52');\n",
              "          const dataTable =\n",
              "            await google.colab.kernel.invokeFunction('convertToInteractive',\n",
              "                                                     [key], {});\n",
              "          if (!dataTable) return;\n",
              "\n",
              "          const docLinkHtml = 'Like what you see? Visit the ' +\n",
              "            '<a target=\"_blank\" href=https://colab.research.google.com/notebooks/data_table.ipynb>data table notebook</a>'\n",
              "            + ' to learn more about interactive tables.';\n",
              "          element.innerHTML = '';\n",
              "          dataTable['output_type'] = 'display_data';\n",
              "          await google.colab.output.renderOutput(dataTable, element);\n",
              "          const docLink = document.createElement('div');\n",
              "          docLink.innerHTML = docLinkHtml;\n",
              "          element.appendChild(docLink);\n",
              "        }\n",
              "      </script>\n",
              "    </div>\n",
              "  </div>\n",
              "  "
            ]
          },
          "metadata": {},
          "execution_count": 7
        }
      ]
    },
    {
      "cell_type": "code",
      "source": [
        "train.isnull().sum()"
      ],
      "metadata": {
        "colab": {
          "base_uri": "https://localhost:8080/"
        },
        "id": "rSh9iQhdun9C",
        "outputId": "a2ddf106-b02d-450c-db08-91ac7db281dc"
      },
      "execution_count": 8,
      "outputs": [
        {
          "output_type": "execute_result",
          "data": {
            "text/plain": [
              "Negative_Review    0\n",
              "Positive_Review    0\n",
              "Approves           0\n",
              "dtype: int64"
            ]
          },
          "metadata": {},
          "execution_count": 8
        }
      ]
    },
    {
      "cell_type": "markdown",
      "metadata": {
        "id": "eRscMrt8jRpN"
      },
      "source": [
        "## Modelos\n",
        "### Modelo basado en caracteres"
      ]
    },
    {
      "cell_type": "code",
      "source": [
        "X_train, X_test = train[['Positive_Review', 'Negative_Review']], test[['Positive_Review', 'Negative_Review']]\n",
        "y_train, y_test = train['Approves'], test['Approves']"
      ],
      "metadata": {
        "id": "zlq66srQ9FxE"
      },
      "execution_count": 9,
      "outputs": []
    },
    {
      "cell_type": "markdown",
      "metadata": {
        "id": "sCck1o3mjRpO"
      },
      "source": [
        "<table>\n",
        "<tr><td width=\"80\"><img src=\"img/question.png\" style=\"width:auto;height:auto\"></td><td style=\"text-align:left\">Construye un modelo de clasificación que en base a la crítica en texto de un hotel determine si esta es favorable o desfavorable, empleando únicamente características basadas en los caracteres del texto. Mide el nivel de acierto sobre el conjunto de test. ¿Qué nivel de precisión puedes alcanzar?</td></tr>\n",
        "</table>"
      ]
    },
    {
      "cell_type": "markdown",
      "metadata": {
        "id": "TfxUCPjgjRpO"
      },
      "source": [
        "<table>\n",
        "<tr><td width=\"80\"><img src=\"img/exclamation.png\" style=\"width:auto;height:auto\"></td><td style=\"text-align:left\">Ten en cuenta que cada crítica de hotel incluye dos campos de texto, <i>Negative_Review</i> y <i>Positive_Review</i>. Es recomendable que construyas un modelo que analice ambos textos para tomar la decisión. Puedes construir un Pipeline que tenga en cuenta ambas entradas de datos usando <a href=https://scikit-learn.org/stable/modules/generated/sklearn.compose.ColumnTransformer.html>ColumnTransformer</a></td></tr>\n",
        "</table>"
      ]
    },
    {
      "cell_type": "markdown",
      "source": [
        "Se crea una pipeline de preprocesado con un column transforme y un modelo Naive Bayes Multinomial."
      ],
      "metadata": {
        "id": "9iKe4AJHMNv_"
      }
    },
    {
      "cell_type": "code",
      "execution_count": 10,
      "metadata": {
        "colab": {
          "base_uri": "https://localhost:8080/"
        },
        "id": "0AYnG2NmjRpP",
        "outputId": "e54a6747-2ea3-48b4-8b4e-fb027d27b2db"
      },
      "outputs": [
        {
          "output_type": "execute_result",
          "data": {
            "text/plain": [
              "Pipeline(steps=[('Transformer',\n",
              "                 ColumnTransformer(transformers=[('text_preprocess_positive',\n",
              "                                                  CountVectorizer(analyzer='char',\n",
              "                                                                  binary=True,\n",
              "                                                                  ngram_range=(2,\n",
              "                                                                               2)),\n",
              "                                                  'Positive_Review'),\n",
              "                                                 ('text_preprocess_negative',\n",
              "                                                  CountVectorizer(analyzer='char',\n",
              "                                                                  binary=True,\n",
              "                                                                  ngram_range=(2,\n",
              "                                                                               2)),\n",
              "                                                  'Negative_Review')])),\n",
              "                ('Classifier', MultinomialNB())])"
            ]
          },
          "metadata": {},
          "execution_count": 10
        }
      ],
      "source": [
        "pipeline_characters = Pipeline([\n",
        "    ('Transformer', ColumnTransformer(\n",
        "                        [(\"text_preprocess_positive\", CountVectorizer(analyzer='char', ngram_range=(2, 2), binary=True), \"Positive_Review\"),\n",
        "                        (\"text_preprocess_negative\", CountVectorizer(analyzer='char', ngram_range=(2, 2), binary=True), \"Negative_Review\")])),\n",
        "    ('Classifier', MultinomialNB())])\n",
        "\n",
        "pipeline_characters.fit(X_train, y_train)"
      ]
    },
    {
      "cell_type": "code",
      "source": [
        "print_classification_summary(pipeline_characters, X_train, y_train)"
      ],
      "metadata": {
        "colab": {
          "base_uri": "https://localhost:8080/",
          "height": 553
        },
        "id": "0A3q8b3AtNJ5",
        "outputId": "973a5fd7-6d28-449a-d218-42a3b7c60e26"
      },
      "execution_count": 11,
      "outputs": [
        {
          "output_type": "stream",
          "name": "stdout",
          "text": [
            "              precision    recall  f1-score   support\n",
            "\n",
            "       False       0.21      0.84      0.34       383\n",
            "        True       0.99      0.88      0.93      9617\n",
            "\n",
            "    accuracy                           0.88     10000\n",
            "   macro avg       0.60      0.86      0.64     10000\n",
            "weighted avg       0.96      0.88      0.91     10000\n",
            "\n",
            "      0     1\n",
            "0   321    62\n",
            "1  1178  8439\n"
          ]
        },
        {
          "output_type": "stream",
          "name": "stderr",
          "text": [
            "/usr/local/lib/python3.7/dist-packages/sklearn/utils/deprecation.py:87: FutureWarning: Function plot_roc_curve is deprecated; Function :func:`plot_roc_curve` is deprecated in 1.0 and will be removed in 1.2. Use one of the class methods: :meth:`sklearn.metric.RocCurveDisplay.from_predictions` or :meth:`sklearn.metric.RocCurveDisplay.from_estimator`.\n",
            "  warnings.warn(msg, category=FutureWarning)\n"
          ]
        },
        {
          "output_type": "display_data",
          "data": {
            "text/plain": [
              "<Figure size 432x288 with 1 Axes>"
            ],
            "image/png": "[encoded data removed]"
          },
          "metadata": {
            "needs_background": "light"
          }
        }
      ]
    },
    {
      "cell_type": "markdown",
      "source": [
        "Un umbral adecuado parece 1-0.2 = 0.8 que es donde parece maximizarse la True positive rate con el False positive rate minimo."
      ],
      "metadata": {
        "id": "XGsZGLUzMWyM"
      }
    },
    {
      "cell_type": "code",
      "source": [
        "print_classification_summary(pipeline_characters, X_train, y_train, .8)"
      ],
      "metadata": {
        "colab": {
          "base_uri": "https://localhost:8080/",
          "height": 553
        },
        "id": "-IMAqpep_ax7",
        "outputId": "36ee8cb0-3a61-483a-908f-bc61bb07edf5"
      },
      "execution_count": 12,
      "outputs": [
        {
          "output_type": "stream",
          "name": "stdout",
          "text": [
            "              precision    recall  f1-score   support\n",
            "\n",
            "       False       0.21      0.85      0.34       383\n",
            "        True       0.99      0.87      0.93      9617\n",
            "\n",
            "    accuracy                           0.87     10000\n",
            "   macro avg       0.60      0.86      0.63     10000\n",
            "weighted avg       0.96      0.87      0.91     10000\n",
            "\n",
            "      0     1\n",
            "0   327    56\n",
            "1  1236  8381\n"
          ]
        },
        {
          "output_type": "stream",
          "name": "stderr",
          "text": [
            "/usr/local/lib/python3.7/dist-packages/sklearn/utils/deprecation.py:87: FutureWarning: Function plot_roc_curve is deprecated; Function :func:`plot_roc_curve` is deprecated in 1.0 and will be removed in 1.2. Use one of the class methods: :meth:`sklearn.metric.RocCurveDisplay.from_predictions` or :meth:`sklearn.metric.RocCurveDisplay.from_estimator`.\n",
            "  warnings.warn(msg, category=FutureWarning)\n"
          ]
        },
        {
          "output_type": "display_data",
          "data": {
            "text/plain": [
              "<Figure size 432x288 with 1 Axes>"
            ],
            "image/png": "[encoded data removed]"
          },
          "metadata": {
            "needs_background": "light"
          }
        }
      ]
    },
    {
      "cell_type": "code",
      "source": [
        "print_classification_summary(pipeline_characters, X_test, y_test, .8)"
      ],
      "metadata": {
        "colab": {
          "base_uri": "https://localhost:8080/",
          "height": 553
        },
        "id": "6qMyD34G_Ce1",
        "outputId": "bc540d93-1c7a-47b0-c0dc-73a6c60aa803"
      },
      "execution_count": 13,
      "outputs": [
        {
          "output_type": "stream",
          "name": "stdout",
          "text": [
            "              precision    recall  f1-score   support\n",
            "\n",
            "       False       0.13      0.82      0.23       264\n",
            "        True       0.99      0.86      0.92      9736\n",
            "\n",
            "    accuracy                           0.86     10000\n",
            "   macro avg       0.56      0.84      0.58     10000\n",
            "weighted avg       0.97      0.86      0.90     10000\n",
            "\n",
            "      0     1\n",
            "0   216    48\n",
            "1  1393  8343\n"
          ]
        },
        {
          "output_type": "stream",
          "name": "stderr",
          "text": [
            "/usr/local/lib/python3.7/dist-packages/sklearn/utils/deprecation.py:87: FutureWarning: Function plot_roc_curve is deprecated; Function :func:`plot_roc_curve` is deprecated in 1.0 and will be removed in 1.2. Use one of the class methods: :meth:`sklearn.metric.RocCurveDisplay.from_predictions` or :meth:`sklearn.metric.RocCurveDisplay.from_estimator`.\n",
            "  warnings.warn(msg, category=FutureWarning)\n"
          ]
        },
        {
          "output_type": "display_data",
          "data": {
            "text/plain": [
              "<Figure size 432x288 with 1 Axes>"
            ],
            "image/png": "[encoded data removed]"
          },
          "metadata": {
            "needs_background": "light"
          }
        }
      ]
    },
    {
      "cell_type": "markdown",
      "source": [
        "Se obtiene un AUC = 0.9. Un modelo de bastante calidad en cuanto a trade-off entre TPR y FPR"
      ],
      "metadata": {
        "id": "9ifBUVrXL_Kr"
      }
    },
    {
      "cell_type": "markdown",
      "metadata": {
        "id": "GGh0Wc2NjRpQ"
      },
      "source": [
        "### Modelo basado en tokens (palabras)"
      ]
    },
    {
      "cell_type": "markdown",
      "metadata": {
        "id": "SLrCdS3cjRpQ"
      },
      "source": [
        "<table>\n",
        "<tr><td width=\"80\"><img src=\"img/question.png\" style=\"width:auto;height:auto\"></td><td style=\"text-align:left\">Construye un modelo de clasificación que en base a la crítica en texto de un hotel determine si esta es favorable o desfavorable, empleando únicamente características basadas en los tokens del texto. Mide el nivel de acierto sobre el conjunto de test. ¿Qué nivel de precisión puedes alcanzar?</td></tr>\n",
        "</table>"
      ]
    },
    {
      "cell_type": "code",
      "execution_count": 14,
      "metadata": {
        "colab": {
          "base_uri": "https://localhost:8080/"
        },
        "id": "_4n9N-bFjRpR",
        "outputId": "2f258206-5b7e-4b62-ce29-f59397107318"
      },
      "outputs": [
        {
          "output_type": "execute_result",
          "data": {
            "text/plain": [
              "Pipeline(steps=[('Transformer',\n",
              "                 ColumnTransformer(transformers=[('text_preprocess_positive',\n",
              "                                                  CountVectorizer(binary=True),\n",
              "                                                  'Positive_Review'),\n",
              "                                                 ('text_preprocess_negative',\n",
              "                                                  CountVectorizer(binary=True),\n",
              "                                                  'Negative_Review')])),\n",
              "                ('Classifier', MultinomialNB())])"
            ]
          },
          "metadata": {},
          "execution_count": 14
        }
      ],
      "source": [
        "pipeline_words = Pipeline([\n",
        "    ('Transformer', ColumnTransformer(\n",
        "                        [(\"text_preprocess_positive\", CountVectorizer(analyzer='word', ngram_range=(1, 1), binary=True), \"Positive_Review\"),\n",
        "                        (\"text_preprocess_negative\", CountVectorizer(analyzer='word', ngram_range=(1, 1), binary=True), \"Negative_Review\")])),\n",
        "    ('Classifier', MultinomialNB())])\n",
        "\n",
        "pipeline_words.fit(X_train, y_train)"
      ]
    },
    {
      "cell_type": "markdown",
      "source": [
        "Se escoge transformacion 1-gramas de palabras para considerar solo palabras."
      ],
      "metadata": {
        "id": "GKd3ubX4N9ij"
      }
    },
    {
      "cell_type": "code",
      "source": [
        "print_classification_summary(pipeline_words, X_train, y_train)"
      ],
      "metadata": {
        "colab": {
          "base_uri": "https://localhost:8080/",
          "height": 553
        },
        "id": "MtkctdLqAnhK",
        "outputId": "31ec0a18-cbdc-4ce1-bbdc-42cf52652557"
      },
      "execution_count": 15,
      "outputs": [
        {
          "output_type": "stream",
          "name": "stdout",
          "text": [
            "              precision    recall  f1-score   support\n",
            "\n",
            "       False       0.52      0.75      0.61       383\n",
            "        True       0.99      0.97      0.98      9617\n",
            "\n",
            "    accuracy                           0.96     10000\n",
            "   macro avg       0.75      0.86      0.80     10000\n",
            "weighted avg       0.97      0.96      0.97     10000\n",
            "\n",
            "     0     1\n",
            "0  288    95\n",
            "1  269  9348\n"
          ]
        },
        {
          "output_type": "stream",
          "name": "stderr",
          "text": [
            "/usr/local/lib/python3.7/dist-packages/sklearn/utils/deprecation.py:87: FutureWarning: Function plot_roc_curve is deprecated; Function :func:`plot_roc_curve` is deprecated in 1.0 and will be removed in 1.2. Use one of the class methods: :meth:`sklearn.metric.RocCurveDisplay.from_predictions` or :meth:`sklearn.metric.RocCurveDisplay.from_estimator`.\n",
            "  warnings.warn(msg, category=FutureWarning)\n"
          ]
        },
        {
          "output_type": "display_data",
          "data": {
            "text/plain": [
              "<Figure size 432x288 with 1 Axes>"
            ],
            "image/png": "[encoded data removed]"
          },
          "metadata": {
            "needs_background": "light"
          }
        }
      ]
    },
    {
      "cell_type": "code",
      "source": [
        "print_classification_summary(pipeline_words, X_train, y_train, .8)"
      ],
      "metadata": {
        "colab": {
          "base_uri": "https://localhost:8080/",
          "height": 553
        },
        "id": "oneMeSS5Anou",
        "outputId": "f363d25b-ace3-4f1f-dac1-b73124d955b0"
      },
      "execution_count": 16,
      "outputs": [
        {
          "output_type": "stream",
          "name": "stdout",
          "text": [
            "              precision    recall  f1-score   support\n",
            "\n",
            "       False       0.45      0.80      0.58       383\n",
            "        True       0.99      0.96      0.98      9617\n",
            "\n",
            "    accuracy                           0.95     10000\n",
            "   macro avg       0.72      0.88      0.78     10000\n",
            "weighted avg       0.97      0.95      0.96     10000\n",
            "\n",
            "     0     1\n",
            "0  308    75\n",
            "1  376  9241\n"
          ]
        },
        {
          "output_type": "stream",
          "name": "stderr",
          "text": [
            "/usr/local/lib/python3.7/dist-packages/sklearn/utils/deprecation.py:87: FutureWarning: Function plot_roc_curve is deprecated; Function :func:`plot_roc_curve` is deprecated in 1.0 and will be removed in 1.2. Use one of the class methods: :meth:`sklearn.metric.RocCurveDisplay.from_predictions` or :meth:`sklearn.metric.RocCurveDisplay.from_estimator`.\n",
            "  warnings.warn(msg, category=FutureWarning)\n"
          ]
        },
        {
          "output_type": "display_data",
          "data": {
            "text/plain": [
              "<Figure size 432x288 with 1 Axes>"
            ],
            "image/png": "[encoded data removed]"
          },
          "metadata": {
            "needs_background": "light"
          }
        }
      ]
    },
    {
      "cell_type": "markdown",
      "source": [
        "Un umbral adecuado parece 1-0.2 = 0.8 que es donde parece maximizarse la True positive rate con el False positive rate minimo."
      ],
      "metadata": {
        "id": "0jzAV8Iaa4Mv"
      }
    },
    {
      "cell_type": "code",
      "source": [
        "print_classification_summary(pipeline_words, X_test, y_test, .8)\n"
      ],
      "metadata": {
        "colab": {
          "base_uri": "https://localhost:8080/",
          "height": 553
        },
        "id": "9wclpQR7EQGW",
        "outputId": "ebf3fea8-1463-479a-824b-d7392eeb7108"
      },
      "execution_count": 17,
      "outputs": [
        {
          "output_type": "stream",
          "name": "stdout",
          "text": [
            "              precision    recall  f1-score   support\n",
            "\n",
            "       False       0.29      0.68      0.41       264\n",
            "        True       0.99      0.96      0.97      9736\n",
            "\n",
            "    accuracy                           0.95     10000\n",
            "   macro avg       0.64      0.82      0.69     10000\n",
            "weighted avg       0.97      0.95      0.96     10000\n",
            "\n",
            "     0     1\n",
            "0  179    85\n",
            "1  431  9305\n"
          ]
        },
        {
          "output_type": "stream",
          "name": "stderr",
          "text": [
            "/usr/local/lib/python3.7/dist-packages/sklearn/utils/deprecation.py:87: FutureWarning: Function plot_roc_curve is deprecated; Function :func:`plot_roc_curve` is deprecated in 1.0 and will be removed in 1.2. Use one of the class methods: :meth:`sklearn.metric.RocCurveDisplay.from_predictions` or :meth:`sklearn.metric.RocCurveDisplay.from_estimator`.\n",
            "  warnings.warn(msg, category=FutureWarning)\n"
          ]
        },
        {
          "output_type": "display_data",
          "data": {
            "text/plain": [
              "<Figure size 432x288 with 1 Axes>"
            ],
            "image/png": "[encoded data removed]"
          },
          "metadata": {
            "needs_background": "light"
          }
        }
      ]
    },
    {
      "cell_type": "markdown",
      "source": [
        "Se ve una ligera mejora respecto al metodo basado en caractrers pero no es significativa."
      ],
      "metadata": {
        "id": "3_zjAQUOODGt"
      }
    },
    {
      "cell_type": "markdown",
      "metadata": {
        "id": "Hj-8bVASjRpR"
      },
      "source": [
        "### Modelo basado en análisis morfosintáctico"
      ]
    },
    {
      "cell_type": "markdown",
      "metadata": {
        "id": "C5pIufTkjRpS"
      },
      "source": [
        "<table>\n",
        "<tr><td width=\"80\"><img src=\"img/question.png\" style=\"width:auto;height:auto\"></td><td style=\"text-align:left\">Construye un modelo de clasificación que en base a la crítica en texto de un hotel determine si esta es favorable o desfavorable, empleando algún tipo de análisis morfosintáctico (como n-gramas de lemas, o filtros por POS o stopwords). Mide el nivel de acierto sobre el conjunto de test. ¿Qué nivel de precisión puedes alcanzar?</td></tr>\n",
        "</table>"
      ]
    },
    {
      "cell_type": "markdown",
      "metadata": {
        "id": "JhjQ3S65jRpS"
      },
      "source": [
        "<table>\n",
        "<tr><td width=\"80\"><img src=\"img/exclamation.png\" style=\"width:auto;height:auto\"></td><td style=\"text-align:left\">Recuerda que es posible acelerar el análisis morfosintáctico desactivando ciertas componentes del modelo nlp de spaCy. Revisa el notebook del ejercicio correspondiente para recordar cómo.</td></tr>\n",
        "</table>"
      ]
    },
    {
      "cell_type": "code",
      "execution_count": 18,
      "metadata": {
        "id": "FpAMMSntjRpS"
      },
      "outputs": [],
      "source": [
        "import spacy\n",
        "\n",
        "# !python -m spacy download en"
      ]
    },
    {
      "cell_type": "code",
      "execution_count": 19,
      "metadata": {
        "colab": {
          "base_uri": "https://localhost:8080/"
        },
        "id": "jEObwIz_jRpT",
        "outputId": "4a3bb078-02f3-4715-e8a8-34b04b272eef"
      },
      "outputs": [
        {
          "output_type": "stream",
          "name": "stderr",
          "text": [
            "/usr/local/lib/python3.7/dist-packages/spacy/language.py:1899: UserWarning: [W123] Argument disable with value ['ner', 'parser'] is used instead of ['senter'] as specified in the config. Be aware that this might affect other components in your pipeline.\n",
            "  config_value=config[\"nlp\"][key],\n"
          ]
        }
      ],
      "source": [
        "nlpfast = spacy.load('en_core_web_sm', disable=['ner', 'parser'])"
      ]
    },
    {
      "cell_type": "markdown",
      "source": [
        "Para el análisis morfosintáctico se hace la siguiente transformación:\n",
        "\n",
        "1. Se filtran las palabras por categoría morfológica con más carga de emoción: sustantivos, verbos y adjetivos.\n",
        "\n",
        "2. Se filtran las stopwords ya que no aportan información\n",
        "\n",
        "3. Se sustituye cada token por su lema para reducir el tamaño del vocabulario y tener un problema más sencillo."
      ],
      "metadata": {
        "id": "jfrlJdHujRpT"
      }
    },
    {
      "cell_type": "code",
      "source": [
        "def filter_relevant_tokens(review: spacy.tokens.doc.Doc, relevant_tokens = ['NOUN', 'VERB', 'ADJ']):\n",
        "\n",
        "  target_tokens = []\n",
        "\n",
        "  for ind, token in enumerate(nlpfast(review)):\n",
        "    if token.pos_ in relevant_tokens and ~token.is_stop: # se seleccionan los tokens relevantes del argumento y que no sean stop\n",
        "      target_tokens.append(token.lemma_)\n",
        "    else: continue\n",
        "  return ' '.join(target_tokens)"
      ],
      "metadata": {
        "id": "qjbiQ_3Uk_YO"
      },
      "execution_count": 20,
      "outputs": []
    },
    {
      "cell_type": "code",
      "source": [
        "X_train_morfo, X_test_morfo = X_train.copy(), X_test.copy()"
      ],
      "metadata": {
        "id": "0rxJ7Mmzrrrz"
      },
      "execution_count": 21,
      "outputs": []
    },
    {
      "cell_type": "code",
      "source": [
        "for review_column in ['Positive_Review', 'Negative_Review']:\n",
        "\n",
        "  X_train_morfo[review_column] = X_train[review_column].apply(lambda x: filter_relevant_tokens(nlpfast(x)).strip())\n",
        "  X_test_morfo[review_column] = X_test[review_column].apply(lambda x: filter_relevant_tokens(nlpfast(x)).strip())"
      ],
      "metadata": {
        "id": "9hAOsCK8r13c"
      },
      "execution_count": 22,
      "outputs": []
    },
    {
      "cell_type": "code",
      "source": [
        "pipeline_words.fit(X_train_morfo, y_train)"
      ],
      "metadata": {
        "colab": {
          "base_uri": "https://localhost:8080/"
        },
        "id": "Co3ix4FgvO96",
        "outputId": "3aa43bbb-0a46-44ef-a0db-2de7c1d23ff9"
      },
      "execution_count": 23,
      "outputs": [
        {
          "output_type": "execute_result",
          "data": {
            "text/plain": [
              "Pipeline(steps=[('Transformer',\n",
              "                 ColumnTransformer(transformers=[('text_preprocess_positive',\n",
              "                                                  CountVectorizer(binary=True),\n",
              "                                                  'Positive_Review'),\n",
              "                                                 ('text_preprocess_negative',\n",
              "                                                  CountVectorizer(binary=True),\n",
              "                                                  'Negative_Review')])),\n",
              "                ('Classifier', MultinomialNB())])"
            ]
          },
          "metadata": {},
          "execution_count": 23
        }
      ]
    },
    {
      "cell_type": "code",
      "source": [
        "print_classification_summary(pipeline_words, X_train_morfo, y_train)"
      ],
      "metadata": {
        "colab": {
          "base_uri": "https://localhost:8080/",
          "height": 553
        },
        "id": "JaFwFaeYs35G",
        "outputId": "d71244a2-d571-4cb7-a4b2-7b336475078c"
      },
      "execution_count": 24,
      "outputs": [
        {
          "output_type": "stream",
          "name": "stdout",
          "text": [
            "              precision    recall  f1-score   support\n",
            "\n",
            "       False       0.61      0.71      0.66       383\n",
            "        True       0.99      0.98      0.99      9617\n",
            "\n",
            "    accuracy                           0.97     10000\n",
            "   macro avg       0.80      0.85      0.82     10000\n",
            "weighted avg       0.97      0.97      0.97     10000\n",
            "\n",
            "     0     1\n",
            "0  273   110\n",
            "1  175  9442\n"
          ]
        },
        {
          "output_type": "stream",
          "name": "stderr",
          "text": [
            "/usr/local/lib/python3.7/dist-packages/sklearn/utils/deprecation.py:87: FutureWarning: Function plot_roc_curve is deprecated; Function :func:`plot_roc_curve` is deprecated in 1.0 and will be removed in 1.2. Use one of the class methods: :meth:`sklearn.metric.RocCurveDisplay.from_predictions` or :meth:`sklearn.metric.RocCurveDisplay.from_estimator`.\n",
            "  warnings.warn(msg, category=FutureWarning)\n"
          ]
        },
        {
          "output_type": "display_data",
          "data": {
            "text/plain": [
              "<Figure size 432x288 with 1 Axes>"
            ],
            "image/png": "[encoded data removed]"
          },
          "metadata": {
            "needs_background": "light"
          }
        }
      ]
    },
    {
      "cell_type": "code",
      "source": [
        "print_classification_summary(pipeline_words, X_train_morfo, y_train, th=.8)"
      ],
      "metadata": {
        "colab": {
          "base_uri": "https://localhost:8080/",
          "height": 553
        },
        "id": "OTq29UxwvpGx",
        "outputId": "80845413-2c25-4065-f475-dca2e4c9cb1f"
      },
      "execution_count": 25,
      "outputs": [
        {
          "output_type": "stream",
          "name": "stdout",
          "text": [
            "              precision    recall  f1-score   support\n",
            "\n",
            "       False       0.53      0.76      0.63       383\n",
            "        True       0.99      0.97      0.98      9617\n",
            "\n",
            "    accuracy                           0.97     10000\n",
            "   macro avg       0.76      0.87      0.80     10000\n",
            "weighted avg       0.97      0.97      0.97     10000\n",
            "\n",
            "     0     1\n",
            "0  292    91\n",
            "1  256  9361\n"
          ]
        },
        {
          "output_type": "stream",
          "name": "stderr",
          "text": [
            "/usr/local/lib/python3.7/dist-packages/sklearn/utils/deprecation.py:87: FutureWarning: Function plot_roc_curve is deprecated; Function :func:`plot_roc_curve` is deprecated in 1.0 and will be removed in 1.2. Use one of the class methods: :meth:`sklearn.metric.RocCurveDisplay.from_predictions` or :meth:`sklearn.metric.RocCurveDisplay.from_estimator`.\n",
            "  warnings.warn(msg, category=FutureWarning)\n"
          ]
        },
        {
          "output_type": "display_data",
          "data": {
            "text/plain": [
              "<Figure size 432x288 with 1 Axes>"
            ],
            "image/png": "[encoded data removed]"
          },
          "metadata": {
            "needs_background": "light"
          }
        }
      ]
    },
    {
      "cell_type": "markdown",
      "source": [
        "Un umbral adecuado parece 1-0.3 = 0.7 que es donde parece maximizarse la True positive rate con el False positive rate minimo."
      ],
      "metadata": {
        "id": "uc2op37jbJHz"
      }
    },
    {
      "cell_type": "code",
      "source": [
        "print_classification_summary(pipeline_words, X_test_morfo, y_test, th=.7)"
      ],
      "metadata": {
        "colab": {
          "base_uri": "https://localhost:8080/",
          "height": 553
        },
        "id": "N94pITzBxETh",
        "outputId": "80d78d57-239d-4fb1-f9c0-521e7c4e5847"
      },
      "execution_count": 26,
      "outputs": [
        {
          "output_type": "stream",
          "name": "stdout",
          "text": [
            "              precision    recall  f1-score   support\n",
            "\n",
            "       False       0.38      0.57      0.46       264\n",
            "        True       0.99      0.97      0.98      9736\n",
            "\n",
            "    accuracy                           0.96     10000\n",
            "   macro avg       0.68      0.77      0.72     10000\n",
            "weighted avg       0.97      0.96      0.97     10000\n",
            "\n",
            "     0     1\n",
            "0  151   113\n",
            "1  245  9491\n"
          ]
        },
        {
          "output_type": "stream",
          "name": "stderr",
          "text": [
            "/usr/local/lib/python3.7/dist-packages/sklearn/utils/deprecation.py:87: FutureWarning: Function plot_roc_curve is deprecated; Function :func:`plot_roc_curve` is deprecated in 1.0 and will be removed in 1.2. Use one of the class methods: :meth:`sklearn.metric.RocCurveDisplay.from_predictions` or :meth:`sklearn.metric.RocCurveDisplay.from_estimator`.\n",
            "  warnings.warn(msg, category=FutureWarning)\n"
          ]
        },
        {
          "output_type": "display_data",
          "data": {
            "text/plain": [
              "<Figure size 432x288 with 1 Axes>"
            ],
            "image/png": "[encoded data removed]"
          },
          "metadata": {
            "needs_background": "light"
          }
        }
      ]
    },
    {
      "cell_type": "markdown",
      "source": [
        "Se produce un aligera mejora respecto a los modelos anteriores"
      ],
      "metadata": {
        "id": "EYWeaChibLme"
      }
    },
    {
      "cell_type": "markdown",
      "metadata": {
        "id": "uynsLcJijRpU"
      },
      "source": [
        "### Modelo basado en Deep Learning"
      ]
    },
    {
      "cell_type": "markdown",
      "metadata": {
        "id": "fOqjMVGFjRpU"
      },
      "source": [
        "<table>\n",
        "<tr><td width=\"80\"><img src=\"img/question.png\" style=\"width:auto;height:auto\"></td><td style=\"text-align:left\">Construye un modelo de clasificación que en base a la crítica en texto de un hotel determine si esta es favorable o desfavorable, empleando una aproximación basada en Embeddings y algún tipo de modelo de mezcla (CNN, LSTM, GRU, ...). Mide el nivel de acierto sobre el conjunto de test. ¿Qué nivel de precisión puedes alcanzar?</td></tr>\n",
        "</table>"
      ]
    },
    {
      "cell_type": "markdown",
      "source": [
        "Se transforme el conjunto de train en un único vector para aplicar un tokenizer. Se usa el tratamiento de seleccion morfosintactico por demostrarse superior a los textos raw en las primeras secciones. "
      ],
      "metadata": {
        "id": "vKheJhi8bP_f"
      }
    },
    {
      "cell_type": "code",
      "source": [
        "X_train_uniquecol = X_train_morfo['Positive_Review'] + \" \" + X_train_morfo['Negative_Review']\n",
        "X_test_uniquecol = X_test_morfo['Positive_Review'] + \" \" + X_test_morfo['Negative_Review']"
      ],
      "metadata": {
        "id": "R75E-iU6ABhw"
      },
      "execution_count": 27,
      "outputs": []
    },
    {
      "cell_type": "code",
      "source": [
        "\n",
        "maxwords = 15000\n",
        "tokenizer = Tokenizer(num_words = maxwords)\n",
        "\n",
        "tokenizer.fit_on_texts(X_train_uniquecol)\n",
        "\n",
        "X_train_tokenized = tokenizer.texts_to_sequences(X_train_uniquecol)\n",
        "X_test_tokenized = tokenizer.texts_to_sequences(X_test_uniquecol)\n",
        "\n",
        "plt.boxplot([len(text) for text in X_train_tokenized], whis=[15, 85], showfliers=False)\n",
        "plt.ylabel(\"#Words in a text\")\n",
        "plt.show()"
      ],
      "metadata": {
        "colab": {
          "base_uri": "https://localhost:8080/",
          "height": 265
        },
        "id": "6y4h20GLAQUw",
        "outputId": "d0df6bd3-3498-449d-ff6e-fa1f9d2555de"
      },
      "execution_count": 28,
      "outputs": [
        {
          "output_type": "display_data",
          "data": {
            "text/plain": [
              "<Figure size 432x288 with 1 Axes>"
            ],
            "image/png": "[encoded data removed]"
          },
          "metadata": {
            "needs_background": "light"
          }
        }
      ]
    },
    {
      "cell_type": "markdown",
      "source": [
        "Se ve que el número medio de palabras es 15. Se escoge 30 para hacer un padding en los vectores y simplificar el problema."
      ],
      "metadata": {
        "id": "dOuKrglGbXNz"
      }
    },
    {
      "cell_type": "code",
      "source": [
        "\n",
        "maxsequence = 15\n",
        "X_train_tokenized = pad_sequences(X_train_tokenized, maxlen=maxsequence)\n",
        "X_test_tokenized = pad_sequences(X_test_tokenized, maxlen=maxsequence)"
      ],
      "metadata": {
        "id": "KeIB2-ZQA8oz"
      },
      "execution_count": 29,
      "outputs": []
    },
    {
      "cell_type": "code",
      "source": [
        "X_train_tokenized.shape"
      ],
      "metadata": {
        "colab": {
          "base_uri": "https://localhost:8080/"
        },
        "id": "DEin5yMXBMLr",
        "outputId": "d7248c6a-a2a9-4508-dfdf-28b06b235665"
      },
      "execution_count": 30,
      "outputs": [
        {
          "output_type": "execute_result",
          "data": {
            "text/plain": [
              "(10000, 15)"
            ]
          },
          "metadata": {},
          "execution_count": 30
        }
      ]
    },
    {
      "cell_type": "markdown",
      "source": [
        "Se define la metrica a optimizar, en este caso debido al desbalaceo se optimizará el AUC (Area Under Curve) de la curva ROC."
      ],
      "metadata": {
        "id": "aS30g9owbiOF"
      }
    },
    {
      "cell_type": "code",
      "source": [
        "from keras.layers import LSTM\n",
        "from keras.layers import GRU\n",
        "from tensorflow.keras.metrics import AUC\n",
        "\n",
        "auc = AUC(\n",
        "    num_thresholds=200,\n",
        "    curve=\"ROC\",\n",
        "    summation_method=\"interpolation\",\n",
        "    name=None,\n",
        "    dtype=None,\n",
        "    thresholds=None,\n",
        "    multi_label=False,\n",
        "    num_labels=None,\n",
        "    label_weights=None,\n",
        "    from_logits=False,\n",
        ")"
      ],
      "metadata": {
        "id": "dWNpv5LzHWv3"
      },
      "execution_count": 31,
      "outputs": []
    },
    {
      "cell_type": "markdown",
      "source": [
        "Se define el modelo DL:\n",
        "\n",
        "1. Un embedding al inicio para transformar los indices de palabras en una representacion vectorial que pueda tratar la red neuronal.\n",
        "\n",
        "2. Gated Recurrent Unit layer (GRU) para implementar una red LSTM ligera.\n",
        "\n",
        "3. Una capa oculta previa a la salida con activación sigmoidal"
      ],
      "metadata": {
        "id": "fA5dI3qRbrpE"
      }
    },
    {
      "cell_type": "code",
      "execution_count": 32,
      "metadata": {
        "colab": {
          "base_uri": "https://localhost:8080/"
        },
        "id": "WPKvQPGwjRpU",
        "outputId": "397baf9f-7774-4811-894c-0838fe2b5ec9"
      },
      "outputs": [
        {
          "output_type": "stream",
          "name": "stdout",
          "text": [
            "Model: \"sequential\"\n",
            "_________________________________________________________________\n",
            " Layer (type)                Output Shape              Param #   \n",
            "=================================================================\n",
            " embedding (Embedding)       (None, 15, 64)            960000    \n",
            "                                                                 \n",
            " gru (GRU)                   (None, 32)                9408      \n",
            "                                                                 \n",
            " dense (Dense)               (None, 1)                 33        \n",
            "                                                                 \n",
            " activation (Activation)     (None, 1)                 0         \n",
            "                                                                 \n",
            "=================================================================\n",
            "Total params: 969,441\n",
            "Trainable params: 969,441\n",
            "Non-trainable params: 0\n",
            "_________________________________________________________________\n"
          ]
        }
      ],
      "source": [
        "model = Sequential()\n",
        "model.add(Embedding(input_dim=maxwords, input_length=maxsequence, output_dim=64))\n",
        "model.add(GRU(32)) #GRU(32) | GlobalAveragePooling1D() | LSTM(32)\n",
        "model.add(Dense(1))\n",
        "model.add(Activation('sigmoid'))\n",
        "\n",
        "model.compile(loss='binary_crossentropy', optimizer='adam', metrics=[auc])\n",
        "\n",
        "model.summary()"
      ]
    },
    {
      "cell_type": "markdown",
      "source": [
        "Se entrena la red con batches de 32 y 10 epocas (un numero relativamente pequeño para hacer pruebas)"
      ],
      "metadata": {
        "id": "8HyyPDGqcsC_"
      }
    },
    {
      "cell_type": "code",
      "execution_count": 33,
      "metadata": {
        "colab": {
          "base_uri": "https://localhost:8080/"
        },
        "id": "t-T_vF2-jRpV",
        "outputId": "2b55fe5c-0554-4367-e7d2-15e0b2a075d4"
      },
      "outputs": [
        {
          "output_type": "stream",
          "name": "stdout",
          "text": [
            "Epoch 1/10\n",
            "313/313 [==============================] - 9s 19ms/step - loss: 0.1760 - auc: 0.7543\n",
            "Epoch 2/10\n",
            "313/313 [==============================] - 6s 18ms/step - loss: 0.0765 - auc: 0.9558\n",
            "Epoch 3/10\n",
            "313/313 [==============================] - 6s 18ms/step - loss: 0.0509 - auc: 0.9731\n",
            "Epoch 4/10\n",
            "313/313 [==============================] - 6s 18ms/step - loss: 0.0363 - auc: 0.9826\n",
            "Epoch 5/10\n",
            "313/313 [==============================] - 6s 18ms/step - loss: 0.0277 - auc: 0.9864\n",
            "Epoch 6/10\n",
            "313/313 [==============================] - 6s 18ms/step - loss: 0.0230 - auc: 0.9901\n",
            "Epoch 7/10\n",
            "313/313 [==============================] - 6s 18ms/step - loss: 0.0203 - auc: 0.9911\n",
            "Epoch 8/10\n",
            "313/313 [==============================] - 6s 18ms/step - loss: 0.0178 - auc: 0.9942\n",
            "Epoch 9/10\n",
            "313/313 [==============================] - 6s 18ms/step - loss: 0.0149 - auc: 0.9961\n",
            "Epoch 10/10\n",
            "313/313 [==============================] - 6s 19ms/step - loss: 0.0154 - auc: 0.9935\n"
          ]
        },
        {
          "output_type": "execute_result",
          "data": {
            "text/plain": [
              "<keras.callbacks.History at 0x7f8376e85990>"
            ]
          },
          "metadata": {},
          "execution_count": 33
        }
      ],
      "source": [
        "model.fit(X_train_tokenized, y_train, batch_size=32, epochs=10)"
      ]
    },
    {
      "cell_type": "code",
      "source": [
        "th = .8\n",
        "y_th = (model.predict(X_test_tokenized) >= th).astype(bool)\n",
        "print(pd.DataFrame(confusion_matrix(y_test, y_th)))\n",
        "from sklearn.metrics import roc_auc_score\n",
        "roc_auc_score(y_test, y_th)"
      ],
      "metadata": {
        "colab": {
          "base_uri": "https://localhost:8080/"
        },
        "id": "HdSlDRbSCYxC",
        "outputId": "7cdc43eb-3c58-481a-ed64-129438a6c645"
      },
      "execution_count": 34,
      "outputs": [
        {
          "output_type": "stream",
          "name": "stdout",
          "text": [
            "313/313 [==============================] - 1s 3ms/step\n",
            "     0     1\n",
            "0   68   196\n",
            "1  169  9567\n"
          ]
        },
        {
          "output_type": "execute_result",
          "data": {
            "text/plain": [
              "0.6201087497821269"
            ]
          },
          "metadata": {},
          "execution_count": 34
        }
      ]
    },
    {
      "cell_type": "markdown",
      "source": [
        "Se observa un resultado decente AUC en test (0.7) pero con respecto a train (0.97) es pequeño, asique hay indicios de overfitting. Con un fine tunning adecuado debería dar resultados mejores que el approach clásico, no se ha seguido adelante por falta de tiempo."
      ],
      "metadata": {
        "id": "yYJaFDRrc0iO"
      }
    },
    {
      "cell_type": "markdown",
      "metadata": {
        "id": "fxRj4dSGjRpW"
      },
      "source": [
        "## Otras aproximaciones"
      ]
    },
    {
      "cell_type": "markdown",
      "metadata": {
        "id": "ob3GSCyajRpW"
      },
      "source": [
        "<table>\n",
        "<tr><td width=\"80\"><img src=\"img/pro.png\" style=\"width:auto;height:auto\"></td><td style=\"text-align:left\">Intenta mezclar varias de las features de puntos anteriores en un único modelo, o probar otras aproximaciones. ¿Puedes conseguir un acierto aún mejor?</td></tr>\n",
        "</table>"
      ]
    },
    {
      "cell_type": "code",
      "execution_count": 35,
      "metadata": {
        "id": "-2yHMNw_jRpW"
      },
      "outputs": [],
      "source": [
        "####### INSERT YOUR CODE HERE"
      ]
    },
    {
      "cell_type": "markdown",
      "metadata": {
        "id": "ti0qvvCVjRpW"
      },
      "source": [
        "## Informe"
      ]
    },
    {
      "cell_type": "markdown",
      "metadata": {
        "id": "0LPHV2uKjRpX"
      },
      "source": [
        "<table>\n",
        "<tr><td width=\"80\"><img src=\"img/question.png\" style=\"width:auto;height:auto\"></td><td style=\"text-align:left\">Escribe un informe explicando qué decisiones has tomado a la hora de diseñar el modelo, qué cosas has probado, qué ha funcionado y qué no. Además, realiza una tabla comparativa con los scores sobre el conjunto de test de todos los modelos realizados en la práctica indicando con cuál se ha conseguido mejores resultados.</td></tr>\n",
        "</table>"
      ]
    },
    {
      "cell_type": "markdown",
      "source": [
        "CONCLUSIONES:\n",
        "\n",
        "1. Se ha visto como implementar end-to-end un modelo de NLP para distinguir criticas positivas y negativas. Se obsrvan buenos resultados con técnicas clásicas: Count vectorizer + Naive Bayes con n-gramas de caracteres o palabras. \n",
        "\n",
        "2. Se observa que una limpieza de stopwords y seleccion de categorias morfologicas mejora significativamente los resultados respecto al texto raw.\n",
        "\n",
        "3. En el caso de Deep Learning se ha visto que la etapa de fine tunning es muy relevante para dar buenos resultados. NO se ha llegado a conclusiones claras en este punto por falta de tiempo para investigar que hiperparametros son los adecuados para el problema. "
      ],
      "metadata": {
        "id": "rF0cZVKDjRpX"
      }
    },
    {
      "cell_type": "code",
      "source": [],
      "metadata": {
        "id": "PG3Qbg4WdVEP"
      },
      "execution_count": 35,
      "outputs": []
    }
  ],
  "metadata": {
    "kernelspec": {
      "display_name": "Python 3",
      "language": "python",
      "name": "python3"
    },
    "language_info": {
      "codemirror_mode": {
        "name": "ipython",
        "version": 3
      },
      "file_extension": ".py",
      "mimetype": "text/x-python",
      "name": "python",
      "nbconvert_exporter": "python",
      "pygments_lexer": "ipython3",
      "version": "3.8.8"
    },
    "colab": {
      "provenance": []
    }
  },
  "nbformat": 4,
  "nbformat_minor": 0
}