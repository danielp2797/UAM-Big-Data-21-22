{
 "cells": [
  {
   "cell_type": "markdown",
   "metadata": {},
   "source": [
    "<div class=\"title\">Aplicaciones de Análisis &ndash; TensorFlow</div>\n",
    "<div class=\"subtitle\">Máster en Big Data y Data Science</div>\n",
    "<div class=\"author\">Carlos María Alaíz Gudín - Universidad Autónoma de Madrid</div>\n",
    "\n",
    "---"
   ]
  },
  {
   "cell_type": "markdown",
   "metadata": {},
   "source": [
    "**Configuración inicial**"
   ]
  },
  {
   "cell_type": "code",
   "execution_count": 1,
   "metadata": {},
   "outputs": [
    {
     "data": {
      "text/html": [
       "<head><link rel=\"stylesheet\" href=\"style.css\"></head>\n"
      ],
      "text/plain": [
       "<IPython.core.display.HTML object>"
      ]
     },
     "metadata": {},
     "output_type": "display_data"
    }
   ],
   "source": [
    "%%html\n",
    "<head><link rel=\"stylesheet\" href=\"style.css\"></head>"
   ]
  },
  {
   "cell_type": "code",
   "execution_count": 2,
   "metadata": {},
   "outputs": [
    {
     "name": "stderr",
     "output_type": "stream",
     "text": [
      "/home/daniel/anaconda3/lib/python3.8/site-packages/scipy/__init__.py:146: UserWarning: A NumPy version >=1.16.5 and <1.23.0 is required for this version of SciPy (detected version 1.23.4\n",
      "  warnings.warn(f\"A NumPy version >={np_minversion} and <{np_maxversion}\"\n"
     ]
    }
   ],
   "source": [
    "%load_ext tensorboard\n",
    "\n",
    "import numpy as np\n",
    "\n",
    "import matplotlib\n",
    "import matplotlib.pyplot as plt\n",
    "\n",
    "import os\n",
    "os.environ[\"TF_CPP_MIN_LOG_LEVEL\"] = \"3\"\n",
    "\n",
    "from tensorflow.python.util import deprecation\n",
    "deprecation._PRINT_DEPRECATION_WARNINGS = False\n",
    "\n",
    "import tensorflow as tf\n",
    "gpu_devices = tf.config.experimental.list_physical_devices(\"GPU\")\n",
    "for device in gpu_devices:\n",
    "    tf.config.experimental.set_memory_growth(device, True)\n",
    "\n",
    "matplotlib.rc(\"figure\", figsize=(15, 5))\n",
    "\n",
    "seed = 1234"
   ]
  },
  {
   "cell_type": "markdown",
   "metadata": {},
   "source": [
    "# Introducción"
   ]
  },
  {
   "cell_type": "markdown",
   "metadata": {},
   "source": [
    "## ¿Qué es TensorFlow?"
   ]
  },
  {
   "cell_type": "markdown",
   "metadata": {},
   "source": [
    "* TensorFlow es una librería/framwork *open source* desarrollada por Google para computación numérica usando el flujo de datos en un grafo.\n",
    "Lógicamente, tiene un uso muy adecuado para el desarrollo de modelos de Aprendizaje Automático (*Machine Learning*, ML).\n",
    "* Desarrollada inicialmente como proyecto interno (Google Brain y Google's Machine Intelligence Research), su implementación de código abierto fue liberada en noviembre de 2015 (bajo licencia Apache 2.0).\n",
    "* Su primera  versión estable fue publicada en noviembre de 2018.\n",
    "* La versión estable actual es la 2.10."
   ]
  },
  {
   "cell_type": "markdown",
   "metadata": {},
   "source": [
    "## La importancia de TensorFlow"
   ]
  },
  {
   "cell_type": "markdown",
   "metadata": {},
   "source": [
    "### Impacto"
   ]
  },
  {
   "cell_type": "markdown",
   "metadata": {},
   "source": [
    "* Flexible y escalable.\n",
    "* Utilizada tanto en entornos de investigación como en sistemas productivos.\n",
    "* Hay grandes compañías que lo están utilizando actualmente:\n",
    "\n",
    "<img src=\"figures/Companies_using_TF.png\" width=\"100%\">"
   ]
  },
  {
   "cell_type": "markdown",
   "metadata": {},
   "source": [
    "### Funcionalidad como herramienta de *Deep Learning*"
   ]
  },
  {
   "cell_type": "markdown",
   "metadata": {},
   "source": [
    "* TensorFlow es una herramienta muy completa para *Deep Learning*, como muestra la siguiente tabla comparativa (extraída de [Wikipedia](https://en.wikipedia.org/wiki/Comparison_of_deep-learning_software)):"
   ]
  },
  {
   "cell_type": "markdown",
   "metadata": {},
   "source": [
    "<table class=\"wikitable sortable\" style=\"text-align: center; font-size: 50%; width: 100%; table-layout: fixed;\">\n",
    "\n",
    "<tbody><tr>\n",
    "<th style=\"width: 12em\">Software\n",
    "</th>\n",
    "<th>Creator\n",
    "</th>\n",
    "<th>Initial release\n",
    "</th>\n",
    "<th>Software license<sup id=\"cite_ref-license_1-0\" class=\"reference\"><a href=\"#cite_note-license-1\">&#91;a&#93;</a></sup>\n",
    "</th>\n",
    "<th>Open source\n",
    "</th>\n",
    "<th>Platform\n",
    "</th>\n",
    "<th>Written in\n",
    "</th>\n",
    "<th>Interface\n",
    "</th>\n",
    "<th><a href=\"/wiki/OpenMP\" title=\"OpenMP\">OpenMP</a> support\n",
    "</th>\n",
    "<th><a href=\"/wiki/OpenCL\" title=\"OpenCL\">OpenCL</a> support\n",
    "</th>\n",
    "<th><a href=\"/wiki/CUDA\" title=\"CUDA\">CUDA</a> support\n",
    "</th>\n",
    "<th><a href=\"/wiki/Automatic_differentiation\" title=\"Automatic differentiation\">Automatic differentiation</a><sup id=\"cite_ref-2\" class=\"reference\"><a href=\"#cite_note-2\">&#91;1&#93;</a></sup>\n",
    "</th>\n",
    "<th>Has pretrained models\n",
    "</th>\n",
    "<th><a href=\"/wiki/Recurrent_neural_network\" title=\"Recurrent neural network\">Recurrent nets</a>\n",
    "</th>\n",
    "<th><a href=\"/wiki/Convolutional_neural_network\" title=\"Convolutional neural network\">Convolutional nets</a>\n",
    "</th>\n",
    "<th><a href=\"/wiki/Restricted_Boltzmann_machine\" title=\"Restricted Boltzmann machine\">RBM</a>/<a href=\"/wiki/Deep_belief_network\" title=\"Deep belief network\">DBNs</a>\n",
    "</th>\n",
    "<th>Parallel execution (multi node)\n",
    "</th>\n",
    "<th>Actively developed\n",
    "</th></tr>\n",
    "<tr>\n",
    "<td><a href=\"/wiki/BigDL\" title=\"BigDL\">BigDL</a>\n",
    "</td>\n",
    "<td>Jason Dai (Intel)\n",
    "</td>\n",
    "<td>2016\n",
    "</td>\n",
    "<td style=\"background: #ddfd; color: black; vertical-align: middle; text-align: center;\" class=\"free table-free\"><a href=\"/wiki/Apache_License\" title=\"Apache License\">Apache 2.0</a>\n",
    "</td>\n",
    "<td style=\"background:#9F9;vertical-align:middle;text-align:center;\" class=\"table-yes\">Yes\n",
    "</td>\n",
    "<td>Apache Spark\n",
    "</td>\n",
    "<td>Scala\n",
    "</td>\n",
    "<td>Scala, Python\n",
    "</td>\n",
    "<td>\n",
    "</td>\n",
    "<td>\n",
    "</td>\n",
    "<td style=\"background:#F99;vertical-align:middle;text-align:center;\" class=\"table-no\">No\n",
    "</td>\n",
    "<td>\n",
    "</td>\n",
    "<td style=\"background:#9F9;vertical-align:middle;text-align:center;\" class=\"table-yes\">Yes\n",
    "</td>\n",
    "<td style=\"background:#9F9;vertical-align:middle;text-align:center;\" class=\"table-yes\">Yes\n",
    "</td>\n",
    "<td style=\"background:#9F9;vertical-align:middle;text-align:center;\" class=\"table-yes\">Yes\n",
    "</td>\n",
    "<td>\n",
    "</td>\n",
    "<td>\n",
    "</td>\n",
    "<td>\n",
    "</td></tr>\n",
    "<tr>\n",
    "<td><a href=\"/wiki/Caffe_(software)\" title=\"Caffe (software)\">Caffe</a>\n",
    "</td>\n",
    "<td>Berkeley Vision and Learning Center\n",
    "</td>\n",
    "<td>2013\n",
    "</td>\n",
    "<td style=\"background: #ddfd; color: black; vertical-align: middle; text-align: center;\" class=\"free table-free\"><a href=\"/wiki/BSD_licenses\" title=\"BSD licenses\">BSD</a>\n",
    "</td>\n",
    "<td style=\"background:#9F9;vertical-align:middle;text-align:center;\" class=\"table-yes\">Yes\n",
    "</td>\n",
    "<td><a href=\"/wiki/Linux\" title=\"Linux\">Linux</a>, <a href=\"/wiki/MacOS\" title=\"MacOS\">macOS</a>, <a href=\"/wiki/Microsoft_Windows\" title=\"Microsoft Windows\">Windows</a><sup id=\"cite_ref-3\" class=\"reference\"><a href=\"#cite_note-3\">&#91;2&#93;</a></sup>\n",
    "</td>\n",
    "<td><a href=\"/wiki/C%2B%2B\" title=\"C++\">C++</a>\n",
    "</td>\n",
    "<td><a href=\"/wiki/Python_(programming_language)\" title=\"Python (programming language)\">Python</a>, <a href=\"/wiki/MATLAB\" title=\"MATLAB\">MATLAB</a>, <a href=\"/wiki/C%2B%2B\" title=\"C++\">C++</a>\n",
    "</td>\n",
    "<td style=\"background:#9F9;vertical-align:middle;text-align:center;\" class=\"table-yes\">Yes\n",
    "</td>\n",
    "<td style=\"background: #FED; color: black; vertical-align: middle; text-align: center;\" class=\"depends table-depends\">Under development<sup id=\"cite_ref-4\" class=\"reference\"><a href=\"#cite_note-4\">&#91;3&#93;</a></sup>\n",
    "</td>\n",
    "<td style=\"background:#9F9;vertical-align:middle;text-align:center;\" class=\"table-yes\">Yes\n",
    "</td>\n",
    "<td style=\"background:#9F9;vertical-align:middle;text-align:center;\" class=\"table-yes\">Yes\n",
    "</td>\n",
    "<td style=\"background:#9F9;vertical-align:middle;text-align:center;\" class=\"table-yes\">Yes<sup id=\"cite_ref-5\" class=\"reference\"><a href=\"#cite_note-5\">&#91;4&#93;</a></sup>\n",
    "</td>\n",
    "<td style=\"background:#9F9;vertical-align:middle;text-align:center;\" class=\"table-yes\">Yes\n",
    "</td>\n",
    "<td style=\"background:#9F9;vertical-align:middle;text-align:center;\" class=\"table-yes\">Yes\n",
    "</td>\n",
    "<td style=\"background:#F99;vertical-align:middle;text-align:center;\" class=\"table-no\">No\n",
    "</td>\n",
    "<td style=\"background: #ececec; color: #2C2C2C; font-size: smaller; vertical-align: middle; text-align: center;\" class=\"unknown table-unknown\">?\n",
    "</td>\n",
    "<td style=\"background:#F99;vertical-align:middle;text-align:center;\" class=\"table-no\">No<sup id=\"cite_ref-6\" class=\"reference\"><a href=\"#cite_note-6\">&#91;5&#93;</a></sup>\n",
    "</td></tr>\n",
    "<tr>\n",
    "<td><a href=\"/wiki/Chainer\" title=\"Chainer\">Chainer</a>\n",
    "</td>\n",
    "<td>Preferred Networks\n",
    "</td>\n",
    "<td>2015\n",
    "</td>\n",
    "<td style=\"background: #ddfd; color: black; vertical-align: middle; text-align: center;\" class=\"free table-free\"><a href=\"/wiki/BSD_licenses\" title=\"BSD licenses\">BSD</a>\n",
    "</td>\n",
    "<td style=\"background:#9F9;vertical-align:middle;text-align:center;\" class=\"table-yes\">Yes\n",
    "</td>\n",
    "<td><a href=\"/wiki/Linux\" title=\"Linux\">Linux</a>, <a href=\"/wiki/MacOS\" title=\"MacOS\">macOS</a>\n",
    "</td>\n",
    "<td><a href=\"/wiki/Python_(programming_language)\" title=\"Python (programming language)\">Python</a>\n",
    "</td>\n",
    "<td><a href=\"/wiki/Python_(programming_language)\" title=\"Python (programming language)\">Python</a>\n",
    "</td>\n",
    "<td style=\"background:#F99;vertical-align:middle;text-align:center;\" class=\"table-no\">No\n",
    "</td>\n",
    "<td style=\"background:#F99;vertical-align:middle;text-align:center;\" class=\"table-no\">No\n",
    "</td>\n",
    "<td style=\"background:#9F9;vertical-align:middle;text-align:center;\" class=\"table-yes\">Yes\n",
    "</td>\n",
    "<td style=\"background:#9F9;vertical-align:middle;text-align:center;\" class=\"table-yes\">Yes\n",
    "</td>\n",
    "<td style=\"background:#9F9;vertical-align:middle;text-align:center;\" class=\"table-yes\">Yes\n",
    "</td>\n",
    "<td style=\"background:#9F9;vertical-align:middle;text-align:center;\" class=\"table-yes\">Yes\n",
    "</td>\n",
    "<td style=\"background:#9F9;vertical-align:middle;text-align:center;\" class=\"table-yes\">Yes\n",
    "</td>\n",
    "<td style=\"background:#F99;vertical-align:middle;text-align:center;\" class=\"table-no\">No\n",
    "</td>\n",
    "<td style=\"background:#9F9;vertical-align:middle;text-align:center;\" class=\"table-yes\">Yes\n",
    "</td>\n",
    "<td style=\"background:#F99;vertical-align:middle;text-align:center;\" class=\"table-no\">No<sup id=\"cite_ref-7\" class=\"reference\"><a href=\"#cite_note-7\">&#91;6&#93;</a></sup>\n",
    "</td></tr>\n",
    "<tr>\n",
    "<td><a href=\"/wiki/Deeplearning4j\" title=\"Deeplearning4j\">Deeplearning4j</a>\n",
    "</td>\n",
    "<td>Skymind engineering team; Deeplearning4j community; originally Adam Gibson\n",
    "</td>\n",
    "<td>2014\n",
    "</td>\n",
    "<td style=\"background: #ddfd; color: black; vertical-align: middle; text-align: center;\" class=\"free table-free\"><a href=\"/wiki/Apache_2.0\" class=\"mw-redirect\" title=\"Apache 2.0\">Apache 2.0</a>\n",
    "</td>\n",
    "<td style=\"background:#9F9;vertical-align:middle;text-align:center;\" class=\"table-yes\">Yes\n",
    "</td>\n",
    "<td><a href=\"/wiki/Linux\" title=\"Linux\">Linux</a>, <a href=\"/wiki/MacOS\" title=\"MacOS\">macOS</a>, <a href=\"/wiki/Microsoft_Windows\" title=\"Microsoft Windows\">Windows</a>, <a href=\"/wiki/Android_(operating_system)\" title=\"Android (operating system)\">Android</a> (<a href=\"/wiki/Cross-platform\" class=\"mw-redirect\" title=\"Cross-platform\">Cross-platform</a>)\n",
    "</td>\n",
    "<td><a href=\"/wiki/C%2B%2B\" title=\"C++\">C++</a>, <a href=\"/wiki/Java_(programming_language)\" title=\"Java (programming language)\">Java</a>\n",
    "</td>\n",
    "<td><a href=\"/wiki/Java_(programming_language)\" title=\"Java (programming language)\">Java</a>, <a href=\"/wiki/Scala_(programming_language)\" title=\"Scala (programming language)\">Scala</a>, <a href=\"/wiki/Clojure_(programming_language)\" class=\"mw-redirect\" title=\"Clojure (programming language)\">Clojure</a>, <a href=\"/wiki/Python_(programming_language)\" title=\"Python (programming language)\">Python</a> (<a href=\"/wiki/Keras\" title=\"Keras\">Keras</a>), <a href=\"/wiki/Kotlin_(programming_language)\" title=\"Kotlin (programming language)\">Kotlin</a>\n",
    "</td>\n",
    "<td style=\"background:#9F9;vertical-align:middle;text-align:center;\" class=\"table-yes\">Yes\n",
    "</td>\n",
    "<td style=\"background:#F99;vertical-align:middle;text-align:center;\" class=\"table-no\">No<sup id=\"cite_ref-8\" class=\"reference\"><a href=\"#cite_note-8\">&#91;7&#93;</a></sup>\n",
    "</td>\n",
    "<td style=\"background:#9F9;vertical-align:middle;text-align:center;\" class=\"table-yes\">Yes<sup id=\"cite_ref-9\" class=\"reference\"><a href=\"#cite_note-9\">&#91;8&#93;</a></sup><sup id=\"cite_ref-10\" class=\"reference\"><a href=\"#cite_note-10\">&#91;9&#93;</a></sup>\n",
    "</td>\n",
    "<td style=\"background:#9F9;vertical-align:middle;text-align:center;\" class=\"table-yes\">Computational Graph\n",
    "</td>\n",
    "<td style=\"background:#9F9;vertical-align:middle;text-align:center;\" class=\"table-yes\">Yes<sup id=\"cite_ref-11\" class=\"reference\"><a href=\"#cite_note-11\">&#91;10&#93;</a></sup>\n",
    "</td>\n",
    "<td style=\"background:#9F9;vertical-align:middle;text-align:center;\" class=\"table-yes\">Yes\n",
    "</td>\n",
    "<td style=\"background:#9F9;vertical-align:middle;text-align:center;\" class=\"table-yes\">Yes\n",
    "</td>\n",
    "<td style=\"background:#9F9;vertical-align:middle;text-align:center;\" class=\"table-yes\">Yes\n",
    "</td>\n",
    "<td style=\"background:#9F9;vertical-align:middle;text-align:center;\" class=\"table-yes\">Yes<sup id=\"cite_ref-12\" class=\"reference\"><a href=\"#cite_note-12\">&#91;11&#93;</a></sup>\n",
    "</td>\n",
    "<td>Yes\n",
    "</td></tr>\n",
    "<tr>\n",
    "<td><a href=\"/wiki/Dlib\" title=\"Dlib\">Dlib</a>\n",
    "</td>\n",
    "<td>Davis King\n",
    "</td>\n",
    "<td>2002\n",
    "</td>\n",
    "<td style=\"background: #ddfd; color: black; vertical-align: middle; text-align: center;\" class=\"free table-free\"><a href=\"/wiki/Boost_Software_License\" class=\"mw-redirect\" title=\"Boost Software License\">Boost Software License</a>\n",
    "</td>\n",
    "<td style=\"background:#9F9;vertical-align:middle;text-align:center;\" class=\"table-yes\">Yes\n",
    "</td>\n",
    "<td><a href=\"/wiki/Cross-platform\" class=\"mw-redirect\" title=\"Cross-platform\">Cross-platform</a>\n",
    "</td>\n",
    "<td><a href=\"/wiki/C%2B%2B\" title=\"C++\">C++</a>\n",
    "</td>\n",
    "<td><a href=\"/wiki/C%2B%2B\" title=\"C++\">C++</a>, <a href=\"/wiki/Python_(programming_language)\" title=\"Python (programming language)\">Python</a>\n",
    "</td>\n",
    "<td style=\"background:#9F9;vertical-align:middle;text-align:center;\" class=\"table-yes\">Yes\n",
    "</td>\n",
    "<td style=\"background:#F99;vertical-align:middle;text-align:center;\" class=\"table-no\">No\n",
    "</td>\n",
    "<td style=\"background:#9F9;vertical-align:middle;text-align:center;\" class=\"table-yes\">Yes\n",
    "</td>\n",
    "<td style=\"background:#9F9;vertical-align:middle;text-align:center;\" class=\"table-yes\">Yes\n",
    "</td>\n",
    "<td style=\"background:#9F9;vertical-align:middle;text-align:center;\" class=\"table-yes\">Yes\n",
    "</td>\n",
    "<td style=\"background:#F99;vertical-align:middle;text-align:center;\" class=\"table-no\">No\n",
    "</td>\n",
    "<td style=\"background:#9F9;vertical-align:middle;text-align:center;\" class=\"table-yes\">Yes\n",
    "</td>\n",
    "<td style=\"background:#9F9;vertical-align:middle;text-align:center;\" class=\"table-yes\">Yes\n",
    "</td>\n",
    "<td style=\"background:#9F9;vertical-align:middle;text-align:center;\" class=\"table-yes\">Yes\n",
    "</td>\n",
    "<td>\n",
    "</td></tr>\n",
    "<tr>\n",
    "<td><a href=\"/wiki/Flux_(machine-learning_framework)\" title=\"Flux (machine-learning framework)\">Flux</a>\n",
    "</td>\n",
    "<td>Mike Innes\n",
    "</td>\n",
    "<td>2017\n",
    "</td>\n",
    "<td style=\"background: #ddfd; color: black; vertical-align: middle; text-align: center;\" class=\"free table-free\"><a href=\"/wiki/MIT_license\" class=\"mw-redirect\" title=\"MIT license\">MIT license</a>\n",
    "</td>\n",
    "<td style=\"background:#9F9;vertical-align:middle;text-align:center;\" class=\"table-yes\">Yes\n",
    "</td>\n",
    "<td><a href=\"/wiki/Linux\" title=\"Linux\">Linux</a>, <a href=\"/wiki/MacOS\" title=\"MacOS\">MacOS</a>, <a href=\"/wiki/Windows\" class=\"mw-redirect\" title=\"Windows\">Windows</a> (<a href=\"/wiki/Cross-platform_software\" title=\"Cross-platform software\">Cross-platform</a>)\n",
    "</td>\n",
    "<td><a href=\"/wiki/Julia_(programming_language)\" title=\"Julia (programming language)\">Julia</a>\n",
    "</td>\n",
    "<td><a href=\"/wiki/Julia_(programming_language)\" title=\"Julia (programming language)\">Julia</a>\n",
    "</td>\n",
    "<td>\n",
    "</td>\n",
    "<td>\n",
    "</td>\n",
    "<td style=\"background:#9F9;vertical-align:middle;text-align:center;\" class=\"table-yes\">Yes\n",
    "</td>\n",
    "<td style=\"background:#9F9;vertical-align:middle;text-align:center;\" class=\"table-yes\">Yes\n",
    "</td>\n",
    "<td style=\"background:#9F9;vertical-align:middle;text-align:center;\" class=\"table-yes\">Yes<sup id=\"cite_ref-13\" class=\"reference\"><a href=\"#cite_note-13\">&#91;12&#93;</a></sup>\n",
    "</td>\n",
    "<td style=\"background:#9F9;vertical-align:middle;text-align:center;\" class=\"table-yes\">Yes\n",
    "</td>\n",
    "<td style=\"background:#9F9;vertical-align:middle;text-align:center;\" class=\"table-yes\">Yes\n",
    "</td>\n",
    "<td style=\"background:#F99;vertical-align:middle;text-align:center;\" class=\"table-no\">No\n",
    "</td>\n",
    "<td style=\"background:#9F9;vertical-align:middle;text-align:center;\" class=\"table-yes\">Yes\n",
    "</td>\n",
    "<td style=\"background:#9F9;vertical-align:middle;text-align:center;\" class=\"table-yes\">Yes\n",
    "</td></tr>\n",
    "<tr>\n",
    "<td>Intel <a href=\"/wiki/Data_Analytics_Acceleration_Library\" title=\"Data Analytics Acceleration Library\">Data Analytics Acceleration Library</a>\n",
    "</td>\n",
    "<td>Intel\n",
    "</td>\n",
    "<td>2015\n",
    "</td>\n",
    "<td style=\"background: #ddfd; color: black; vertical-align: middle; text-align: center;\" class=\"free table-free\"><a href=\"/wiki/Apache_License_2.0\" class=\"mw-redirect\" title=\"Apache License 2.0\">Apache License 2.0</a>\n",
    "</td>\n",
    "<td style=\"background:#9F9;vertical-align:middle;text-align:center;\" class=\"table-yes\">Yes\n",
    "</td>\n",
    "<td><a href=\"/wiki/Linux\" title=\"Linux\">Linux</a>, <a href=\"/wiki/MacOS\" title=\"MacOS\">macOS</a>, <a href=\"/wiki/Microsoft_Windows\" title=\"Microsoft Windows\">Windows</a> on <a href=\"/wiki/Intel\" title=\"Intel\">Intel</a> <a href=\"/wiki/Central_processing_unit\" title=\"Central processing unit\">CPU</a><sup id=\"cite_ref-intel-daal_14-0\" class=\"reference\"><a href=\"#cite_note-intel-daal-14\">&#91;13&#93;</a></sup>\n",
    "</td>\n",
    "<td><a href=\"/wiki/C%2B%2B\" title=\"C++\">C++</a>, <a href=\"/wiki/Python_(programming_language)\" title=\"Python (programming language)\">Python</a>, <a href=\"/wiki/Java_(programming_language)\" title=\"Java (programming language)\">Java</a>\n",
    "</td>\n",
    "<td><a href=\"/wiki/C%2B%2B\" title=\"C++\">C++</a>, <a href=\"/wiki/Python_(programming_language)\" title=\"Python (programming language)\">Python</a>, <a href=\"/wiki/Java_(programming_language)\" title=\"Java (programming language)\">Java</a><sup id=\"cite_ref-intel-daal_14-1\" class=\"reference\"><a href=\"#cite_note-intel-daal-14\">&#91;13&#93;</a></sup>\n",
    "</td>\n",
    "<td style=\"background:#9F9;vertical-align:middle;text-align:center;\" class=\"table-yes\">Yes\n",
    "</td>\n",
    "<td style=\"background:#F99;vertical-align:middle;text-align:center;\" class=\"table-no\">No\n",
    "</td>\n",
    "<td style=\"background:#F99;vertical-align:middle;text-align:center;\" class=\"table-no\">No\n",
    "</td>\n",
    "<td style=\"background:#9F9;vertical-align:middle;text-align:center;\" class=\"table-yes\">Yes\n",
    "</td>\n",
    "<td style=\"background:#F99;vertical-align:middle;text-align:center;\" class=\"table-no\">No\n",
    "</td>\n",
    "<td>\n",
    "</td>\n",
    "<td style=\"background:#9F9;vertical-align:middle;text-align:center;\" class=\"table-yes\">Yes\n",
    "</td>\n",
    "<td>\n",
    "</td>\n",
    "<td style=\"background:#9F9;vertical-align:middle;text-align:center;\" class=\"table-yes\">Yes\n",
    "</td>\n",
    "<td>\n",
    "</td></tr>\n",
    "<tr>\n",
    "<td>Intel <a href=\"/wiki/Math_Kernel_Library\" title=\"Math Kernel Library\">Math Kernel Library</a>\n",
    "</td>\n",
    "<td>Intel\n",
    "</td>\n",
    "<td>\n",
    "</td>\n",
    "<td style=\"background: #ddf; vertical-align: middle; text-align: center;\" class=\"table-proprietary\"><a href=\"/wiki/Proprietary_software\" title=\"Proprietary software\">Proprietary</a>\n",
    "</td>\n",
    "<td style=\"background:#F99;vertical-align:middle;text-align:center;\" class=\"table-no\">No\n",
    "</td>\n",
    "<td><a href=\"/wiki/Linux\" title=\"Linux\">Linux</a>, <a href=\"/wiki/MacOS\" title=\"MacOS\">macOS</a>, <a href=\"/wiki/Microsoft_Windows\" title=\"Microsoft Windows\">Windows</a> on <a href=\"/wiki/Intel\" title=\"Intel\">Intel</a> <a href=\"/wiki/Central_processing_unit\" title=\"Central processing unit\">CPU</a><sup id=\"cite_ref-15\" class=\"reference\"><a href=\"#cite_note-15\">&#91;14&#93;</a></sup>\n",
    "</td>\n",
    "<td>\n",
    "</td>\n",
    "<td><a href=\"/wiki/C_(programming_language)\" title=\"C (programming language)\">C</a><sup id=\"cite_ref-16\" class=\"reference\"><a href=\"#cite_note-16\">&#91;15&#93;</a></sup>\n",
    "</td>\n",
    "<td style=\"background:#9F9;vertical-align:middle;text-align:center;\" class=\"table-yes\">Yes<sup id=\"cite_ref-17\" class=\"reference\"><a href=\"#cite_note-17\">&#91;16&#93;</a></sup>\n",
    "</td>\n",
    "<td style=\"background:#F99;vertical-align:middle;text-align:center;\" class=\"table-no\">No\n",
    "</td>\n",
    "<td style=\"background:#F99;vertical-align:middle;text-align:center;\" class=\"table-no\">No\n",
    "</td>\n",
    "<td style=\"background:#9F9;vertical-align:middle;text-align:center;\" class=\"table-yes\">Yes\n",
    "</td>\n",
    "<td style=\"background:#F99;vertical-align:middle;text-align:center;\" class=\"table-no\">No\n",
    "</td>\n",
    "<td style=\"background:#9F9;vertical-align:middle;text-align:center;\" class=\"table-yes\">Yes<sup id=\"cite_ref-intel-benchmark_18-0\" class=\"reference\"><a href=\"#cite_note-intel-benchmark-18\">&#91;17&#93;</a></sup>\n",
    "</td>\n",
    "<td style=\"background:#9F9;vertical-align:middle;text-align:center;\" class=\"table-yes\">Yes<sup id=\"cite_ref-intel-benchmark_18-1\" class=\"reference\"><a href=\"#cite_note-intel-benchmark-18\">&#91;17&#93;</a></sup>\n",
    "</td>\n",
    "<td>\n",
    "</td>\n",
    "<td style=\"background:#F99;vertical-align:middle;text-align:center;\" class=\"table-no\">No\n",
    "</td>\n",
    "<td>\n",
    "</td></tr>\n",
    "<tr>\n",
    "<td><a href=\"/wiki/Keras\" title=\"Keras\">Keras</a>\n",
    "</td>\n",
    "<td>François Chollet\n",
    "</td>\n",
    "<td>2015\n",
    "</td>\n",
    "<td style=\"background: #ddfd; color: black; vertical-align: middle; text-align: center;\" class=\"free table-free\"><a href=\"/wiki/MIT_license\" class=\"mw-redirect\" title=\"MIT license\">MIT license</a>\n",
    "</td>\n",
    "<td style=\"background:#9F9;vertical-align:middle;text-align:center;\" class=\"table-yes\">Yes\n",
    "</td>\n",
    "<td><a href=\"/wiki/Linux\" title=\"Linux\">Linux</a>, <a href=\"/wiki/MacOS\" title=\"MacOS\">macOS</a>, <a href=\"/wiki/Microsoft_Windows\" title=\"Microsoft Windows\">Windows</a>\n",
    "</td>\n",
    "<td><a href=\"/wiki/Python_(programming_language)\" title=\"Python (programming language)\">Python</a>\n",
    "</td>\n",
    "<td><a href=\"/wiki/Python_(programming_language)\" title=\"Python (programming language)\">Python</a>, <a href=\"/wiki/R_(programming_language)\" title=\"R (programming language)\">R</a>\n",
    "</td>\n",
    "<td style=\"background: #FED; color: black; vertical-align: middle; text-align: center;\" class=\"depends table-depends\">Only if using Theano as backend\n",
    "</td>\n",
    "<td style=\"background: #FED; color: black; vertical-align: middle; text-align: center;\" class=\"depends table-depends\">Can use Theano, Tensorflow or PlaidML as backends\n",
    "</td>\n",
    "<td style=\"background:#9F9;vertical-align:middle;text-align:center;\" class=\"table-yes\">Yes\n",
    "</td>\n",
    "<td style=\"background:#9F9;vertical-align:middle;text-align:center;\" class=\"table-yes\">Yes\n",
    "</td>\n",
    "<td style=\"background:#9F9;vertical-align:middle;text-align:center;\" class=\"table-yes\">Yes<sup id=\"cite_ref-19\" class=\"reference\"><a href=\"#cite_note-19\">&#91;18&#93;</a></sup>\n",
    "</td>\n",
    "<td style=\"background:#9F9;vertical-align:middle;text-align:center;\" class=\"table-yes\">Yes\n",
    "</td>\n",
    "<td style=\"background:#9F9;vertical-align:middle;text-align:center;\" class=\"table-yes\">Yes\n",
    "</td>\n",
    "<td style=\"background:#F99;vertical-align:middle;text-align:center;\" class=\"table-no\">No<sup id=\"cite_ref-20\" class=\"reference\"><a href=\"#cite_note-20\">&#91;19&#93;</a></sup>\n",
    "</td>\n",
    "<td style=\"background:#9F9;vertical-align:middle;text-align:center;\" class=\"table-yes\">Yes<sup id=\"cite_ref-21\" class=\"reference\"><a href=\"#cite_note-21\">&#91;20&#93;</a></sup>\n",
    "</td>\n",
    "<td style=\"background:#9F9;vertical-align:middle;text-align:center;\" class=\"table-yes\">Yes\n",
    "</td></tr>\n",
    "<tr>\n",
    "<td><a href=\"/wiki/MATLAB\" title=\"MATLAB\">MATLAB</a> + Deep Learning Toolbox\n",
    "</td>\n",
    "<td><a href=\"/wiki/MathWorks\" title=\"MathWorks\">MathWorks</a>\n",
    "</td>\n",
    "<td>\n",
    "</td>\n",
    "<td style=\"background: #ddf; vertical-align: middle; text-align: center;\" class=\"table-proprietary\"><a href=\"/wiki/Proprietary_software\" title=\"Proprietary software\">Proprietary</a>\n",
    "</td>\n",
    "<td style=\"background:#F99;vertical-align:middle;text-align:center;\" class=\"table-no\">No\n",
    "</td>\n",
    "<td><a href=\"/wiki/Linux\" title=\"Linux\">Linux</a>, <a href=\"/wiki/MacOS\" title=\"MacOS\">macOS</a>, <a href=\"/wiki/Microsoft_Windows\" title=\"Microsoft Windows\">Windows</a>\n",
    "</td>\n",
    "<td><a href=\"/wiki/C_(programming_language)\" title=\"C (programming language)\">C</a>, <a href=\"/wiki/C%2B%2B\" title=\"C++\">C++</a>, <a href=\"/wiki/Java_(programming_language)\" title=\"Java (programming language)\">Java</a>, <a href=\"/wiki/MATLAB\" title=\"MATLAB\">MATLAB</a>\n",
    "</td>\n",
    "<td><a href=\"/wiki/MATLAB\" title=\"MATLAB\">MATLAB</a>\n",
    "</td>\n",
    "<td style=\"background:#F99;vertical-align:middle;text-align:center;\" class=\"table-no\">No\n",
    "</td>\n",
    "<td style=\"background:#F99;vertical-align:middle;text-align:center;\" class=\"table-no\">No\n",
    "</td>\n",
    "<td style=\"background:#9F9;vertical-align:middle;text-align:center;\" class=\"table-yes\">Train with Parallel Computing Toolbox and generate CUDA code with GPU Coder<sup id=\"cite_ref-22\" class=\"reference\"><a href=\"#cite_note-22\">&#91;21&#93;</a></sup>\n",
    "</td>\n",
    "<td style=\"background:#9F9;vertical-align:middle;text-align:center;\" class=\"table-yes\">Yes<sup id=\"cite_ref-23\" class=\"reference\"><a href=\"#cite_note-23\">&#91;22&#93;</a></sup>\n",
    "</td>\n",
    "<td style=\"background:#9F9;vertical-align:middle;text-align:center;\" class=\"table-yes\">Yes<sup id=\"cite_ref-NNT_24-0\" class=\"reference\"><a href=\"#cite_note-NNT-24\">&#91;23&#93;</a></sup><sup id=\"cite_ref-25\" class=\"reference\"><a href=\"#cite_note-25\">&#91;24&#93;</a></sup>\n",
    "</td>\n",
    "<td style=\"background:#9F9;vertical-align:middle;text-align:center;\" class=\"table-yes\">Yes<sup id=\"cite_ref-NNT_24-1\" class=\"reference\"><a href=\"#cite_note-NNT-24\">&#91;23&#93;</a></sup>\n",
    "</td>\n",
    "<td style=\"background:#9F9;vertical-align:middle;text-align:center;\" class=\"table-yes\">Yes<sup id=\"cite_ref-NNT_24-2\" class=\"reference\"><a href=\"#cite_note-NNT-24\">&#91;23&#93;</a></sup>\n",
    "</td>\n",
    "<td style=\"background:#9F9;vertical-align:middle;text-align:center;\" class=\"table-yes\">Yes\n",
    "</td>\n",
    "<td style=\"background:#9F9;vertical-align:middle;text-align:center;\" class=\"table-yes\">With Parallel Computing Toolbox<sup id=\"cite_ref-26\" class=\"reference\"><a href=\"#cite_note-26\">&#91;25&#93;</a></sup>\n",
    "</td>\n",
    "<td style=\"background:#9F9;vertical-align:middle;text-align:center;\" class=\"table-yes\">Yes\n",
    "</td></tr>\n",
    "<tr>\n",
    "<td><a href=\"/wiki/Microsoft_Cognitive_Toolkit\" title=\"Microsoft Cognitive Toolkit\">Microsoft Cognitive Toolkit</a> (CNTK)\n",
    "</td>\n",
    "<td><a href=\"/wiki/Microsoft_Research\" title=\"Microsoft Research\">Microsoft Research</a>\n",
    "</td>\n",
    "<td>2016\n",
    "</td>\n",
    "<td style=\"background: #ddfd; color: black; vertical-align: middle; text-align: center;\" class=\"free table-free\"><a href=\"/wiki/MIT_license\" class=\"mw-redirect\" title=\"MIT license\">MIT license</a><sup id=\"cite_ref-27\" class=\"reference\"><a href=\"#cite_note-27\">&#91;26&#93;</a></sup>\n",
    "</td>\n",
    "<td style=\"background:#9F9;vertical-align:middle;text-align:center;\" class=\"table-yes\">Yes\n",
    "</td>\n",
    "<td><a href=\"/wiki/Microsoft_Windows\" title=\"Microsoft Windows\">Windows</a>, <a href=\"/wiki/Linux\" title=\"Linux\">Linux</a><sup id=\"cite_ref-Setup_CNTK_on_your_machine_28-0\" class=\"reference\"><a href=\"#cite_note-Setup_CNTK_on_your_machine-28\">&#91;27&#93;</a></sup> (<a href=\"/wiki/MacOS\" title=\"MacOS\">macOS</a> via Docker on roadmap)\n",
    "</td>\n",
    "<td><a href=\"/wiki/C%2B%2B\" title=\"C++\">C++</a>\n",
    "</td>\n",
    "<td><a href=\"/wiki/Python_(programming_language)\" title=\"Python (programming language)\">Python</a> (<a href=\"/wiki/Keras\" title=\"Keras\">Keras</a>), <a href=\"/wiki/C%2B%2B\" title=\"C++\">C++</a>, <a href=\"/wiki/Command_line\" class=\"mw-redirect\" title=\"Command line\">Command line</a>,<sup id=\"cite_ref-29\" class=\"reference\"><a href=\"#cite_note-29\">&#91;28&#93;</a></sup> BrainScript<sup id=\"cite_ref-30\" class=\"reference\"><a href=\"#cite_note-30\">&#91;29&#93;</a></sup> (<a href=\"/wiki/.NET_Framework\" title=\".NET Framework\">.NET</a> on roadmap<sup id=\"cite_ref-31\" class=\"reference\"><a href=\"#cite_note-31\">&#91;30&#93;</a></sup>)\n",
    "</td>\n",
    "<td style=\"background:#9F9;vertical-align:middle;text-align:center;\" class=\"table-yes\">Yes<sup id=\"cite_ref-32\" class=\"reference\"><a href=\"#cite_note-32\">&#91;31&#93;</a></sup>\n",
    "</td>\n",
    "<td style=\"background:#F99;vertical-align:middle;text-align:center;\" class=\"table-no\">No\n",
    "</td>\n",
    "<td style=\"background:#9F9;vertical-align:middle;text-align:center;\" class=\"table-yes\">Yes\n",
    "</td>\n",
    "<td style=\"background:#9F9;vertical-align:middle;text-align:center;\" class=\"table-yes\">Yes\n",
    "</td>\n",
    "<td style=\"background:#9F9;vertical-align:middle;text-align:center;\" class=\"table-yes\">Yes<sup id=\"cite_ref-33\" class=\"reference\"><a href=\"#cite_note-33\">&#91;32&#93;</a></sup>\n",
    "</td>\n",
    "<td style=\"background:#9F9;vertical-align:middle;text-align:center;\" class=\"table-yes\">Yes<sup id=\"cite_ref-cntk.ai_34-0\" class=\"reference\"><a href=\"#cite_note-cntk.ai-34\">&#91;33&#93;</a></sup>\n",
    "</td>\n",
    "<td style=\"background:#9F9;vertical-align:middle;text-align:center;\" class=\"table-yes\">Yes<sup id=\"cite_ref-cntk.ai_34-1\" class=\"reference\"><a href=\"#cite_note-cntk.ai-34\">&#91;33&#93;</a></sup>\n",
    "</td>\n",
    "<td style=\"background:#F99;vertical-align:middle;text-align:center;\" class=\"table-no\">No<sup id=\"cite_ref-35\" class=\"reference\"><a href=\"#cite_note-35\">&#91;34&#93;</a></sup>\n",
    "</td>\n",
    "<td style=\"background:#9F9;vertical-align:middle;text-align:center;\" class=\"table-yes\">Yes<sup id=\"cite_ref-36\" class=\"reference\"><a href=\"#cite_note-36\">&#91;35&#93;</a></sup>\n",
    "</td>\n",
    "<td style=\"background:#F99;vertical-align:middle;text-align:center;\" class=\"table-no\">No<sup id=\"cite_ref-37\" class=\"reference\"><a href=\"#cite_note-37\">&#91;36&#93;</a></sup>\n",
    "</td></tr>\n",
    "<tr>\n",
    "<td>Apache <a href=\"/wiki/MXNet\" class=\"mw-redirect\" title=\"MXNet\">MXNet</a>\n",
    "</td>\n",
    "<td>Apache Software Foundation\n",
    "</td>\n",
    "<td>2015\n",
    "</td>\n",
    "<td style=\"background: #ddfd; color: black; vertical-align: middle; text-align: center;\" class=\"free table-free\"><a href=\"/wiki/Apache_2.0\" class=\"mw-redirect\" title=\"Apache 2.0\">Apache 2.0</a>\n",
    "</td>\n",
    "<td style=\"background:#9F9;vertical-align:middle;text-align:center;\" class=\"table-yes\">Yes\n",
    "</td>\n",
    "<td><a href=\"/wiki/Linux\" title=\"Linux\">Linux</a>, <a href=\"/wiki/MacOS\" title=\"MacOS\">macOS</a>, <a href=\"/wiki/Microsoft_Windows\" title=\"Microsoft Windows\">Windows</a>,<sup id=\"cite_ref-38\" class=\"reference\"><a href=\"#cite_note-38\">&#91;37&#93;</a></sup><sup id=\"cite_ref-39\" class=\"reference\"><a href=\"#cite_note-39\">&#91;38&#93;</a></sup> <a href=\"/wiki/Amazon_Web_Services\" title=\"Amazon Web Services\">AWS</a>, <a href=\"/wiki/Android_(operating_system)\" title=\"Android (operating system)\">Android</a>,<sup id=\"cite_ref-40\" class=\"reference\"><a href=\"#cite_note-40\">&#91;39&#93;</a></sup> <a href=\"/wiki/IOS\" title=\"IOS\">iOS</a>, <a href=\"/wiki/File_manager\" title=\"File manager\">JavaScript</a><sup id=\"cite_ref-41\" class=\"reference\"><a href=\"#cite_note-41\">&#91;40&#93;</a></sup>\n",
    "</td>\n",
    "<td>Small <a href=\"/wiki/C%2B%2B\" title=\"C++\">C++</a> core library\n",
    "</td>\n",
    "<td><a href=\"/wiki/C%2B%2B\" title=\"C++\">C++</a>, <a href=\"/wiki/Python_(programming_language)\" title=\"Python (programming language)\">Python</a>, <a href=\"/wiki/Julia_(programming_language)\" title=\"Julia (programming language)\">Julia</a>, <a href=\"/wiki/Matlab\" class=\"mw-redirect\" title=\"Matlab\">Matlab</a>, <a href=\"/wiki/JavaScript\" title=\"JavaScript\">JavaScript</a>, <a href=\"/wiki/Go_(programming_language)\" title=\"Go (programming language)\">Go</a>, <a href=\"/wiki/R_(programming_language)\" title=\"R (programming language)\">R</a>, <a href=\"/wiki/Scala_(programming_language)\" title=\"Scala (programming language)\">Scala</a>, <a href=\"/wiki/Perl_(programming_language)\" class=\"mw-redirect\" title=\"Perl (programming language)\">Perl</a>, <a href=\"/wiki/Clojure_(programming_language)\" class=\"mw-redirect\" title=\"Clojure (programming language)\">Clojure</a>\n",
    "</td>\n",
    "<td style=\"background:#9F9;vertical-align:middle;text-align:center;\" class=\"table-yes\">Yes\n",
    "</td>\n",
    "<td style=\"background: #FED; color: black; vertical-align: middle; text-align: center;\" class=\"depends table-depends\">On roadmap<sup id=\"cite_ref-42\" class=\"reference\"><a href=\"#cite_note-42\">&#91;41&#93;</a></sup>\n",
    "</td>\n",
    "<td style=\"background:#9F9;vertical-align:middle;text-align:center;\" class=\"table-yes\">Yes\n",
    "</td>\n",
    "<td style=\"background:#9F9;vertical-align:middle;text-align:center;\" class=\"table-yes\">Yes<sup id=\"cite_ref-43\" class=\"reference\"><a href=\"#cite_note-43\">&#91;42&#93;</a></sup>\n",
    "</td>\n",
    "<td style=\"background:#9F9;vertical-align:middle;text-align:center;\" class=\"table-yes\">Yes<sup id=\"cite_ref-44\" class=\"reference\"><a href=\"#cite_note-44\">&#91;43&#93;</a></sup>\n",
    "</td>\n",
    "<td style=\"background:#9F9;vertical-align:middle;text-align:center;\" class=\"table-yes\">Yes\n",
    "</td>\n",
    "<td style=\"background:#9F9;vertical-align:middle;text-align:center;\" class=\"table-yes\">Yes\n",
    "</td>\n",
    "<td style=\"background:#9F9;vertical-align:middle;text-align:center;\" class=\"table-yes\">Yes\n",
    "</td>\n",
    "<td style=\"background:#9F9;vertical-align:middle;text-align:center;\" class=\"table-yes\">Yes<sup id=\"cite_ref-45\" class=\"reference\"><a href=\"#cite_note-45\">&#91;44&#93;</a></sup>\n",
    "</td>\n",
    "<td style=\"background:#9F9;vertical-align:middle;text-align:center;\" class=\"table-yes\">Yes\n",
    "</td></tr>\n",
    "<tr>\n",
    "<td><a href=\"/wiki/Neural_Designer\" title=\"Neural Designer\">Neural Designer</a>\n",
    "</td>\n",
    "<td>Artelnics\n",
    "</td>\n",
    "<td>2014\n",
    "</td>\n",
    "<td style=\"background: #ddf; vertical-align: middle; text-align: center;\" class=\"table-proprietary\"><a href=\"/wiki/Proprietary_software\" title=\"Proprietary software\">Proprietary</a>\n",
    "</td>\n",
    "<td style=\"background:#F99;vertical-align:middle;text-align:center;\" class=\"table-no\">No\n",
    "</td>\n",
    "<td><a href=\"/wiki/Linux\" title=\"Linux\">Linux</a>, <a href=\"/wiki/MacOS\" title=\"MacOS\">macOS</a>, <a href=\"/wiki/Microsoft_Windows\" title=\"Microsoft Windows\">Windows</a>\n",
    "</td>\n",
    "<td><a href=\"/wiki/C%2B%2B\" title=\"C++\">C++</a>\n",
    "</td>\n",
    "<td><a href=\"/wiki/Graphical_user_interface\" title=\"Graphical user interface\">Graphical user interface</a>\n",
    "</td>\n",
    "<td style=\"background:#9F9;vertical-align:middle;text-align:center;\" class=\"table-yes\">Yes\n",
    "</td>\n",
    "<td style=\"background:#F99;vertical-align:middle;text-align:center;\" class=\"table-no\">No\n",
    "</td>\n",
    "<td style=\"background:#9F9;vertical-align:middle;text-align:center;\" class=\"table-yes\">Yes\n",
    "</td>\n",
    "<td style=\"background:#F99;vertical-align:middle;text-align:center;\" class=\"table-no\">Analytical differentiation\n",
    "</td>\n",
    "<td style=\"background:#F99;vertical-align:middle;text-align:center;\" class=\"table-no\">No\n",
    "</td>\n",
    "<td style=\"background:#F99;vertical-align:middle;text-align:center;\" class=\"table-no\">No\n",
    "</td>\n",
    "<td style=\"background:#F99;vertical-align:middle;text-align:center;\" class=\"table-no\">No\n",
    "</td>\n",
    "<td style=\"background:#F99;vertical-align:middle;text-align:center;\" class=\"table-no\">No\n",
    "</td>\n",
    "<td style=\"background:#9F9;vertical-align:middle;text-align:center;\" class=\"table-yes\">Yes\n",
    "</td>\n",
    "<td style=\"background:#9F9;vertical-align:middle;text-align:center;\" class=\"table-yes\">Yes\n",
    "</td></tr>\n",
    "<tr>\n",
    "<td><a href=\"/wiki/OpenNN\" title=\"OpenNN\">OpenNN</a>\n",
    "</td>\n",
    "<td>Artelnics\n",
    "</td>\n",
    "<td>2003\n",
    "</td>\n",
    "<td style=\"background: #ddfd; color: black; vertical-align: middle; text-align: center;\" class=\"free table-free\"><a href=\"/wiki/GNU_Lesser_General_Public_License\" title=\"GNU Lesser General Public License\">GNU LGPL</a>\n",
    "</td>\n",
    "<td style=\"background:#9F9;vertical-align:middle;text-align:center;\" class=\"table-yes\">Yes\n",
    "</td>\n",
    "<td><a href=\"/wiki/Cross-platform\" class=\"mw-redirect\" title=\"Cross-platform\">Cross-platform</a>\n",
    "</td>\n",
    "<td><a href=\"/wiki/C%2B%2B\" title=\"C++\">C++</a>\n",
    "</td>\n",
    "<td><a href=\"/wiki/C%2B%2B\" title=\"C++\">C++</a>\n",
    "</td>\n",
    "<td style=\"background:#9F9;vertical-align:middle;text-align:center;\" class=\"table-yes\">Yes\n",
    "</td>\n",
    "<td style=\"background:#F99;vertical-align:middle;text-align:center;\" class=\"table-no\">No\n",
    "</td>\n",
    "<td style=\"background:#9F9;vertical-align:middle;text-align:center;\" class=\"table-yes\">Yes\n",
    "</td>\n",
    "<td style=\"background: #ececec; color: #2C2C2C; font-size: smaller; vertical-align: middle; text-align: center;\" class=\"unknown table-unknown\">?\n",
    "</td>\n",
    "<td style=\"background: #ececec; color: #2C2C2C; font-size: smaller; vertical-align: middle; text-align: center;\" class=\"unknown table-unknown\">?\n",
    "</td>\n",
    "<td style=\"background:#F99;vertical-align:middle;text-align:center;\" class=\"table-no\">No\n",
    "</td>\n",
    "<td style=\"background:#F99;vertical-align:middle;text-align:center;\" class=\"table-no\">No\n",
    "</td>\n",
    "<td style=\"background:#F99;vertical-align:middle;text-align:center;\" class=\"table-no\">No\n",
    "</td>\n",
    "<td style=\"background: #ececec; color: #2C2C2C; font-size: smaller; vertical-align: middle; text-align: center;\" class=\"unknown table-unknown\">?\n",
    "</td>\n",
    "<td>\n",
    "</td></tr>\n",
    "<tr>\n",
    "<td><a href=\"/wiki/PlaidML\" title=\"PlaidML\">PlaidML</a>\n",
    "</td>\n",
    "<td><a href=\"/w/index.php?title=Vertex.AI&amp;action=edit&amp;redlink=1\" class=\"new\" title=\"Vertex.AI (page does not exist)\">Vertex.AI</a>, <a href=\"/wiki/Intel\" title=\"Intel\">Intel</a>\n",
    "</td>\n",
    "<td>2017\n",
    "</td>\n",
    "<td style=\"background: #ddfd; color: black; vertical-align: middle; text-align: center;\" class=\"free table-free\"><a href=\"/wiki/Apache_2.0\" class=\"mw-redirect\" title=\"Apache 2.0\">Apache 2.0</a>\n",
    "</td>\n",
    "<td style=\"background:#9F9;vertical-align:middle;text-align:center;\" class=\"table-yes\">Yes\n",
    "</td>\n",
    "<td><a href=\"/wiki/Linux\" title=\"Linux\">Linux</a>, <a href=\"/wiki/MacOS\" title=\"MacOS\">macOS</a>, <a href=\"/wiki/Windows\" class=\"mw-redirect\" title=\"Windows\">Windows</a>\n",
    "</td>\n",
    "<td><a href=\"/wiki/Python_(programming_language)\" title=\"Python (programming language)\">Python</a>, <a href=\"/wiki/C%2B%2B\" title=\"C++\">C++</a>, <a href=\"/wiki/OpenCL\" title=\"OpenCL\">OpenCL</a>\n",
    "</td>\n",
    "<td><a href=\"/wiki/Python_(programming_language)\" title=\"Python (programming language)\">Python</a>, <a href=\"/wiki/C%2B%2B\" title=\"C++\">C++</a>\n",
    "</td>\n",
    "<td style=\"background: #ececec; color: #2C2C2C; font-size: smaller; vertical-align: middle; text-align: center;\" class=\"unknown table-unknown\">?\n",
    "</td>\n",
    "<td style=\"background:#9F9;vertical-align:middle;text-align:center;\" class=\"table-yes\">Some OpenCL ICDs are not recognized\n",
    "</td>\n",
    "<td style=\"background:#F99;vertical-align:middle;text-align:center;\" class=\"table-no\">No\n",
    "</td>\n",
    "<td style=\"background:#9F9;vertical-align:middle;text-align:center;\" class=\"table-yes\">Yes\n",
    "</td>\n",
    "<td style=\"background:#9F9;vertical-align:middle;text-align:center;\" class=\"table-yes\">Yes\n",
    "</td>\n",
    "<td style=\"background:#9F9;vertical-align:middle;text-align:center;\" class=\"table-yes\">Yes\n",
    "</td>\n",
    "<td style=\"background:#9F9;vertical-align:middle;text-align:center;\" class=\"table-yes\">Yes\n",
    "</td>\n",
    "<td>\n",
    "</td>\n",
    "<td style=\"background:#9F9;vertical-align:middle;text-align:center;\" class=\"table-yes\">Yes\n",
    "</td>\n",
    "<td style=\"background:#9F9;vertical-align:middle;text-align:center;\" class=\"table-yes\">Yes\n",
    "</td></tr>\n",
    "<tr>\n",
    "<td><a href=\"/wiki/PyTorch\" title=\"PyTorch\">PyTorch</a>\n",
    "</td>\n",
    "<td>Adam Paszke, Sam Gross, Soumith Chintala, Gregory Chanan (Facebook)\n",
    "</td>\n",
    "<td>2016\n",
    "</td>\n",
    "<td style=\"background: #ddfd; color: black; vertical-align: middle; text-align: center;\" class=\"free table-free\"><a href=\"/wiki/BSD_licenses\" title=\"BSD licenses\">BSD</a>\n",
    "</td>\n",
    "<td style=\"background:#9F9;vertical-align:middle;text-align:center;\" class=\"table-yes\">Yes\n",
    "</td>\n",
    "<td><a href=\"/wiki/Linux\" title=\"Linux\">Linux</a>, <a href=\"/wiki/MacOS\" title=\"MacOS\">macOS</a>, <a href=\"/wiki/Windows\" class=\"mw-redirect\" title=\"Windows\">Windows</a>\n",
    "</td>\n",
    "<td><a href=\"/wiki/Python_(programming_language)\" title=\"Python (programming language)\">Python</a>, <a href=\"/wiki/C_(programming_language)\" title=\"C (programming language)\">C</a>, <a href=\"/wiki/C%2B%2B\" title=\"C++\">C++</a>, <a href=\"/wiki/CUDA\" title=\"CUDA\">CUDA</a>\n",
    "</td>\n",
    "<td><a href=\"/wiki/Python_(programming_language)\" title=\"Python (programming language)\">Python</a>, <a href=\"/wiki/C%2B%2B\" title=\"C++\">C++</a>, <a href=\"/wiki/Julia_(programming_language)\" title=\"Julia (programming language)\">Julia</a>\n",
    "</td>\n",
    "<td style=\"background:#9F9;vertical-align:middle;text-align:center;\" class=\"table-yes\">Yes\n",
    "</td>\n",
    "<td style=\"background: #FED; color: black; vertical-align: middle; text-align: center;\" class=\"depends table-depends\">Via separately maintained package<sup id=\"cite_ref-46\" class=\"reference\"><a href=\"#cite_note-46\">&#91;45&#93;</a></sup><sup id=\"cite_ref-auto_47-0\" class=\"reference\"><a href=\"#cite_note-auto-47\">&#91;46&#93;</a></sup>\n",
    "</td>\n",
    "<td style=\"background:#9F9;vertical-align:middle;text-align:center;\" class=\"table-yes\">Yes\n",
    "</td>\n",
    "<td style=\"background:#9F9;vertical-align:middle;text-align:center;\" class=\"table-yes\">Yes\n",
    "</td>\n",
    "<td style=\"background:#9F9;vertical-align:middle;text-align:center;\" class=\"table-yes\">Yes\n",
    "</td>\n",
    "<td style=\"background:#9F9;vertical-align:middle;text-align:center;\" class=\"table-yes\">Yes\n",
    "</td>\n",
    "<td style=\"background:#9F9;vertical-align:middle;text-align:center;\" class=\"table-yes\">Yes\n",
    "</td>\n",
    "<td>\n",
    "</td>\n",
    "<td style=\"background:#9F9;vertical-align:middle;text-align:center;\" class=\"table-yes\">Yes\n",
    "</td>\n",
    "<td style=\"background:#9F9;vertical-align:middle;text-align:center;\" class=\"table-yes\">Yes\n",
    "</td></tr>\n",
    "<tr>\n",
    "<td><a rel=\"nofollow\" class=\"external text\" href=\"https://github.com/zhongkaifu/Seq2SeqSharp\">Seq2SeqSharp</a>\n",
    "</td>\n",
    "<td>Zhongkai Fu\n",
    "</td>\n",
    "<td>2018\n",
    "</td>\n",
    "<td style=\"background: #ddfd; color: black; vertical-align: middle; text-align: center;\" class=\"free table-free\"><a href=\"/wiki/BSD_licenses\" title=\"BSD licenses\">BSD</a>\n",
    "</td>\n",
    "<td style=\"background:#9F9;vertical-align:middle;text-align:center;\" class=\"table-yes\">Yes\n",
    "</td>\n",
    "<td><a href=\"/wiki/Linux\" title=\"Linux\">Linux</a>, <a href=\"/wiki/MacOS\" title=\"MacOS\">macOS</a>, <a href=\"/wiki/Windows\" class=\"mw-redirect\" title=\"Windows\">Windows</a>\n",
    "</td>\n",
    "<td><a href=\"/wiki/C%EF%BC%83_(programming_language)\" class=\"mw-redirect\" title=\"C＃ (programming language)\">C#</a>, <a href=\"/wiki/C_(programming_language)\" title=\"C (programming language)\">C</a>, <a href=\"/wiki/C%2B%2B\" title=\"C++\">C++</a>, <a href=\"/wiki/CUDA\" title=\"CUDA\">CUDA</a>\n",
    "</td>\n",
    "<td><a href=\"/wiki/C%EF%BC%83_(programming_language)\" class=\"mw-redirect\" title=\"C＃ (programming language)\">C#</a>\n",
    "</td>\n",
    "<td style=\"background:#9F9;vertical-align:middle;text-align:center;\" class=\"table-yes\">Yes\n",
    "</td>\n",
    "<td style=\"background:#F99;vertical-align:middle;text-align:center;\" class=\"table-no\">No\n",
    "</td>\n",
    "<td style=\"background:#9F9;vertical-align:middle;text-align:center;\" class=\"table-yes\">Yes\n",
    "</td>\n",
    "<td style=\"background:#9F9;vertical-align:middle;text-align:center;\" class=\"table-yes\">Yes\n",
    "</td>\n",
    "<td style=\"background:#9F9;vertical-align:middle;text-align:center;\" class=\"table-yes\">Yes\n",
    "</td>\n",
    "<td style=\"background:#9F9;vertical-align:middle;text-align:center;\" class=\"table-yes\">Yes\n",
    "</td>\n",
    "<td style=\"background:#F99;vertical-align:middle;text-align:center;\" class=\"table-no\">No\n",
    "</td>\n",
    "<td style=\"background:#F99;vertical-align:middle;text-align:center;\" class=\"table-no\">No\n",
    "</td>\n",
    "<td style=\"background:#9F9;vertical-align:middle;text-align:center;\" class=\"table-yes\">Yes\n",
    "</td>\n",
    "<td style=\"background:#9F9;vertical-align:middle;text-align:center;\" class=\"table-yes\">Yes\n",
    "</td></tr>\n",
    "<tr>\n",
    "<td><a href=\"/wiki/Apache_SINGA\" title=\"Apache SINGA\">Apache SINGA</a>\n",
    "</td>\n",
    "<td><a href=\"/wiki/Apache_Software_Foundation\" class=\"mw-redirect\" title=\"Apache Software Foundation\">Apache Software Foundation</a>\n",
    "</td>\n",
    "<td>2015\n",
    "</td>\n",
    "<td style=\"background: #ddfd; color: black; vertical-align: middle; text-align: center;\" class=\"free table-free\"><a href=\"/wiki/Apache_2.0\" class=\"mw-redirect\" title=\"Apache 2.0\">Apache 2.0</a>\n",
    "</td>\n",
    "<td style=\"background:#9F9;vertical-align:middle;text-align:center;\" class=\"table-yes\">Yes\n",
    "</td>\n",
    "<td><a href=\"/wiki/Linux\" title=\"Linux\">Linux</a>, <a href=\"/wiki/MacOS\" title=\"MacOS\">macOS</a>, <a href=\"/wiki/Microsoft_Windows\" title=\"Microsoft Windows\">Windows</a>\n",
    "</td>\n",
    "<td><a href=\"/wiki/C%2B%2B\" title=\"C++\">C++</a>\n",
    "</td>\n",
    "<td><a href=\"/wiki/Python_(programming_language)\" title=\"Python (programming language)\">Python</a>, <a href=\"/wiki/C%2B%2B\" title=\"C++\">C++</a>, <a href=\"/wiki/Java_(programming_language)\" title=\"Java (programming language)\">Java</a>\n",
    "</td>\n",
    "<td style=\"background:#F99;vertical-align:middle;text-align:center;\" class=\"table-no\">No\n",
    "</td>\n",
    "<td style=\"background: #FED; color: black; vertical-align: middle; text-align: center;\" class=\"depends table-depends\">Supported in V1.0\n",
    "</td>\n",
    "<td style=\"background:#9F9;vertical-align:middle;text-align:center;\" class=\"table-yes\">Yes\n",
    "</td>\n",
    "<td style=\"background: #ececec; color: #2C2C2C; font-size: smaller; vertical-align: middle; text-align: center;\" class=\"unknown table-unknown\">?\n",
    "</td>\n",
    "<td style=\"background:#9F9;vertical-align:middle;text-align:center;\" class=\"table-yes\">Yes\n",
    "</td>\n",
    "<td style=\"background:#9F9;vertical-align:middle;text-align:center;\" class=\"table-yes\">Yes\n",
    "</td>\n",
    "<td style=\"background:#9F9;vertical-align:middle;text-align:center;\" class=\"table-yes\">Yes\n",
    "</td>\n",
    "<td style=\"background:#9F9;vertical-align:middle;text-align:center;\" class=\"table-yes\">Yes\n",
    "</td>\n",
    "<td style=\"background:#9F9;vertical-align:middle;text-align:center;\" class=\"table-yes\">Yes\n",
    "</td>\n",
    "<td>\n",
    "</td></tr>\n",
    "<tr>\n",
    "<td><a href=\"/wiki/TensorFlow\" title=\"TensorFlow\"><mark>TensorFlow</mark></a>\n",
    "</td>\n",
    "<td><a href=\"/wiki/Google_Brain\" title=\"Google Brain\">Google Brain</a>\n",
    "</td>\n",
    "<td>2015\n",
    "</td>\n",
    "<td style=\"background: #ddfd; color: black; vertical-align: middle; text-align: center;\" class=\"free table-free\"><a href=\"/wiki/Apache_2.0\" class=\"mw-redirect\" title=\"Apache 2.0\">Apache 2.0</a>\n",
    "</td>\n",
    "<td style=\"background:#9F9;vertical-align:middle;text-align:center;\" class=\"table-yes\">Yes\n",
    "</td>\n",
    "<td><a href=\"/wiki/Linux\" title=\"Linux\">Linux</a>, <a href=\"/wiki/MacOS\" title=\"MacOS\">macOS</a>, <a href=\"/wiki/Microsoft_Windows\" title=\"Microsoft Windows\">Windows</a>,<sup id=\"cite_ref-TensorFlow.org_48-0\" class=\"reference\"><a href=\"#cite_note-TensorFlow.org-48\">&#91;47&#93;</a></sup><sup id=\"cite_ref-developers.googleblog.com_49-0\" class=\"reference\"><a href=\"#cite_note-developers.googleblog.com-49\">&#91;48&#93;</a></sup> <a href=\"/wiki/Android_(operating_system)\" title=\"Android (operating system)\">Android</a>\n",
    "</td>\n",
    "<td><a href=\"/wiki/C%2B%2B\" title=\"C++\">C++</a>, <a href=\"/wiki/Python_(programming_language)\" title=\"Python (programming language)\">Python</a>, <a href=\"/wiki/CUDA\" title=\"CUDA\">CUDA</a>\n",
    "</td>\n",
    "<td><a href=\"/wiki/Python_(programming_language)\" title=\"Python (programming language)\">Python</a> (<a href=\"/wiki/Keras\" title=\"Keras\">Keras</a>), <a href=\"/wiki/C_(programming_language)\" title=\"C (programming language)\">C</a>/<a href=\"/wiki/C%2B%2B\" title=\"C++\">C++</a>, <a href=\"/wiki/Java_(programming_language)\" title=\"Java (programming language)\">Java</a>, <a href=\"/wiki/Go_(programming_language)\" title=\"Go (programming language)\">Go</a>, <a href=\"/wiki/JavaScript\" title=\"JavaScript\">JavaScript</a>, <a href=\"/wiki/R_(programming_language)\" title=\"R (programming language)\">R</a>,<sup id=\"cite_ref-50\" class=\"reference\"><a href=\"#cite_note-50\">&#91;49&#93;</a></sup> <a href=\"/wiki/Julia_(programming_language)\" title=\"Julia (programming language)\">Julia</a>, <a href=\"/wiki/Swift_(programming_language)\" title=\"Swift (programming language)\">Swift</a>\n",
    "</td>\n",
    "<td style=\"background:#F99;vertical-align:middle;text-align:center;\" class=\"table-no\">No\n",
    "</td>\n",
    "<td style=\"background: #FED; color: black; vertical-align: middle; text-align: center;\" class=\"depends table-depends\">On roadmap<sup id=\"cite_ref-tensorflow-roadmap_51-0\" class=\"reference\"><a href=\"#cite_note-tensorflow-roadmap-51\">&#91;50&#93;</a></sup> but already with <a href=\"/wiki/SYCL\" title=\"SYCL\">SYCL</a><sup id=\"cite_ref-GitHub_52-0\" class=\"reference\"><a href=\"#cite_note-GitHub-52\">&#91;51&#93;</a></sup> support\n",
    "</td>\n",
    "<td style=\"background:#9F9;vertical-align:middle;text-align:center;\" class=\"table-yes\">Yes\n",
    "</td>\n",
    "<td style=\"background:#9F9;vertical-align:middle;text-align:center;\" class=\"table-yes\">Yes<sup id=\"cite_ref-tensorflow.org_53-0\" class=\"reference\"><a href=\"#cite_note-tensorflow.org-53\">&#91;52&#93;</a></sup>\n",
    "</td>\n",
    "<td style=\"background:#9F9;vertical-align:middle;text-align:center;\" class=\"table-yes\">Yes<sup id=\"cite_ref-github.com_54-0\" class=\"reference\"><a href=\"#cite_note-github.com-54\">&#91;53&#93;</a></sup>\n",
    "</td>\n",
    "<td style=\"background:#9F9;vertical-align:middle;text-align:center;\" class=\"table-yes\">Yes\n",
    "</td>\n",
    "<td style=\"background:#9F9;vertical-align:middle;text-align:center;\" class=\"table-yes\">Yes\n",
    "</td>\n",
    "<td style=\"background:#9F9;vertical-align:middle;text-align:center;\" class=\"table-yes\">Yes\n",
    "</td>\n",
    "<td style=\"background:#9F9;vertical-align:middle;text-align:center;\" class=\"table-yes\">Yes\n",
    "</td>\n",
    "<td style=\"background:#9F9;vertical-align:middle;text-align:center;\" class=\"table-yes\">Yes\n",
    "</td></tr>\n",
    "<tr>\n",
    "<td><a href=\"/wiki/Theano_(software)\" title=\"Theano (software)\">Theano</a>\n",
    "</td>\n",
    "<td><a href=\"/wiki/Universit%C3%A9_de_Montr%C3%A9al\" title=\"Université de Montréal\">Université de Montréal</a>\n",
    "</td>\n",
    "<td>2007\n",
    "</td>\n",
    "<td style=\"background: #ddfd; color: black; vertical-align: middle; text-align: center;\" class=\"free table-free\"><a href=\"/wiki/BSD_licenses\" title=\"BSD licenses\">BSD</a>\n",
    "</td>\n",
    "<td style=\"background:#9F9;vertical-align:middle;text-align:center;\" class=\"table-yes\">Yes\n",
    "</td>\n",
    "<td><a href=\"/wiki/Cross-platform\" class=\"mw-redirect\" title=\"Cross-platform\">Cross-platform</a>\n",
    "</td>\n",
    "<td><a href=\"/wiki/Python_(programming_language)\" title=\"Python (programming language)\">Python</a>\n",
    "</td>\n",
    "<td><a href=\"/wiki/Python_(programming_language)\" title=\"Python (programming language)\">Python</a> (<a href=\"/wiki/Keras\" title=\"Keras\">Keras</a>)\n",
    "</td>\n",
    "<td style=\"background:#9F9;vertical-align:middle;text-align:center;\" class=\"table-yes\">Yes\n",
    "</td>\n",
    "<td style=\"background: #FED; color: black; vertical-align: middle; text-align: center;\" class=\"depends table-depends\">Under development<sup id=\"cite_ref-55\" class=\"reference\"><a href=\"#cite_note-55\">&#91;54&#93;</a></sup>\n",
    "</td>\n",
    "<td style=\"background:#9F9;vertical-align:middle;text-align:center;\" class=\"table-yes\">Yes\n",
    "</td>\n",
    "<td style=\"background:#9F9;vertical-align:middle;text-align:center;\" class=\"table-yes\">Yes<sup id=\"cite_ref-56\" class=\"reference\"><a href=\"#cite_note-56\">&#91;55&#93;</a></sup><sup id=\"cite_ref-57\" class=\"reference\"><a href=\"#cite_note-57\">&#91;56&#93;</a></sup>\n",
    "</td>\n",
    "<td style=\"background: #FED; color: black; vertical-align: middle; text-align: center;\" class=\"depends table-depends\">Through Lasagne's model zoo<sup id=\"cite_ref-58\" class=\"reference\"><a href=\"#cite_note-58\">&#91;57&#93;</a></sup>\n",
    "</td>\n",
    "<td style=\"background:#9F9;vertical-align:middle;text-align:center;\" class=\"table-yes\">Yes\n",
    "</td>\n",
    "<td style=\"background:#9F9;vertical-align:middle;text-align:center;\" class=\"table-yes\">Yes\n",
    "</td>\n",
    "<td style=\"background:#9F9;vertical-align:middle;text-align:center;\" class=\"table-yes\">Yes\n",
    "</td>\n",
    "<td style=\"background:#9F9;vertical-align:middle;text-align:center;\" class=\"table-yes\">Yes<sup id=\"cite_ref-59\" class=\"reference\"><a href=\"#cite_note-59\">&#91;58&#93;</a></sup>\n",
    "</td>\n",
    "<td style=\"background:#F99;vertical-align:middle;text-align:center;\" class=\"table-no\">No\n",
    "</td></tr>\n",
    "<tr>\n",
    "<td><a href=\"/wiki/Torch_(machine_learning)\" title=\"Torch (machine learning)\">Torch</a>\n",
    "</td>\n",
    "<td>Ronan Collobert, Koray Kavukcuoglu, Clement Farabet\n",
    "</td>\n",
    "<td>2002\n",
    "</td>\n",
    "<td style=\"background: #ddfd; color: black; vertical-align: middle; text-align: center;\" class=\"free table-free\"><a href=\"/wiki/BSD_licenses\" title=\"BSD licenses\">BSD</a>\n",
    "</td>\n",
    "<td style=\"background:#9F9;vertical-align:middle;text-align:center;\" class=\"table-yes\">Yes\n",
    "</td>\n",
    "<td><a href=\"/wiki/Linux\" title=\"Linux\">Linux</a>, <a href=\"/wiki/MacOS\" title=\"MacOS\">macOS</a>, <a href=\"/wiki/Microsoft_Windows\" title=\"Microsoft Windows\">Windows</a>,<sup id=\"cite_ref-auto1_60-0\" class=\"reference\"><a href=\"#cite_note-auto1-60\">&#91;59&#93;</a></sup> <a href=\"/wiki/Android_(operating_system)\" title=\"Android (operating system)\">Android</a>,<sup id=\"cite_ref-61\" class=\"reference\"><a href=\"#cite_note-61\">&#91;60&#93;</a></sup> <a href=\"/wiki/IOS\" title=\"IOS\">iOS</a>\n",
    "</td>\n",
    "<td><a href=\"/wiki/C_(programming_language)\" title=\"C (programming language)\">C</a>, <a href=\"/wiki/Lua_(programming_language)\" title=\"Lua (programming language)\">Lua</a>\n",
    "</td>\n",
    "<td><a href=\"/wiki/Lua_(programming_language)\" title=\"Lua (programming language)\">Lua</a>, <a href=\"/wiki/Lua_(programming_language)\" title=\"Lua (programming language)\">LuaJIT</a>,<sup id=\"cite_ref-62\" class=\"reference\"><a href=\"#cite_note-62\">&#91;61&#93;</a></sup> <a href=\"/wiki/C_(programming_language)\" title=\"C (programming language)\">C</a>, utility library for <a href=\"/wiki/C%2B%2B\" title=\"C++\">C++</a>/<a href=\"/wiki/OpenCL\" title=\"OpenCL\">OpenCL</a><sup id=\"cite_ref-jtorch_63-0\" class=\"reference\"><a href=\"#cite_note-jtorch-63\">&#91;62&#93;</a></sup>\n",
    "</td>\n",
    "<td style=\"background:#9F9;vertical-align:middle;text-align:center;\" class=\"table-yes\">Yes\n",
    "</td>\n",
    "<td style=\"background: #FED; color: black; vertical-align: middle; text-align: center;\" class=\"depends table-depends\">Third party implementations<sup id=\"cite_ref-64\" class=\"reference\"><a href=\"#cite_note-64\">&#91;63&#93;</a></sup><sup id=\"cite_ref-65\" class=\"reference\"><a href=\"#cite_note-65\">&#91;64&#93;</a></sup>\n",
    "</td>\n",
    "<td style=\"background:#9F9;vertical-align:middle;text-align:center;\" class=\"table-yes\">Yes<sup id=\"cite_ref-66\" class=\"reference\"><a href=\"#cite_note-66\">&#91;65&#93;</a></sup><sup id=\"cite_ref-67\" class=\"reference\"><a href=\"#cite_note-67\">&#91;66&#93;</a></sup>\n",
    "</td>\n",
    "<td style=\"background:#9F9;vertical-align:middle;text-align:center;\" class=\"table-yes\">Through <a href=\"/wiki/Twitter\" title=\"Twitter\">Twitter</a>'s Autograd<sup id=\"cite_ref-68\" class=\"reference\"><a href=\"#cite_note-68\">&#91;67&#93;</a></sup>\n",
    "</td>\n",
    "<td style=\"background:#9F9;vertical-align:middle;text-align:center;\" class=\"table-yes\">Yes<sup id=\"cite_ref-69\" class=\"reference\"><a href=\"#cite_note-69\">&#91;68&#93;</a></sup>\n",
    "</td>\n",
    "<td style=\"background:#9F9;vertical-align:middle;text-align:center;\" class=\"table-yes\">Yes\n",
    "</td>\n",
    "<td style=\"background:#9F9;vertical-align:middle;text-align:center;\" class=\"table-yes\">Yes\n",
    "</td>\n",
    "<td style=\"background:#9F9;vertical-align:middle;text-align:center;\" class=\"table-yes\">Yes\n",
    "</td>\n",
    "<td style=\"background:#9F9;vertical-align:middle;text-align:center;\" class=\"table-yes\">Yes<sup id=\"cite_ref-auto1_60-1\" class=\"reference\"><a href=\"#cite_note-auto1-60\">&#91;59&#93;</a></sup>\n",
    "</td>\n",
    "<td style=\"background:#F99;vertical-align:middle;text-align:center;\" class=\"table-no\">No\n",
    "</td></tr>\n",
    "<tr>\n",
    "<td><a href=\"/wiki/Wolfram_Mathematica\" title=\"Wolfram Mathematica\">Wolfram Mathematica</a>\n",
    "</td>\n",
    "<td><a href=\"/wiki/Wolfram_Research\" title=\"Wolfram Research\">Wolfram Research</a>\n",
    "</td>\n",
    "<td>1988\n",
    "</td>\n",
    "<td style=\"background: #ddf; vertical-align: middle; text-align: center;\" class=\"table-proprietary\"><a href=\"/wiki/Proprietary_software\" title=\"Proprietary software\">Proprietary</a>\n",
    "</td>\n",
    "<td style=\"background:#F99;vertical-align:middle;text-align:center;\" class=\"table-no\">No\n",
    "</td>\n",
    "<td><a href=\"/wiki/Microsoft_Windows\" title=\"Microsoft Windows\">Windows</a>, <a href=\"/wiki/MacOS\" title=\"MacOS\">macOS</a>, <a href=\"/wiki/Linux\" title=\"Linux\">Linux</a>, <a href=\"/wiki/Cloud_computing\" title=\"Cloud computing\">Cloud computing</a>\n",
    "</td>\n",
    "<td><a href=\"/wiki/C%2B%2B\" title=\"C++\">C++</a>, <a href=\"/wiki/Wolfram_Language\" title=\"Wolfram Language\">Wolfram Language</a>, <a href=\"/wiki/CUDA\" title=\"CUDA\">CUDA</a>\n",
    "</td>\n",
    "<td><a href=\"/wiki/Wolfram_Language\" title=\"Wolfram Language\">Wolfram Language</a>\n",
    "</td>\n",
    "<td style=\"background:#9F9;vertical-align:middle;text-align:center;\" class=\"table-yes\">Yes\n",
    "</td>\n",
    "<td style=\"background:#F99;vertical-align:middle;text-align:center;\" class=\"table-no\">No\n",
    "</td>\n",
    "<td style=\"background:#9F9;vertical-align:middle;text-align:center;\" class=\"table-yes\">Yes\n",
    "</td>\n",
    "<td style=\"background:#9F9;vertical-align:middle;text-align:center;\" class=\"table-yes\">Yes\n",
    "</td>\n",
    "<td style=\"background:#9F9;vertical-align:middle;text-align:center;\" class=\"table-yes\">Yes<sup id=\"cite_ref-70\" class=\"reference\"><a href=\"#cite_note-70\">&#91;69&#93;</a></sup>\n",
    "</td>\n",
    "<td style=\"background:#9F9;vertical-align:middle;text-align:center;\" class=\"table-yes\">Yes\n",
    "</td>\n",
    "<td style=\"background:#9F9;vertical-align:middle;text-align:center;\" class=\"table-yes\">Yes\n",
    "</td>\n",
    "<td style=\"background:#9F9;vertical-align:middle;text-align:center;\" class=\"table-yes\">Yes\n",
    "</td>\n",
    "<td style=\"background:#9F9;vertical-align:middle;text-align:center;\" class=\"table-yes\">Yes<sup id=\"cite_ref-71\" class=\"reference\"><a href=\"#cite_note-71\">&#91;70&#93;</a></sup>\n",
    "</td>\n",
    "<td style=\"background:#9F9;vertical-align:middle;text-align:center;\" class=\"table-yes\">Yes\n",
    "</td></tr>\n",
    "<tr>\n",
    "<th style=\"width: 12em\">Software\n",
    "</th>\n",
    "<th>Creator\n",
    "</th>\n",
    "<th>Initial release\n",
    "</th>\n",
    "<th>Software license<sup id=\"cite_ref-license_1-1\" class=\"reference\"><a href=\"#cite_note-license-1\">&#91;a&#93;</a></sup>\n",
    "</th>\n",
    "<th>Open source\n",
    "</th>\n",
    "<th>Platform\n",
    "</th>\n",
    "<th>Written in\n",
    "</th>\n",
    "<th>Interface\n",
    "</th>\n",
    "<th><a href=\"/wiki/OpenMP\" title=\"OpenMP\">OpenMP</a> support\n",
    "</th>\n",
    "<th><a href=\"/wiki/OpenCL\" title=\"OpenCL\">OpenCL</a> support\n",
    "</th>\n",
    "<th><a href=\"/wiki/CUDA\" title=\"CUDA\">CUDA</a> support\n",
    "</th>\n",
    "<th><a href=\"/wiki/Automatic_differentiation\" title=\"Automatic differentiation\">Automatic differentiation</a><sup id=\"cite_ref-72\" class=\"reference\"><a href=\"#cite_note-72\">&#91;71&#93;</a></sup>\n",
    "</th>\n",
    "<th>Has pretrained models\n",
    "</th>\n",
    "<th><a href=\"/wiki/Recurrent_neural_network\" title=\"Recurrent neural network\">Recurrent nets</a>\n",
    "</th>\n",
    "<th><a href=\"/wiki/Convolutional_neural_network\" title=\"Convolutional neural network\">Convolutional nets</a>\n",
    "</th>\n",
    "<th><a href=\"/wiki/Restricted_Boltzmann_machine\" title=\"Restricted Boltzmann machine\">RBM</a>/<a href=\"/wiki/Deep_belief_network\" title=\"Deep belief network\">DBNs</a>\n",
    "</th>\n",
    "<th>Parallel execution (multi node)\n",
    "</th>\n",
    "<th>Actively developed\n",
    "</th></tr></tbody></table>"
   ]
  },
  {
   "cell_type": "markdown",
   "metadata": {},
   "source": [
    "## El ecosistema TensorFlow"
   ]
  },
  {
   "cell_type": "markdown",
   "metadata": {},
   "source": [
    "* **Tensorflow**: Librería principal del ecosistema, diseñada para desarrollar y entrenar modelos de ML en Python.\n",
    "* **TensorFlow.js**: Librería JavaScript para entrenar y desplegar modelos en el navegador y en Node.js.\n",
    "* **TensorFlow Lite**: Librería ligera para desplegar modelos en móviles y dispositivos embebidos.\n",
    "* **TensorFlow Extended (TFX)**: Plataforma *end-to-end* para preprocesar los datos, entrenar, validar y desplegar modelos en grandes entornos de producción."
   ]
  },
  {
   "cell_type": "markdown",
   "metadata": {},
   "source": [
    "# Primeros pasos"
   ]
  },
  {
   "cell_type": "markdown",
   "metadata": {},
   "source": [
    "## Infraestructura"
   ]
  },
  {
   "cell_type": "markdown",
   "metadata": {},
   "source": [
    "* Instalar TensorFlow (y Keras), o...\n",
    "* Usar [Google Colab](https://colab.research.google.com/)."
   ]
  },
  {
   "cell_type": "code",
   "execution_count": 3,
   "metadata": {},
   "outputs": [
    {
     "name": "stdout",
     "output_type": "stream",
     "text": [
      "Versión de TensorFlow disponible: 2.8.0\n"
     ]
    }
   ],
   "source": [
    "import tensorflow as tf\n",
    "\n",
    "print(\"Versión de TensorFlow disponible:\", tf.__version__)"
   ]
  },
  {
   "cell_type": "markdown",
   "metadata": {},
   "source": [
    "## Tensores"
   ]
  },
  {
   "cell_type": "markdown",
   "metadata": {},
   "source": [
    "* Los tensores son arrays multidimensionales de un cierto tipo de dato, similares a los `ndarrays` de NumPy.\n",
    "<img src=\"figures/Tensor.png\" width=\"400\" alt=\"Tensor de 4 dimensiones.\">"
   ]
  },
  {
   "cell_type": "markdown",
   "metadata": {},
   "source": [
    "### Creación de tensores"
   ]
  },
  {
   "cell_type": "markdown",
   "metadata": {},
   "source": [
    "* Se pueden crear fácilmente los tensores a partir de listas y arrays de NumPy."
   ]
  },
  {
   "cell_type": "code",
   "execution_count": 4,
   "metadata": {},
   "outputs": [
    {
     "name": "stdout",
     "output_type": "stream",
     "text": [
      "Rank 0 tensor: tf.Tensor(4, shape=(), dtype=int32)\n",
      "Rank 1 tensor: tf.Tensor([1. 3. 4.], shape=(3,), dtype=float32)\n",
      "Rank 4 tensor: tf.Tensor(\n",
      "[[[[  0   1   2   3   4]\n",
      "   [  5   6   7   8   9]\n",
      "   [ 10  11  12  13  14]\n",
      "   [ 15  16  17  18  19]]\n",
      "\n",
      "  [[ 20  21  22  23  24]\n",
      "   [ 25  26  27  28  29]\n",
      "   [ 30  31  32  33  34]\n",
      "   [ 35  36  37  38  39]]]\n",
      "\n",
      "\n",
      " [[[ 40  41  42  43  44]\n",
      "   [ 45  46  47  48  49]\n",
      "   [ 50  51  52  53  54]\n",
      "   [ 55  56  57  58  59]]\n",
      "\n",
      "  [[ 60  61  62  63  64]\n",
      "   [ 65  66  67  68  69]\n",
      "   [ 70  71  72  73  74]\n",
      "   [ 75  76  77  78  79]]]\n",
      "\n",
      "\n",
      " [[[ 80  81  82  83  84]\n",
      "   [ 85  86  87  88  89]\n",
      "   [ 90  91  92  93  94]\n",
      "   [ 95  96  97  98  99]]\n",
      "\n",
      "  [[100 101 102 103 104]\n",
      "   [105 106 107 108 109]\n",
      "   [110 111 112 113 114]\n",
      "   [115 116 117 118 119]]]], shape=(3, 2, 4, 5), dtype=int64)\n"
     ]
    }
   ],
   "source": [
    "print(\"Rank 0 tensor:\", tf.constant(4))\n",
    "print(\"Rank 1 tensor:\", tf.constant([1., 3., 4.]))\n",
    "print(\"Rank 4 tensor:\", tf.constant(np.arange(120).reshape(3, 2, 4, 5)))"
   ]
  },
  {
   "cell_type": "markdown",
   "metadata": {},
   "source": [
    "* Los tensores se pueden convertir fácilmente en arrays de NumPy (por ejemplo, para imprimirlos o pintarlos)."
   ]
  },
  {
   "cell_type": "code",
   "execution_count": 5,
   "metadata": {},
   "outputs": [
    {
     "name": "stdout",
     "output_type": "stream",
     "text": [
      "Tensor:  tf.Tensor([-0.0332428 -1.3646157  0.8283514], shape=(3,), dtype=float32)\n",
      "Ndarray: [-0.0332428 -1.3646157  0.8283514]\n"
     ]
    }
   ],
   "source": [
    "tensor = tf.random.normal([3])\n",
    "\n",
    "print(\"Tensor: \", tensor)\n",
    "print(\"Ndarray:\", tensor.numpy())"
   ]
  },
  {
   "cell_type": "markdown",
   "metadata": {},
   "source": [
    "<div class=\"qst\">\n",
    "\n",
    "* Crear un tensor aleatorio (con `tf.random.normal`) de nombre `dataset`, que represente un conjunto de datos de $10$ vídeos, cada uno de los cuales estará compuesto por $4$ *frames* de tamaño $3 \\times 2$.\n",
    "* ¿Cuántos píxeles hay en total en el conjunto de datos?\n",
    "* ¿Cuál sería la dimensión de entrada de un modelo de ML que clasificara estos vídeos?\n",
    "\n",
    "</div>"
   ]
  },
  {
   "cell_type": "code",
   "execution_count": null,
   "metadata": {},
   "outputs": [],
   "source": [
    "dataset = None\n",
    "\n",
    "################################\n",
    "# Insertar código.\n",
    "dataset = tf.random.normal((10, 4, 3, 2))\n",
    "print(\"No. pixels:   \", np.prod(dataset.shape))\n",
    "print(\"No. features: \", np.prod(dataset.shape[1:]))\n",
    "################################"
   ]
  },
  {
   "cell_type": "markdown",
   "metadata": {},
   "source": [
    "### Operaciones con tensores"
   ]
  },
  {
   "cell_type": "markdown",
   "metadata": {},
   "source": [
    "* Se pueden realizar operaciones entre tensores, y con escalares, igual que en NumPy."
   ]
  },
  {
   "cell_type": "code",
   "execution_count": null,
   "metadata": {},
   "outputs": [],
   "source": [
    "tensor_1 = tf.constant([[1., 2], [3, 4]])\n",
    "tensor_2 = tf.ones([2, 2])\n",
    "\n",
    "print(\"Sum:\", tensor_1 + tensor_2)\n",
    "print(\"\\nProduct:\", tensor_1 * tensor_2)\n",
    "print(\"\\nMatrix product:\", tensor_1 @ tensor_2)\n",
    "print(\"\\nScalar product:\", 10 * tensor_2)"
   ]
  },
  {
   "cell_type": "markdown",
   "metadata": {},
   "source": [
    "* También se pueden realizar operaciones a lo largo de los tensores."
   ]
  },
  {
   "cell_type": "code",
   "execution_count": null,
   "metadata": {},
   "outputs": [],
   "source": [
    "print(\"Mean:    \", tf.reduce_mean(tensor_1).numpy())\n",
    "print(\"Mean Ax0:\", tf.reduce_mean(tensor_1, axis=0).numpy())\n",
    "print(\"Mean Ax1:\", tf.reduce_mean(tensor_1, axis=1).numpy())\n",
    "print(\"Max:     \", tf.reduce_max(tensor_1).numpy())\n",
    "print(\"Min:     \", tf.reduce_min(tensor_1).numpy())\n",
    "print(\"ArgSort: \", tf.argsort(tensor_1).numpy())"
   ]
  },
  {
   "cell_type": "markdown",
   "metadata": {},
   "source": [
    "<div class=\"qst\">\n",
    "\n",
    "* Calcular la media de cada *frame* de cada vídeo del conjunto `dataset` creado anteriormente, e imprimirla por pantalla.\n",
    "* Obtener la suma de los 4 *frames* que componen cada vídeo de `dataset`, e imprimirla por pantalla.\n",
    "\n",
    "<div class=\"notes\">\n",
    "\n",
    "* El parámetro `axis` puede recibir una lista de ejes a lo largo de los que realizar una operación.\n",
    "\n",
    "</div>\n",
    "\n",
    "</div>"
   ]
  },
  {
   "cell_type": "code",
   "execution_count": null,
   "metadata": {},
   "outputs": [],
   "source": [
    "################################\n",
    "# Insertar código.\n",
    "print(\"Averages of frames:\")\n",
    "print(tf.reduce_mean(dataset, axis=[2, 3]).numpy())\n",
    "\n",
    "print(\"\\nSum of frames:\")\n",
    "print(tf.reduce_sum(dataset, axis=[1]).numpy())\n",
    "################################"
   ]
  },
  {
   "cell_type": "markdown",
   "metadata": {},
   "source": [
    "### Forma de los tensores"
   ]
  },
  {
   "cell_type": "markdown",
   "metadata": {},
   "source": [
    "* Hay diversas utilidades para extraer información acerca de la forma y composición de los tensores."
   ]
  },
  {
   "cell_type": "code",
   "execution_count": null,
   "metadata": {},
   "outputs": [],
   "source": [
    "tensor = tf.constant([[\"a\", \"b\", \"c\"], [\"d\", \"e\", \"f\"]])\n",
    "\n",
    "print(\"Type:          \", tensor.dtype)\n",
    "print(\"No. Dimensions:\", tensor.ndim)\n",
    "print(\"Shape:         \", tensor.shape)\n",
    "print(\"No. elements:  \", tf.size(tensor).numpy())"
   ]
  },
  {
   "cell_type": "markdown",
   "metadata": {},
   "source": [
    "* Se pueden realizar modificaciones sobre la forma de los tensores."
   ]
  },
  {
   "cell_type": "code",
   "execution_count": null,
   "metadata": {},
   "outputs": [],
   "source": [
    "print(tf.reshape(tensor, [3, 2]), \"\\n\")\n",
    "print(tf.reshape(tensor, [-1]))"
   ]
  },
  {
   "cell_type": "markdown",
   "metadata": {},
   "source": [
    "<div class=\"qst\">\n",
    "\n",
    "* Crear una modificación del conjunto `dataset` donde cada patrón (cada vídeo) sea un vector, en lugar de un tensor de dimensión $3$.\n",
    "* ¿Qué sentido puede tener esta transformación de los datos?\n",
    "\n",
    "</div>"
   ]
  },
  {
   "cell_type": "code",
   "execution_count": null,
   "metadata": {},
   "outputs": [],
   "source": [
    "################################\n",
    "# Insertar código.\n",
    "print(\"Converted dataset:\")\n",
    "print(tf.reshape(dataset, [dataset.shape[0], -1]).numpy())\n",
    "################################"
   ]
  },
  {
   "cell_type": "markdown",
   "metadata": {},
   "source": [
    "### Indexado"
   ]
  },
  {
   "cell_type": "markdown",
   "metadata": {},
   "source": [
    "* El indexado es similar al de NumPy."
   ]
  },
  {
   "cell_type": "code",
   "execution_count": null,
   "metadata": {},
   "outputs": [],
   "source": [
    "tensor = tf.constant([[1, 2, 3], [4, 5, 6], [7, 8, 9]])\n",
    "\n",
    "print(tensor[:].numpy(), \"\\n\")\n",
    "print(tensor[1:, :].numpy(), \"\\n\")\n",
    "print(tensor[1, 2].numpy(), \"\\n\")\n",
    "print(tensor[:, ::2].numpy(), \"\\n\")"
   ]
  },
  {
   "cell_type": "markdown",
   "metadata": {},
   "source": [
    "<div class=\"qst\">\n",
    "\n",
    "* Seleccionar, del conjunto `dataset`, el segundo *frame* del tercer vídeo.\n",
    "* Seleccionar el tercer *frame* de los primeros $5$ vídeos.\n",
    "\n",
    "</div>"
   ]
  },
  {
   "cell_type": "code",
   "execution_count": null,
   "metadata": {},
   "outputs": [],
   "source": [
    "################################\n",
    "# Insertar código.\n",
    "print(\"Video 3, Frame 2:\")\n",
    "print(dataset[2, 1].numpy())\n",
    "\n",
    "print(\"\\nVideos 1-5, Frame 3:\")\n",
    "print(dataset[:5, 2].numpy())\n",
    "################################"
   ]
  },
  {
   "cell_type": "markdown",
   "metadata": {},
   "source": [
    "### Inmutabilidad"
   ]
  },
  {
   "cell_type": "markdown",
   "metadata": {},
   "source": [
    "* Todos los tensores son inmutables.\n",
    "* En lugar de modificarlos, hay que crear tensores nuevos."
   ]
  },
  {
   "cell_type": "code",
   "execution_count": null,
   "metadata": {},
   "outputs": [],
   "source": [
    "tensor_1 = tf.ones((3, 2))\n",
    "print(\"Tensor at the beginning:\", tensor_1)\n",
    "\n",
    "try:\n",
    "    tensor_1[1, 0] = 2\n",
    "except:\n",
    "    print(\"\\nException raised!\\n\")\n",
    "finally:\n",
    "    print(\"Tensor at the end:\", tensor_1)"
   ]
  },
  {
   "cell_type": "markdown",
   "metadata": {},
   "source": [
    "<div class=\"qst\">\n",
    "\n",
    "* Crear un tensor a partir de `dataset`, donde el tercer *frame* de cada vídeo se haya puesto todo a $0$.\n",
    "\n",
    "<div class=\"notes\">\n",
    "\n",
    " * En ocasiones, puede ser útil transformar los tensores en arrays de NumPy para modificarlos.\n",
    "\n",
    "</div>\n",
    "</div>"
   ]
  },
  {
   "cell_type": "code",
   "execution_count": null,
   "metadata": {},
   "outputs": [],
   "source": [
    "################################\n",
    "# Insertar código.\n",
    "array = dataset.numpy()\n",
    "array[:, 2, :, :] = 0\n",
    "print(tf.constant(array))\n",
    "################################"
   ]
  },
  {
   "cell_type": "markdown",
   "metadata": {},
   "source": [
    "### Expansión"
   ]
  },
  {
   "cell_type": "markdown",
   "metadata": {},
   "source": [
    "* El *broadcasting* es similar al de NumPy."
   ]
  },
  {
   "cell_type": "code",
   "execution_count": null,
   "metadata": {},
   "outputs": [],
   "source": [
    "print(tf.ones([3, 4]) + tf.constant([1, 2, 3, 4], dtype=tf.float32), \"\\n\")\n",
    "print(tf.ones([3, 4]) + tf.reshape(tf.constant([1, 2, 3], dtype=tf.float32), [-1, 1]))"
   ]
  },
  {
   "cell_type": "markdown",
   "metadata": {},
   "source": [
    "<div class=\"qst\">\n",
    "\n",
    "* Crear un tensor a partir de `dataset` donde se sume $1$ a cada *frame* del primer vídeo, $2$ a cada *frame* del segundo, y así sucesivamente.\n",
    "\n",
    "</div>"
   ]
  },
  {
   "cell_type": "code",
   "execution_count": null,
   "metadata": {},
   "outputs": [],
   "source": [
    "################################\n",
    "# Insertar código.\n",
    "print(tf.reshape(tf.range(1, 11, dtype=tf.float32), [-1, 1, 1, 1]) + dataset)\n",
    "################################"
   ]
  },
  {
   "cell_type": "markdown",
   "metadata": {},
   "source": [
    "<div class=\"info\"><a href=\"https://www.tensorflow.org/guide/tensor\">Tensores</a></div>"
   ]
  },
  {
   "cell_type": "markdown",
   "metadata": {},
   "source": [
    "## *Eager Execution* vs. *Graph Execution*"
   ]
  },
  {
   "cell_type": "markdown",
   "metadata": {},
   "source": [
    "* TensorFlow provee dos tipos distintos de ejecución, *Eager Execution* (EE) y *Graph Execution* (GE)."
   ]
  },
  {
   "cell_type": "markdown",
   "metadata": {},
   "source": [
    "### TensorFlow EE"
   ]
  },
  {
   "cell_type": "markdown",
   "metadata": {},
   "source": [
    "* En TensorFlow, se conoce como EE la ejecución de forma inmediata de las operaciones.\n",
    "* A partir de la versión 2.0 se convirtió en la opción por defecto.\n",
    "* Este tipo de ejecución es más \"pytónica\", ya que:\n",
    "    * Presenta una interfaz más intuitiva, con código Python natural.\n",
    "    * Es más fácil de depurar, ya que se ven los resultados directamente.\n",
    "    * Permite usar el control de flujo de Python.\n",
    "    * Soporta también aceleración GPU y TPU."
   ]
  },
  {
   "cell_type": "markdown",
   "metadata": {},
   "source": [
    "### TensorFlow GE"
   ]
  },
  {
   "cell_type": "markdown",
   "metadata": {},
   "source": [
    "* GE se apoya en en la construcción de grafos donde se definirán los cálculos a realizar que, posteriormente, se evaluarán (diagrama de flujos de datos).\n",
    "* Como en cualquier grafo, hay nodos y aristas.\n",
    "    * Las aristas son los tensores (los datos).\n",
    "    * Los nodos representan las operaciones a realizar.\n",
    "    * Los resultados de unas operaciones se pueden utilizar como entradas para las siguientes.\n",
    "* Esta representación presenta varia ventajas:\n",
    "    * Los grafos se pueden guardar, cargar, exportar, etc., sin el código Python original.\n",
    "    * Los grafos pueden ser optimizados, ya que se conoce de antemano todo el proceso que se va a hacer.\n",
    "    * Los grafos pueden dividirse en subgrafos independientes.\n",
    "    * Es más fácil distribuir la carga de trabajo de manera no trivial.\n",
    "* Aunque actualmente la ejecución por defecto es EE, se puede forzar GE usando las funciones de TensorFlow.\n",
    "    * Se pueden crear los modelos usando EE, y luego optimizarlos para predecir con GE."
   ]
  },
  {
   "cell_type": "markdown",
   "metadata": {},
   "source": [
    "* La extensión TensorBoard permite mostrar los grafos de una función en modo GE."
   ]
  },
  {
   "cell_type": "code",
   "execution_count": 6,
   "metadata": {},
   "outputs": [
    {
     "data": {
      "text/html": [
       "\n",
       "      <iframe id=\"tensorboard-frame-89b16395466bb9a5\" width=\"100%\" height=\"800\" frameborder=\"0\">\n",
       "      </iframe>\n",
       "      <script>\n",
       "        (function() {\n",
       "          const frame = document.getElementById(\"tensorboard-frame-89b16395466bb9a5\");\n",
       "          const url = new URL(\"/\", window.location);\n",
       "          const port = 6006;\n",
       "          if (port) {\n",
       "            url.port = port;\n",
       "          }\n",
       "          frame.src = url;\n",
       "        })();\n",
       "      </script>\n",
       "    "
      ],
      "text/plain": [
       "<IPython.core.display.HTML object>"
      ]
     },
     "metadata": {},
     "output_type": "display_data"
    }
   ],
   "source": [
    "from datetime import datetime\n",
    "\n",
    "@tf.function\n",
    "def example_func(x, y, z):\n",
    "    a = tf.add(y, x, name=\"Add\")\n",
    "    b = tf.multiply(a, z, name=\"Mul1\")\n",
    "    c = tf.multiply(z, b, name=\"Mul2\")\n",
    "    return b, c\n",
    "\n",
    "logdir = \"logs/func/\" + datetime.now().strftime(\"%Y%m%d-%H%M%S\")\n",
    "writer = tf.summary.create_file_writer(logdir)\n",
    "\n",
    "# Input data.\n",
    "x = tf.constant(10)\n",
    "y = tf.constant(20)\n",
    "z = tf.constant(30)\n",
    "\n",
    "tf.summary.trace_on(graph=True, profiler=True)\n",
    "r = example_func(x, y, z)\n",
    "with writer.as_default():\n",
    "    tf.summary.trace_export(\n",
    "        name=\"example_func_trace\",\n",
    "        step=0,\n",
    "        profiler_outdir=logdir)\n",
    "\n",
    "%tensorboard --logdir logs/func"
   ]
  },
  {
   "cell_type": "markdown",
   "metadata": {},
   "source": [
    "### Comparativa"
   ]
  },
  {
   "cell_type": "markdown",
   "metadata": {},
   "source": [
    "| Entorno *Eager Execution*       | Entorno *Graph Execution*               |\n",
    "|:--------------------------------|:----------------------------------------|\n",
    "| Fácil de depurar.               | Rápido y flexible.                      |\n",
    "| Intuitivo.                      | Ejecución en paralelo.                  |\n",
    "| Fácil para construir prototipos.| Muy eficiente, múltiples dispositivos.  |\n",
    "| Amigable para principiantes.    | Aceleración GPU y TPU más potente.      |"
   ]
  },
  {
   "cell_type": "code",
   "execution_count": null,
   "metadata": {},
   "outputs": [],
   "source": [
    "import timeit\n",
    "\n",
    "def function_eager(x):\n",
    "    return tf.reduce_sum(x) + 2 * x - x * tf.nn.relu(x ** 2) + 3 * tf.reduce_mean(x) * tf.reduce_sum(x)\n",
    "function_graph = tf.function(function_eager)\n",
    "\n",
    "tensor = tf.constant(np.arange(100000))\n",
    "\n",
    "print(\"Eager:\", function_eager(tensor).numpy()[:3])\n",
    "print(\"Graph:\", function_graph(tensor).numpy()[:3])"
   ]
  },
  {
   "cell_type": "code",
   "execution_count": null,
   "metadata": {},
   "outputs": [],
   "source": [
    "print(\"Eager time: %.4fs\" % timeit.timeit(lambda: function_eager(tensor), number=1000))\n",
    "print(\"Graph time: %.4fs\" % timeit.timeit(lambda: function_graph(tensor), number=1000))"
   ]
  },
  {
   "cell_type": "markdown",
   "metadata": {},
   "source": [
    "<div class=\"qst\">\n",
    "\n",
    "* Crear una función de nombre `mean_add` que tome dos tensores, calcule la media del primero, y se lo sume al segundo. La función deberá ejecutarse en modo GE.\n",
    "\n",
    "</div>"
   ]
  },
  {
   "cell_type": "code",
   "execution_count": null,
   "metadata": {},
   "outputs": [],
   "source": [
    "################################\n",
    "# Insertar código.\n",
    "def mean_add(x, y):\n",
    "    return tf.reduce_mean(x) + y\n",
    "mean_add = tf.function(mean_add)\n",
    "################################\n",
    "\n",
    "logdir = \"logs/mean_add/\" + datetime.now().strftime(\"%Y%m%d-%H%M%S\")\n",
    "writer = tf.summary.create_file_writer(logdir)\n",
    "\n",
    "x = tf.random.normal((3, 2))\n",
    "y = tf.ones((2, 4, 5))\n",
    "\n",
    "tf.summary.trace_on(graph=True, profiler=True)\n",
    "z = mean_add(x, y)\n",
    "with writer.as_default():\n",
    "    tf.summary.trace_export(\n",
    "        name=\"example_mean_add_trace\",\n",
    "        step=0,\n",
    "        profiler_outdir=logdir)\n",
    "\n",
    "%tensorboard --logdir logs/mean_add"
   ]
  },
  {
   "cell_type": "markdown",
   "metadata": {},
   "source": [
    "<div class=\"info\"><a href=\"https://www.tensorflow.org/guide/intro_to_graphs\">Introducción a grafos y funciones</a></div>"
   ]
  },
  {
   "cell_type": "markdown",
   "metadata": {},
   "source": [
    "## Variables"
   ]
  },
  {
   "cell_type": "markdown",
   "metadata": {},
   "source": [
    "* Una variable de TensorFlow representa un tensor cuyo valor puede cambiar realizando operaciones sobre él.\n",
    "* Es la forma estándar de representar los parámetros de un modelo, que se modificarán durante el entrenamiento."
   ]
  },
  {
   "cell_type": "markdown",
   "metadata": {},
   "source": [
    "### Creación de variables"
   ]
  },
  {
   "cell_type": "code",
   "execution_count": null,
   "metadata": {},
   "outputs": [],
   "source": [
    "print(\"Rank 0 variable:\", tf.Variable(4))\n",
    "print(\"Rank 1 variable:\", tf.Variable([1., 3., 4.]))\n",
    "print(\"Rank 4 variable:\", tf.Variable(np.arange(120).reshape(3, 2, 4, 5)))"
   ]
  },
  {
   "cell_type": "markdown",
   "metadata": {},
   "source": [
    "* Al igual que con los tensores, las variables se convierten fácilmente en arrays."
   ]
  },
  {
   "cell_type": "code",
   "execution_count": null,
   "metadata": {},
   "outputs": [],
   "source": [
    "tensor = tf.random.normal([3])\n",
    "variable = tf.Variable(tensor)\n",
    "\n",
    "print(\"Variable: \", variable)\n",
    "print(\"Ndarray:\", variable.numpy())"
   ]
  },
  {
   "cell_type": "markdown",
   "metadata": {},
   "source": [
    "### Formas y operaciones con variables"
   ]
  },
  {
   "cell_type": "markdown",
   "metadata": {},
   "source": [
    "* Como las variables están construidas sobre tensores, comparten muchos atributos y la mayor parte de las operaciones"
   ]
  },
  {
   "cell_type": "code",
   "execution_count": null,
   "metadata": {},
   "outputs": [],
   "source": [
    "print(\"Type:        \", variable.dtype)\n",
    "print(\"Shape:       \", variable.shape)\n",
    "print(\"No. elements:\", tf.size(variable).numpy())"
   ]
  },
  {
   "cell_type": "code",
   "execution_count": null,
   "metadata": {},
   "outputs": [],
   "source": [
    "print(\"Variable:\", variable)\n",
    "print(\"Tensor:  \", tf.convert_to_tensor(variable))\n",
    "print(\"ArgMax:  \", tf.argmax(variable).numpy())"
   ]
  },
  {
   "cell_type": "markdown",
   "metadata": {},
   "source": [
    "* Si se intenta modificar la forma de una variable, lo que se obtiene es un tensor copia de la variable con la nueva forma."
   ]
  },
  {
   "cell_type": "code",
   "execution_count": null,
   "metadata": {},
   "outputs": [],
   "source": [
    "print(\"Reshape:\", tf.reshape(variable, ([1, 3])))"
   ]
  },
  {
   "cell_type": "markdown",
   "metadata": {},
   "source": [
    "* Se puede cambiar el contenido del tensor donde la variable guarda los datos, y la memoria en principio se reutilizará.\n",
    "* El tipo de variable y sus dimensiones se mantendrán constantes."
   ]
  },
  {
   "cell_type": "code",
   "execution_count": null,
   "metadata": {},
   "outputs": [],
   "source": [
    "print(variable)\n",
    "variable.assign([1, 2, 3])\n",
    "print(variable)\n",
    "\n",
    "try:\n",
    "    variable.assign([1, 2, 3, 4])\n",
    "except Exception as e:\n",
    "    print(\"Exception:\", e)"
   ]
  },
  {
   "cell_type": "markdown",
   "metadata": {},
   "source": [
    "* Si se crea una variable a partir de otra, se copiará y las dos serán independientes."
   ]
  },
  {
   "cell_type": "code",
   "execution_count": null,
   "metadata": {},
   "outputs": [],
   "source": [
    "variable_2 = tf.Variable(variable)\n",
    "variable_2.assign([4, 5, 6])\n",
    "\n",
    "print(\"variable:  \", variable)\n",
    "print(\"variable_2:\", variable_2)"
   ]
  },
  {
   "cell_type": "markdown",
   "metadata": {},
   "source": [
    "* Las operaciones tensoriales convierten las variables en tensores."
   ]
  },
  {
   "cell_type": "code",
   "execution_count": null,
   "metadata": {},
   "outputs": [],
   "source": [
    "print(\"Tensor:  \", variable + 2)\n",
    "print(\"Variable:\", variable.assign_add([2, 2, 2]))"
   ]
  },
  {
   "cell_type": "markdown",
   "metadata": {},
   "source": [
    "<div class=\"qst\">\n",
    "\n",
    "* Crear dos variables escalares, `w` y `b`, para representar los parámetros de un modelo lineal de una variable.\n",
    "* Crear una función `linear_model` que reciba tres argumentos, `x` (un vector), `w` y `b`, y que calcule la salida del modelo lineal para cada elemento de `x`.\n",
    "\n",
    "</div>"
   ]
  },
  {
   "cell_type": "code",
   "execution_count": null,
   "metadata": {},
   "outputs": [],
   "source": [
    "################################\n",
    "# Insertar código.\n",
    "w = tf.Variable(0.0)\n",
    "b = tf.Variable(0.0)\n",
    "\n",
    "def linear_model(x, w, b):\n",
    "    return x * w + b\n",
    "################################\n",
    "\n",
    "x = tf.cast(tf.linspace(-1, 1, 101), dtype=tf.float32)\n",
    "\n",
    "plt.plot(x.numpy(), linear_model(x, w, b).numpy(), '*')\n",
    "plt.xlabel(\"$x$\")\n",
    "plt.ylabel(\"$y$\")\n",
    "plt.show()"
   ]
  },
  {
   "cell_type": "markdown",
   "metadata": {},
   "source": [
    "<div class=\"info\"><a href=\"https://www.tensorflow.org/guide/variable\">Variables</a></div>"
   ]
  },
  {
   "cell_type": "markdown",
   "metadata": {},
   "source": [
    "# Diferenciación automática"
   ]
  },
  {
   "cell_type": "markdown",
   "metadata": {},
   "source": [
    "## Cálculo de gradientes"
   ]
  },
  {
   "cell_type": "markdown",
   "metadata": {},
   "source": [
    "* Una de las grandes herramientas de TensorFlow es la diferenciación automática.\n",
    "* Para poder realizarla, TensorFlow necesita registrar las operaciones y su orden de ejecución durante la fase *forward*.\n",
    "* Durante la fase *backward*, las operaciones se recorren en sentido contrario para calcular los gradientes.\n",
    "* Para realizar este registro de operaciones se utilizan las cintas de gradiente (Gradient Tapes, GT).\n",
    "* Por tanto, el cálculo que se desee diferenciar deberá realizarse en el contexto de una GT, que se usará después para calcular el gradiente."
   ]
  },
  {
   "cell_type": "markdown",
   "metadata": {},
   "source": [
    "A continuación se muestra un ejemplo muy sencillo, en el que se diferencia la función\n",
    "$$ f(x) = x^2 + 3 x - 2 \\implies f'(x) = 2x + 3 ,$$\n",
    "en el punto $x = 3$."
   ]
  },
  {
   "cell_type": "code",
   "execution_count": null,
   "metadata": {},
   "outputs": [],
   "source": [
    "x = tf.Variable(3.0)\n",
    "\n",
    "with tf.GradientTape() as tape:\n",
    "    y = x**2 + 3 * x - 2\n",
    "\n",
    "print(\"Tape:\", tape)"
   ]
  },
  {
   "cell_type": "code",
   "execution_count": null,
   "metadata": {},
   "outputs": [],
   "source": [
    "print(\"f'(3) =\", tape.gradient(y, x).numpy())"
   ]
  },
  {
   "cell_type": "markdown",
   "metadata": {},
   "source": [
    "En el siguiente ejemplo, el gradiente se calcula para todo un vector.\n",
    "En este caso, como `x` es un tensor, y no una variable, se especifica explícitamente que la GT lo registre."
   ]
  },
  {
   "cell_type": "code",
   "execution_count": null,
   "metadata": {},
   "outputs": [],
   "source": [
    "x = tf.linspace(-2, 2, 101)\n",
    "\n",
    "with tf.GradientTape(persistent=True) as tape:\n",
    "    tape.watch(x)\n",
    "    y = x**2 + x\n",
    "    z = tf.nn.sigmoid(y)\n",
    "\n",
    "dzx = tape.gradient(z, x)\n",
    "dzy = tape.gradient(z, y)\n",
    "dyx = tape.gradient(y, x)"
   ]
  },
  {
   "cell_type": "code",
   "execution_count": null,
   "metadata": {},
   "outputs": [],
   "source": [
    "plt.plot(x.numpy(), y.numpy(), label=\"$y$\")\n",
    "plt.plot(x.numpy(), z.numpy(), label=\"$z$\")\n",
    "plt.plot(x.numpy(), dyx.numpy(), label=\"$\\\\partial y/\\partial x$\")\n",
    "plt.plot(x.numpy(), dzx.numpy(), label=\"$\\\\partial z/\\partial x$\")\n",
    "plt.plot(x.numpy(), dzy.numpy(), label=\"$\\\\partial z/\\partial y$\")\n",
    "\n",
    "plt.legend()\n",
    "plt.xlabel('$x$')\n",
    "plt.show()"
   ]
  },
  {
   "cell_type": "markdown",
   "metadata": {},
   "source": [
    "<div class=\"qst\">\n",
    "\n",
    "* Dados los vectores `x_tr` e `y_tr`, calcular las derivadas respecto a `w` y `b` del error cuadrático (calculado con la función `tf.metrics.mean_squared_error`) del modelo lineal definido anteriormente.\n",
    "* Comprobar si coincide esta derivada con el resultado teórico:\n",
    "\\begin{align*}\n",
    "\\frac{\\partial}{\\partial w} \\|\\mathbf{x} w + b - y\\|^2 &= \\frac{2}{N} \\mathbf{x}^\\intercal (\\mathbf{x} w + b - y) ; \\\\\n",
    "\\frac{\\partial}{\\partial b} \\|\\mathbf{x} w + b - y\\|^2 &= \\frac{2}{N} \\sum_i (x_i w + b - y_i) .\n",
    "\\end{align*}\n",
    "\n",
    "</div>"
   ]
  },
  {
   "cell_type": "code",
   "execution_count": null,
   "metadata": {},
   "outputs": [],
   "source": [
    "x_tr = tf.cast(tf.linspace(-1, 1, 101), dtype=tf.float32)\n",
    "y_tr = x_tr * 2 + 5\n",
    "\n",
    "################################\n",
    "# Insertar código.\n",
    "with tf.GradientTape(persistent=True) as tape:\n",
    "    y_pr = linear_model(x_tr, w, b)\n",
    "    e = tf.metrics.mean_squared_error(y_tr, y_pr)\n",
    "\n",
    "dew = tape.gradient(e, w)\n",
    "deb = tape.gradient(e, b)\n",
    "print(\"dew (auto.):\", dew.numpy())\n",
    "print(\"deb (auto.):\", deb.numpy())\n",
    "################################\n",
    "\n",
    "print(\"dew (theor.):\", (2 * tf.tensordot(x_tr, x_tr * w + b - y_tr, 1) / len(x_tr)).numpy())\n",
    "print(\"deb (theor.):\", (2 * tf.reduce_sum(x_tr * w + b - y_tr) / len(x_tr)).numpy())"
   ]
  },
  {
   "cell_type": "markdown",
   "metadata": {},
   "source": [
    "## Optimización con TensorFlow"
   ]
  },
  {
   "cell_type": "markdown",
   "metadata": {},
   "source": [
    "* La principal utilidad del cálculo de gradientes es resolver problemas de optimización.\n",
    "* Aunque Keras proporciona un marco mucho más cómodo para hacer esto, usando TensorFlow se puede afrontar el problema de manera manual."
   ]
  },
  {
   "cell_type": "markdown",
   "metadata": {},
   "source": [
    "En la siguiente celda se muestra un problema de optimización en dos variables."
   ]
  },
  {
   "cell_type": "code",
   "execution_count": null,
   "metadata": {},
   "outputs": [],
   "source": [
    "def objective(x1, x2): \n",
    "    return (x1 - 3.0)**2.0 - 3 * x1  + (2.0 * x2 + 4.0)**2.0 + 1e-2 * x1**2 * x2\n",
    "\n",
    "v = np.linspace(-10, 10, 101)\n",
    "v1, v2 = np.meshgrid(v, v)\n",
    "v3 = objective(v1, v2)\n",
    "\n",
    "plt.figure(figsize=(10, 10))\n",
    "plt.pcolor(v1, v2, v3, shading=\"auto\")\n",
    "plt.axis([-10, 10, -10, 10])\n",
    "plt.xlabel(\"$x_1$\")\n",
    "plt.ylabel(\"$x_2$\")\n",
    "\n",
    "plt.show()"
   ]
  },
  {
   "cell_type": "markdown",
   "metadata": {},
   "source": [
    "A continuación se resuelve el problema de minimización mediante descenso por gradiente."
   ]
  },
  {
   "cell_type": "code",
   "execution_count": null,
   "metadata": {},
   "outputs": [],
   "source": [
    "x1 = tf.Variable(-9.0)\n",
    "x2 = tf.Variable(+9.0)\n",
    "\n",
    "# Learning rate.\n",
    "eta = 1e-1\n",
    "\n",
    "evo = [[x1.numpy(), x2.numpy()]]\n",
    "for i in range(50):\n",
    "    with tf.GradientTape() as tape:\n",
    "        f = objective(x1, x2)\n",
    "    grads = tape.gradient(f, [x1, x2])\n",
    "    x1.assign(x1 - eta * grads[0].numpy())\n",
    "    x2.assign(x2 - eta * grads[1].numpy())\n",
    "    evo.append([x1.numpy(), x2.numpy()])\n",
    "\n",
    "evo = np.array(evo)"
   ]
  },
  {
   "cell_type": "code",
   "execution_count": null,
   "metadata": {},
   "outputs": [],
   "source": [
    "plt.figure(figsize=(10, 10))\n",
    "plt.pcolor(v1, v2, v3, shading=\"auto\")\n",
    "plt.axis([-10, 10, -10, 10])\n",
    "plt.xlabel(\"$x_1$\")\n",
    "plt.ylabel(\"$x_2$\")\n",
    "\n",
    "plt.plot(evo[:, 0], evo[:, 1], '-*w')\n",
    "\n",
    "plt.show()"
   ]
  },
  {
   "cell_type": "markdown",
   "metadata": {},
   "source": [
    "<div class=\"qst\">\n",
    "\n",
    "* Entrenar el modelo lineal dado por `w` y `b` sobre el conjunto de datos (`x_tr`, `y_tr`) del ejercicio anterior.\n",
    "* Comprobar si el resultado obtenido se corresponde con el modelo subyacente.\n",
    "\n",
    "</div>"
   ]
  },
  {
   "cell_type": "code",
   "execution_count": null,
   "metadata": {},
   "outputs": [],
   "source": [
    "################################\n",
    "# Insertar código.\n",
    "for i in range(100):\n",
    "    with tf.GradientTape(persistent=True) as tape:\n",
    "        y_pr = linear_model(x_tr, w, b)\n",
    "        e = tf.metrics.mean_squared_error(y_tr, y_pr)\n",
    "\n",
    "    dew = tape.gradient(e, w)\n",
    "    deb = tape.gradient(e, b)\n",
    "    w.assign_add(- eta * dew)\n",
    "    b.assign_add(- eta * deb)\n",
    "################################\n",
    "\n",
    "print(\"w_opt:\", w.numpy())\n",
    "print(\"b_opt:\", b.numpy())\n",
    "\n",
    "plt.plot(x_tr.numpy(), y_tr.numpy(), '*', label=\"Observed\")\n",
    "plt.plot(x_tr.numpy(), linear_model(x_tr, w, b).numpy(), \"-\", label=\"Model\")\n",
    "plt.xlabel(\"$x$\")\n",
    "plt.ylabel(\"$y$\")\n",
    "plt.legend()\n",
    "plt.show()"
   ]
  },
  {
   "cell_type": "markdown",
   "metadata": {},
   "source": [
    "<div class=\"info\"><a href=\"https://www.tensorflow.org/guide/autodiff\">Diferenciación automática</a></div>"
   ]
  }
 ],
 "metadata": {
  "kernelspec": {
   "display_name": "Python 3 (ipykernel)",
   "language": "python",
   "name": "python3"
  },
  "language_info": {
   "codemirror_mode": {
    "name": "ipython",
    "version": 3
   },
   "file_extension": ".py",
   "mimetype": "text/x-python",
   "name": "python",
   "nbconvert_exporter": "python",
   "pygments_lexer": "ipython3",
   "version": "3.8.12"
  },
  "toc": {
   "base_numbering": 1,
   "nav_menu": {},
   "number_sections": false,
   "sideBar": true,
   "skip_h1_title": false,
   "title_cell": "Table of Contents",
   "title_sidebar": "Contents",
   "toc_cell": false,
   "toc_position": {
    "height": "calc(100% - 180px)",
    "left": "10px",
    "top": "150px",
    "width": "422.4px"
   },
   "toc_section_display": true,
   "toc_window_display": false
  }
 },
 "nbformat": 4,
 "nbformat_minor": 4
}
